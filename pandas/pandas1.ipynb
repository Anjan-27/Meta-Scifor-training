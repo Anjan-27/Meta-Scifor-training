{
 "cells": [
  {
   "cell_type": "code",
   "execution_count": 1,
   "id": "bf103f97-4d1c-4df2-a1a3-a1883c1ca901",
   "metadata": {},
   "outputs": [],
   "source": [
    "import pandas as pd\n",
    "import numpy as np"
   ]
  },
  {
   "cell_type": "code",
   "execution_count": null,
   "id": "cb1d1b2c-42da-44b6-85a4-ecd475e55a82",
   "metadata": {},
   "outputs": [],
   "source": [
    "#lets create a blank series pandas"
   ]
  },
  {
   "cell_type": "code",
   "execution_count": 2,
   "id": "8fee7f75-ba83-4cdb-b98c-88ca471f2bbc",
   "metadata": {},
   "outputs": [
    {
     "name": "stderr",
     "output_type": "stream",
     "text": [
      "C:\\Users\\Gill\\AppData\\Local\\Temp\\ipykernel_10944\\1876242370.py:1: FutureWarning: The default dtype for empty Series will be 'object' instead of 'float64' in a future version. Specify a dtype explicitly to silence this warning.\n",
      "  ser=pd.Series()\n"
     ]
    }
   ],
   "source": [
    "ser=pd.Series()"
   ]
  },
  {
   "cell_type": "code",
   "execution_count": 3,
   "id": "60296c90-0ce7-474f-94e5-ca8d9ed80f5e",
   "metadata": {},
   "outputs": [
    {
     "data": {
      "text/plain": [
       "Series([], dtype: float64)"
      ]
     },
     "execution_count": 3,
     "metadata": {},
     "output_type": "execute_result"
    }
   ],
   "source": [
    "ser"
   ]
  },
  {
   "cell_type": "code",
   "execution_count": 4,
   "id": "c37d55fe-7636-424e-90f2-9611a9957412",
   "metadata": {},
   "outputs": [
    {
     "name": "stdout",
     "output_type": "stream",
     "text": [
      "0     0\n",
      "1    10\n",
      "2    20\n",
      "3    30\n",
      "4    40\n",
      "5    50\n",
      "6    60\n",
      "7    70\n",
      "8    80\n",
      "9    90\n",
      "dtype: int64\n"
     ]
    }
   ],
   "source": [
    "ser=pd.Series([0,10,20,30,40,50,60,70,80,90]) # Here You Have to Notice Data Type= Float64 :Remember:\n",
    "print(ser)"
   ]
  },
  {
   "cell_type": "code",
   "execution_count": 5,
   "id": "3d7bf7f4-7964-4842-8b82-2ffb3ce3a1d8",
   "metadata": {},
   "outputs": [
    {
     "name": "stdout",
     "output_type": "stream",
     "text": [
      "0      20\n",
      "1    15.7\n",
      "2      10\n",
      "dtype: object\n"
     ]
    }
   ],
   "source": [
    "ser=pd.Series([20,15.7,'10']) # Lets check Data Type Here-Object .Why Object ? Because in data list one string is present\n",
    "print(ser)"
   ]
  },
  {
   "cell_type": "code",
   "execution_count": null,
   "id": "a7ce90b4-f11c-4db5-9222-1937edc44016",
   "metadata": {},
   "outputs": [],
   "source": [
    "#Create Dictionary"
   ]
  },
  {
   "cell_type": "code",
   "execution_count": 6,
   "id": "ecee6b45-ab40-4cb2-aa38-41fccf40b607",
   "metadata": {},
   "outputs": [],
   "source": [
    "dict={'A':[1,2,3],'B':[5,8,9],'C':[1,2,3]}"
   ]
  },
  {
   "cell_type": "code",
   "execution_count": 7,
   "id": "6e51bb17-7b16-475b-a23f-cb5bb103be52",
   "metadata": {},
   "outputs": [
    {
     "name": "stdout",
     "output_type": "stream",
     "text": [
      "   A  B  C\n",
      "0  1  5  1\n",
      "1  2  8  2\n",
      "2  3  9  3\n"
     ]
    }
   ],
   "source": [
    "df=pd.DataFrame(dict)\n",
    "print(df)"
   ]
  },
  {
   "cell_type": "code",
   "execution_count": 8,
   "id": "023e8390-376c-446c-9c87-187fb8fbd024",
   "metadata": {},
   "outputs": [],
   "source": [
    "df['State']=\"BR:CG:MP\".split(':')"
   ]
  },
  {
   "cell_type": "code",
   "execution_count": 9,
   "id": "4ae0633f-528d-4e58-a70d-6971f1518931",
   "metadata": {},
   "outputs": [
    {
     "name": "stdout",
     "output_type": "stream",
     "text": [
      "   A  B  C State\n",
      "0  1  5  1    BR\n",
      "1  2  8  2    CG\n",
      "2  3  9  3    MP\n"
     ]
    }
   ],
   "source": [
    "print(df)"
   ]
  },
  {
   "cell_type": "code",
   "execution_count": null,
   "id": "87c2df90-aeaf-472b-978a-2b7910a0361a",
   "metadata": {},
   "outputs": [],
   "source": [
    "#How to create Nan Values and its manipulation"
   ]
  },
  {
   "cell_type": "code",
   "execution_count": 10,
   "id": "d628f556-66cb-4842-a710-1762942f5945",
   "metadata": {},
   "outputs": [
    {
     "data": {
      "text/plain": [
       "{'A': [1, 2, nan], 'B': [5, nan, nan], 'C': [1, 2, 3]}"
      ]
     },
     "execution_count": 10,
     "metadata": {},
     "output_type": "execute_result"
    }
   ],
   "source": [
    "dict={'A':[1,2,np.nan],'B':[5,np.nan,np.nan],'C':[1,2,3]}\n",
    "dict"
   ]
  },
  {
   "cell_type": "code",
   "execution_count": 11,
   "id": "565519b9-d6fd-482e-919c-458a9d5bad81",
   "metadata": {},
   "outputs": [
    {
     "name": "stdout",
     "output_type": "stream",
     "text": [
      "     A    B  C\n",
      "0  1.0  5.0  1\n",
      "1  2.0  NaN  2\n",
      "2  NaN  NaN  3\n"
     ]
    }
   ],
   "source": [
    "df=pd.DataFrame(dict)\n",
    "print(df)"
   ]
  },
  {
   "cell_type": "code",
   "execution_count": 12,
   "id": "0dae62b9-befb-4dc3-b861-71bd76d37ce0",
   "metadata": {},
   "outputs": [],
   "source": [
    "df['D']=[20,30,40]"
   ]
  },
  {
   "cell_type": "code",
   "execution_count": 13,
   "id": "a4d65b91-6981-4a8f-9cf8-a12d771663f5",
   "metadata": {},
   "outputs": [
    {
     "name": "stdout",
     "output_type": "stream",
     "text": [
      "     A    B  C   D\n",
      "0  1.0  5.0  1  20\n",
      "1  2.0  NaN  2  30\n",
      "2  NaN  NaN  3  40\n"
     ]
    }
   ],
   "source": [
    "print(df)"
   ]
  },
  {
   "cell_type": "code",
   "execution_count": null,
   "id": "9198b129-02f0-4272-b4d3-ed19cbbad6fa",
   "metadata": {},
   "outputs": [],
   "source": [
    "#How to Drop Nan Value from Pandas "
   ]
  },
  {
   "cell_type": "code",
   "execution_count": 14,
   "id": "5f15ecba-3719-48f2-bfcf-c92cbdc9b337",
   "metadata": {},
   "outputs": [
    {
     "name": "stdout",
     "output_type": "stream",
     "text": [
      "\n",
      " Dropping any column with nan value\n",
      "-----------------------------------\n",
      "   C   D\n",
      "0  1  20\n",
      "1  2  30\n",
      "2  3  40\n"
     ]
    }
   ],
   "source": [
    "print(\"\\n Dropping any column with nan value\\n\",'-'*35,sep='')\n",
    "print(df.dropna(axis=1))"
   ]
  },
  {
   "cell_type": "code",
   "execution_count": 15,
   "id": "7f69e302-39dd-4295-9153-76e2095a1664",
   "metadata": {},
   "outputs": [
    {
     "name": "stdout",
     "output_type": "stream",
     "text": [
      "     A    B  C   D\n",
      "0  1.0  5.0  1  20\n",
      "1  2.0  NaN  2  30\n",
      "2  NaN  NaN  3  40\n"
     ]
    }
   ],
   "source": [
    "print(df) # Here Your can check there is no changes in original pandas. beacuse we can not save the data.."
   ]
  },
  {
   "cell_type": "code",
   "execution_count": 16,
   "id": "7c325c61-e3c8-44c6-a213-e5031e25956d",
   "metadata": {},
   "outputs": [
    {
     "name": "stdout",
     "output_type": "stream",
     "text": [
      "\n",
      " Dropping any rows with a Nan Value\n",
      " -----------------------------------\n",
      "     A    B  C   D\n",
      "0  1.0  5.0  1  20\n"
     ]
    }
   ],
   "source": [
    "print(\"\\n Dropping any rows with a Nan Value\\n\",'-'*35)\n",
    "print(df.dropna(axis=0))"
   ]
  },
  {
   "cell_type": "code",
   "execution_count": 17,
   "id": "e0b7234c-ae72-4a7d-95f5-bff92dcb85a1",
   "metadata": {},
   "outputs": [
    {
     "name": "stdout",
     "output_type": "stream",
     "text": [
      "     A    B  C   D\n",
      "0  1.0  5.0  1  20\n",
      "1  2.0  NaN  2  30\n",
      "2  NaN  NaN  3  40\n"
     ]
    }
   ],
   "source": [
    "print(df) # Lets see here also ..its not change permanently ."
   ]
  },
  {
   "cell_type": "code",
   "execution_count": null,
   "id": "568741a8-bc79-4622-abb2-bed772819d9a",
   "metadata": {},
   "outputs": [],
   "source": [
    "# Lets Fill the position of nan with 50"
   ]
  },
  {
   "cell_type": "code",
   "execution_count": 18,
   "id": "246a1dfd-9964-4233-9c31-6a2fd0542de9",
   "metadata": {},
   "outputs": [
    {
     "name": "stdout",
     "output_type": "stream",
     "text": [
      "\n",
      " Filling Value with a Default Value\n",
      "-----------------------------------\n",
      "      A     B  C   D\n",
      "0   1.0   5.0  1  20\n",
      "1   2.0  50.0  2  30\n",
      "2  50.0  50.0  3  40\n"
     ]
    }
   ],
   "source": [
    "print(\"\\n Filling Value with a Default Value\\n\",'-'*35,sep='')\n",
    "print(df.fillna(value=50))"
   ]
  },
  {
   "cell_type": "code",
   "execution_count": 19,
   "id": "4ddd3cfc-3f21-4737-b8c0-f5db371fe23c",
   "metadata": {},
   "outputs": [
    {
     "name": "stdout",
     "output_type": "stream",
     "text": [
      "     A    B  C   D\n",
      "0  1.0  5.0  1  20\n",
      "1  2.0  NaN  2  30\n",
      "2  NaN  NaN  3  40\n"
     ]
    }
   ],
   "source": [
    "print(df) #Lets Check Here also its  also not changes permanently"
   ]
  },
  {
   "cell_type": "code",
   "execution_count": 20,
   "id": "f56954e2-18cd-481b-91cd-acfeea7f753d",
   "metadata": {},
   "outputs": [],
   "source": [
    "#DataFrame remains same will see how we can save the DataFrame later"
   ]
  },
  {
   "cell_type": "code",
   "execution_count": 21,
   "id": "f643e9d3-d364-4c34-8913-ef930cc31ea5",
   "metadata": {},
   "outputs": [
    {
     "name": "stdout",
     "output_type": "stream",
     "text": [
      "\n",
      " Filling Values with a computed values (mean of a column A here)\n",
      "------------------------------------------------------------\n",
      "     A    B  C   D\n",
      "0  1.0  5.0  1  20\n",
      "1  2.0  2.0  2  30\n",
      "2  2.0  2.0  3  40\n"
     ]
    }
   ],
   "source": [
    "print(\"\\n Filling Values with a computed values (mean of a column A here)\\n\",'-'*60,sep='')\n",
    "df.fillna(value=df['C'].mean(),inplace=True)#inplace=True means we save our data for future\n",
    "print(df)"
   ]
  },
  {
   "cell_type": "code",
   "execution_count": 22,
   "id": "63f51dc4-ac95-435f-8863-d334e40020c3",
   "metadata": {},
   "outputs": [
    {
     "name": "stdout",
     "output_type": "stream",
     "text": [
      "     A    B  C   D\n",
      "0  1.0  5.0  1  20\n",
      "1  2.0  2.0  2  30\n",
      "2  2.0  2.0  3  40\n"
     ]
    }
   ],
   "source": [
    "print(df) #Lets see our data is saved"
   ]
  },
  {
   "cell_type": "code",
   "execution_count": 23,
   "id": "23583495-b4d2-4737-8d6c-2f41e95b574e",
   "metadata": {},
   "outputs": [],
   "source": [
    "data={'Company':['Goog','Goog','MSFT','MSFT','FB','FB'],\n",
    "      'Person':['Sam','Charlie','Amy','Vanessa','Carl','Sarah'],\n",
    "     'Sales':[200,120,340,124,243,350]}"
   ]
  },
  {
   "cell_type": "code",
   "execution_count": 24,
   "id": "77774ffe-e4fa-4ad8-afe7-a2dc0ac1f116",
   "metadata": {},
   "outputs": [
    {
     "name": "stdout",
     "output_type": "stream",
     "text": [
      "  Company   Person  Sales\n",
      "0    Goog      Sam    200\n",
      "1    Goog  Charlie    120\n",
      "2    MSFT      Amy    340\n",
      "3    MSFT  Vanessa    124\n",
      "4      FB     Carl    243\n",
      "5      FB    Sarah    350\n"
     ]
    }
   ],
   "source": [
    "df=pd.DataFrame(data)\n",
    "print(df)"
   ]
  },
  {
   "cell_type": "code",
   "execution_count": 25,
   "id": "1130c764-6581-4f9a-884c-b67de741a744",
   "metadata": {},
   "outputs": [],
   "source": [
    "#Lets find the mean company wise. firstly we have to group by column names using groupby"
   ]
  },
  {
   "cell_type": "code",
   "execution_count": 26,
   "id": "0cbe330e-ec8a-42ce-863b-60d3cd55a2ed",
   "metadata": {},
   "outputs": [
    {
     "name": "stdout",
     "output_type": "stream",
     "text": [
      "\n",
      " Grouping by 'company' column and listing mean sales\n",
      "-------------------------------------------------------\n",
      "         Sales\n",
      "Company       \n",
      "FB       296.5\n",
      "Goog     160.0\n",
      "MSFT     232.0\n"
     ]
    },
    {
     "name": "stderr",
     "output_type": "stream",
     "text": [
      "C:\\Users\\Gill\\AppData\\Local\\Temp\\ipykernel_10944\\2525787952.py:3: FutureWarning: The default value of numeric_only in DataFrameGroupBy.mean is deprecated. In a future version, numeric_only will default to False. Either specify numeric_only or select only columns which should be valid for the function.\n",
      "  print(bycomp.mean())\n"
     ]
    }
   ],
   "source": [
    "bycomp=df.groupby('Company')\n",
    "print(\"\\n Grouping by 'company' column and listing mean sales\\n\",'-'*55,sep='')\n",
    "print(bycomp.mean())"
   ]
  },
  {
   "cell_type": "code",
   "execution_count": 27,
   "id": "ca2cdbca-b69d-4646-84fe-427bd13f5e80",
   "metadata": {},
   "outputs": [
    {
     "name": "stdout",
     "output_type": "stream",
     "text": [
      "\n",
      " Grouping by 'Company' column and listing sum of sales\n",
      "-------------------------------------------------------\n",
      "         Sales\n",
      "Company       \n",
      "FB         593\n",
      "Goog       320\n",
      "MSFT       464\n"
     ]
    },
    {
     "name": "stderr",
     "output_type": "stream",
     "text": [
      "C:\\Users\\Gill\\AppData\\Local\\Temp\\ipykernel_10944\\2892739167.py:3: FutureWarning: The default value of numeric_only in DataFrameGroupBy.sum is deprecated. In a future version, numeric_only will default to False. Either specify numeric_only or select only columns which should be valid for the function.\n",
      "  print(bycomp.sum())\n"
     ]
    }
   ],
   "source": [
    "bycomp=df.groupby('Company')\n",
    "print(\"\\n Grouping by 'Company' column and listing sum of sales\\n\",'-'*55,sep='')\n",
    "print(bycomp.sum())"
   ]
  },
  {
   "cell_type": "code",
   "execution_count": 28,
   "id": "e252b1e6-98e2-4344-a13f-96cd51314f76",
   "metadata": {},
   "outputs": [],
   "source": [
    "#Concating DataFrame \n",
    "#There are Three types of concating  -1 = Concat\n",
    "#                                     2  = Merge\n",
    "#                                     3 =  Join"
   ]
  },
  {
   "cell_type": "code",
   "execution_count": 29,
   "id": "1b49e6d6-095a-4ecd-8fa6-871de41dc2e7",
   "metadata": {},
   "outputs": [
    {
     "data": {
      "text/html": [
       "<div>\n",
       "<style scoped>\n",
       "    .dataframe tbody tr th:only-of-type {\n",
       "        vertical-align: middle;\n",
       "    }\n",
       "\n",
       "    .dataframe tbody tr th {\n",
       "        vertical-align: top;\n",
       "    }\n",
       "\n",
       "    .dataframe thead th {\n",
       "        text-align: right;\n",
       "    }\n",
       "</style>\n",
       "<table border=\"1\" class=\"dataframe\">\n",
       "  <thead>\n",
       "    <tr style=\"text-align: right;\">\n",
       "      <th></th>\n",
       "      <th>Mat</th>\n",
       "      <th>Eng</th>\n",
       "      <th>Sci</th>\n",
       "      <th>Chem</th>\n",
       "    </tr>\n",
       "  </thead>\n",
       "  <tbody>\n",
       "    <tr>\n",
       "      <th>Ravi</th>\n",
       "      <td>45</td>\n",
       "      <td>54</td>\n",
       "      <td>66</td>\n",
       "      <td>54</td>\n",
       "    </tr>\n",
       "    <tr>\n",
       "      <th>Shyam</th>\n",
       "      <td>68</td>\n",
       "      <td>87</td>\n",
       "      <td>77</td>\n",
       "      <td>79</td>\n",
       "    </tr>\n",
       "    <tr>\n",
       "      <th>Saurav</th>\n",
       "      <td>35</td>\n",
       "      <td>36</td>\n",
       "      <td>88</td>\n",
       "      <td>58</td>\n",
       "    </tr>\n",
       "    <tr>\n",
       "      <th>Abhi</th>\n",
       "      <td>65</td>\n",
       "      <td>52</td>\n",
       "      <td>70</td>\n",
       "      <td>76</td>\n",
       "    </tr>\n",
       "  </tbody>\n",
       "</table>\n",
       "</div>"
      ],
      "text/plain": [
       "        Mat  Eng  Sci  Chem\n",
       "Ravi     45   54   66    54\n",
       "Shyam    68   87   77    79\n",
       "Saurav   35   36   88    58\n",
       "Abhi     65   52   70    76"
      ]
     },
     "execution_count": 29,
     "metadata": {},
     "output_type": "execute_result"
    }
   ],
   "source": [
    "class_a=pd.DataFrame({'Mat':[45,68,35,65],\n",
    "                     'Eng':[54,87,36,52],\n",
    "                     'Sci':[66,77,88,70],\n",
    "                     'Chem':[54,79,58,76]},\n",
    "                    index=['Ravi','Shyam','Saurav','Abhi'])\n",
    "class_a"
   ]
  },
  {
   "cell_type": "code",
   "execution_count": 30,
   "id": "ea99b173-1e0a-4dbf-b807-7fe28bddbcd3",
   "metadata": {},
   "outputs": [
    {
     "data": {
      "text/html": [
       "<div>\n",
       "<style scoped>\n",
       "    .dataframe tbody tr th:only-of-type {\n",
       "        vertical-align: middle;\n",
       "    }\n",
       "\n",
       "    .dataframe tbody tr th {\n",
       "        vertical-align: top;\n",
       "    }\n",
       "\n",
       "    .dataframe thead th {\n",
       "        text-align: right;\n",
       "    }\n",
       "</style>\n",
       "<table border=\"1\" class=\"dataframe\">\n",
       "  <thead>\n",
       "    <tr style=\"text-align: right;\">\n",
       "      <th></th>\n",
       "      <th>Mat</th>\n",
       "      <th>Eng</th>\n",
       "      <th>Sci</th>\n",
       "      <th>Chem</th>\n",
       "    </tr>\n",
       "  </thead>\n",
       "  <tbody>\n",
       "    <tr>\n",
       "      <th>Shaan</th>\n",
       "      <td>50</td>\n",
       "      <td>66</td>\n",
       "      <td>34</td>\n",
       "      <td>54</td>\n",
       "    </tr>\n",
       "    <tr>\n",
       "      <th>Mahi</th>\n",
       "      <td>87</td>\n",
       "      <td>50</td>\n",
       "      <td>66</td>\n",
       "      <td>87</td>\n",
       "    </tr>\n",
       "    <tr>\n",
       "      <th>Viru</th>\n",
       "      <td>69</td>\n",
       "      <td>87</td>\n",
       "      <td>69</td>\n",
       "      <td>34</td>\n",
       "    </tr>\n",
       "    <tr>\n",
       "      <th>Mona</th>\n",
       "      <td>71</td>\n",
       "      <td>69</td>\n",
       "      <td>71</td>\n",
       "      <td>66</td>\n",
       "    </tr>\n",
       "  </tbody>\n",
       "</table>\n",
       "</div>"
      ],
      "text/plain": [
       "       Mat  Eng  Sci  Chem\n",
       "Shaan   50   66   34    54\n",
       "Mahi    87   50   66    87\n",
       "Viru    69   87   69    34\n",
       "Mona    71   69   71    66"
      ]
     },
     "execution_count": 30,
     "metadata": {},
     "output_type": "execute_result"
    }
   ],
   "source": [
    "class_b=pd.DataFrame({'Mat':[50,87,69,71],\n",
    "                     'Eng':[66,50,87,69],\n",
    "                     'Sci':[34,66,69,71],\n",
    "                     'Chem':[54,87,34,66]},\n",
    "                    index=['Shaan','Mahi','Viru','Mona'])\n",
    "class_b"
   ]
  },
  {
   "cell_type": "code",
   "execution_count": 31,
   "id": "ffc26df2-ee47-4c20-885b-e38deb182623",
   "metadata": {},
   "outputs": [
    {
     "data": {
      "text/html": [
       "<div>\n",
       "<style scoped>\n",
       "    .dataframe tbody tr th:only-of-type {\n",
       "        vertical-align: middle;\n",
       "    }\n",
       "\n",
       "    .dataframe tbody tr th {\n",
       "        vertical-align: top;\n",
       "    }\n",
       "\n",
       "    .dataframe thead th {\n",
       "        text-align: right;\n",
       "    }\n",
       "</style>\n",
       "<table border=\"1\" class=\"dataframe\">\n",
       "  <thead>\n",
       "    <tr style=\"text-align: right;\">\n",
       "      <th></th>\n",
       "      <th>Mat</th>\n",
       "      <th>Eng</th>\n",
       "      <th>Sci</th>\n",
       "      <th>Chem</th>\n",
       "    </tr>\n",
       "  </thead>\n",
       "  <tbody>\n",
       "    <tr>\n",
       "      <th>Astha</th>\n",
       "      <td>66</td>\n",
       "      <td>56</td>\n",
       "      <td>77</td>\n",
       "      <td>34</td>\n",
       "    </tr>\n",
       "    <tr>\n",
       "      <th>Rohit</th>\n",
       "      <td>50</td>\n",
       "      <td>87</td>\n",
       "      <td>88</td>\n",
       "      <td>56</td>\n",
       "    </tr>\n",
       "    <tr>\n",
       "      <th>Rahul</th>\n",
       "      <td>87</td>\n",
       "      <td>89</td>\n",
       "      <td>70</td>\n",
       "      <td>56</td>\n",
       "    </tr>\n",
       "    <tr>\n",
       "      <th>Shital</th>\n",
       "      <td>56</td>\n",
       "      <td>71</td>\n",
       "      <td>52</td>\n",
       "      <td>87</td>\n",
       "    </tr>\n",
       "  </tbody>\n",
       "</table>\n",
       "</div>"
      ],
      "text/plain": [
       "        Mat  Eng  Sci  Chem\n",
       "Astha    66   56   77    34\n",
       "Rohit    50   87   88    56\n",
       "Rahul    87   89   70    56\n",
       "Shital   56   71   52    87"
      ]
     },
     "execution_count": 31,
     "metadata": {},
     "output_type": "execute_result"
    }
   ],
   "source": [
    "class_c=pd.DataFrame({'Mat':[66,50,87,56],\n",
    "                     'Eng':[56,87,89,71],\n",
    "                     'Sci':[77,88,70,52],\n",
    "                     'Chem':[34,56,56,87]},\n",
    "                    index=['Astha','Rohit','Rahul','Shital'])\n",
    "class_c"
   ]
  },
  {
   "cell_type": "code",
   "execution_count": null,
   "id": "b34d3028-16be-4f3b-9fc8-12b0b0a22bdf",
   "metadata": {},
   "outputs": [],
   "source": [
    "#Concatination"
   ]
  },
  {
   "cell_type": "code",
   "execution_count": 32,
   "id": "1ea4338e-f83c-4938-a5c5-e8b7b3d1908e",
   "metadata": {},
   "outputs": [],
   "source": [
    "import pandas as pd"
   ]
  },
  {
   "cell_type": "code",
   "execution_count": null,
   "id": "3d70339f-82b2-45b5-87c3-6f14e443da04",
   "metadata": {},
   "outputs": [],
   "source": [
    "#Lets Concat row wise"
   ]
  },
  {
   "cell_type": "code",
   "execution_count": 33,
   "id": "f52c0abd-4873-4ec2-af4a-8190e36e9a2e",
   "metadata": {},
   "outputs": [
    {
     "name": "stdout",
     "output_type": "stream",
     "text": [
      "\n",
      " After concatenation along row \n",
      "------------------------------\n",
      "        Mat  Eng  Sci  Chem\n",
      "Ravi     45   54   66    54\n",
      "Shyam    68   87   77    79\n",
      "Saurav   35   36   88    58\n",
      "Abhi     65   52   70    76\n",
      "Shaan    50   66   34    54\n",
      "Mahi     87   50   66    87\n",
      "Viru     69   87   69    34\n",
      "Mona     71   69   71    66\n",
      "Astha    66   56   77    34\n",
      "Rohit    50   87   88    56\n",
      "Rahul    87   89   70    56\n",
      "Shital   56   71   52    87\n"
     ]
    }
   ],
   "source": [
    "all_student_marks=pd.concat([class_a,class_b,class_c],axis=0)\n",
    "print(\"\\n After concatenation along row \\n\",'-'*30,sep='')\n",
    "print(all_student_marks)"
   ]
  },
  {
   "cell_type": "code",
   "execution_count": 34,
   "id": "c0ada188-0b2d-4423-960e-561719eb44fc",
   "metadata": {},
   "outputs": [],
   "source": [
    "#Lets Concat with Column wise"
   ]
  },
  {
   "cell_type": "code",
   "execution_count": 35,
   "id": "83fbc7ea-cf0f-4728-a583-d891845c190c",
   "metadata": {},
   "outputs": [
    {
     "name": "stdout",
     "output_type": "stream",
     "text": [
      "\n",
      " Concat with column wise \n",
      "------------------------------------------------------------\n",
      "         Mat   Eng   Sci  Chem   Mat   Eng   Sci  Chem   Mat   Eng   Sci  Chem\n",
      "Ravi    45.0  54.0  66.0  54.0   NaN   NaN   NaN   NaN   NaN   NaN   NaN   NaN\n",
      "Shyam   68.0  87.0  77.0  79.0   NaN   NaN   NaN   NaN   NaN   NaN   NaN   NaN\n",
      "Saurav  35.0  36.0  88.0  58.0   NaN   NaN   NaN   NaN   NaN   NaN   NaN   NaN\n",
      "Abhi    65.0  52.0  70.0  76.0   NaN   NaN   NaN   NaN   NaN   NaN   NaN   NaN\n",
      "Shaan    NaN   NaN   NaN   NaN  50.0  66.0  34.0  54.0   NaN   NaN   NaN   NaN\n",
      "Mahi     NaN   NaN   NaN   NaN  87.0  50.0  66.0  87.0   NaN   NaN   NaN   NaN\n",
      "Viru     NaN   NaN   NaN   NaN  69.0  87.0  69.0  34.0   NaN   NaN   NaN   NaN\n",
      "Mona     NaN   NaN   NaN   NaN  71.0  69.0  71.0  66.0   NaN   NaN   NaN   NaN\n",
      "Astha    NaN   NaN   NaN   NaN   NaN   NaN   NaN   NaN  66.0  56.0  77.0  34.0\n",
      "Rohit    NaN   NaN   NaN   NaN   NaN   NaN   NaN   NaN  50.0  87.0  88.0  56.0\n",
      "Rahul    NaN   NaN   NaN   NaN   NaN   NaN   NaN   NaN  87.0  89.0  70.0  56.0\n",
      "Shital   NaN   NaN   NaN   NaN   NaN   NaN   NaN   NaN  56.0  71.0  52.0  87.0\n"
     ]
    },
    {
     "name": "stderr",
     "output_type": "stream",
     "text": [
      "C:\\Users\\Gill\\AppData\\Local\\Temp\\ipykernel_10944\\2155776424.py:1: UserWarning: Pandas doesn't allow columns to be created via a new attribute name - see https://pandas.pydata.org/pandas-docs/stable/indexing.html#attribute-access\n",
      "  df.cat2=pd.concat([class_a,class_b,class_c],axis=1)\n"
     ]
    }
   ],
   "source": [
    "df.cat2=pd.concat([class_a,class_b,class_c],axis=1)\n",
    "print(\"\\n Concat with column wise \\n\",'-'*60,sep='')\n",
    "print(df.cat2)"
   ]
  },
  {
   "cell_type": "code",
   "execution_count": null,
   "id": "67a33f00-17a5-426c-8c44-02e7dc512218",
   "metadata": {},
   "outputs": [],
   "source": [
    "#Lets Fill all Nan Zero"
   ]
  },
  {
   "cell_type": "code",
   "execution_count": null,
   "id": "f1c5bdf2-4b1c-4cdb-b77f-ffac13ee82c0",
   "metadata": {},
   "outputs": [],
   "source": [
    "df.cat2.fillna(value=0,inplace=True)"
   ]
  },
  {
   "cell_type": "code",
   "execution_count": 36,
   "id": "102c7a82-499d-4beb-bf35-6ca5f1c1e255",
   "metadata": {},
   "outputs": [
    {
     "name": "stdout",
     "output_type": "stream",
     "text": [
      "         Mat   Eng   Sci  Chem   Mat   Eng   Sci  Chem   Mat   Eng   Sci  Chem\n",
      "Ravi    45.0  54.0  66.0  54.0   NaN   NaN   NaN   NaN   NaN   NaN   NaN   NaN\n",
      "Shyam   68.0  87.0  77.0  79.0   NaN   NaN   NaN   NaN   NaN   NaN   NaN   NaN\n",
      "Saurav  35.0  36.0  88.0  58.0   NaN   NaN   NaN   NaN   NaN   NaN   NaN   NaN\n",
      "Abhi    65.0  52.0  70.0  76.0   NaN   NaN   NaN   NaN   NaN   NaN   NaN   NaN\n",
      "Shaan    NaN   NaN   NaN   NaN  50.0  66.0  34.0  54.0   NaN   NaN   NaN   NaN\n",
      "Mahi     NaN   NaN   NaN   NaN  87.0  50.0  66.0  87.0   NaN   NaN   NaN   NaN\n",
      "Viru     NaN   NaN   NaN   NaN  69.0  87.0  69.0  34.0   NaN   NaN   NaN   NaN\n",
      "Mona     NaN   NaN   NaN   NaN  71.0  69.0  71.0  66.0   NaN   NaN   NaN   NaN\n",
      "Astha    NaN   NaN   NaN   NaN   NaN   NaN   NaN   NaN  66.0  56.0  77.0  34.0\n",
      "Rohit    NaN   NaN   NaN   NaN   NaN   NaN   NaN   NaN  50.0  87.0  88.0  56.0\n",
      "Rahul    NaN   NaN   NaN   NaN   NaN   NaN   NaN   NaN  87.0  89.0  70.0  56.0\n",
      "Shital   NaN   NaN   NaN   NaN   NaN   NaN   NaN   NaN  56.0  71.0  52.0  87.0\n"
     ]
    }
   ],
   "source": [
    "print(df.cat2)"
   ]
  },
  {
   "cell_type": "code",
   "execution_count": null,
   "id": "7e5d6690-2afa-435c-a5a9-1b3143fe3a80",
   "metadata": {},
   "outputs": [],
   "source": [
    "#Merge "
   ]
  },
  {
   "cell_type": "code",
   "execution_count": 37,
   "id": "7a941230-66f9-4e87-87f6-8ff9eb6a0bd4",
   "metadata": {},
   "outputs": [],
   "source": [
    "player_id_name=pd.DataFrame({'ID':[25,30,35,40,45,50,55],\n",
    "                            'Name':['Ronaldo','Messi','Pele','Maradona','Harry','Pogba','Chhetri']})"
   ]
  },
  {
   "cell_type": "code",
   "execution_count": 38,
   "id": "c25e7584-bba8-429d-89d7-3795107236e7",
   "metadata": {},
   "outputs": [
    {
     "name": "stdout",
     "output_type": "stream",
     "text": [
      "Player Id and Name\n",
      "============================\n"
     ]
    },
    {
     "data": {
      "text/html": [
       "<div>\n",
       "<style scoped>\n",
       "    .dataframe tbody tr th:only-of-type {\n",
       "        vertical-align: middle;\n",
       "    }\n",
       "\n",
       "    .dataframe tbody tr th {\n",
       "        vertical-align: top;\n",
       "    }\n",
       "\n",
       "    .dataframe thead th {\n",
       "        text-align: right;\n",
       "    }\n",
       "</style>\n",
       "<table border=\"1\" class=\"dataframe\">\n",
       "  <thead>\n",
       "    <tr style=\"text-align: right;\">\n",
       "      <th></th>\n",
       "      <th>ID</th>\n",
       "      <th>Name</th>\n",
       "    </tr>\n",
       "  </thead>\n",
       "  <tbody>\n",
       "    <tr>\n",
       "      <th>0</th>\n",
       "      <td>25</td>\n",
       "      <td>Ronaldo</td>\n",
       "    </tr>\n",
       "    <tr>\n",
       "      <th>1</th>\n",
       "      <td>30</td>\n",
       "      <td>Messi</td>\n",
       "    </tr>\n",
       "    <tr>\n",
       "      <th>2</th>\n",
       "      <td>35</td>\n",
       "      <td>Pele</td>\n",
       "    </tr>\n",
       "    <tr>\n",
       "      <th>3</th>\n",
       "      <td>40</td>\n",
       "      <td>Maradona</td>\n",
       "    </tr>\n",
       "    <tr>\n",
       "      <th>4</th>\n",
       "      <td>45</td>\n",
       "      <td>Harry</td>\n",
       "    </tr>\n",
       "    <tr>\n",
       "      <th>5</th>\n",
       "      <td>50</td>\n",
       "      <td>Pogba</td>\n",
       "    </tr>\n",
       "    <tr>\n",
       "      <th>6</th>\n",
       "      <td>55</td>\n",
       "      <td>Chhetri</td>\n",
       "    </tr>\n",
       "  </tbody>\n",
       "</table>\n",
       "</div>"
      ],
      "text/plain": [
       "   ID      Name\n",
       "0  25   Ronaldo\n",
       "1  30     Messi\n",
       "2  35      Pele\n",
       "3  40  Maradona\n",
       "4  45     Harry\n",
       "5  50     Pogba\n",
       "6  55   Chhetri"
      ]
     },
     "execution_count": 38,
     "metadata": {},
     "output_type": "execute_result"
    }
   ],
   "source": [
    "print(\"Player Id and Name\\n============================\")\n",
    "player_id_name"
   ]
  },
  {
   "cell_type": "code",
   "execution_count": 40,
   "id": "b374ddc2-d919-401e-9e70-40345ca16fa9",
   "metadata": {},
   "outputs": [],
   "source": [
    "player_detail=pd.DataFrame({'ID':[25,30,45,50,55],\n",
    "                            'Age':[36,34,20,28,37],\n",
    "                            'Country':['Porugal','Argentina','England','France','India']})"
   ]
  },
  {
   "cell_type": "code",
   "execution_count": 41,
   "id": "3f32c991-c9b3-44d4-81df-fb82b5582a8d",
   "metadata": {},
   "outputs": [
    {
     "name": "stdout",
     "output_type": "stream",
     "text": [
      "Player Details \n",
      "====================\n"
     ]
    },
    {
     "data": {
      "text/html": [
       "<div>\n",
       "<style scoped>\n",
       "    .dataframe tbody tr th:only-of-type {\n",
       "        vertical-align: middle;\n",
       "    }\n",
       "\n",
       "    .dataframe tbody tr th {\n",
       "        vertical-align: top;\n",
       "    }\n",
       "\n",
       "    .dataframe thead th {\n",
       "        text-align: right;\n",
       "    }\n",
       "</style>\n",
       "<table border=\"1\" class=\"dataframe\">\n",
       "  <thead>\n",
       "    <tr style=\"text-align: right;\">\n",
       "      <th></th>\n",
       "      <th>ID</th>\n",
       "      <th>Age</th>\n",
       "      <th>Country</th>\n",
       "    </tr>\n",
       "  </thead>\n",
       "  <tbody>\n",
       "    <tr>\n",
       "      <th>0</th>\n",
       "      <td>25</td>\n",
       "      <td>36</td>\n",
       "      <td>Porugal</td>\n",
       "    </tr>\n",
       "    <tr>\n",
       "      <th>1</th>\n",
       "      <td>30</td>\n",
       "      <td>34</td>\n",
       "      <td>Argentina</td>\n",
       "    </tr>\n",
       "    <tr>\n",
       "      <th>2</th>\n",
       "      <td>45</td>\n",
       "      <td>20</td>\n",
       "      <td>England</td>\n",
       "    </tr>\n",
       "    <tr>\n",
       "      <th>3</th>\n",
       "      <td>50</td>\n",
       "      <td>28</td>\n",
       "      <td>France</td>\n",
       "    </tr>\n",
       "    <tr>\n",
       "      <th>4</th>\n",
       "      <td>55</td>\n",
       "      <td>37</td>\n",
       "      <td>India</td>\n",
       "    </tr>\n",
       "  </tbody>\n",
       "</table>\n",
       "</div>"
      ],
      "text/plain": [
       "   ID  Age    Country\n",
       "0  25   36    Porugal\n",
       "1  30   34  Argentina\n",
       "2  45   20    England\n",
       "3  50   28     France\n",
       "4  55   37      India"
      ]
     },
     "execution_count": 41,
     "metadata": {},
     "output_type": "execute_result"
    }
   ],
   "source": [
    "print(\"Player Details \\n====================\")\n",
    "player_detail"
   ]
  },
  {
   "cell_type": "code",
   "execution_count": 42,
   "id": "2348ea40-9170-4c23-a818-a1aecad5e03f",
   "metadata": {},
   "outputs": [
    {
     "name": "stdout",
     "output_type": "stream",
     "text": [
      "======DataSet will Merged based on the ID's==========\n"
     ]
    },
    {
     "data": {
      "text/html": [
       "<div>\n",
       "<style scoped>\n",
       "    .dataframe tbody tr th:only-of-type {\n",
       "        vertical-align: middle;\n",
       "    }\n",
       "\n",
       "    .dataframe tbody tr th {\n",
       "        vertical-align: top;\n",
       "    }\n",
       "\n",
       "    .dataframe thead th {\n",
       "        text-align: right;\n",
       "    }\n",
       "</style>\n",
       "<table border=\"1\" class=\"dataframe\">\n",
       "  <thead>\n",
       "    <tr style=\"text-align: right;\">\n",
       "      <th></th>\n",
       "      <th>ID</th>\n",
       "      <th>Name</th>\n",
       "      <th>Age</th>\n",
       "      <th>Country</th>\n",
       "    </tr>\n",
       "  </thead>\n",
       "  <tbody>\n",
       "    <tr>\n",
       "      <th>0</th>\n",
       "      <td>25</td>\n",
       "      <td>Ronaldo</td>\n",
       "      <td>36</td>\n",
       "      <td>Porugal</td>\n",
       "    </tr>\n",
       "    <tr>\n",
       "      <th>1</th>\n",
       "      <td>30</td>\n",
       "      <td>Messi</td>\n",
       "      <td>34</td>\n",
       "      <td>Argentina</td>\n",
       "    </tr>\n",
       "    <tr>\n",
       "      <th>2</th>\n",
       "      <td>45</td>\n",
       "      <td>Harry</td>\n",
       "      <td>20</td>\n",
       "      <td>England</td>\n",
       "    </tr>\n",
       "    <tr>\n",
       "      <th>3</th>\n",
       "      <td>50</td>\n",
       "      <td>Pogba</td>\n",
       "      <td>28</td>\n",
       "      <td>France</td>\n",
       "    </tr>\n",
       "    <tr>\n",
       "      <th>4</th>\n",
       "      <td>55</td>\n",
       "      <td>Chhetri</td>\n",
       "      <td>37</td>\n",
       "      <td>India</td>\n",
       "    </tr>\n",
       "  </tbody>\n",
       "</table>\n",
       "</div>"
      ],
      "text/plain": [
       "   ID     Name  Age    Country\n",
       "0  25  Ronaldo   36    Porugal\n",
       "1  30    Messi   34  Argentina\n",
       "2  45    Harry   20    England\n",
       "3  50    Pogba   28     France\n",
       "4  55  Chhetri   37      India"
      ]
     },
     "execution_count": 42,
     "metadata": {},
     "output_type": "execute_result"
    }
   ],
   "source": [
    "print(\"======DataSet will Merged based on the ID's==========\")\n",
    "pd.merge(player_id_name,player_detail,on='ID')"
   ]
  },
  {
   "cell_type": "code",
   "execution_count": null,
   "id": "722084da-fe95-4383-80b6-81475ae91eb2",
   "metadata": {},
   "outputs": [],
   "source": [
    "#Join Operator"
   ]
  },
  {
   "cell_type": "code",
   "execution_count": 48,
   "id": "ceee4282-9747-4ad1-8248-9577ea067492",
   "metadata": {},
   "outputs": [],
   "source": [
    "left=pd.DataFrame({'A':['A0','A1','A2'],\n",
    "                  'B':['B0','B1','B2']},\n",
    "                 index=['K0','K1','K2'])"
   ]
  },
  {
   "cell_type": "code",
   "execution_count": 49,
   "id": "c50594c3-e8c7-49a0-9a6d-97bab87b5ac2",
   "metadata": {},
   "outputs": [],
   "source": [
    "right=pd.DataFrame({'C':['C0','C2','C3'],\n",
    "                   'D':['D0','D2','D3']},\n",
    "                  index=['K0','K2','K3'])"
   ]
  },
  {
   "cell_type": "code",
   "execution_count": 50,
   "id": "cbf6c52d-5586-4ac4-bcd0-5ff981f0cdf2",
   "metadata": {},
   "outputs": [
    {
     "data": {
      "text/html": [
       "<div>\n",
       "<style scoped>\n",
       "    .dataframe tbody tr th:only-of-type {\n",
       "        vertical-align: middle;\n",
       "    }\n",
       "\n",
       "    .dataframe tbody tr th {\n",
       "        vertical-align: top;\n",
       "    }\n",
       "\n",
       "    .dataframe thead th {\n",
       "        text-align: right;\n",
       "    }\n",
       "</style>\n",
       "<table border=\"1\" class=\"dataframe\">\n",
       "  <thead>\n",
       "    <tr style=\"text-align: right;\">\n",
       "      <th></th>\n",
       "      <th>A</th>\n",
       "      <th>B</th>\n",
       "    </tr>\n",
       "  </thead>\n",
       "  <tbody>\n",
       "    <tr>\n",
       "      <th>K0</th>\n",
       "      <td>A0</td>\n",
       "      <td>B0</td>\n",
       "    </tr>\n",
       "    <tr>\n",
       "      <th>K1</th>\n",
       "      <td>A1</td>\n",
       "      <td>B1</td>\n",
       "    </tr>\n",
       "    <tr>\n",
       "      <th>K2</th>\n",
       "      <td>A2</td>\n",
       "      <td>B2</td>\n",
       "    </tr>\n",
       "  </tbody>\n",
       "</table>\n",
       "</div>"
      ],
      "text/plain": [
       "     A   B\n",
       "K0  A0  B0\n",
       "K1  A1  B1\n",
       "K2  A2  B2"
      ]
     },
     "execution_count": 50,
     "metadata": {},
     "output_type": "execute_result"
    }
   ],
   "source": [
    "left"
   ]
  },
  {
   "cell_type": "code",
   "execution_count": 51,
   "id": "b0fb2a78-fcca-4d40-a371-58c00c4a08e8",
   "metadata": {},
   "outputs": [
    {
     "data": {
      "text/html": [
       "<div>\n",
       "<style scoped>\n",
       "    .dataframe tbody tr th:only-of-type {\n",
       "        vertical-align: middle;\n",
       "    }\n",
       "\n",
       "    .dataframe tbody tr th {\n",
       "        vertical-align: top;\n",
       "    }\n",
       "\n",
       "    .dataframe thead th {\n",
       "        text-align: right;\n",
       "    }\n",
       "</style>\n",
       "<table border=\"1\" class=\"dataframe\">\n",
       "  <thead>\n",
       "    <tr style=\"text-align: right;\">\n",
       "      <th></th>\n",
       "      <th>C</th>\n",
       "      <th>D</th>\n",
       "    </tr>\n",
       "  </thead>\n",
       "  <tbody>\n",
       "    <tr>\n",
       "      <th>K0</th>\n",
       "      <td>C0</td>\n",
       "      <td>D0</td>\n",
       "    </tr>\n",
       "    <tr>\n",
       "      <th>K2</th>\n",
       "      <td>C2</td>\n",
       "      <td>D2</td>\n",
       "    </tr>\n",
       "    <tr>\n",
       "      <th>K3</th>\n",
       "      <td>C3</td>\n",
       "      <td>D3</td>\n",
       "    </tr>\n",
       "  </tbody>\n",
       "</table>\n",
       "</div>"
      ],
      "text/plain": [
       "     C   D\n",
       "K0  C0  D0\n",
       "K2  C2  D2\n",
       "K3  C3  D3"
      ]
     },
     "execution_count": 51,
     "metadata": {},
     "output_type": "execute_result"
    }
   ],
   "source": [
    "right"
   ]
  },
  {
   "cell_type": "code",
   "execution_count": 52,
   "id": "fe42822e-6419-4098-b111-c7a529377f68",
   "metadata": {},
   "outputs": [
    {
     "data": {
      "text/html": [
       "<div>\n",
       "<style scoped>\n",
       "    .dataframe tbody tr th:only-of-type {\n",
       "        vertical-align: middle;\n",
       "    }\n",
       "\n",
       "    .dataframe tbody tr th {\n",
       "        vertical-align: top;\n",
       "    }\n",
       "\n",
       "    .dataframe thead th {\n",
       "        text-align: right;\n",
       "    }\n",
       "</style>\n",
       "<table border=\"1\" class=\"dataframe\">\n",
       "  <thead>\n",
       "    <tr style=\"text-align: right;\">\n",
       "      <th></th>\n",
       "      <th>A</th>\n",
       "      <th>B</th>\n",
       "      <th>C</th>\n",
       "      <th>D</th>\n",
       "    </tr>\n",
       "  </thead>\n",
       "  <tbody>\n",
       "    <tr>\n",
       "      <th>K0</th>\n",
       "      <td>A0</td>\n",
       "      <td>B0</td>\n",
       "      <td>C0</td>\n",
       "      <td>D0</td>\n",
       "    </tr>\n",
       "    <tr>\n",
       "      <th>K1</th>\n",
       "      <td>A1</td>\n",
       "      <td>B1</td>\n",
       "      <td>NaN</td>\n",
       "      <td>NaN</td>\n",
       "    </tr>\n",
       "    <tr>\n",
       "      <th>K2</th>\n",
       "      <td>A2</td>\n",
       "      <td>B2</td>\n",
       "      <td>C2</td>\n",
       "      <td>D2</td>\n",
       "    </tr>\n",
       "  </tbody>\n",
       "</table>\n",
       "</div>"
      ],
      "text/plain": [
       "     A   B    C    D\n",
       "K0  A0  B0   C0   D0\n",
       "K1  A1  B1  NaN  NaN\n",
       "K2  A2  B2   C2   D2"
      ]
     },
     "execution_count": 52,
     "metadata": {},
     "output_type": "execute_result"
    }
   ],
   "source": [
    "left.join(right)"
   ]
  },
  {
   "cell_type": "code",
   "execution_count": 53,
   "id": "e09b82ac-b797-483c-9fc1-78189ac6659e",
   "metadata": {},
   "outputs": [
    {
     "data": {
      "text/html": [
       "<div>\n",
       "<style scoped>\n",
       "    .dataframe tbody tr th:only-of-type {\n",
       "        vertical-align: middle;\n",
       "    }\n",
       "\n",
       "    .dataframe tbody tr th {\n",
       "        vertical-align: top;\n",
       "    }\n",
       "\n",
       "    .dataframe thead th {\n",
       "        text-align: right;\n",
       "    }\n",
       "</style>\n",
       "<table border=\"1\" class=\"dataframe\">\n",
       "  <thead>\n",
       "    <tr style=\"text-align: right;\">\n",
       "      <th></th>\n",
       "      <th>A</th>\n",
       "      <th>B</th>\n",
       "      <th>C</th>\n",
       "      <th>D</th>\n",
       "    </tr>\n",
       "  </thead>\n",
       "  <tbody>\n",
       "    <tr>\n",
       "      <th>K0</th>\n",
       "      <td>A0</td>\n",
       "      <td>B0</td>\n",
       "      <td>C0</td>\n",
       "      <td>D0</td>\n",
       "    </tr>\n",
       "    <tr>\n",
       "      <th>K1</th>\n",
       "      <td>A1</td>\n",
       "      <td>B1</td>\n",
       "      <td>NaN</td>\n",
       "      <td>NaN</td>\n",
       "    </tr>\n",
       "    <tr>\n",
       "      <th>K2</th>\n",
       "      <td>A2</td>\n",
       "      <td>B2</td>\n",
       "      <td>C2</td>\n",
       "      <td>D2</td>\n",
       "    </tr>\n",
       "    <tr>\n",
       "      <th>K3</th>\n",
       "      <td>NaN</td>\n",
       "      <td>NaN</td>\n",
       "      <td>C3</td>\n",
       "      <td>D3</td>\n",
       "    </tr>\n",
       "  </tbody>\n",
       "</table>\n",
       "</div>"
      ],
      "text/plain": [
       "      A    B    C    D\n",
       "K0   A0   B0   C0   D0\n",
       "K1   A1   B1  NaN  NaN\n",
       "K2   A2   B2   C2   D2\n",
       "K3  NaN  NaN   C3   D3"
      ]
     },
     "execution_count": 53,
     "metadata": {},
     "output_type": "execute_result"
    }
   ],
   "source": [
    "left.join(right,how='outer')"
   ]
  },
  {
   "cell_type": "code",
   "execution_count": null,
   "id": "0e1cb4ff-4016-47f1-90e2-6a863ea1b052",
   "metadata": {},
   "outputs": [],
   "source": []
  }
 ],
 "metadata": {
  "kernelspec": {
   "display_name": "Python 3 (ipykernel)",
   "language": "python",
   "name": "python3"
  },
  "language_info": {
   "codemirror_mode": {
    "name": "ipython",
    "version": 3
   },
   "file_extension": ".py",
   "mimetype": "text/x-python",
   "name": "python",
   "nbconvert_exporter": "python",
   "pygments_lexer": "ipython3",
   "version": "3.11.2"
  }
 },
 "nbformat": 4,
 "nbformat_minor": 5
}
