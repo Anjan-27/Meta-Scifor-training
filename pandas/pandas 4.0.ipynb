{
 "cells": [
  {
   "cell_type": "markdown",
   "id": "98869a76-bec6-4594-982d-63d427b398eb",
   "metadata": {},
   "source": [
    "## DataFrame Manipulation"
   ]
  },
  {
   "cell_type": "code",
   "execution_count": 1,
   "id": "d84e4e1b-8179-4f09-866a-6310333dde10",
   "metadata": {},
   "outputs": [],
   "source": [
    "#Lets Import imp libraries\n",
    "import numpy as np\n",
    "import pandas as pd\n",
    "import warnings\n",
    "warnings.filterwarnings('ignore')"
   ]
  },
  {
   "cell_type": "code",
   "execution_count": 2,
   "id": "6da8d79a-8a17-4487-92db-bc8bc7418e29",
   "metadata": {},
   "outputs": [],
   "source": [
    "matrix_data=np.matrix('24,66,140;44,72,148;30,62,125;35,68,160;25,62,152')\n",
    "row_labels=['Raju','Parul','Sunita','Sunil','Ashok']\n",
    "column_headings=['Age','Height','Weight']"
   ]
  },
  {
   "cell_type": "code",
   "execution_count": 9,
   "id": "8cfcba71-6b10-49ef-8ffc-8c0e72527b90",
   "metadata": {},
   "outputs": [
    {
     "name": "stdout",
     "output_type": "stream",
     "text": [
      "\n",
      " A new DataFrame \n",
      "--------------------\n",
      "        Age  Height  Weight\n",
      "Raju     24      66     140\n",
      "Parul    44      72     148\n",
      "Sunita   30      62     125\n",
      "Sunil    35      68     160\n",
      "Ashok    25      62     152\n"
     ]
    }
   ],
   "source": [
    "df=pd.DataFrame(data=matrix_data,index=row_labels,columns=column_headings)\n",
    "print('\\n A new DataFrame \\n','-'*20,sep='')\n",
    "print(df)"
   ]
  },
  {
   "cell_type": "code",
   "execution_count": 10,
   "id": "a9d2306b-cba1-406b-8f18-ba38790f448a",
   "metadata": {},
   "outputs": [],
   "source": [
    "#How we can only print Height and Weight"
   ]
  },
  {
   "cell_type": "code",
   "execution_count": 11,
   "id": "0803a9df-0ee1-4e0c-8337-6f037263c317",
   "metadata": {},
   "outputs": [],
   "source": [
    "only_ht_wt=df[['Height','Weight']]"
   ]
  },
  {
   "cell_type": "code",
   "execution_count": 12,
   "id": "f2539f05-27c4-4f0d-88b7-b3ca95b6f217",
   "metadata": {},
   "outputs": [
    {
     "data": {
      "text/html": [
       "<div>\n",
       "<style scoped>\n",
       "    .dataframe tbody tr th:only-of-type {\n",
       "        vertical-align: middle;\n",
       "    }\n",
       "\n",
       "    .dataframe tbody tr th {\n",
       "        vertical-align: top;\n",
       "    }\n",
       "\n",
       "    .dataframe thead th {\n",
       "        text-align: right;\n",
       "    }\n",
       "</style>\n",
       "<table border=\"1\" class=\"dataframe\">\n",
       "  <thead>\n",
       "    <tr style=\"text-align: right;\">\n",
       "      <th></th>\n",
       "      <th>Height</th>\n",
       "      <th>Weight</th>\n",
       "    </tr>\n",
       "  </thead>\n",
       "  <tbody>\n",
       "    <tr>\n",
       "      <th>Raju</th>\n",
       "      <td>66</td>\n",
       "      <td>140</td>\n",
       "    </tr>\n",
       "    <tr>\n",
       "      <th>Parul</th>\n",
       "      <td>72</td>\n",
       "      <td>148</td>\n",
       "    </tr>\n",
       "    <tr>\n",
       "      <th>Sunita</th>\n",
       "      <td>62</td>\n",
       "      <td>125</td>\n",
       "    </tr>\n",
       "    <tr>\n",
       "      <th>Sunil</th>\n",
       "      <td>68</td>\n",
       "      <td>160</td>\n",
       "    </tr>\n",
       "    <tr>\n",
       "      <th>Ashok</th>\n",
       "      <td>62</td>\n",
       "      <td>152</td>\n",
       "    </tr>\n",
       "  </tbody>\n",
       "</table>\n",
       "</div>"
      ],
      "text/plain": [
       "        Height  Weight\n",
       "Raju        66     140\n",
       "Parul       72     148\n",
       "Sunita      62     125\n",
       "Sunil       68     160\n",
       "Ashok       62     152"
      ]
     },
     "execution_count": 12,
     "metadata": {},
     "output_type": "execute_result"
    }
   ],
   "source": [
    "only_ht_wt"
   ]
  },
  {
   "cell_type": "code",
   "execution_count": 13,
   "id": "b2fe64cb-36c1-4c05-a814-f2c41e92fafa",
   "metadata": {},
   "outputs": [],
   "source": [
    "#Print Age by . method('Generally it would'nt Use)"
   ]
  },
  {
   "cell_type": "code",
   "execution_count": 14,
   "id": "0702bfec-21b4-4c98-8335-a69b71dabccf",
   "metadata": {},
   "outputs": [
    {
     "name": "stdout",
     "output_type": "stream",
     "text": [
      "\n",
      " 'Age' accessed by Dot Method (Not Recommended)\n",
      "-------------------------------------------------------\n",
      "Raju      24\n",
      "Parul     44\n",
      "Sunita    30\n",
      "Sunil     35\n",
      "Ashok     25\n",
      "Name: Age, dtype: int32\n"
     ]
    }
   ],
   "source": [
    "print(\"\\n 'Age' accessed by Dot Method (Not Recommended)\\n\",'-'*55,sep='')\n",
    "print(df.Age)#You can Access only column at a time"
   ]
  },
  {
   "cell_type": "code",
   "execution_count": null,
   "id": "02282178-1f8d-4ea0-8b66-c6bae9ed9a25",
   "metadata": {},
   "outputs": [],
   "source": [
    "#Select particular index data using loc(index name) loc=Locate"
   ]
  },
  {
   "cell_type": "code",
   "execution_count": 15,
   "id": "86280d29-658e-474f-b258-b85dedc36e77",
   "metadata": {},
   "outputs": [
    {
     "data": {
      "text/plain": [
       "Age        30\n",
       "Height     62\n",
       "Weight    125\n",
       "Name: Sunita, dtype: int32"
      ]
     },
     "execution_count": 15,
     "metadata": {},
     "output_type": "execute_result"
    }
   ],
   "source": [
    "df.loc['Sunita']"
   ]
  },
  {
   "cell_type": "code",
   "execution_count": 16,
   "id": "de46009c-3744-4e20-9254-42c87084cbbc",
   "metadata": {},
   "outputs": [],
   "source": [
    "#Select Particular index data using iloc(index position) iloc=index Locate"
   ]
  },
  {
   "cell_type": "code",
   "execution_count": 17,
   "id": "0e31b207-4fef-46e1-a555-f23d13a5abae",
   "metadata": {},
   "outputs": [
    {
     "data": {
      "text/plain": [
       "Age        44\n",
       "Height     72\n",
       "Weight    148\n",
       "Name: Parul, dtype: int32"
      ]
     },
     "execution_count": 17,
     "metadata": {},
     "output_type": "execute_result"
    }
   ],
   "source": [
    "df.iloc[1]"
   ]
  },
  {
   "cell_type": "code",
   "execution_count": 19,
   "id": "a9ee2fc3-7624-4393-b93e-583d4f5f8529",
   "metadata": {},
   "outputs": [
    {
     "name": "stdout",
     "output_type": "stream",
     "text": [
      "/n select index and column for a particular data \n",
      "\n",
      "68\n"
     ]
    }
   ],
   "source": [
    "print(\"/n select index and column for a particular data \\n\")\n",
    "print(df.loc['Sunil','Height'])"
   ]
  },
  {
   "cell_type": "code",
   "execution_count": 20,
   "id": "0d0cf434-69fb-4efb-850c-2c61f3674b5e",
   "metadata": {},
   "outputs": [],
   "source": [
    "#Select Index and list of column data\\n"
   ]
  },
  {
   "cell_type": "code",
   "execution_count": 21,
   "id": "217cb6ba-bf44-46fe-8b0c-cc5eddf29d71",
   "metadata": {},
   "outputs": [
    {
     "name": "stdout",
     "output_type": "stream",
     "text": [
      "\n",
      " Select Index and list of column data\n",
      "\n",
      "Height     62\n",
      "Weight    152\n",
      "Name: Ashok, dtype: int32\n"
     ]
    }
   ],
   "source": [
    "print(\"\\n Select Index and list of column data\\n\")\n",
    "print(df.loc['Ashok',['Height','Weight']])\n"
   ]
  },
  {
   "cell_type": "code",
   "execution_count": 22,
   "id": "b63a2825-5d14-45cf-9538-e515cf372546",
   "metadata": {},
   "outputs": [],
   "source": [
    "#Select list of index and column data"
   ]
  },
  {
   "cell_type": "code",
   "execution_count": 24,
   "id": "66978c18-6e3f-4c8d-bda6-fa3c97999fb5",
   "metadata": {},
   "outputs": [
    {
     "name": "stdout",
     "output_type": "stream",
     "text": [
      "\n",
      " Select List of index and column data \n",
      "\n",
      "       Age  Weight\n",
      "Parul   44     148\n",
      "Sunil   35     160\n"
     ]
    }
   ],
   "source": [
    "print(\"\\n Select List of index and column data \\n\")\n",
    "print(df.loc[['Parul','Sunil'],['Age','Weight']])"
   ]
  },
  {
   "cell_type": "code",
   "execution_count": 25,
   "id": "89f39baf-3942-4244-bb1e-fa1524292fdf",
   "metadata": {},
   "outputs": [],
   "source": [
    "#Check original df"
   ]
  },
  {
   "cell_type": "code",
   "execution_count": 26,
   "id": "6af9b279-fb57-48b2-b598-e0f20bb00192",
   "metadata": {},
   "outputs": [
    {
     "data": {
      "text/html": [
       "<div>\n",
       "<style scoped>\n",
       "    .dataframe tbody tr th:only-of-type {\n",
       "        vertical-align: middle;\n",
       "    }\n",
       "\n",
       "    .dataframe tbody tr th {\n",
       "        vertical-align: top;\n",
       "    }\n",
       "\n",
       "    .dataframe thead th {\n",
       "        text-align: right;\n",
       "    }\n",
       "</style>\n",
       "<table border=\"1\" class=\"dataframe\">\n",
       "  <thead>\n",
       "    <tr style=\"text-align: right;\">\n",
       "      <th></th>\n",
       "      <th>Age</th>\n",
       "      <th>Height</th>\n",
       "      <th>Weight</th>\n",
       "    </tr>\n",
       "  </thead>\n",
       "  <tbody>\n",
       "    <tr>\n",
       "      <th>Raju</th>\n",
       "      <td>24</td>\n",
       "      <td>66</td>\n",
       "      <td>140</td>\n",
       "    </tr>\n",
       "    <tr>\n",
       "      <th>Parul</th>\n",
       "      <td>44</td>\n",
       "      <td>72</td>\n",
       "      <td>148</td>\n",
       "    </tr>\n",
       "    <tr>\n",
       "      <th>Sunita</th>\n",
       "      <td>30</td>\n",
       "      <td>62</td>\n",
       "      <td>125</td>\n",
       "    </tr>\n",
       "    <tr>\n",
       "      <th>Sunil</th>\n",
       "      <td>35</td>\n",
       "      <td>68</td>\n",
       "      <td>160</td>\n",
       "    </tr>\n",
       "    <tr>\n",
       "      <th>Ashok</th>\n",
       "      <td>25</td>\n",
       "      <td>62</td>\n",
       "      <td>152</td>\n",
       "    </tr>\n",
       "  </tbody>\n",
       "</table>\n",
       "</div>"
      ],
      "text/plain": [
       "        Age  Height  Weight\n",
       "Raju     24      66     140\n",
       "Parul    44      72     148\n",
       "Sunita   30      62     125\n",
       "Sunil    35      68     160\n",
       "Ashok    25      62     152"
      ]
     },
     "execution_count": 26,
     "metadata": {},
     "output_type": "execute_result"
    }
   ],
   "source": [
    "df"
   ]
  },
  {
   "cell_type": "markdown",
   "id": "be3e3256-66f0-4b7d-ac4a-d401bff8b933",
   "metadata": {},
   "source": [
    "## Select data on condition"
   ]
  },
  {
   "cell_type": "code",
   "execution_count": 27,
   "id": "c73ac3d9-5f1a-41b1-b126-4bbc70bac5ea",
   "metadata": {},
   "outputs": [],
   "source": [
    "#Check wheather height in greater then 65"
   ]
  },
  {
   "cell_type": "code",
   "execution_count": 29,
   "id": "ab3c9768-c7e5-41cd-b7cf-2e26cb80cdc1",
   "metadata": {},
   "outputs": [
    {
     "name": "stdout",
     "output_type": "stream",
     "text": [
      "\n",
      " Rows with Height >65 inch \n",
      "\n",
      "       Age  Height  Weight\n",
      "Raju    24      66     140\n",
      "Parul   44      72     148\n",
      "Sunil   35      68     160\n"
     ]
    }
   ],
   "source": [
    "print(\"\\n Rows with Height >65 inch \\n\")\n",
    "print(df[df['Height']>65])"
   ]
  },
  {
   "cell_type": "code",
   "execution_count": 30,
   "id": "49c2a9ba-9a72-494c-9f8a-1ff4351bf03d",
   "metadata": {},
   "outputs": [],
   "source": [
    "booldf1=df['Height']>65\n",
    "booldf2=df['Weight']>145"
   ]
  },
  {
   "cell_type": "code",
   "execution_count": null,
   "id": "208810e9-f58c-4920-a321-971cd5147d41",
   "metadata": {},
   "outputs": [],
   "source": [
    "#Select Rows with Height >65 inch and Weight >145 lbs"
   ]
  },
  {
   "cell_type": "code",
   "execution_count": 31,
   "id": "c5fa5007-0197-4eeb-a017-9de0f37d9bc8",
   "metadata": {},
   "outputs": [
    {
     "name": "stdout",
     "output_type": "stream",
     "text": [
      "\n",
      " Select With Height >65 inch and weight >145\n",
      "--------------------------------------------------------------------\n",
      "       Age  Height  Weight\n",
      "Parul   44      72     148\n",
      "Sunil   35      68     160\n"
     ]
    }
   ],
   "source": [
    "print(\"\\n Select With Height >65 inch and weight >145\\n\",'-'*68,sep='')\n",
    "print(df[(booldf1)& (booldf2)])"
   ]
  },
  {
   "cell_type": "code",
   "execution_count": 32,
   "id": "08d5403b-c052-46dc-8f79-38f223563e0c",
   "metadata": {},
   "outputs": [],
   "source": [
    "#DataFrame with only Age and Weight Columns Whose Height>68 inch"
   ]
  },
  {
   "cell_type": "code",
   "execution_count": 33,
   "id": "4401da02-7386-43ce-bf6f-b3c614440d31",
   "metadata": {},
   "outputs": [
    {
     "name": "stdout",
     "output_type": "stream",
     "text": [
      "\n",
      " DataFrame With only Age And Weight columns whose Height >68 inch \n",
      "------------------------------------------------------------\n",
      "       Age  Weight\n",
      "Raju    24     140\n",
      "Parul   44     148\n",
      "Sunil   35     160\n"
     ]
    }
   ],
   "source": [
    "print(\"\\n DataFrame With only Age And Weight columns whose Height >68 inch \\n\",'-'*60,sep='')\n",
    "print(df[booldf1][['Age','Weight']])"
   ]
  },
  {
   "cell_type": "code",
   "execution_count": null,
   "id": "af95184c-e4c0-4c33-ac41-f352af46eba9",
   "metadata": {},
   "outputs": [],
   "source": [
    "#create new variable and assign the booldf1 and save in new variable"
   ]
  },
  {
   "cell_type": "code",
   "execution_count": 34,
   "id": "dbd0543c-40cc-4edc-89a6-be8bbec23f27",
   "metadata": {},
   "outputs": [
    {
     "data": {
      "text/html": [
       "<div>\n",
       "<style scoped>\n",
       "    .dataframe tbody tr th:only-of-type {\n",
       "        vertical-align: middle;\n",
       "    }\n",
       "\n",
       "    .dataframe tbody tr th {\n",
       "        vertical-align: top;\n",
       "    }\n",
       "\n",
       "    .dataframe thead th {\n",
       "        text-align: right;\n",
       "    }\n",
       "</style>\n",
       "<table border=\"1\" class=\"dataframe\">\n",
       "  <thead>\n",
       "    <tr style=\"text-align: right;\">\n",
       "      <th></th>\n",
       "      <th>Age</th>\n",
       "      <th>Weight</th>\n",
       "    </tr>\n",
       "  </thead>\n",
       "  <tbody>\n",
       "    <tr>\n",
       "      <th>Raju</th>\n",
       "      <td>24</td>\n",
       "      <td>140</td>\n",
       "    </tr>\n",
       "    <tr>\n",
       "      <th>Parul</th>\n",
       "      <td>44</td>\n",
       "      <td>148</td>\n",
       "    </tr>\n",
       "    <tr>\n",
       "      <th>Sunil</th>\n",
       "      <td>35</td>\n",
       "      <td>160</td>\n",
       "    </tr>\n",
       "  </tbody>\n",
       "</table>\n",
       "</div>"
      ],
      "text/plain": [
       "       Age  Weight\n",
       "Raju    24     140\n",
       "Parul   44     148\n",
       "Sunil   35     160"
      ]
     },
     "execution_count": 34,
     "metadata": {},
     "output_type": "execute_result"
    }
   ],
   "source": [
    "selected_candidates=df[booldf1][['Age','Weight']]\n",
    "selected_candidates"
   ]
  },
  {
   "cell_type": "code",
   "execution_count": null,
   "id": "2fd40141-b767-4189-9be2-75e3574f457e",
   "metadata": {},
   "outputs": [],
   "source": [
    "#Lets Know About resetting Index"
   ]
  },
  {
   "cell_type": "code",
   "execution_count": 35,
   "id": "7a0fbed2-f0bd-4d30-803c-aa7baf90d2ad",
   "metadata": {},
   "outputs": [
    {
     "name": "stdout",
     "output_type": "stream",
     "text": [
      "\n",
      " After resetting index \n",
      " -----------------------------------\n",
      "    index  Age  Height  Weight\n",
      "0    Raju   24      66     140\n",
      "1   Parul   44      72     148\n",
      "2  Sunita   30      62     125\n",
      "3   Sunil   35      68     160\n",
      "4   Ashok   25      62     152\n"
     ]
    }
   ],
   "source": [
    "print(\"\\n After resetting index \\n\",'-'*35)\n",
    "print(df.reset_index())"
   ]
  },
  {
   "cell_type": "code",
   "execution_count": 36,
   "id": "a606a0c5-2d99-435c-a7be-98203403f199",
   "metadata": {},
   "outputs": [],
   "source": [
    "#Lets Print whose age in <35"
   ]
  },
  {
   "cell_type": "code",
   "execution_count": 37,
   "id": "8afca11a-a7bb-4944-b2a6-141066777edc",
   "metadata": {},
   "outputs": [
    {
     "name": "stdout",
     "output_type": "stream",
     "text": [
      "\n",
      " Rows with age <30 year\n",
      "------------------------------\n",
      "       Age  Height  Weight\n",
      "Raju    24      66     140\n",
      "Ashok   25      62     152\n"
     ]
    }
   ],
   "source": [
    "print(\"\\n Rows with age <30 year\\n\",'-'*30,sep='')\n",
    "df=df[df['Age']<30]\n",
    "print(df)"
   ]
  },
  {
   "cell_type": "code",
   "execution_count": 38,
   "id": "865d908b-a7e7-4aa2-b3c6-46713e80ed7e",
   "metadata": {},
   "outputs": [],
   "source": [
    "#After resetting index with drop"
   ]
  },
  {
   "cell_type": "code",
   "execution_count": 41,
   "id": "410f4c69-0d89-4359-8cdb-8209017d3be7",
   "metadata": {},
   "outputs": [
    {
     "name": "stdout",
     "output_type": "stream",
     "text": [
      "\n",
      " After Resetting index with 'drop' option True \n",
      "------------------------------\n",
      "   Age  Height  Weight\n",
      "0   24      66     140\n",
      "1   25      62     152\n"
     ]
    }
   ],
   "source": [
    "print(\"\\n After Resetting index with 'drop' option True \\n\",'-'*30,sep='')\n",
    "print(df.reset_index(drop=True))"
   ]
  },
  {
   "cell_type": "code",
   "execution_count": 42,
   "id": "576f2237-d98b-448b-92d7-518589e93a78",
   "metadata": {},
   "outputs": [],
   "source": [
    "#Add new Column Profession"
   ]
  },
  {
   "cell_type": "code",
   "execution_count": 46,
   "id": "9b3abcdf-bc65-4d01-8f2c-08b48b329ac0",
   "metadata": {},
   "outputs": [
    {
     "name": "stdout",
     "output_type": "stream",
     "text": [
      "\n",
      " Adding a new column 'Profession' \n",
      " ---------------------------------------------\n",
      "       Age  Height  Weight Profession\n",
      "Raju    24      66     140    Student\n",
      "Ashok   25      62     152    Teacher\n"
     ]
    }
   ],
   "source": [
    "print(\"\\n Adding a new column 'Profession' \\n\",'-'*45,sep=' ')\n",
    "df['Profession']='Student Teacher'.split( )\n",
    "print(df)"
   ]
  },
  {
   "cell_type": "code",
   "execution_count": 45,
   "id": "2cbc2f7d-83f8-4acd-b2ae-0c19622974f4",
   "metadata": {},
   "outputs": [
    {
     "data": {
      "text/html": [
       "<div>\n",
       "<style scoped>\n",
       "    .dataframe tbody tr th:only-of-type {\n",
       "        vertical-align: middle;\n",
       "    }\n",
       "\n",
       "    .dataframe tbody tr th {\n",
       "        vertical-align: top;\n",
       "    }\n",
       "\n",
       "    .dataframe thead th {\n",
       "        text-align: right;\n",
       "    }\n",
       "</style>\n",
       "<table border=\"1\" class=\"dataframe\">\n",
       "  <thead>\n",
       "    <tr style=\"text-align: right;\">\n",
       "      <th></th>\n",
       "      <th>Age</th>\n",
       "      <th>Height</th>\n",
       "      <th>Weight</th>\n",
       "    </tr>\n",
       "  </thead>\n",
       "  <tbody>\n",
       "    <tr>\n",
       "      <th>Raju</th>\n",
       "      <td>24</td>\n",
       "      <td>66</td>\n",
       "      <td>140</td>\n",
       "    </tr>\n",
       "    <tr>\n",
       "      <th>Ashok</th>\n",
       "      <td>25</td>\n",
       "      <td>62</td>\n",
       "      <td>152</td>\n",
       "    </tr>\n",
       "  </tbody>\n",
       "</table>\n",
       "</div>"
      ],
      "text/plain": [
       "       Age  Height  Weight\n",
       "Raju    24      66     140\n",
       "Ashok   25      62     152"
      ]
     },
     "execution_count": 45,
     "metadata": {},
     "output_type": "execute_result"
    }
   ],
   "source": [
    "df"
   ]
  },
  {
   "cell_type": "code",
   "execution_count": 47,
   "id": "4259f15f-e289-4414-aa76-bd6228e44a7c",
   "metadata": {},
   "outputs": [
    {
     "name": "stdout",
     "output_type": "stream",
     "text": [
      "\n",
      " Setting 'Profession' column as index \n",
      "---------------------------------------------\n",
      "            Age  Height  Weight\n",
      "Profession                     \n",
      "Student      24      66     140\n",
      "Teacher      25      62     152\n"
     ]
    }
   ],
   "source": [
    "print(\"\\n Setting 'Profession' column as index \\n\",'-'*45,sep='')\n",
    "print(df.set_index('Profession'))"
   ]
  },
  {
   "cell_type": "code",
   "execution_count": null,
   "id": "ed23c803-bd11-428d-a42b-8039bdb56ab4",
   "metadata": {},
   "outputs": [],
   "source": []
  }
 ],
 "metadata": {
  "kernelspec": {
   "display_name": "Python 3 (ipykernel)",
   "language": "python",
   "name": "python3"
  },
  "language_info": {
   "codemirror_mode": {
    "name": "ipython",
    "version": 3
   },
   "file_extension": ".py",
   "mimetype": "text/x-python",
   "name": "python",
   "nbconvert_exporter": "python",
   "pygments_lexer": "ipython3",
   "version": "3.11.2"
  }
 },
 "nbformat": 4,
 "nbformat_minor": 5
}
