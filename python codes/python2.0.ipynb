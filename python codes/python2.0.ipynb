{
 "cells": [
  {
   "cell_type": "code",
   "execution_count": null,
   "id": "d09277c2-85fe-4108-9cd4-f41388bbad3c",
   "metadata": {},
   "outputs": [],
   "source": [
    "#lets start with complex number\n",
    "#Complex Number ? A complex number which can we studied in ou school. its abot real number and imaginary number , \n",
    "#which can be denote as i, \n",
    "#example of complex number - 2+5i, But in pyhton i is denoted with j\n",
    "#see example in jupyer cell."
   ]
  },
  {
   "cell_type": "code",
   "execution_count": 1,
   "id": "ccc690bc-5551-4f38-a357-49dfdbb5c8ee",
   "metadata": {},
   "outputs": [],
   "source": [
    "c=2+5j"
   ]
  },
  {
   "cell_type": "code",
   "execution_count": 2,
   "id": "0e986011-4aca-48a6-b4c0-7c238a3150df",
   "metadata": {},
   "outputs": [
    {
     "data": {
      "text/plain": [
       "complex"
      ]
     },
     "execution_count": 2,
     "metadata": {},
     "output_type": "execute_result"
    }
   ],
   "source": [
    "type(c)"
   ]
  },
  {
   "cell_type": "code",
   "execution_count": null,
   "id": "2b0b512d-2332-492a-bb7c-2cdd99a49b8c",
   "metadata": {},
   "outputs": [],
   "source": [
    "#but in data science we dont use complex number.\n",
    "#String. What is string - String when we use alphabet in single,double and tripple quotes\n",
    "#tripple quote is also used for documentation\n",
    "#see example of String"
   ]
  },
  {
   "cell_type": "code",
   "execution_count": 3,
   "id": "1fd7b807-aab2-4463-9309-c5b59e67424a",
   "metadata": {},
   "outputs": [],
   "source": [
    "a='Ram is hero'"
   ]
  },
  {
   "cell_type": "code",
   "execution_count": 4,
   "id": "280f2f9f-599b-42f7-bfa9-2bea8e70f267",
   "metadata": {},
   "outputs": [
    {
     "data": {
      "text/plain": [
       "'Ram is hero'"
      ]
     },
     "execution_count": 4,
     "metadata": {},
     "output_type": "execute_result"
    }
   ],
   "source": [
    "a"
   ]
  },
  {
   "cell_type": "code",
   "execution_count": null,
   "id": "f228a46a-943f-469d-8943-58962974b1b1",
   "metadata": {},
   "outputs": [],
   "source": []
  },
  {
   "cell_type": "code",
   "execution_count": 5,
   "id": "8344b08a-9873-4001-8590-7906e9e82a12",
   "metadata": {},
   "outputs": [
    {
     "data": {
      "text/plain": [
       "str"
      ]
     },
     "execution_count": 5,
     "metadata": {},
     "output_type": "execute_result"
    }
   ],
   "source": [
    "type(a)"
   ]
  },
  {
   "cell_type": "code",
   "execution_count": 6,
   "id": "6e4db34f-fc1d-4146-8a35-187d84ab5183",
   "metadata": {},
   "outputs": [],
   "source": [
    "str1='python'\n",
    "str2=' is a powerful'\n",
    "str3=' language'"
   ]
  },
  {
   "cell_type": "code",
   "execution_count": 7,
   "id": "0a9520c7-8322-4683-a7e3-77476c6f5532",
   "metadata": {},
   "outputs": [
    {
     "name": "stdout",
     "output_type": "stream",
     "text": [
      "python is a powerful language\n"
     ]
    }
   ],
   "source": [
    "print(str1+str2+str3)"
   ]
  },
  {
   "cell_type": "code",
   "execution_count": null,
   "id": "af104f8d-3430-4cea-8af1-0d41b51278ec",
   "metadata": {},
   "outputs": [],
   "source": [
    "#we can add directly without ececuting codes"
   ]
  },
  {
   "cell_type": "code",
   "execution_count": 8,
   "id": "4ddd250c-b6a3-448f-83f7-7f48128f6dc7",
   "metadata": {},
   "outputs": [
    {
     "name": "stdout",
     "output_type": "stream",
     "text": [
      "saurav is ex  mining engineer\n"
     ]
    }
   ],
   "source": [
    "print(\"saurav\"+\" is ex\",\" mining engineer\")"
   ]
  },
  {
   "cell_type": "code",
   "execution_count": 9,
   "id": "b4baf3b7-f419-4041-8ec1-e29149eb0ea1",
   "metadata": {},
   "outputs": [
    {
     "name": "stdout",
     "output_type": "stream",
     "text": [
      "  Day  Day  Day  Day  Day\n"
     ]
    }
   ],
   "source": [
    "print('  Day' *  5)  #(* use for multiplication)"
   ]
  },
  {
   "cell_type": "code",
   "execution_count": 10,
   "id": "2b135964-05f8-4e8e-8ed8-2c9ab15b4a6b",
   "metadata": {},
   "outputs": [
    {
     "name": "stdout",
     "output_type": "stream",
     "text": [
      " = = = = = = = = = = = = = = = = = = = = = = = = = = = = = = = = = = = = = = = = = = = = = = = = = = = = = = = = = = = = = = = = = = = = = = = = = = = = = = = = = = = = = = = = = = = = = = = = = = = =\n"
     ]
    }
   ],
   "source": [
    "print(' =' * 100)"
   ]
  },
  {
   "cell_type": "code",
   "execution_count": 11,
   "id": "1136c60f-db0e-4220-9691-3f6a69619be2",
   "metadata": {},
   "outputs": [
    {
     "name": "stdout",
     "output_type": "stream",
     "text": [
      "Day5\n"
     ]
    }
   ],
   "source": [
    "print('Day' + str(5))"
   ]
  },
  {
   "cell_type": "code",
   "execution_count": null,
   "id": "5a4b61b6-e5c6-4341-944a-4aba40ef00dd",
   "metadata": {},
   "outputs": [],
   "source": [
    "#Lets Start with list \n",
    "#So, What is list?, List is like a container which can hold our data ., and list is always in square brackets [].\n",
    "#Accommodate all types of data.\n",
    "#list are mutable.\n",
    "#what is mutable ? mutalbe means where we can edit(update,insert,add,count)our data."
   ]
  },
  {
   "cell_type": "code",
   "execution_count": 12,
   "id": "3061a062-dac3-48b0-9e1d-81293790ecef",
   "metadata": {},
   "outputs": [],
   "source": [
    "#Create empty  list"
   ]
  },
  {
   "cell_type": "code",
   "execution_count": 13,
   "id": "4a899307-739d-48cd-acda-ded81e733c3a",
   "metadata": {},
   "outputs": [],
   "source": [
    "lst=[]"
   ]
  },
  {
   "cell_type": "code",
   "execution_count": 14,
   "id": "e7917f7d-9e8a-458b-a20f-4e5e2fd78572",
   "metadata": {},
   "outputs": [
    {
     "data": {
      "text/plain": [
       "list"
      ]
     },
     "execution_count": 14,
     "metadata": {},
     "output_type": "execute_result"
    }
   ],
   "source": [
    "type(lst)"
   ]
  },
  {
   "cell_type": "code",
   "execution_count": 15,
   "id": "bfebc2bf-2ac1-4562-96f8-6eb4cd20a087",
   "metadata": {},
   "outputs": [],
   "source": [
    "lst=['a','b','c','d']"
   ]
  },
  {
   "cell_type": "code",
   "execution_count": 16,
   "id": "672901db-741e-4318-aa49-9b82ef211e6e",
   "metadata": {},
   "outputs": [],
   "source": [
    "l2=list(lst)"
   ]
  },
  {
   "cell_type": "code",
   "execution_count": 17,
   "id": "790b8857-57c7-4ef9-80ef-be67cd2dcaaa",
   "metadata": {},
   "outputs": [
    {
     "data": {
      "text/plain": [
       "12"
      ]
     },
     "execution_count": 17,
     "metadata": {},
     "output_type": "execute_result"
    }
   ],
   "source": [
    "12"
   ]
  },
  {
   "cell_type": "code",
   "execution_count": 20,
   "id": "7df56a98-e31d-49bd-8976-104386d8f16a",
   "metadata": {},
   "outputs": [],
   "source": [
    "marks=[30,40,50,60]"
   ]
  },
  {
   "cell_type": "code",
   "execution_count": 21,
   "id": "21cbd4fe-0fa2-4ff7-bee9-de4d0651a321",
   "metadata": {},
   "outputs": [],
   "source": [
    "\n",
    "copy_marks=marks.copy()"
   ]
  },
  {
   "cell_type": "code",
   "execution_count": 22,
   "id": "fa66632f-14a7-4e4b-b1d1-fce58e9a29ad",
   "metadata": {},
   "outputs": [
    {
     "data": {
      "text/plain": [
       "[30, 40, 50, 60]"
      ]
     },
     "execution_count": 22,
     "metadata": {},
     "output_type": "execute_result"
    }
   ],
   "source": [
    "copy_marks"
   ]
  },
  {
   "cell_type": "code",
   "execution_count": 23,
   "id": "534238eb-c43f-4942-bb9f-45d93060b57b",
   "metadata": {},
   "outputs": [
    {
     "data": {
      "text/plain": [
       "['s', 'a', 'u', 'r', 'a', 'v']"
      ]
     },
     "execution_count": 23,
     "metadata": {},
     "output_type": "execute_result"
    }
   ],
   "source": [
    "list('saurav') "
   ]
  },
  {
   "cell_type": "code",
   "execution_count": 24,
   "id": "2a642c68-7aad-495e-a803-d3ea04857414",
   "metadata": {},
   "outputs": [
    {
     "ename": "TypeError",
     "evalue": "'int' object is not iterable",
     "output_type": "error",
     "traceback": [
      "\u001b[1;31m---------------------------------------------------------------------------\u001b[0m",
      "\u001b[1;31mTypeError\u001b[0m                                 Traceback (most recent call last)",
      "Cell \u001b[1;32mIn[24], line 1\u001b[0m\n\u001b[1;32m----> 1\u001b[0m \u001b[38;5;28;43mlist\u001b[39;49m\u001b[43m(\u001b[49m\u001b[38;5;241;43m8885\u001b[39;49m\u001b[43m)\u001b[49m \n",
      "\u001b[1;31mTypeError\u001b[0m: 'int' object is not iterable"
     ]
    }
   ],
   "source": [
    "list(8885) "
   ]
  },
  {
   "cell_type": "code",
   "execution_count": 25,
   "id": "14b4ee72-196b-4727-92d7-66f1dccd1538",
   "metadata": {},
   "outputs": [],
   "source": [
    "l1=[]"
   ]
  },
  {
   "cell_type": "code",
   "execution_count": 26,
   "id": "37892156-82fb-4705-a607-4a4a82e36de6",
   "metadata": {},
   "outputs": [],
   "source": [
    "l1.append('saurav')"
   ]
  },
  {
   "cell_type": "code",
   "execution_count": 27,
   "id": "af0c577d-5da0-487b-9f87-19f65ae7c425",
   "metadata": {},
   "outputs": [
    {
     "data": {
      "text/plain": [
       "['saurav']"
      ]
     },
     "execution_count": 27,
     "metadata": {},
     "output_type": "execute_result"
    }
   ],
   "source": [
    "l1"
   ]
  },
  {
   "cell_type": "code",
   "execution_count": 28,
   "id": "5374c4e5-84d9-4ed5-bff4-ad7a10d49a58",
   "metadata": {},
   "outputs": [],
   "source": [
    "#add two item \n",
    "l1.append('yashu')\n",
    "l1.append('shivangi')"
   ]
  },
  {
   "cell_type": "code",
   "execution_count": 29,
   "id": "ab611a95-7f84-435c-805b-28e6d55cb640",
   "metadata": {},
   "outputs": [
    {
     "data": {
      "text/plain": [
       "['saurav', 'yashu', 'shivangi']"
      ]
     },
     "execution_count": 29,
     "metadata": {},
     "output_type": "execute_result"
    }
   ],
   "source": [
    "l1"
   ]
  },
  {
   "cell_type": "code",
   "execution_count": null,
   "id": "29815f07-b3fa-4dcb-8e27-343580aa61b4",
   "metadata": {},
   "outputs": [],
   "source": [
    "#index and insert-Two arguments can be paced in insert method\n",
    "#insert(index,insert) meaning of index is where we have to add objects and  meaning of insert is what object we have to store.\n",
    "#see with  example\n",
    "#lets make new list"
   ]
  },
  {
   "cell_type": "code",
   "execution_count": 30,
   "id": "13d9bacc-7dea-4b26-8a06-5952a8ba9dc2",
   "metadata": {},
   "outputs": [],
   "source": [
    "l1=['saurav','vicky','minakshi','Donald Trump','Imran khan']"
   ]
  },
  {
   "cell_type": "code",
   "execution_count": 31,
   "id": "da21cc77-bdc8-45e5-a5e3-9a03d221c6f3",
   "metadata": {},
   "outputs": [
    {
     "data": {
      "text/plain": [
       "['saurav', 'vicky', 'minakshi', 'Donald Trump', 'Imran khan']"
      ]
     },
     "execution_count": 31,
     "metadata": {},
     "output_type": "execute_result"
    }
   ],
   "source": [
    "l1"
   ]
  },
  {
   "cell_type": "code",
   "execution_count": 32,
   "id": "291ece36-3e28-47f9-84cd-58ed293e3946",
   "metadata": {},
   "outputs": [],
   "source": [
    "l1.insert(4,'putin')"
   ]
  },
  {
   "cell_type": "code",
   "execution_count": 33,
   "id": "67abd0fd-2b44-4cb6-aeb2-b25f767c78c5",
   "metadata": {},
   "outputs": [
    {
     "data": {
      "text/plain": [
       "['saurav', 'vicky', 'minakshi', 'Donald Trump', 'putin', 'Imran khan']"
      ]
     },
     "execution_count": 33,
     "metadata": {},
     "output_type": "execute_result"
    }
   ],
   "source": [
    "l1\n"
   ]
  },
  {
   "cell_type": "code",
   "execution_count": 40,
   "id": "b7b004de-acac-4bb7-8f3f-de9347494b2b",
   "metadata": {},
   "outputs": [],
   "source": [
    "l1=[44,55,66,99,77,88]"
   ]
  },
  {
   "cell_type": "code",
   "execution_count": 41,
   "id": "6a701364-be5a-4996-a926-5bc7ae12d8c7",
   "metadata": {},
   "outputs": [
    {
     "data": {
      "text/plain": [
       "6"
      ]
     },
     "execution_count": 41,
     "metadata": {},
     "output_type": "execute_result"
    }
   ],
   "source": [
    "len(l1)"
   ]
  },
  {
   "cell_type": "code",
   "execution_count": 42,
   "id": "516081da-9c6d-40e8-9696-9630ca6a8beb",
   "metadata": {},
   "outputs": [],
   "source": [
    "l1=['saurav','gaurav','lovely','advit']"
   ]
  },
  {
   "cell_type": "code",
   "execution_count": 43,
   "id": "91005e74-a6ff-4154-83f4-814cba5391ac",
   "metadata": {},
   "outputs": [
    {
     "data": {
      "text/plain": [
       "'saurav'"
      ]
     },
     "execution_count": 43,
     "metadata": {},
     "output_type": "execute_result"
    }
   ],
   "source": [
    "l1[0]"
   ]
  },
  {
   "cell_type": "code",
   "execution_count": 44,
   "id": "c97512f7-3e7b-4571-8daa-adb70f67bf61",
   "metadata": {},
   "outputs": [
    {
     "data": {
      "text/plain": [
       "'gaurav'"
      ]
     },
     "execution_count": 44,
     "metadata": {},
     "output_type": "execute_result"
    }
   ],
   "source": [
    "l1[1]\n"
   ]
  },
  {
   "cell_type": "code",
   "execution_count": 45,
   "id": "7e443d11-344b-4b1b-9df4-bf6c331f50fb",
   "metadata": {},
   "outputs": [
    {
     "data": {
      "text/plain": [
       "'lovely'"
      ]
     },
     "execution_count": 45,
     "metadata": {},
     "output_type": "execute_result"
    }
   ],
   "source": [
    "l1[2]"
   ]
  },
  {
   "cell_type": "code",
   "execution_count": 48,
   "id": "620502ca-d9e6-4e4c-94cc-db7be17ee311",
   "metadata": {},
   "outputs": [],
   "source": [
    "l1=[11,22,33,66,44,88,99,44]"
   ]
  },
  {
   "cell_type": "code",
   "execution_count": 49,
   "id": "18de1bf3-51e9-452d-b5ce-6864e8a3285a",
   "metadata": {},
   "outputs": [],
   "source": [
    "l1[3]=1607"
   ]
  },
  {
   "cell_type": "code",
   "execution_count": 50,
   "id": "64a96eac-122e-44ee-800c-3f2e3f13b098",
   "metadata": {},
   "outputs": [
    {
     "data": {
      "text/plain": [
       "[11, 22, 33, 1607, 44, 88, 99, 44]"
      ]
     },
     "execution_count": 50,
     "metadata": {},
     "output_type": "execute_result"
    }
   ],
   "source": [
    "l1"
   ]
  },
  {
   "cell_type": "code",
   "execution_count": 51,
   "id": "82bbf68c-7928-42a7-a907-92a91649da72",
   "metadata": {},
   "outputs": [
    {
     "data": {
      "text/plain": [
       "[22, 33, 1607, 44, 88, 99, 44]"
      ]
     },
     "execution_count": 51,
     "metadata": {},
     "output_type": "execute_result"
    }
   ],
   "source": [
    "l1[1:]"
   ]
  },
  {
   "cell_type": "code",
   "execution_count": 52,
   "id": "c37daf69-14ac-4245-9daf-098d4b8d774e",
   "metadata": {},
   "outputs": [
    {
     "data": {
      "text/plain": [
       "[33, 1607, 44, 88, 99, 44]"
      ]
     },
     "execution_count": 52,
     "metadata": {},
     "output_type": "execute_result"
    }
   ],
   "source": [
    "l1[2:]"
   ]
  },
  {
   "cell_type": "code",
   "execution_count": 53,
   "id": "b59ae6d9-eefd-4ac6-baec-99489dd4d433",
   "metadata": {},
   "outputs": [
    {
     "data": {
      "text/plain": [
       "[11, 22, 33, 1607, 44, 88, 99, 44]"
      ]
     },
     "execution_count": 53,
     "metadata": {},
     "output_type": "execute_result"
    }
   ],
   "source": [
    "l1"
   ]
  },
  {
   "cell_type": "code",
   "execution_count": 54,
   "id": "513b4acc-9272-4dcd-857a-310e9c80365e",
   "metadata": {},
   "outputs": [
    {
     "data": {
      "text/plain": [
       "[22, 33, 1607, 44, 88, 99]"
      ]
     },
     "execution_count": 54,
     "metadata": {},
     "output_type": "execute_result"
    }
   ],
   "source": [
    "l1[1:7] #what isdone here."
   ]
  },
  {
   "cell_type": "code",
   "execution_count": 55,
   "id": "cd003a88-b44d-4970-81b7-6090c63e473a",
   "metadata": {},
   "outputs": [
    {
     "data": {
      "text/plain": [
       "[11, 22, 33, 1607, 44, 88, 99, 44]"
      ]
     },
     "execution_count": 55,
     "metadata": {},
     "output_type": "execute_result"
    }
   ],
   "source": [
    "l1"
   ]
  },
  {
   "cell_type": "code",
   "execution_count": 56,
   "id": "c2c5b57e-3fda-48fd-ad2c-21242631349f",
   "metadata": {},
   "outputs": [
    {
     "data": {
      "text/plain": [
       "[11, 22, 33, 1607, 44, 88, 99, 44, 6622]"
      ]
     },
     "execution_count": 56,
     "metadata": {},
     "output_type": "execute_result"
    }
   ],
   "source": [
    "l1+[6622]"
   ]
  },
  {
   "cell_type": "code",
   "execution_count": 57,
   "id": "91b64bd3-b94e-401d-840b-76b1fb9dcc30",
   "metadata": {},
   "outputs": [],
   "source": [
    "l1=l1+[5566]"
   ]
  },
  {
   "cell_type": "code",
   "execution_count": 58,
   "id": "16e4024a-8058-4701-b3e9-acf45474bd3e",
   "metadata": {},
   "outputs": [
    {
     "data": {
      "text/plain": [
       "[11,\n",
       " 22,\n",
       " 33,\n",
       " 1607,\n",
       " 44,\n",
       " 88,\n",
       " 99,\n",
       " 44,\n",
       " 5566,\n",
       " 11,\n",
       " 22,\n",
       " 33,\n",
       " 1607,\n",
       " 44,\n",
       " 88,\n",
       " 99,\n",
       " 44,\n",
       " 5566,\n",
       " 11,\n",
       " 22,\n",
       " 33,\n",
       " 1607,\n",
       " 44,\n",
       " 88,\n",
       " 99,\n",
       " 44,\n",
       " 5566,\n",
       " 11,\n",
       " 22,\n",
       " 33,\n",
       " 1607,\n",
       " 44,\n",
       " 88,\n",
       " 99,\n",
       " 44,\n",
       " 5566]"
      ]
     },
     "execution_count": 58,
     "metadata": {},
     "output_type": "execute_result"
    }
   ],
   "source": [
    "l1 * 4 #like that"
   ]
  },
  {
   "cell_type": "code",
   "execution_count": 59,
   "id": "2cf8c061-6b1a-495f-b637-2e1415f679b3",
   "metadata": {},
   "outputs": [
    {
     "name": "stdout",
     "output_type": "stream",
     "text": [
      "====================================================================================================\n",
      "[11, 22, 33, 1607, 44, 88, 99, 44, 5566]\n",
      "====================================================================================================\n"
     ]
    }
   ],
   "source": [
    "print('=' * 100)\n",
    "\n",
    "print(l1)\n",
    "\n",
    "print('=' * 100)   #like that"
   ]
  },
  {
   "cell_type": "code",
   "execution_count": 60,
   "id": "db9d6c5a-8aed-48bf-8b66-d339517a214d",
   "metadata": {},
   "outputs": [],
   "source": [
    "marks=[51,56,89,78,89,45,56,12,12,32,45,32,65,45,89,78,45,56,23,12,4,5,23,23,56,]"
   ]
  },
  {
   "cell_type": "code",
   "execution_count": 61,
   "id": "d3a8541e-8c29-45ed-a32e-154a051c6c4b",
   "metadata": {},
   "outputs": [
    {
     "data": {
      "text/plain": [
       "3"
      ]
     },
     "execution_count": 61,
     "metadata": {},
     "output_type": "execute_result"
    }
   ],
   "source": [
    "marks.count(23)"
   ]
  },
  {
   "cell_type": "code",
   "execution_count": 62,
   "id": "09e25f5d-eee7-4029-8017-c4a992f23047",
   "metadata": {},
   "outputs": [
    {
     "data": {
      "text/plain": [
       "3"
      ]
     },
     "execution_count": 62,
     "metadata": {},
     "output_type": "execute_result"
    }
   ],
   "source": [
    "marks.count(89)"
   ]
  },
  {
   "cell_type": "code",
   "execution_count": null,
   "id": "794824c6-8fe3-49cd-8acc-057c44a24ff1",
   "metadata": {},
   "outputs": [],
   "source": []
  }
 ],
 "metadata": {
  "kernelspec": {
   "display_name": "Python 3 (ipykernel)",
   "language": "python",
   "name": "python3"
  },
  "language_info": {
   "codemirror_mode": {
    "name": "ipython",
    "version": 3
   },
   "file_extension": ".py",
   "mimetype": "text/x-python",
   "name": "python",
   "nbconvert_exporter": "python",
   "pygments_lexer": "ipython3",
   "version": "3.11.2"
  }
 },
 "nbformat": 4,
 "nbformat_minor": 5
}
