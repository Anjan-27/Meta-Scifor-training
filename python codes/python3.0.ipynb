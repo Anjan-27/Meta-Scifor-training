{
 "cells": [
  {
   "cell_type": "markdown",
   "id": "c75624d4-4843-416b-99f6-a8bc10bbbabb",
   "metadata": {},
   "source": [
    "#### Tuple"
   ]
  },
  {
   "cell_type": "code",
   "execution_count": 8,
   "id": "c64391a2-207b-4205-a169-713a8a25fcab",
   "metadata": {},
   "outputs": [],
   "source": [
    "work_location=('Bengluru','Kolkata','Chennai','Delhi')"
   ]
  },
  {
   "cell_type": "code",
   "execution_count": 9,
   "id": "ae7d843e-d8d0-49b9-99d3-5ad6872b0d3c",
   "metadata": {},
   "outputs": [
    {
     "data": {
      "text/plain": [
       "('Bengluru', 'Kolkata', 'Chennai', 'Delhi')"
      ]
     },
     "execution_count": 9,
     "metadata": {},
     "output_type": "execute_result"
    }
   ],
   "source": [
    "work_location"
   ]
  },
  {
   "cell_type": "code",
   "execution_count": 10,
   "id": "3345d0d1-9b2a-4fcc-8e6b-afe22eea589d",
   "metadata": {},
   "outputs": [],
   "source": [
    "#check type"
   ]
  },
  {
   "cell_type": "code",
   "execution_count": 11,
   "id": "3e02eb6a-7c7a-4f91-8ac6-59e510b6a235",
   "metadata": {},
   "outputs": [
    {
     "data": {
      "text/plain": [
       "tuple"
      ]
     },
     "execution_count": 11,
     "metadata": {},
     "output_type": "execute_result"
    }
   ],
   "source": [
    "type(work_location)"
   ]
  },
  {
   "cell_type": "code",
   "execution_count": 12,
   "id": "69721093-11d1-4f18-b5f6-c76d151a258c",
   "metadata": {},
   "outputs": [],
   "source": [
    "#Lets try to add new work location.like list method"
   ]
  },
  {
   "cell_type": "code",
   "execution_count": 13,
   "id": "5e2f063d-e227-42e6-ab0c-8ab20623cb8f",
   "metadata": {},
   "outputs": [
    {
     "ename": "AttributeError",
     "evalue": "'tuple' object has no attribute 'append'",
     "output_type": "error",
     "traceback": [
      "\u001b[1;31m---------------------------------------------------------------------------\u001b[0m",
      "\u001b[1;31mAttributeError\u001b[0m                            Traceback (most recent call last)",
      "Cell \u001b[1;32mIn[13], line 1\u001b[0m\n\u001b[1;32m----> 1\u001b[0m \u001b[43mwork_location\u001b[49m\u001b[38;5;241;43m.\u001b[39;49m\u001b[43mappend\u001b[49m(\u001b[38;5;124m'\u001b[39m\u001b[38;5;124mKerela\u001b[39m\u001b[38;5;124m'\u001b[39m)\n",
      "\u001b[1;31mAttributeError\u001b[0m: 'tuple' object has no attribute 'append'"
     ]
    }
   ],
   "source": [
    "work_location.append('Kerela')"
   ]
  },
  {
   "cell_type": "code",
   "execution_count": 14,
   "id": "88683e37-dec6-4734-885e-87ff59856bfd",
   "metadata": {},
   "outputs": [],
   "source": [
    "#lets see how we can add.\n",
    "#first we have to convert tupple into a list."
   ]
  },
  {
   "cell_type": "code",
   "execution_count": 15,
   "id": "88f21dda-0b9a-482e-baee-5172132910b9",
   "metadata": {},
   "outputs": [],
   "source": [
    "work_location=list(work_location)"
   ]
  },
  {
   "cell_type": "code",
   "execution_count": 16,
   "id": "a15b3ec5-e623-4d37-a0ad-1a924090700d",
   "metadata": {},
   "outputs": [],
   "source": [
    "#now you can edit "
   ]
  },
  {
   "cell_type": "code",
   "execution_count": 17,
   "id": "3af2ec1a-d106-4337-867a-5a1c3812c0ff",
   "metadata": {},
   "outputs": [],
   "source": [
    "work_location.append('Kerela')"
   ]
  },
  {
   "cell_type": "code",
   "execution_count": 18,
   "id": "f81b6939-c9ff-43fa-b708-cbd4ccb47bae",
   "metadata": {},
   "outputs": [
    {
     "data": {
      "text/plain": [
       "['Bengluru', 'Kolkata', 'Chennai', 'Delhi', 'Kerela']"
      ]
     },
     "execution_count": 18,
     "metadata": {},
     "output_type": "execute_result"
    }
   ],
   "source": [
    "work_location"
   ]
  },
  {
   "cell_type": "code",
   "execution_count": null,
   "id": "a975faca-21cd-4d67-9b88-a80ad08efbb4",
   "metadata": {},
   "outputs": [],
   "source": [
    "#now back to change in tuple"
   ]
  },
  {
   "cell_type": "code",
   "execution_count": 19,
   "id": "c112d8a5-31a3-49d5-b454-b7b6fc2342c4",
   "metadata": {},
   "outputs": [],
   "source": [
    "work_location=tuple(work_location)"
   ]
  },
  {
   "cell_type": "code",
   "execution_count": 20,
   "id": "609ed4d3-a47a-44fd-aa82-f7e12c9e997f",
   "metadata": {},
   "outputs": [
    {
     "data": {
      "text/plain": [
       "('Bengluru', 'Kolkata', 'Chennai', 'Delhi', 'Kerela')"
      ]
     },
     "execution_count": 20,
     "metadata": {},
     "output_type": "execute_result"
    }
   ],
   "source": [
    "work_location"
   ]
  },
  {
   "cell_type": "code",
   "execution_count": 21,
   "id": "77891008-181e-497b-9dfe-ed8d8eac22bd",
   "metadata": {},
   "outputs": [],
   "source": [
    "#checking length in tuple like List."
   ]
  },
  {
   "cell_type": "code",
   "execution_count": 22,
   "id": "10e1b89c-9c5f-4124-a116-cabc3b453306",
   "metadata": {},
   "outputs": [
    {
     "data": {
      "text/plain": [
       "5"
      ]
     },
     "execution_count": 22,
     "metadata": {},
     "output_type": "execute_result"
    }
   ],
   "source": [
    "len(work_location)"
   ]
  },
  {
   "cell_type": "code",
   "execution_count": null,
   "id": "cf29ffe0-4da8-4a58-b4a4-8192cdb9efc7",
   "metadata": {},
   "outputs": [],
   "source": [
    "#use indexing just like we did in list"
   ]
  },
  {
   "cell_type": "code",
   "execution_count": 23,
   "id": "dcf9b2ee-1688-414f-bc3c-28ebb26c3feb",
   "metadata": {},
   "outputs": [
    {
     "data": {
      "text/plain": [
       "'Kolkata'"
      ]
     },
     "execution_count": 23,
     "metadata": {},
     "output_type": "execute_result"
    }
   ],
   "source": [
    "work_location[1]"
   ]
  },
  {
   "cell_type": "code",
   "execution_count": 25,
   "id": "3a5caae9-73fc-4721-ba52-2d0604f4893a",
   "metadata": {},
   "outputs": [
    {
     "data": {
      "text/plain": [
       "'Delhi'"
      ]
     },
     "execution_count": 25,
     "metadata": {},
     "output_type": "execute_result"
    }
   ],
   "source": [
    "work_location[-2]"
   ]
  },
  {
   "cell_type": "code",
   "execution_count": 26,
   "id": "25845735-85ef-4a21-a47a-8c87b5769ed3",
   "metadata": {},
   "outputs": [],
   "source": [
    "#Basics Tuple Method.\n",
    "#Tuple have buit in method , but not many as list,\n",
    "#lets see two samples of tuples built in method"
   ]
  },
  {
   "cell_type": "code",
   "execution_count": 28,
   "id": "1bede820-f4c4-4da8-b885-784758301011",
   "metadata": {},
   "outputs": [],
   "source": [
    "numbers=(90,60,20,90,70,60,50,10,20,30,7,50,50)"
   ]
  },
  {
   "cell_type": "code",
   "execution_count": 29,
   "id": "f6832c7d-6e04-406a-949a-5a7e8ce0cfbc",
   "metadata": {},
   "outputs": [
    {
     "data": {
      "text/plain": [
       "9"
      ]
     },
     "execution_count": 29,
     "metadata": {},
     "output_type": "execute_result"
    }
   ],
   "source": [
    "numbers.index(30)"
   ]
  },
  {
   "cell_type": "code",
   "execution_count": 30,
   "id": "7073ac25-4c8b-4905-8dc3-796b6d9ec9de",
   "metadata": {},
   "outputs": [
    {
     "data": {
      "text/plain": [
       "2"
      ]
     },
     "execution_count": 30,
     "metadata": {},
     "output_type": "execute_result"
    }
   ],
   "source": [
    "numbers.count(90)"
   ]
  },
  {
   "cell_type": "code",
   "execution_count": 31,
   "id": "496e0ce8-bad8-429a-b380-a5154b31bc8d",
   "metadata": {},
   "outputs": [],
   "source": [
    "#Lets Study about Set.\n",
    "#So what is set ? set is a data structure in pyhton. sets are an unordered collection of unique element- \n",
    "#-which can be constructed using set() fucntion.\n",
    "#Sets   =   1 -  Keeps item in sorted order\n",
    "#           2 - eliminate the duplicates element.    \n",
    "#lets see with examples.\n"
   ]
  },
  {
   "cell_type": "code",
   "execution_count": 33,
   "id": "53d0add9-9d23-44ef-950a-c8b27cbd8cf9",
   "metadata": {},
   "outputs": [],
   "source": [
    "roll_number=set()"
   ]
  },
  {
   "cell_type": "code",
   "execution_count": 34,
   "id": "32dd2644-d300-438a-9d7c-f8d7eb2ad636",
   "metadata": {},
   "outputs": [
    {
     "data": {
      "text/plain": [
       "set"
      ]
     },
     "execution_count": 34,
     "metadata": {},
     "output_type": "execute_result"
    }
   ],
   "source": [
    "type(roll_number)"
   ]
  },
  {
   "cell_type": "code",
   "execution_count": 35,
   "id": "771b5397-9948-4de4-8cdf-c049a789228f",
   "metadata": {},
   "outputs": [],
   "source": [
    "#we add to set with the add methods"
   ]
  },
  {
   "cell_type": "code",
   "execution_count": 36,
   "id": "ef9dd2d3-0b23-4d9b-9492-c434adfd3f6b",
   "metadata": {},
   "outputs": [],
   "source": [
    "roll_number.add(1)"
   ]
  },
  {
   "cell_type": "code",
   "execution_count": 37,
   "id": "8539392b-a7ad-4a90-b3c7-49a4a11c99c9",
   "metadata": {},
   "outputs": [
    {
     "data": {
      "text/plain": [
       "{1}"
      ]
     },
     "execution_count": 37,
     "metadata": {},
     "output_type": "execute_result"
    }
   ],
   "source": [
    "roll_number"
   ]
  },
  {
   "cell_type": "code",
   "execution_count": 38,
   "id": "f831cdf6-c617-4fd0-9e97-86e8af8aacbf",
   "metadata": {},
   "outputs": [],
   "source": [
    "roll_number.add(2)"
   ]
  },
  {
   "cell_type": "code",
   "execution_count": 39,
   "id": "53614422-96b7-45f5-9417-3daa982814c8",
   "metadata": {},
   "outputs": [
    {
     "data": {
      "text/plain": [
       "{1, 2}"
      ]
     },
     "execution_count": 39,
     "metadata": {},
     "output_type": "execute_result"
    }
   ],
   "source": [
    "roll_number"
   ]
  },
  {
   "cell_type": "code",
   "execution_count": null,
   "id": "1fb220cd-c9ea-4b03-a11e-ffeb7da5c219",
   "metadata": {},
   "outputs": [],
   "source": [
    "#Try to add the same element "
   ]
  },
  {
   "cell_type": "code",
   "execution_count": 40,
   "id": "da432135-e306-4324-a033-79be408358fb",
   "metadata": {},
   "outputs": [],
   "source": [
    "roll_number.add(1)"
   ]
  },
  {
   "cell_type": "code",
   "execution_count": 41,
   "id": "5696344a-fe6e-4369-be42-c6d199ec4a04",
   "metadata": {},
   "outputs": [
    {
     "data": {
      "text/plain": [
       "{1, 2}"
      ]
     },
     "execution_count": 41,
     "metadata": {},
     "output_type": "execute_result"
    }
   ],
   "source": [
    "roll_number"
   ]
  },
  {
   "cell_type": "code",
   "execution_count": 42,
   "id": "6e47495b-b087-4d7c-bcca-ec33de2141bf",
   "metadata": {},
   "outputs": [],
   "source": [
    "numbers=[1,2,3,4,5,6,7,8,9,1,2,3,4,9,8,7,6,9,8,6,5,4]"
   ]
  },
  {
   "cell_type": "code",
   "execution_count": 43,
   "id": "ab851222-11f6-48a1-9b44-d47d6e48c77f",
   "metadata": {},
   "outputs": [],
   "source": [
    "remove_duplicate=set(numbers)"
   ]
  },
  {
   "cell_type": "code",
   "execution_count": 44,
   "id": "2bc1aafb-a15c-42e5-bf31-510292bd4019",
   "metadata": {},
   "outputs": [
    {
     "data": {
      "text/plain": [
       "{1, 2, 3, 4, 5, 6, 7, 8, 9}"
      ]
     },
     "execution_count": 44,
     "metadata": {},
     "output_type": "execute_result"
    }
   ],
   "source": [
    "remove_duplicate "
   ]
  },
  {
   "cell_type": "code",
   "execution_count": 46,
   "id": "d32c3942-dd01-4515-a8af-3ebf4bab9d32",
   "metadata": {},
   "outputs": [],
   "source": [
    "numbers=list(remove_duplicate)"
   ]
  },
  {
   "cell_type": "markdown",
   "id": "833bbfc1-049a-43b9-9b12-6fad166b9640",
   "metadata": {},
   "source": [
    "#### Dictionary"
   ]
  },
  {
   "cell_type": "code",
   "execution_count": 47,
   "id": "b75f3fb8-ca8e-41e5-bb8d-784b7e8a24d9",
   "metadata": {},
   "outputs": [],
   "source": [
    "my_dict={'key1':'value1','key2':'value2'}"
   ]
  },
  {
   "cell_type": "code",
   "execution_count": 48,
   "id": "e48ae809-af76-45b4-886a-f6f89e41d2ff",
   "metadata": {},
   "outputs": [
    {
     "data": {
      "text/plain": [
       "{'key1': 'value1', 'key2': 'value2'}"
      ]
     },
     "execution_count": 48,
     "metadata": {},
     "output_type": "execute_result"
    }
   ],
   "source": [
    "my_dict"
   ]
  },
  {
   "cell_type": "code",
   "execution_count": 49,
   "id": "3869b82b-c799-49c6-9dd6-8d52c1503611",
   "metadata": {},
   "outputs": [
    {
     "data": {
      "text/plain": [
       "'value1'"
      ]
     },
     "execution_count": 49,
     "metadata": {},
     "output_type": "execute_result"
    }
   ],
   "source": [
    "my_dict['key1']"
   ]
  },
  {
   "cell_type": "code",
   "execution_count": 50,
   "id": "49e2f487-b44d-4e1d-aab5-e06885682400",
   "metadata": {},
   "outputs": [],
   "source": [
    "#note that dictionary are very comforatblw with all data types."
   ]
  },
  {
   "cell_type": "code",
   "execution_count": 51,
   "id": "70629fa8-7390-4258-bebb-7e6bad2fcd83",
   "metadata": {},
   "outputs": [],
   "source": [
    "my_dict={'Roll Number':245,'Subjects':['Maths','science','Computer'],'Marks':[55,75,68]}"
   ]
  },
  {
   "cell_type": "code",
   "execution_count": 52,
   "id": "7000e584-1d9f-4951-9931-f120ba373763",
   "metadata": {},
   "outputs": [
    {
     "data": {
      "text/plain": [
       "{'Roll Number': 245,\n",
       " 'Subjects': ['Maths', 'science', 'Computer'],\n",
       " 'Marks': [55, 75, 68]}"
      ]
     },
     "execution_count": 52,
     "metadata": {},
     "output_type": "execute_result"
    }
   ],
   "source": [
    "my_dict"
   ]
  },
  {
   "cell_type": "code",
   "execution_count": 53,
   "id": "8fe7773b-857b-4b0f-af27-d12279da7c04",
   "metadata": {},
   "outputs": [],
   "source": [
    "#Lets call items from the dictionary"
   ]
  },
  {
   "cell_type": "code",
   "execution_count": 54,
   "id": "90f09d6e-3b90-45c9-8e4d-b0418b2cd24f",
   "metadata": {},
   "outputs": [
    {
     "data": {
      "text/plain": [
       "['Maths', 'science', 'Computer']"
      ]
     },
     "execution_count": 54,
     "metadata": {},
     "output_type": "execute_result"
    }
   ],
   "source": [
    "my_dict['Subjects']"
   ]
  },
  {
   "cell_type": "code",
   "execution_count": 55,
   "id": "4cc0e459-85a5-4502-9a9a-1eb9dad984b7",
   "metadata": {},
   "outputs": [
    {
     "data": {
      "text/plain": [
       "'Maths'"
      ]
     },
     "execution_count": 55,
     "metadata": {},
     "output_type": "execute_result"
    }
   ],
   "source": [
    "my_dict['Subjects'][0]"
   ]
  },
  {
   "cell_type": "code",
   "execution_count": 56,
   "id": "73df3af1-6245-4a8c-be45-f5af4c1e261d",
   "metadata": {},
   "outputs": [
    {
     "data": {
      "text/plain": [
       "'science'"
      ]
     },
     "execution_count": 56,
     "metadata": {},
     "output_type": "execute_result"
    }
   ],
   "source": [
    "my_dict['Subjects'][1]"
   ]
  },
  {
   "cell_type": "code",
   "execution_count": 59,
   "id": "fa908e98-fe13-4f91-8d44-477b943888d4",
   "metadata": {},
   "outputs": [
    {
     "data": {
      "text/plain": [
       "'COMPUTER'"
      ]
     },
     "execution_count": 59,
     "metadata": {},
     "output_type": "execute_result"
    }
   ],
   "source": [
    "my_dict['Subjects'][2].upper()"
   ]
  },
  {
   "cell_type": "code",
   "execution_count": 60,
   "id": "7246f48a-618c-4ec8-9c5b-af27e15c19f0",
   "metadata": {},
   "outputs": [],
   "source": [
    "#add Marks to the first element"
   ]
  },
  {
   "cell_type": "code",
   "execution_count": 61,
   "id": "d3129eb9-b55a-49d9-a88c-889d823d34f2",
   "metadata": {},
   "outputs": [
    {
     "data": {
      "text/plain": [
       "{'Roll Number': 245,\n",
       " 'Subjects': ['Maths', 'science', 'Computer'],\n",
       " 'Marks': [55, 75, 68]}"
      ]
     },
     "execution_count": 61,
     "metadata": {},
     "output_type": "execute_result"
    }
   ],
   "source": [
    "my_dict"
   ]
  },
  {
   "cell_type": "code",
   "execution_count": 67,
   "id": "b5e44ef8-9ad2-47b8-ae55-1052a32ae77a",
   "metadata": {},
   "outputs": [],
   "source": [
    "my_dict['Marks'][0]=my_dict['Marks'][0]+12"
   ]
  },
  {
   "cell_type": "code",
   "execution_count": 68,
   "id": "a012867e-1ba7-4569-884d-068b29c9dcf0",
   "metadata": {},
   "outputs": [
    {
     "data": {
      "text/plain": [
       "{'Roll Number': 245,\n",
       " 'Subjects': ['Maths', 'science', 'Computer'],\n",
       " 'Marks': [86, 75, 68]}"
      ]
     },
     "execution_count": 68,
     "metadata": {},
     "output_type": "execute_result"
    }
   ],
   "source": [
    "my_dict"
   ]
  },
  {
   "cell_type": "code",
   "execution_count": 69,
   "id": "532be4a4-6e62-4033-8f74-68c4f9f70883",
   "metadata": {},
   "outputs": [],
   "source": [
    "#another way of adding"
   ]
  },
  {
   "cell_type": "code",
   "execution_count": 70,
   "id": "f6614c87-9339-45b1-98de-873fc46cc569",
   "metadata": {},
   "outputs": [],
   "source": [
    "my_dict['Marks'][0]+=4"
   ]
  },
  {
   "cell_type": "code",
   "execution_count": 71,
   "id": "4846eccd-ab38-4d8e-b8bf-8f7c02b04d63",
   "metadata": {},
   "outputs": [
    {
     "data": {
      "text/plain": [
       "{'Roll Number': 245,\n",
       " 'Subjects': ['Maths', 'science', 'Computer'],\n",
       " 'Marks': [90, 75, 68]}"
      ]
     },
     "execution_count": 71,
     "metadata": {},
     "output_type": "execute_result"
    }
   ],
   "source": [
    "my_dict"
   ]
  },
  {
   "cell_type": "code",
   "execution_count": 72,
   "id": "3f7829a3-8a1c-4b37-a92f-2ab0f91523d4",
   "metadata": {},
   "outputs": [],
   "source": [
    "#lets subtract"
   ]
  },
  {
   "cell_type": "code",
   "execution_count": 74,
   "id": "3ad7118f-08c4-4b4d-b6c5-e86c554180f3",
   "metadata": {},
   "outputs": [],
   "source": [
    "my_dict['Marks'][0]-=6"
   ]
  },
  {
   "cell_type": "code",
   "execution_count": 75,
   "id": "b80d8168-c1fc-4136-8ec8-d84ee9ef50d6",
   "metadata": {},
   "outputs": [
    {
     "data": {
      "text/plain": [
       "{'Roll Number': 245,\n",
       " 'Subjects': ['Maths', 'science', 'Computer'],\n",
       " 'Marks': [80, 75, 68]}"
      ]
     },
     "execution_count": 75,
     "metadata": {},
     "output_type": "execute_result"
    }
   ],
   "source": [
    "my_dict"
   ]
  },
  {
   "cell_type": "code",
   "execution_count": 76,
   "id": "090b025e-bcbc-480d-9134-e64ab67a1ce9",
   "metadata": {},
   "outputs": [],
   "source": [
    "#How we can add key .and values ."
   ]
  },
  {
   "cell_type": "code",
   "execution_count": 77,
   "id": "20a03994-8fdb-48bf-be09-4262427a66aa",
   "metadata": {},
   "outputs": [],
   "source": [
    "my_dict['Year']=2015"
   ]
  },
  {
   "cell_type": "code",
   "execution_count": 78,
   "id": "36ceec94-f253-44c7-9fc0-4f30d26bcab0",
   "metadata": {},
   "outputs": [
    {
     "data": {
      "text/plain": [
       "{'Roll Number': 245,\n",
       " 'Subjects': ['Maths', 'science', 'Computer'],\n",
       " 'Marks': [80, 75, 68],\n",
       " 'Year': 2015}"
      ]
     },
     "execution_count": 78,
     "metadata": {},
     "output_type": "execute_result"
    }
   ],
   "source": [
    "my_dict"
   ]
  },
  {
   "cell_type": "code",
   "execution_count": 79,
   "id": "0c5602bb-c8a7-42ec-8758-8738dba6e7de",
   "metadata": {},
   "outputs": [],
   "source": [
    "#Update values()"
   ]
  },
  {
   "cell_type": "code",
   "execution_count": 80,
   "id": "5272687b-e826-46bb-9d4a-0016556cdabb",
   "metadata": {},
   "outputs": [],
   "source": [
    "my_dict.update({'Roll Number':147})"
   ]
  },
  {
   "cell_type": "code",
   "execution_count": 81,
   "id": "10fe7d61-be60-4507-9e86-e4cab5535684",
   "metadata": {},
   "outputs": [
    {
     "data": {
      "text/plain": [
       "{'Roll Number': 147,\n",
       " 'Subjects': ['Maths', 'science', 'Computer'],\n",
       " 'Marks': [80, 75, 68],\n",
       " 'Year': 2015}"
      ]
     },
     "execution_count": 81,
     "metadata": {},
     "output_type": "execute_result"
    }
   ],
   "source": [
    "my_dict\n"
   ]
  },
  {
   "cell_type": "code",
   "execution_count": 82,
   "id": "459cbca4-e8df-4925-a9cd-9ab1a5d94eac",
   "metadata": {},
   "outputs": [],
   "source": [
    "#Items will return both keys and corresponding values."
   ]
  },
  {
   "cell_type": "code",
   "execution_count": 83,
   "id": "dc84822d-7d98-41f1-80c6-5ec7ebe8bd44",
   "metadata": {},
   "outputs": [
    {
     "data": {
      "text/plain": [
       "dict_items([('Roll Number', 147), ('Subjects', ['Maths', 'science', 'Computer']), ('Marks', [80, 75, 68]), ('Year', 2015)])"
      ]
     },
     "execution_count": 83,
     "metadata": {},
     "output_type": "execute_result"
    }
   ],
   "source": [
    "my_dict.items()"
   ]
  },
  {
   "cell_type": "markdown",
   "id": "cb5c77bc-46cd-4fc2-81df-55af3c93143f",
   "metadata": {},
   "source": [
    "#### Branching "
   ]
  },
  {
   "cell_type": "code",
   "execution_count": 84,
   "id": "2ed65036-2c3f-4eb6-9b69-4f37fcb4c3fe",
   "metadata": {},
   "outputs": [
    {
     "name": "stdout",
     "output_type": "stream",
     "text": [
      "i is true\n"
     ]
    }
   ],
   "source": [
    "i =10\n",
    "if i<11: # definitely you have doubt whay print is in space, is know as indentation.means four space \n",
    "    print('i is true')\n",
    "else:\n",
    "    print('i is false')\n"
   ]
  },
  {
   "cell_type": "code",
   "execution_count": 85,
   "id": "1deee2b6-6c7b-4503-a94c-a77db61d01ad",
   "metadata": {},
   "outputs": [],
   "source": [
    "#You can write in this way (2nd way to write (if,elif,else)statement)"
   ]
  },
  {
   "cell_type": "code",
   "execution_count": 86,
   "id": "629ca8ac-394f-4b73-aa79-571bf1cb3032",
   "metadata": {},
   "outputs": [
    {
     "name": "stdout",
     "output_type": "stream",
     "text": [
      "i is true\n"
     ]
    }
   ],
   "source": [
    "print('i is true')if i<11 else print('i is false')"
   ]
  },
  {
   "cell_type": "code",
   "execution_count": 89,
   "id": "88bbc98d-a5dc-458d-a320-a0516e447de8",
   "metadata": {},
   "outputs": [
    {
     "name": "stdout",
     "output_type": "stream",
     "text": [
      "Your item in eligible for free shipping\n"
     ]
    }
   ],
   "source": [
    "item_1=100\n",
    "item_2=600\n",
    "\n",
    "if (item_1+item_2)>=500:\n",
    "    print('Your item in eligible for free shipping')\n",
    "else:\n",
    "    extra=500-(item_1+item_2)\n",
    "    print('please add',extra,'Rs worth for free shipping')   "
   ]
  },
  {
   "cell_type": "code",
   "execution_count": 88,
   "id": "bd83ef4c-7eaa-4845-b5d8-cdc5cc0174b9",
   "metadata": {},
   "outputs": [],
   "source": [
    "#Lets see different example with 'and' method"
   ]
  },
  {
   "cell_type": "code",
   "execution_count": 90,
   "id": "78c4c314-51a1-4bea-a32e-922affd53772",
   "metadata": {},
   "outputs": [
    {
     "name": "stdout",
     "output_type": "stream",
     "text": [
      "Both condion are wrong\n"
     ]
    }
   ],
   "source": [
    "a=200\n",
    "b=66\n",
    "c=600\n",
    "\n",
    "if a>b and c<a:\n",
    "    print('Both condtion are true')\n",
    "else:\n",
    "    print('Both condion are wrong')"
   ]
  },
  {
   "cell_type": "code",
   "execution_count": 91,
   "id": "d1e20577-b8d6-4e3e-9f1e-c8986d9b5942",
   "metadata": {},
   "outputs": [],
   "source": [
    "#Lets see different example with 'or' method"
   ]
  },
  {
   "cell_type": "code",
   "execution_count": 92,
   "id": "e2f98817-ce7e-4ba4-8c11-834a792f6bc6",
   "metadata": {},
   "outputs": [
    {
     "name": "stdout",
     "output_type": "stream",
     "text": [
      "Both condtion are true\n"
     ]
    }
   ],
   "source": [
    "a=200\n",
    "b=66\n",
    "c=600\n",
    "\n",
    "if a>b or c<a:\n",
    "    print('Both condtion are true')\n",
    "else:\n",
    "    print('Both condion are wrong')"
   ]
  },
  {
   "cell_type": "code",
   "execution_count": 97,
   "id": "c12f7007-0c23-42ac-8ea8-891c9217d1d9",
   "metadata": {},
   "outputs": [
    {
     "name": "stdout",
     "output_type": "stream",
     "text": [
      "20 is greater\n"
     ]
    }
   ],
   "source": [
    "num1=20\n",
    "num2=31\n",
    "if num1<num2:\n",
    "    print(num1,'is greater')\n",
    "elif num2==31:\n",
    "    print(num2,'is equal to 31')"
   ]
  },
  {
   "cell_type": "code",
   "execution_count": null,
   "id": "fb1f9a2a-7e16-41e0-babc-b3418e747d9f",
   "metadata": {},
   "outputs": [],
   "source": []
  }
 ],
 "metadata": {
  "kernelspec": {
   "display_name": "Python 3 (ipykernel)",
   "language": "python",
   "name": "python3"
  },
  "language_info": {
   "codemirror_mode": {
    "name": "ipython",
    "version": 3
   },
   "file_extension": ".py",
   "mimetype": "text/x-python",
   "name": "python",
   "nbconvert_exporter": "python",
   "pygments_lexer": "ipython3",
   "version": "3.11.2"
  }
 },
 "nbformat": 4,
 "nbformat_minor": 5
}
