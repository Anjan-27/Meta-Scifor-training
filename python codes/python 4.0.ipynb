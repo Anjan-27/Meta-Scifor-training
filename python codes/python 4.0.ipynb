{
 "cells": [
  {
   "cell_type": "markdown",
   "id": "3e95799a-4f51-471f-b04c-4046aff4cd37",
   "metadata": {},
   "source": [
    "#### Range"
   ]
  },
  {
   "cell_type": "code",
   "execution_count": 1,
   "id": "da61f74a-ef9d-4498-8b18-45b3838c24ca",
   "metadata": {},
   "outputs": [
    {
     "name": "stdout",
     "output_type": "stream",
     "text": [
      "range(0, 5)\n"
     ]
    }
   ],
   "source": [
    "print(range(5))"
   ]
  },
  {
   "cell_type": "code",
   "execution_count": 2,
   "id": "e377e0d5-d4e4-4a8d-a5a8-4dbcfd0c247b",
   "metadata": {},
   "outputs": [
    {
     "name": "stdout",
     "output_type": "stream",
     "text": [
      "[0, 1, 2, 3, 4, 5, 6, 7, 8, 9, 10, 11, 12, 13, 14]\n"
     ]
    }
   ],
   "source": [
    "print(list(range(15)))"
   ]
  },
  {
   "cell_type": "code",
   "execution_count": 3,
   "id": "9a24bcf4-0ca5-4178-aa9f-1f69ec5a252e",
   "metadata": {},
   "outputs": [
    {
     "name": "stdout",
     "output_type": "stream",
     "text": [
      "[20, 24, 28, 32, 36, 40, 44, 48, 52, 56, 60, 64, 68, 72, 76, 80, 84, 88, 92, 96, 100, 104]\n"
     ]
    }
   ],
   "source": [
    "print(list(range(20,105,4)))"
   ]
  },
  {
   "cell_type": "code",
   "execution_count": 4,
   "id": "62c2b2a0-9af1-47dc-a295-31b6ab49e0f5",
   "metadata": {},
   "outputs": [],
   "source": [
    "# see in above example , we use 101 for going to 100. because starting number is included and stop number is excluded.\n",
    "#this reason for we write a 101 for getting 100."
   ]
  },
  {
   "cell_type": "code",
   "execution_count": 5,
   "id": "2f91e33d-0a2d-42cf-a61a-8dc55f7b477a",
   "metadata": {},
   "outputs": [],
   "source": [
    "roll_num=list(range(20,70,2))"
   ]
  },
  {
   "cell_type": "code",
   "execution_count": 6,
   "id": "61ae3315-c409-46be-a3cb-f55e7909a592",
   "metadata": {},
   "outputs": [
    {
     "data": {
      "text/plain": [
       "[20,\n",
       " 22,\n",
       " 24,\n",
       " 26,\n",
       " 28,\n",
       " 30,\n",
       " 32,\n",
       " 34,\n",
       " 36,\n",
       " 38,\n",
       " 40,\n",
       " 42,\n",
       " 44,\n",
       " 46,\n",
       " 48,\n",
       " 50,\n",
       " 52,\n",
       " 54,\n",
       " 56,\n",
       " 58,\n",
       " 60,\n",
       " 62,\n",
       " 64,\n",
       " 66,\n",
       " 68]"
      ]
     },
     "execution_count": 6,
     "metadata": {},
     "output_type": "execute_result"
    }
   ],
   "source": [
    "roll_num"
   ]
  },
  {
   "cell_type": "code",
   "execution_count": 7,
   "id": "0f1f4bdd-287d-46dd-84f7-f4b9f41beed1",
   "metadata": {},
   "outputs": [],
   "source": [
    "# Lets see Reverse function with range fucntion.."
   ]
  },
  {
   "cell_type": "code",
   "execution_count": 8,
   "id": "eaa5dd0e-f592-47f8-97a0-ad6f3add2aac",
   "metadata": {},
   "outputs": [],
   "source": [
    "reverse=list(range(1200,33,-100)) #Lets Remember we have to minus sign for going backword."
   ]
  },
  {
   "cell_type": "code",
   "execution_count": 9,
   "id": "2bd3691d-4d70-43a2-87f1-7a54654ef8a6",
   "metadata": {},
   "outputs": [
    {
     "data": {
      "text/plain": [
       "[1200, 1100, 1000, 900, 800, 700, 600, 500, 400, 300, 200, 100]"
      ]
     },
     "execution_count": 9,
     "metadata": {},
     "output_type": "execute_result"
    }
   ],
   "source": [
    "reverse"
   ]
  },
  {
   "cell_type": "markdown",
   "id": "6f399d9a-7f15-492f-9c1b-a2ba3d04cac7",
   "metadata": {},
   "source": [
    "#### loop function"
   ]
  },
  {
   "cell_type": "code",
   "execution_count": 10,
   "id": "885360d5-f457-4aeb-9d8a-b5e8f760b741",
   "metadata": {},
   "outputs": [],
   "source": [
    "fruits=[\"Mango\",\"Banana\",\"Peach\",\"Plum\",\"Grapes\"]"
   ]
  },
  {
   "cell_type": "code",
   "execution_count": 11,
   "id": "f34f7b54-b11c-4a8e-8c16-121afb0c648f",
   "metadata": {},
   "outputs": [
    {
     "data": {
      "text/plain": [
       "['Mango', 'Banana', 'Peach', 'Plum', 'Grapes']"
      ]
     },
     "execution_count": 11,
     "metadata": {},
     "output_type": "execute_result"
    }
   ],
   "source": [
    "fruits"
   ]
  },
  {
   "cell_type": "code",
   "execution_count": 12,
   "id": "8edb1e7b-197b-400d-a855-404130adf596",
   "metadata": {},
   "outputs": [
    {
     "name": "stdout",
     "output_type": "stream",
     "text": [
      "['Mango', 'Banana', 'Peach', 'Plum', 'Grapes']\n",
      "['Mango', 'Banana', 'Peach', 'Plum', 'Grapes']\n",
      "['Mango', 'Banana', 'Peach', 'Plum', 'Grapes']\n",
      "['Mango', 'Banana', 'Peach', 'Plum', 'Grapes']\n",
      "['Mango', 'Banana', 'Peach', 'Plum', 'Grapes']\n"
     ]
    }
   ],
   "source": [
    "for seed in fruits:\n",
    "    print(fruits)"
   ]
  },
  {
   "cell_type": "code",
   "execution_count": 13,
   "id": "65c47b23-b04c-4ab9-90fc-8fa68528d300",
   "metadata": {},
   "outputs": [],
   "source": [
    "#lets apply for numbers"
   ]
  },
  {
   "cell_type": "code",
   "execution_count": 14,
   "id": "8dfb60dc-8c77-49a2-9535-726ececa9334",
   "metadata": {},
   "outputs": [],
   "source": [
    "salary=[1000,2000,3000,5000,6000,9000,2000]"
   ]
  },
  {
   "cell_type": "code",
   "execution_count": 15,
   "id": "1d50db85-92fa-4d2d-ad77-1385b49ff1ab",
   "metadata": {},
   "outputs": [
    {
     "data": {
      "text/plain": [
       "[1000, 2000, 3000, 5000, 6000, 9000, 2000]"
      ]
     },
     "execution_count": 15,
     "metadata": {},
     "output_type": "execute_result"
    }
   ],
   "source": [
    "salary"
   ]
  },
  {
   "cell_type": "code",
   "execution_count": 16,
   "id": "0b999256-3622-473d-9010-1bcbc6c0d05d",
   "metadata": {},
   "outputs": [
    {
     "name": "stdout",
     "output_type": "stream",
     "text": [
      "1000\n",
      "2000\n",
      "3000\n",
      "5000\n",
      "6000\n",
      "9000\n",
      "2000\n"
     ]
    }
   ],
   "source": [
    "for money in salary:\n",
    "    print(money)"
   ]
  },
  {
   "cell_type": "code",
   "execution_count": 17,
   "id": "35e1152f-b9d1-43ed-a0d6-b814b7e3e780",
   "metadata": {},
   "outputs": [],
   "source": [
    "#Lets see anothe example of for loop with branching statement."
   ]
  },
  {
   "cell_type": "code",
   "execution_count": 18,
   "id": "f255f281-587b-4f5c-b619-46ba0be4bf86",
   "metadata": {},
   "outputs": [],
   "source": [
    "student_score=[77,99,68,47,88,87,34,66,54,98,89,78,69,58]"
   ]
  },
  {
   "cell_type": "code",
   "execution_count": 19,
   "id": "4219c7d5-ffab-4999-a282-ed76a10357a7",
   "metadata": {},
   "outputs": [
    {
     "name": "stdout",
     "output_type": "stream",
     "text": [
      "77 First class\n",
      "99 Distiction\n",
      "68 First class\n",
      "47 Second class\n",
      "88 Second class\n",
      "87 Second class\n",
      "34 You are fail, please try next time\n",
      "66 First class\n",
      "54 Second class\n",
      "98 Distiction\n",
      "89 Second class\n",
      "78 First class\n",
      "69 First class\n",
      "58 Second class\n"
     ]
    }
   ],
   "source": [
    "for marks in student_score:\n",
    "    if marks>90:\n",
    "        if marks>85:\n",
    "            print(marks , \"Distiction\")\n",
    "        else :\n",
    "            print(marks , \"First class\")\n",
    "    elif marks >60 and marks<85 :\n",
    "        print(marks ,\"First class\")\n",
    "    elif marks>45:\n",
    "        print(marks ,\"Second class\")\n",
    "    elif marks >35:\n",
    "        print(marks ,\"Just Pass\")\n",
    "    else:\n",
    "        print(marks ,\"You are fail, please try next time\")\n",
    "        "
   ]
  },
  {
   "cell_type": "code",
   "execution_count": 20,
   "id": "ec071bb5-fc4a-4670-8c83-08cf05537a02",
   "metadata": {},
   "outputs": [],
   "source": [
    "salary=[1000,2000,3000,5000,7000,1000,2000,9000]\n",
    "#then apply list comprehension."
   ]
  },
  {
   "cell_type": "code",
   "execution_count": 21,
   "id": "40176034-e505-4d23-92cb-d3be9f1bdfeb",
   "metadata": {},
   "outputs": [],
   "source": [
    "sal=[val for val in salary if val==2000]"
   ]
  },
  {
   "cell_type": "code",
   "execution_count": 22,
   "id": "5f87c085-4c84-466e-8ad6-f670b0cb615a",
   "metadata": {},
   "outputs": [
    {
     "data": {
      "text/plain": [
       "[2000, 2000]"
      ]
     },
     "execution_count": 22,
     "metadata": {},
     "output_type": "execute_result"
    }
   ],
   "source": [
    "sal"
   ]
  },
  {
   "cell_type": "code",
   "execution_count": 23,
   "id": "7c75473f-72b9-4352-85fd-ce28beecdb79",
   "metadata": {},
   "outputs": [],
   "source": [
    "# for loop with else"
   ]
  },
  {
   "cell_type": "code",
   "execution_count": 24,
   "id": "b10f0867-7b1a-47fa-a525-d803ba970125",
   "metadata": {},
   "outputs": [],
   "source": [
    "#Print multiplication table with for loop with else."
   ]
  },
  {
   "cell_type": "code",
   "execution_count": 25,
   "id": "362f249e-4bbb-4a2b-925b-b9eb7b522bcc",
   "metadata": {},
   "outputs": [
    {
     "name": "stdout",
     "output_type": "stream",
     "text": [
      "Multiplication table for 2\n",
      "2\n",
      "4\n",
      "6\n",
      "8\n",
      "10\n",
      "12\n",
      "14\n",
      "16\n",
      "Multiplication table for 3\n",
      "3\n",
      "6\n",
      "9\n",
      "12\n",
      "15\n",
      "18\n",
      "21\n",
      "24\n",
      "Multiplication table for 4\n",
      "4\n",
      "8\n",
      "12\n",
      "16\n",
      "20\n",
      "24\n",
      "28\n",
      "32\n",
      "********************\n",
      "Thats all\n",
      "********************\n"
     ]
    }
   ],
   "source": [
    "for num in range(2,5):\n",
    "    print(\"Multiplication table for\",num)\n",
    "    for i in range(1,9):\n",
    "        print(num*i)\n",
    "        if i ==10:\n",
    "            print( \"\\n\" )\n",
    "else:\n",
    "    print(\"*\" * 20)\n",
    "    print(\"Thats all\")\n",
    "    print(\"*\" * 20)"
   ]
  },
  {
   "cell_type": "code",
   "execution_count": 26,
   "id": "bdb38608-8eae-49ab-8a27-180e7b545faa",
   "metadata": {},
   "outputs": [
    {
     "name": "stdin",
     "output_type": "stream",
     "text": [
      "Enter Number which one you want a table 8\n"
     ]
    },
    {
     "name": "stdout",
     "output_type": "stream",
     "text": [
      "8 X 1 = 8\n",
      "8 X 2 = 16\n",
      "8 X 3 = 24\n",
      "8 X 4 = 32\n",
      "8 X 5 = 40\n",
      "8 X 6 = 48\n",
      "8 X 7 = 56\n",
      "8 X 8 = 64\n",
      "8 X 9 = 72\n"
     ]
    }
   ],
   "source": [
    "num=int(input(\"Enter Number which one you want a table\"))\n",
    "\n",
    "for i in range(1,10):\n",
    "    print(str(num), 'X' ,str(i),\"=\",str(num*i))"
   ]
  },
  {
   "cell_type": "code",
   "execution_count": 27,
   "id": "fdd30dc4-bf6b-4b11-a3ec-20ca05a22254",
   "metadata": {},
   "outputs": [
    {
     "name": "stdin",
     "output_type": "stream",
     "text": [
      "Enter Number which one you want a table 8\n"
     ]
    },
    {
     "name": "stdout",
     "output_type": "stream",
     "text": [
      "8X1=8\n",
      "8X2=16\n",
      "8X3=24\n",
      "8X4=32\n",
      "8X5=40\n",
      "8X6=48\n",
      "8X7=56\n",
      "8X8=64\n"
     ]
    }
   ],
   "source": [
    "num=int(input(\"Enter Number which one you want a table\"))\n",
    "\n",
    "for i in range(1,9):\n",
    "    print(f\"{num}X{i}={num*i}\")  "
   ]
  },
  {
   "cell_type": "code",
   "execution_count": 31,
   "id": "0889c42d-5acc-45d7-874e-b86b59629309",
   "metadata": {},
   "outputs": [],
   "source": [
    "#Syntax of while loop\n",
    "#Lets see"
   ]
  },
  {
   "cell_type": "code",
   "execution_count": 28,
   "id": "9486b1e0-ab57-438e-8b48-68de882f00ba",
   "metadata": {},
   "outputs": [
    {
     "name": "stdout",
     "output_type": "stream",
     "text": [
      "0\n",
      "1\n",
      "2\n",
      "3\n",
      "4\n"
     ]
    }
   ],
   "source": [
    "i=0\n",
    "while i<=4:\n",
    "    print(i)\n",
    "    i=i+1"
   ]
  },
  {
   "cell_type": "code",
   "execution_count": 1,
   "id": "4934a46d-b526-4a15-b415-9e2e302a6bc0",
   "metadata": {},
   "outputs": [],
   "source": [
    "import time"
   ]
  },
  {
   "cell_type": "code",
   "execution_count": 2,
   "id": "d2e6ad02-57ea-4273-9716-f4f2159ac073",
   "metadata": {},
   "outputs": [],
   "source": [
    "result =time.localtime()"
   ]
  },
  {
   "cell_type": "code",
   "execution_count": 3,
   "id": "cbac05f6-cb3b-40b7-942e-0c7626409c38",
   "metadata": {},
   "outputs": [
    {
     "data": {
      "text/plain": [
       "time.struct_time(tm_year=2024, tm_mon=7, tm_mday=24, tm_hour=15, tm_min=8, tm_sec=38, tm_wday=2, tm_yday=206, tm_isdst=0)"
      ]
     },
     "execution_count": 3,
     "metadata": {},
     "output_type": "execute_result"
    }
   ],
   "source": [
    "result"
   ]
  },
  {
   "cell_type": "code",
   "execution_count": 4,
   "id": "c84722e6-7482-4681-aeae-49795b2847e0",
   "metadata": {},
   "outputs": [],
   "source": [
    "#Lets Start with enumerate."
   ]
  },
  {
   "cell_type": "code",
   "execution_count": 5,
   "id": "c862ab2e-cc35-47e2-87a6-a62d71867255",
   "metadata": {},
   "outputs": [],
   "source": [
    "student=[\"Saurav\",\"Gaurav\",\"Ramesh\",\"Suresh\",\"Mukesh\"]"
   ]
  },
  {
   "cell_type": "code",
   "execution_count": 6,
   "id": "cc6dee94-08d1-464d-bae8-64a27ed46c7e",
   "metadata": {},
   "outputs": [
    {
     "name": "stdout",
     "output_type": "stream",
     "text": [
      "(0, 'Saurav')\n",
      "(1, 'Gaurav')\n",
      "(2, 'Ramesh')\n",
      "(3, 'Suresh')\n",
      "(4, 'Mukesh')\n"
     ]
    }
   ],
   "source": [
    "for i in enumerate(student):\n",
    "    print(i)"
   ]
  },
  {
   "cell_type": "code",
   "execution_count": 7,
   "id": "7cc6cafb-a7d5-457e-8ec5-6a773e041245",
   "metadata": {},
   "outputs": [],
   "source": [
    "student=[\"Sam\",\"Gaurav\",\"Rahul\",\"Suresh\",\"Sunita\"]"
   ]
  },
  {
   "cell_type": "code",
   "execution_count": 8,
   "id": "0857d282-81ec-47b5-a8a1-7339f7ec541c",
   "metadata": {},
   "outputs": [
    {
     "name": "stdout",
     "output_type": "stream",
     "text": [
      "1 Sam\n",
      "2 Gaurav\n",
      "3 Rahul\n",
      "4 Suresh\n",
      "5 Sunita\n"
     ]
    }
   ],
   "source": [
    "for i,name in enumerate(student,1):\n",
    "    print(i,name)"
   ]
  },
  {
   "cell_type": "code",
   "execution_count": 9,
   "id": "e9ae81af-8d4c-485c-812f-f939ebdd405b",
   "metadata": {},
   "outputs": [],
   "source": [
    "#Lets start zip method.\n",
    "#what is zip method ? zip method use when we join a two list. \n",
    "#see with example you better under stand"
   ]
  },
  {
   "cell_type": "code",
   "execution_count": 10,
   "id": "d7e3b03a-b879-4981-b4a5-b8715d556a19",
   "metadata": {},
   "outputs": [],
   "source": [
    "student_name=[\"Ramesh\",\"Riya\",\"Yashu\",\"Rohit\",\"Amisha\"]\n",
    "student_marks=[54,98,99,100,34]"
   ]
  },
  {
   "cell_type": "code",
   "execution_count": 11,
   "id": "55e32bdf-f44c-4fa5-9440-8f6f8c4e5731",
   "metadata": {},
   "outputs": [],
   "source": [
    "student_details=list(zip(student_name,student_marks))"
   ]
  },
  {
   "cell_type": "code",
   "execution_count": 12,
   "id": "7104ae9f-955e-459d-bc47-42d95a3ee043",
   "metadata": {},
   "outputs": [
    {
     "data": {
      "text/plain": [
       "[('Ramesh', 54), ('Riya', 98), ('Yashu', 99), ('Rohit', 100), ('Amisha', 34)]"
      ]
     },
     "execution_count": 12,
     "metadata": {},
     "output_type": "execute_result"
    }
   ],
   "source": [
    "student_details"
   ]
  },
  {
   "cell_type": "code",
   "execution_count": 13,
   "id": "17c72223-6544-4d08-9de8-75f31dd464e8",
   "metadata": {},
   "outputs": [],
   "source": [
    "name,marks=list(zip(*student_details))"
   ]
  },
  {
   "cell_type": "code",
   "execution_count": 14,
   "id": "e167e8c9-4ce6-445d-88aa-a5ab3889e59a",
   "metadata": {},
   "outputs": [
    {
     "data": {
      "text/plain": [
       "('Ramesh', 'Riya', 'Yashu', 'Rohit', 'Amisha')"
      ]
     },
     "execution_count": 14,
     "metadata": {},
     "output_type": "execute_result"
    }
   ],
   "source": [
    "name\n"
   ]
  },
  {
   "cell_type": "code",
   "execution_count": 15,
   "id": "399d3b5f-35ad-4619-8069-2829485a3b4b",
   "metadata": {},
   "outputs": [
    {
     "data": {
      "text/plain": [
       "(54, 98, 99, 100, 34)"
      ]
     },
     "execution_count": 15,
     "metadata": {},
     "output_type": "execute_result"
    }
   ],
   "source": [
    "marks"
   ]
  },
  {
   "cell_type": "code",
   "execution_count": 16,
   "id": "61bf717e-4f27-4406-94eb-0d537390339e",
   "metadata": {},
   "outputs": [],
   "source": [
    "student_name=[\"Ramesh\",\"Riya\",\"Yashu\",\"Rohit\",\"Amisha\"] #enumerate and zip one time\n",
    "student_marks=[54,98,99,100,34]"
   ]
  },
  {
   "cell_type": "code",
   "execution_count": 17,
   "id": "56263639-fbff-4132-9d6c-fc4075740582",
   "metadata": {},
   "outputs": [
    {
     "name": "stdout",
     "output_type": "stream",
     "text": [
      "1 Ramesh 54\n",
      "2 Riya 98\n",
      "3 Yashu 99\n",
      "4 Rohit 100\n",
      "5 Amisha 34\n"
     ]
    }
   ],
   "source": [
    "for i,(name,marks) in enumerate(zip(student_name,student_marks),1):\n",
    "    print(i,name,marks)"
   ]
  },
  {
   "cell_type": "code",
   "execution_count": 18,
   "id": "b84c57b2-0f0f-46d6-a5d5-c41787960d18",
   "metadata": {},
   "outputs": [],
   "source": [
    "salary=[8000,5000,6000,7000,3000]"
   ]
  },
  {
   "cell_type": "code",
   "execution_count": 19,
   "id": "2c650f09-cf96-4bb7-bc82-02bb2ef94a73",
   "metadata": {},
   "outputs": [
    {
     "name": "stdout",
     "output_type": "stream",
     "text": [
      "8000\n",
      "5000\n",
      "6000\n"
     ]
    }
   ],
   "source": [
    "for val in salary:\n",
    "    if val==7000:\n",
    "        break\n",
    "    print(val)\n"
   ]
  },
  {
   "cell_type": "code",
   "execution_count": 20,
   "id": "ef2a51e5-4370-477e-8ca4-fa7c9df66be9",
   "metadata": {},
   "outputs": [],
   "source": [
    "salary=[9000,5000,6000,6000,3000]"
   ]
  },
  {
   "cell_type": "code",
   "execution_count": 21,
   "id": "2a9299b0-2920-4eda-8d0a-4ea329bc841b",
   "metadata": {},
   "outputs": [
    {
     "name": "stdout",
     "output_type": "stream",
     "text": [
      "9000\n",
      "5000\n",
      "3000\n"
     ]
    }
   ],
   "source": [
    "for val in salary:\n",
    "    if val==6000:\n",
    "        continue\n",
    "    print(val)    "
   ]
  },
  {
   "cell_type": "code",
   "execution_count": null,
   "id": "a9fb09bd-5b7f-4e8c-81de-d9870be81cc6",
   "metadata": {},
   "outputs": [],
   "source": []
  }
 ],
 "metadata": {
  "kernelspec": {
   "display_name": "Python 3 (ipykernel)",
   "language": "python",
   "name": "python3"
  },
  "language_info": {
   "codemirror_mode": {
    "name": "ipython",
    "version": 3
   },
   "file_extension": ".py",
   "mimetype": "text/x-python",
   "name": "python",
   "nbconvert_exporter": "python",
   "pygments_lexer": "ipython3",
   "version": "3.11.2"
  }
 },
 "nbformat": 4,
 "nbformat_minor": 5
}
