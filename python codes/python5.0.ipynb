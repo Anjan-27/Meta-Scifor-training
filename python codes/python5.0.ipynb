{
 "cells": [
  {
   "cell_type": "markdown",
   "id": "bd2c35ff-6793-4ca7-8b22-b74881b4d23a",
   "metadata": {},
   "source": [
    "### Function is a group of statement performing a specific task. \n",
    "When a program gets bigger in size and its complexity grows, it get difficult for programmer to keep track on which piece of code is doing what.\n",
    "#A fucntion can be reused by the programming is a given program any number of times.\n",
    "\n",
    "\n",
    "#Function Syntax:-\n",
    "#def function_name(argument1,argument2):\n",
    "                   do stuff here\n",
    "#Lets see with example."
   ]
  },
  {
   "cell_type": "code",
   "execution_count": 1,
   "id": "4c5a3fe9-10d8-4451-8b8c-ca9928c67bdd",
   "metadata": {},
   "outputs": [],
   "source": [
    "def say_hello():\n",
    "    print(\"This is best\")"
   ]
  },
  {
   "cell_type": "code",
   "execution_count": 3,
   "id": "92751aff-9ef6-47a4-873d-a02f45c23f14",
   "metadata": {},
   "outputs": [
    {
     "name": "stdout",
     "output_type": "stream",
     "text": [
      "This is best\n"
     ]
    }
   ],
   "source": [
    "say_hello()"
   ]
  },
  {
   "cell_type": "code",
   "execution_count": 4,
   "id": "01adc175-4710-457f-aac2-ae39700745b6",
   "metadata": {},
   "outputs": [],
   "source": [
    "# A Simple greeting function . "
   ]
  },
  {
   "cell_type": "code",
   "execution_count": 5,
   "id": "496c0d61-bddc-4adb-bdf6-fd2291bcf448",
   "metadata": {},
   "outputs": [],
   "source": [
    "def greetings(name):\n",
    "    print(\"Hey Everyone \\n\\t\",name)"
   ]
  },
  {
   "cell_type": "code",
   "execution_count": 6,
   "id": "56f2de26-9f77-4fed-b457-30515ccf9453",
   "metadata": {},
   "outputs": [
    {
     "name": "stdout",
     "output_type": "stream",
     "text": [
      "Hey Everyone \n",
      "\t Amisha\n"
     ]
    }
   ],
   "source": [
    "greetings(\"Amisha\")"
   ]
  },
  {
   "cell_type": "code",
   "execution_count": 7,
   "id": "b8f6796b-4bc9-4cbb-ad1d-2dc76fc48d5d",
   "metadata": {},
   "outputs": [],
   "source": [
    "def salary_incr(salary):\n",
    "    if salary<=6000:\n",
    "        (salary + 1000)\n",
    "    else:\n",
    "        (salary)"
   ]
  },
  {
   "cell_type": "code",
   "execution_count": 8,
   "id": "a52aad44-a9c4-46dc-a77d-da5155caccac",
   "metadata": {},
   "outputs": [
    {
     "name": "stdout",
     "output_type": "stream",
     "text": [
      "Your new salary None\n"
     ]
    }
   ],
   "source": [
    "print(\"Your new salary\",salary_incr(2000))"
   ]
  },
  {
   "cell_type": "code",
   "execution_count": 9,
   "id": "dd7146bd-42aa-4da5-b393-5f920a01abc1",
   "metadata": {},
   "outputs": [],
   "source": [
    "def incr_salary(salary):\n",
    "    if salary<=6000:\n",
    "        return (salary+1000)\n",
    "    else:\n",
    "        return(salary)"
   ]
  },
  {
   "cell_type": "code",
   "execution_count": 10,
   "id": "bc0f038f-643d-40fb-938e-36b3e4567e11",
   "metadata": {},
   "outputs": [
    {
     "data": {
      "text/plain": [
       "5000"
      ]
     },
     "execution_count": 10,
     "metadata": {},
     "output_type": "execute_result"
    }
   ],
   "source": [
    "incr_salary(4000)"
   ]
  },
  {
   "cell_type": "code",
   "execution_count": 11,
   "id": "fe600821-bd81-404f-8650-e22678326365",
   "metadata": {},
   "outputs": [],
   "source": [
    "def my_marks(science,maths,english):\n",
    "    return (science + maths + english)"
   ]
  },
  {
   "cell_type": "code",
   "execution_count": 12,
   "id": "a9a2be2b-91dd-4be8-bfe1-dc62134dadfe",
   "metadata": {},
   "outputs": [
    {
     "name": "stdout",
     "output_type": "stream",
     "text": [
      "228 You Have Got\n"
     ]
    }
   ],
   "source": [
    "print(my_marks(85,69,74),\"You Have Got\")"
   ]
  },
  {
   "cell_type": "code",
   "execution_count": 13,
   "id": "faf7de06-d8ca-4d60-aa1f-562b8123f7ac",
   "metadata": {},
   "outputs": [],
   "source": [
    "total_marks=my_marks(87,66,78)"
   ]
  },
  {
   "cell_type": "code",
   "execution_count": 14,
   "id": "d210b258-8b0f-4934-b86c-78a80c36d4e2",
   "metadata": {},
   "outputs": [
    {
     "data": {
      "text/plain": [
       "231"
      ]
     },
     "execution_count": 14,
     "metadata": {},
     "output_type": "execute_result"
    }
   ],
   "source": [
    "total_marks"
   ]
  },
  {
   "cell_type": "code",
   "execution_count": 15,
   "id": "4f656946-f329-4560-a8c4-c4997f974aac",
   "metadata": {},
   "outputs": [
    {
     "name": "stdout",
     "output_type": "stream",
     "text": [
      "231  Distinction and you got a scholor\n"
     ]
    }
   ],
   "source": [
    "if total_marks >85:\n",
    "    print(total_marks,\" Distinction and you got a scholor\")\n",
    "elif total_marks>70 and total_marks<=80:\n",
    "    print(total_marks,\"You are good\")\n",
    "elif total_marks>60 and total_marks<=75:\n",
    "    print(total_marks,\"First division\")\n",
    "elif total_marks>45 and total_marks<=65:\n",
    "    print(total_marks,\"second division\")\n",
    "elif total_marks>35 and total_marks<=44:\n",
    "    print(total_marks,\"you are just pass, but you are also good\")\n",
    "else:\n",
    "    print(total_marks,\"You are Fail , but you are best\")"
   ]
  },
  {
   "cell_type": "code",
   "execution_count": 16,
   "id": "f1987132-18bc-4453-97c6-029f3c176d23",
   "metadata": {},
   "outputs": [],
   "source": [
    "#Lets see how its work in real time.\n",
    "#    http://orangebookvalue>com/used-mobiles\n",
    "\n",
    "\n",
    "#   someone wants to buy used mobile online and vendor needs to display the price of mobile based on make \n",
    "#   ,monts old and gb(if applicable)"
   ]
  },
  {
   "cell_type": "code",
   "execution_count": 17,
   "id": "9aa6eda4-f21a-4b68-91d8-199df158162d",
   "metadata": {},
   "outputs": [],
   "source": [
    "def phone_price(phone_make,phone_age,phone_model_gb):\n",
    "    if phone_make== \"i phone 13\":\n",
    "        if 0<phone_age<=6:\n",
    "            if phone_model_gb==128:\n",
    "                print(\"Rs 60000 - Rs 70000 \")\n",
    "            elif phone_model_gb==256:\n",
    "                print(\"70000 - 80000\")\n",
    "    if phone_make==\"i phone 12\":\n",
    "        if 0<phone_age<=6:\n",
    "            if phone_model_gb==64:\n",
    "                print(\"Rs 50000 - RS 60000\")\n",
    "            elif phone_model_gb==128:\n",
    "                    print(\"Rs 55000 - 65000\")\n",
    "    elif phone_make==\"Nokia Lumia\":\n",
    "        if 0<phone_age<6:\n",
    "            if phone_model_gb==8:\n",
    "                print(\"Rs 15000 - RS 22000\")\n",
    "            elif phone_model_gb==32:\n",
    "                print(\"Rs 22000 , Rs28000\")\n",
    "    else:\n",
    "        print(\"No stock right now. please come back in few days\")"
   ]
  },
  {
   "cell_type": "code",
   "execution_count": 18,
   "id": "5a472ab0-ff28-4da7-bbf2-7c3a0b19303f",
   "metadata": {},
   "outputs": [
    {
     "name": "stdout",
     "output_type": "stream",
     "text": [
      "Rs 22000 , Rs28000\n"
     ]
    }
   ],
   "source": [
    "phone_price('Nokia Lumia',5,32)"
   ]
  },
  {
   "cell_type": "code",
   "execution_count": 19,
   "id": "e510f608-92c4-458b-9fa8-97f2b5bb37e4",
   "metadata": {},
   "outputs": [],
   "source": [
    "add_num=lambda y:y+10"
   ]
  },
  {
   "cell_type": "code",
   "execution_count": 20,
   "id": "667a47a5-4bc5-4638-a27d-da0cb1beb65b",
   "metadata": {},
   "outputs": [
    {
     "data": {
      "text/plain": [
       "50"
      ]
     },
     "execution_count": 20,
     "metadata": {},
     "output_type": "execute_result"
    }
   ],
   "source": [
    "add_num(40)"
   ]
  },
  {
   "cell_type": "code",
   "execution_count": 21,
   "id": "f9c80718-e95e-4fac-8546-5af52a686085",
   "metadata": {},
   "outputs": [],
   "source": [
    "multi_num=lambda x,y:x*y"
   ]
  },
  {
   "cell_type": "code",
   "execution_count": 22,
   "id": "8b32d8e8-a082-409c-a507-75006bc93822",
   "metadata": {},
   "outputs": [
    {
     "data": {
      "text/plain": [
       "18"
      ]
     },
     "execution_count": 22,
     "metadata": {},
     "output_type": "execute_result"
    }
   ],
   "source": [
    "multi_num(6,3)"
   ]
  },
  {
   "cell_type": "code",
   "execution_count": null,
   "id": "0c840d1d-eb3c-47b3-9176-8d3dd3c35870",
   "metadata": {},
   "outputs": [],
   "source": [
    "#lets study about *args and *kwargs.\n",
    "#first we study about args , so what  is args ? args take multiple input in the place of function arguments.\n",
    "#Syntax def(*args)\n",
    "#lets see with example"
   ]
  },
  {
   "cell_type": "code",
   "execution_count": 23,
   "id": "4a3fd532-ac9c-451a-9e77-f48edb269124",
   "metadata": {},
   "outputs": [],
   "source": [
    "def my_func(*args):\n",
    "    for i in args:\n",
    "        print(\"my Args \",i)"
   ]
  },
  {
   "cell_type": "code",
   "execution_count": 24,
   "id": "5928acf2-246e-4013-91b6-f8949f4efb09",
   "metadata": {},
   "outputs": [
    {
     "name": "stdout",
     "output_type": "stream",
     "text": [
      "my Args  Rahul\n",
      "my Args  67\n",
      "my Args  Karan\n",
      "my Args  78\n"
     ]
    }
   ],
   "source": [
    "my_func(\"Rahul\",67,\"Karan\",78)"
   ]
  },
  {
   "cell_type": "code",
   "execution_count": 26,
   "id": "931ccce8-cd84-4411-8279-08efe001b315",
   "metadata": {},
   "outputs": [],
   "source": [
    "def my_func(**kwargs):\n",
    "    for key,value in kwargs.items():\n",
    "        print(key,value)"
   ]
  },
  {
   "cell_type": "code",
   "execution_count": 27,
   "id": "2ae991a3-4d8c-42ec-b15d-bcea042307fa",
   "metadata": {},
   "outputs": [
    {
     "name": "stdout",
     "output_type": "stream",
     "text": [
      "student ['Ram', 'Shiva']\n",
      "marks [84, 59]\n"
     ]
    }
   ],
   "source": [
    "my_func(student=[\"Ram\",\"Shiva\"],marks=[84,59])"
   ]
  },
  {
   "cell_type": "code",
   "execution_count": 28,
   "id": "cf952c9b-3763-459c-9959-20b01d92fb11",
   "metadata": {},
   "outputs": [],
   "source": [
    "#String Indexing.\n",
    "#what is string indexing ? string indexing is method of slice the the string where from we want.\n",
    "#its almost like list indexing but here we use [] square brackets for slicing and indexing.\n",
    "#Create a string."
   ]
  },
  {
   "cell_type": "code",
   "execution_count": 29,
   "id": "cd03ab3c-c2ec-4b35-9233-c4d2a07dabdd",
   "metadata": {},
   "outputs": [],
   "source": [
    "a=\"I help Nagpur Sharma\""
   ]
  },
  {
   "cell_type": "code",
   "execution_count": 30,
   "id": "eff32791-de9a-43f5-9215-ae1d3f2b937b",
   "metadata": {},
   "outputs": [
    {
     "data": {
      "text/plain": [
       "'I help Nagpur Sharma'"
      ]
     },
     "execution_count": 30,
     "metadata": {},
     "output_type": "execute_result"
    }
   ],
   "source": [
    "a"
   ]
  },
  {
   "cell_type": "code",
   "execution_count": 31,
   "id": "aa1c5258-a4be-4a40-80c9-0c32a2de295d",
   "metadata": {},
   "outputs": [
    {
     "data": {
      "text/plain": [
       "'h'"
      ]
     },
     "execution_count": 31,
     "metadata": {},
     "output_type": "execute_result"
    }
   ],
   "source": [
    "a[2]"
   ]
  },
  {
   "cell_type": "code",
   "execution_count": 32,
   "id": "94a3bc1b-03f3-4abb-9a94-827c2a4994d3",
   "metadata": {},
   "outputs": [
    {
     "data": {
      "text/plain": [
       "' help N'"
      ]
     },
     "execution_count": 32,
     "metadata": {},
     "output_type": "execute_result"
    }
   ],
   "source": [
    "a[1:8]"
   ]
  },
  {
   "cell_type": "code",
   "execution_count": 33,
   "id": "0029a8e8-ad38-4943-a9e5-5d6b166ab78e",
   "metadata": {},
   "outputs": [
    {
     "data": {
      "text/plain": [
       "'Ie grhm'"
      ]
     },
     "execution_count": 33,
     "metadata": {},
     "output_type": "execute_result"
    }
   ],
   "source": [
    "a[::3]"
   ]
  },
  {
   "cell_type": "code",
   "execution_count": 34,
   "id": "64d58e49-9c13-4c5a-b634-36bc56410fca",
   "metadata": {},
   "outputs": [],
   "source": [
    "#Now Start Map Fucntion\n",
    "#So what is map fucntion ? Map is a function , map () is a built-in function in Python that \n",
    "# allows you to process and transform  all the items in an iterable without using a loop.\n",
    "#lets see how to use map fucntion."
   ]
  },
  {
   "cell_type": "code",
   "execution_count": 35,
   "id": "624313dc-ece4-4c56-b0c8-1d9ac3279755",
   "metadata": {},
   "outputs": [],
   "source": [
    "def grace_marks(marks):\n",
    "    if marks==33:\n",
    "        return marks+2\n",
    "    elif marks==34:\n",
    "        return marks+1\n",
    "    else:\n",
    "        return(marks)"
   ]
  },
  {
   "cell_type": "code",
   "execution_count": 36,
   "id": "7714aedf-8f88-44c7-9ace-6eb409b41d39",
   "metadata": {},
   "outputs": [],
   "source": [
    "score=[47,58,69,14,25,33,34,33,33,34,33]"
   ]
  },
  {
   "cell_type": "code",
   "execution_count": 37,
   "id": "78dc02ad-4e77-464a-a13a-e626e74081cb",
   "metadata": {},
   "outputs": [],
   "source": [
    "total=list(map(grace_marks,score))"
   ]
  },
  {
   "cell_type": "code",
   "execution_count": 38,
   "id": "c45cdbb1-d4d8-462f-b5f0-befe095ce907",
   "metadata": {},
   "outputs": [
    {
     "data": {
      "text/plain": [
       "[47, 58, 69, 14, 25, 35, 35, 35, 35, 35, 35]"
      ]
     },
     "execution_count": 38,
     "metadata": {},
     "output_type": "execute_result"
    }
   ],
   "source": [
    "total"
   ]
  },
  {
   "cell_type": "code",
   "execution_count": 39,
   "id": "638189f8-26ab-43e5-8ea9-a3d643360702",
   "metadata": {},
   "outputs": [
    {
     "data": {
      "text/plain": [
       "1"
      ]
     },
     "execution_count": 39,
     "metadata": {},
     "output_type": "execute_result"
    }
   ],
   "source": [
    "total.count(69)"
   ]
  },
  {
   "cell_type": "code",
   "execution_count": 40,
   "id": "62f29be2-9929-4f10-9c7c-86adbf264842",
   "metadata": {},
   "outputs": [],
   "source": [
    "def filter_marks(marks):\n",
    "    if marks<35:\n",
    "        return (marks)\n",
    "    \n",
    "        "
   ]
  },
  {
   "cell_type": "code",
   "execution_count": 41,
   "id": "faa82770-56cf-4cb8-918f-de89e494553f",
   "metadata": {},
   "outputs": [],
   "source": [
    "score=[47,58,69,14,25,33,34,33,33,34,33]"
   ]
  },
  {
   "cell_type": "code",
   "execution_count": 42,
   "id": "aea28bdf-b334-4795-b3d1-1dae02542bf7",
   "metadata": {},
   "outputs": [],
   "source": [
    "failed=list(filter(filter_marks,score))"
   ]
  },
  {
   "cell_type": "code",
   "execution_count": 43,
   "id": "b66afc7c-760b-4c1c-9d62-a561fab5a171",
   "metadata": {},
   "outputs": [
    {
     "data": {
      "text/plain": [
       "[14, 25, 33, 34, 33, 33, 34, 33]"
      ]
     },
     "execution_count": 43,
     "metadata": {},
     "output_type": "execute_result"
    }
   ],
   "source": [
    "failed"
   ]
  },
  {
   "cell_type": "code",
   "execution_count": 44,
   "id": "9b518fe5-bdf5-481c-a3bb-744434f7cab6",
   "metadata": {},
   "outputs": [],
   "source": [
    "# What is the difference between Map and Filter Fucntion.\n",
    "# Map Fucntion - map accepts all element in a given list and function can be applied to it.\n",
    "\n",
    "#Filter Function-Filter accept all data in a list and runs that through a fucntion to create a new list\n",
    "# with all elements that returs True in that Function."
   ]
  },
  {
   "cell_type": "code",
   "execution_count": 45,
   "id": "5ba160f3-a11a-4f44-9ae3-cb040ac4de60",
   "metadata": {},
   "outputs": [
    {
     "data": {
      "text/plain": [
       "[False, True, False]"
      ]
     },
     "execution_count": 45,
     "metadata": {},
     "output_type": "execute_result"
    }
   ],
   "source": [
    "list(map(lambda var:var%2==0,[1,2,3]))"
   ]
  },
  {
   "cell_type": "code",
   "execution_count": 46,
   "id": "c8c8d30d-55d4-4ddb-82bd-63ae759b0d8a",
   "metadata": {},
   "outputs": [
    {
     "data": {
      "text/plain": [
       "[2]"
      ]
     },
     "execution_count": 46,
     "metadata": {},
     "output_type": "execute_result"
    }
   ],
   "source": [
    "list(filter(lambda var:var%2==0,[1,2,3]))"
   ]
  },
  {
   "cell_type": "code",
   "execution_count": null,
   "id": "3f11b344-ea68-404b-9bf1-3e7042546572",
   "metadata": {},
   "outputs": [],
   "source": []
  }
 ],
 "metadata": {
  "kernelspec": {
   "display_name": "Python 3 (ipykernel)",
   "language": "python",
   "name": "python3"
  },
  "language_info": {
   "codemirror_mode": {
    "name": "ipython",
    "version": 3
   },
   "file_extension": ".py",
   "mimetype": "text/x-python",
   "name": "python",
   "nbconvert_exporter": "python",
   "pygments_lexer": "ipython3",
   "version": "3.11.2"
  }
 },
 "nbformat": 4,
 "nbformat_minor": 5
}
