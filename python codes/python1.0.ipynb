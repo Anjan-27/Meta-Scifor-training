{
 "cells": [
  {
   "cell_type": "code",
   "execution_count": null,
   "id": "4879a35f-a749-49df-881b-09074c24a25d",
   "metadata": {},
   "outputs": [],
   "source": [
    "#Basics Python \n",
    "#Lets Start With Simple Expression"
   ]
  },
  {
   "cell_type": "code",
   "execution_count": null,
   "id": "ceb0c458-902e-4b29-8490-923c20452b23",
   "metadata": {},
   "outputs": [],
   "source": [
    "#What is Keyword- Keyword is are special or reserved word the are recognised by python with some meaning\n",
    "#lets check how to check keywords:\n",
    "#lets see."
   ]
  },
  {
   "cell_type": "code",
   "execution_count": 2,
   "id": "b1c0ebf6-6ea4-476e-89c2-6940f0ff5ced",
   "metadata": {},
   "outputs": [],
   "source": [
    "import keyword"
   ]
  },
  {
   "cell_type": "code",
   "execution_count": 3,
   "id": "1e259f35-a46e-4fab-8b6e-6f0c99820f87",
   "metadata": {},
   "outputs": [
    {
     "name": "stdout",
     "output_type": "stream",
     "text": [
      "['False', 'None', 'True', 'and', 'as', 'assert', 'async', 'await', 'break', 'class', 'continue', 'def', 'del', 'elif', 'else', 'except', 'finally', 'for', 'from', 'global', 'if', 'import', 'in', 'is', 'lambda', 'nonlocal', 'not', 'or', 'pass', 'raise', 'return', 'try', 'while', 'with', 'yield']\n"
     ]
    }
   ],
   "source": [
    "print(keyword.kwlist)"
   ]
  },
  {
   "cell_type": "code",
   "execution_count": null,
   "id": "8bdb4644-1b76-4b40-8ba3-5ede839423ab",
   "metadata": {},
   "outputs": [],
   "source": [
    "#Lets start with  Boolean expression\n",
    "#what is boolean expression-Boolean express created with keywords like- and,or,not,True,False\n",
    "#lets se with examples."
   ]
  },
  {
   "cell_type": "code",
   "execution_count": 4,
   "id": "cb12d60f-b49b-4b06-a789-1f2e9a2fffc6",
   "metadata": {},
   "outputs": [
    {
     "data": {
      "text/plain": [
       "False"
      ]
     },
     "execution_count": 4,
     "metadata": {},
     "output_type": "execute_result"
    }
   ],
   "source": [
    "True and False"
   ]
  },
  {
   "cell_type": "code",
   "execution_count": 5,
   "id": "f8024c5a-203e-43a9-90a8-a9a016a460a7",
   "metadata": {},
   "outputs": [
    {
     "data": {
      "text/plain": [
       "True"
      ]
     },
     "execution_count": 5,
     "metadata": {},
     "output_type": "execute_result"
    }
   ],
   "source": [
    "True and True"
   ]
  },
  {
   "cell_type": "code",
   "execution_count": null,
   "id": "ae9046ac-7a04-468f-903a-2210533bc6f5",
   "metadata": {},
   "outputs": [],
   "source": [
    "#lets see with other example"
   ]
  },
  {
   "cell_type": "code",
   "execution_count": 6,
   "id": "f3f70d90-4f50-4ee2-99cf-376fc9a66220",
   "metadata": {},
   "outputs": [
    {
     "data": {
      "text/plain": [
       "False"
      ]
     },
     "execution_count": 6,
     "metadata": {},
     "output_type": "execute_result"
    }
   ],
   "source": [
    "not True"
   ]
  },
  {
   "cell_type": "code",
   "execution_count": 7,
   "id": "f11d1b2d-399e-4e5c-9298-5e68e5c2b786",
   "metadata": {},
   "outputs": [
    {
     "data": {
      "text/plain": [
       "True"
      ]
     },
     "execution_count": 7,
     "metadata": {},
     "output_type": "execute_result"
    }
   ],
   "source": [
    "not False"
   ]
  },
  {
   "cell_type": "code",
   "execution_count": 8,
   "id": "c57bb390-3f47-4648-a239-f559dc05cbdd",
   "metadata": {},
   "outputs": [
    {
     "data": {
      "text/plain": [
       "True"
      ]
     },
     "execution_count": 8,
     "metadata": {},
     "output_type": "execute_result"
    }
   ],
   "source": [
    "True is True"
   ]
  },
  {
   "cell_type": "code",
   "execution_count": 9,
   "id": "6ec96b8d-c550-4e45-bf85-a70e3e09b3ef",
   "metadata": {},
   "outputs": [
    {
     "data": {
      "text/plain": [
       "False"
      ]
     },
     "execution_count": 9,
     "metadata": {},
     "output_type": "execute_result"
    }
   ],
   "source": [
    "True is False"
   ]
  },
  {
   "cell_type": "code",
   "execution_count": 10,
   "id": "00228425-d572-4c2b-ae90-2a09b5d95b14",
   "metadata": {},
   "outputs": [
    {
     "name": "stderr",
     "output_type": "stream",
     "text": [
      "<>:1: SyntaxWarning: \"is\" with a literal. Did you mean \"==\"?\n",
      "<>:1: SyntaxWarning: \"is\" with a literal. Did you mean \"==\"?\n",
      "C:\\Users\\Gill\\AppData\\Local\\Temp\\ipykernel_9396\\2617402828.py:1: SyntaxWarning: \"is\" with a literal. Did you mean \"==\"?\n",
      "  'a' is 'b'\n"
     ]
    },
    {
     "data": {
      "text/plain": [
       "False"
      ]
     },
     "execution_count": 10,
     "metadata": {},
     "output_type": "execute_result"
    }
   ],
   "source": [
    "'a' is 'b'\n"
   ]
  },
  {
   "cell_type": "code",
   "execution_count": null,
   "id": "f4a946e6-52d5-449f-9ca3-f8e6e0653fc6",
   "metadata": {},
   "outputs": [],
   "source": [
    "#lets know one more thing\n",
    "#True=1\n",
    "#False=0"
   ]
  },
  {
   "cell_type": "code",
   "execution_count": 11,
   "id": "94000de2-f4cd-4a5f-9348-e268008fb2b4",
   "metadata": {},
   "outputs": [
    {
     "data": {
      "text/plain": [
       "2"
      ]
     },
     "execution_count": 11,
     "metadata": {},
     "output_type": "execute_result"
    }
   ],
   "source": [
    "True + True"
   ]
  },
  {
   "cell_type": "code",
   "execution_count": 12,
   "id": "5c108a8d-f9a3-42d1-8eea-16c597063605",
   "metadata": {},
   "outputs": [
    {
     "data": {
      "text/plain": [
       "1"
      ]
     },
     "execution_count": 12,
     "metadata": {},
     "output_type": "execute_result"
    }
   ],
   "source": [
    "True + False"
   ]
  },
  {
   "cell_type": "code",
   "execution_count": 13,
   "id": "4d4c5e3f-35a6-4afb-abe1-119d4300a038",
   "metadata": {},
   "outputs": [
    {
     "data": {
      "text/plain": [
       "0"
      ]
     },
     "execution_count": 13,
     "metadata": {},
     "output_type": "execute_result"
    }
   ],
   "source": [
    "False + False"
   ]
  },
  {
   "cell_type": "code",
   "execution_count": 14,
   "id": "6a59b6ef-927c-4348-9851-a7c5f38fcb52",
   "metadata": {},
   "outputs": [
    {
     "data": {
      "text/plain": [
       "0"
      ]
     },
     "execution_count": 14,
     "metadata": {},
     "output_type": "execute_result"
    }
   ],
   "source": [
    "False - False"
   ]
  },
  {
   "cell_type": "code",
   "execution_count": 15,
   "id": "50985cf0-705b-4d02-9b73-930d9979721e",
   "metadata": {},
   "outputs": [
    {
     "data": {
      "text/plain": [
       "-1"
      ]
     },
     "execution_count": 15,
     "metadata": {},
     "output_type": "execute_result"
    }
   ],
   "source": [
    "False-True"
   ]
  },
  {
   "cell_type": "code",
   "execution_count": null,
   "id": "d06c2702-4a95-47c2-9098-821eb58ca08d",
   "metadata": {},
   "outputs": [],
   "source": [
    "#lets know one more thing\n",
    "# (is)  and  (==) is same        == Means eqaul to"
   ]
  },
  {
   "cell_type": "code",
   "execution_count": 16,
   "id": "16e02616-b2e1-46e0-9ead-8fe1838ef9d6",
   "metadata": {},
   "outputs": [
    {
     "data": {
      "text/plain": [
       "True"
      ]
     },
     "execution_count": 16,
     "metadata": {},
     "output_type": "execute_result"
    }
   ],
   "source": [
    "10<=10"
   ]
  },
  {
   "cell_type": "code",
   "execution_count": 17,
   "id": "509c5f10-970f-46b7-96c7-435dc58cf993",
   "metadata": {},
   "outputs": [
    {
     "data": {
      "text/plain": [
       "True"
      ]
     },
     "execution_count": 17,
     "metadata": {},
     "output_type": "execute_result"
    }
   ],
   "source": [
    "10==10"
   ]
  },
  {
   "cell_type": "code",
   "execution_count": 18,
   "id": "16132f7e-f633-4e82-9b8d-fe9206055ea2",
   "metadata": {},
   "outputs": [
    {
     "data": {
      "text/plain": [
       "True"
      ]
     },
     "execution_count": 18,
     "metadata": {},
     "output_type": "execute_result"
    }
   ],
   "source": [
    "True and False or True"
   ]
  },
  {
   "cell_type": "code",
   "execution_count": null,
   "id": "b67fd127-0d4a-4e06-ad43-8d7afe63118a",
   "metadata": {},
   "outputs": [],
   "source": [
    "#lets know about Data Types\n",
    "#Data Types\n",
    "# 1- Numbers/Integer\n",
    "# 2-String\n",
    "# 3-List\n",
    "# 4-Tuple\n",
    "# 5-Set\n",
    "# 6-Dictionary\n",
    "\n",
    "\n",
    "#Lets Start with Numbers"
   ]
  },
  {
   "cell_type": "code",
   "execution_count": 19,
   "id": "25ac30ce-f3bd-4398-8e52-1c252552e5f8",
   "metadata": {},
   "outputs": [],
   "source": [
    "x=20"
   ]
  },
  {
   "cell_type": "code",
   "execution_count": 20,
   "id": "087db3d6-ff6c-4bb7-a23f-16fda309abd6",
   "metadata": {},
   "outputs": [
    {
     "data": {
      "text/plain": [
       "int"
      ]
     },
     "execution_count": 20,
     "metadata": {},
     "output_type": "execute_result"
    }
   ],
   "source": [
    "type(x)"
   ]
  },
  {
   "cell_type": "code",
   "execution_count": 21,
   "id": "e3dd1501-1d79-4484-a244-1dedcaddb372",
   "metadata": {},
   "outputs": [],
   "source": [
    "x=20.2"
   ]
  },
  {
   "cell_type": "code",
   "execution_count": 22,
   "id": "37e834ee-fa3e-42e6-ba8f-4c2119d7ddf6",
   "metadata": {},
   "outputs": [
    {
     "data": {
      "text/plain": [
       "float"
      ]
     },
     "execution_count": 22,
     "metadata": {},
     "output_type": "execute_result"
    }
   ],
   "source": [
    "type(x)"
   ]
  },
  {
   "cell_type": "code",
   "execution_count": null,
   "id": "06e73b41-9ece-48be-81ae-bb81edfcd97e",
   "metadata": {},
   "outputs": [],
   "source": [
    "#lets do small mathematical operation."
   ]
  },
  {
   "cell_type": "code",
   "execution_count": null,
   "id": "28d8f5a2-3946-4992-9aca-9455fae53135",
   "metadata": {},
   "outputs": [],
   "source": [
    "x=2+2"
   ]
  },
  {
   "cell_type": "code",
   "execution_count": 23,
   "id": "b89afd5d-d602-4352-9ad1-d5b43173e4dc",
   "metadata": {},
   "outputs": [
    {
     "data": {
      "text/plain": [
       "20.2"
      ]
     },
     "execution_count": 23,
     "metadata": {},
     "output_type": "execute_result"
    }
   ],
   "source": [
    "x"
   ]
  },
  {
   "cell_type": "code",
   "execution_count": 27,
   "id": "a4cc9ec4-7cc5-40cc-a19d-d261316d8ca8",
   "metadata": {},
   "outputs": [],
   "source": [
    "a=44\n",
    "b=22"
   ]
  },
  {
   "cell_type": "code",
   "execution_count": 29,
   "id": "1b0ccab9-f470-403d-b905-a6e3b17d2305",
   "metadata": {},
   "outputs": [],
   "source": [
    "c=a+b"
   ]
  },
  {
   "cell_type": "code",
   "execution_count": 30,
   "id": "43074814-5e12-4b9c-842b-9d10500da787",
   "metadata": {},
   "outputs": [
    {
     "data": {
      "text/plain": [
       "66"
      ]
     },
     "execution_count": 30,
     "metadata": {},
     "output_type": "execute_result"
    }
   ],
   "source": [
    "c"
   ]
  },
  {
   "cell_type": "code",
   "execution_count": 31,
   "id": "7ab0f2fe-de00-48da-993d-b48e925fad3b",
   "metadata": {},
   "outputs": [
    {
     "name": "stdout",
     "output_type": "stream",
     "text": [
      "132\n"
     ]
    }
   ],
   "source": [
    "print(c*2)"
   ]
  },
  {
   "cell_type": "code",
   "execution_count": null,
   "id": "102a3953-e362-4c42-9b14-3642da65ac9d",
   "metadata": {},
   "outputs": [],
   "source": []
  }
 ],
 "metadata": {
  "kernelspec": {
   "display_name": "Python 3 (ipykernel)",
   "language": "python",
   "name": "python3"
  },
  "language_info": {
   "codemirror_mode": {
    "name": "ipython",
    "version": 3
   },
   "file_extension": ".py",
   "mimetype": "text/x-python",
   "name": "python",
   "nbconvert_exporter": "python",
   "pygments_lexer": "ipython3",
   "version": "3.11.2"
  }
 },
 "nbformat": 4,
 "nbformat_minor": 5
}
