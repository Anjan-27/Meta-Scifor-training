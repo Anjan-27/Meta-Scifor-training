{
 "cells": [
  {
   "cell_type": "code",
   "execution_count": 1,
   "id": "4faaaceb-7305-43c0-8aec-21a8e67d366b",
   "metadata": {},
   "outputs": [],
   "source": [
    "# 1- Global and Local Variables"
   ]
  },
  {
   "cell_type": "code",
   "execution_count": 2,
   "id": "76d8eb3d-c684-4f2a-a917-eee7d0122c83",
   "metadata": {},
   "outputs": [],
   "source": [
    "# Global varibale.\n",
    "# What is global variable ? Global varibale means which variable we can use outside the fucntion as well as inside the fucntion.\n",
    "#See with Example"
   ]
  },
  {
   "cell_type": "code",
   "execution_count": 3,
   "id": "30819888-aa65-490d-8420-c5f48163144f",
   "metadata": {},
   "outputs": [],
   "source": [
    "extra_marks=10   #Its an global variable"
   ]
  },
  {
   "cell_type": "code",
   "execution_count": 4,
   "id": "eece8fa6-c35b-4c25-9f0c-8dd82f0dd944",
   "metadata": {},
   "outputs": [],
   "source": [
    "# Local variable\n",
    "# what is local variable ? local varibale means which varible we can only use inside the fucntion.\n"
   ]
  },
  {
   "cell_type": "code",
   "execution_count": 5,
   "id": "46500103-c7c1-4433-a927-f9b61d83118c",
   "metadata": {},
   "outputs": [],
   "source": [
    "def total_marks():\n",
    "    some_marks=50   #its a local variable, and its not work outside the fucntion\n",
    "    print(\"printing inside the fucntion and the total is \",50+some_marks+total_marks)"
   ]
  },
  {
   "cell_type": "code",
   "execution_count": 6,
   "id": "84959f40-1000-49c8-8398-413d3471f004",
   "metadata": {},
   "outputs": [],
   "source": [
    "#How to use local varibale outside the fucntion"
   ]
  },
  {
   "cell_type": "code",
   "execution_count": 7,
   "id": "48c9dc5b-7f8a-488b-a37a-cd592db88785",
   "metadata": {},
   "outputs": [],
   "source": [
    "def local_global():\n",
    "    global var1    #see that . what we can do fo var12. (\"there is a coversion\")\n",
    "    var1=\"This is fantastic\"\n",
    "    print(var1)"
   ]
  },
  {
   "cell_type": "code",
   "execution_count": 8,
   "id": "531485c2-556b-4107-abf0-2ae3c5e65ef6",
   "metadata": {},
   "outputs": [
    {
     "name": "stdout",
     "output_type": "stream",
     "text": [
      "This is fantastic\n"
     ]
    }
   ],
   "source": [
    "local_global()"
   ]
  },
  {
   "cell_type": "code",
   "execution_count": 9,
   "id": "554d9531-4735-427e-9cb3-62190596ea47",
   "metadata": {},
   "outputs": [
    {
     "data": {
      "text/plain": [
       "'This is fantastic'"
      ]
     },
     "execution_count": 9,
     "metadata": {},
     "output_type": "execute_result"
    }
   ],
   "source": [
    "var1"
   ]
  },
  {
   "cell_type": "code",
   "execution_count": 10,
   "id": "b8bca928-28b8-4346-9e86-c0608bd34102",
   "metadata": {},
   "outputs": [],
   "source": [
    "#program to take the input string from the user"
   ]
  },
  {
   "cell_type": "code",
   "execution_count": 11,
   "id": "c72f703f-20e6-43f5-9b33-79196405ed52",
   "metadata": {},
   "outputs": [
    {
     "name": "stdin",
     "output_type": "stream",
     "text": [
      "Enter Your Number \n",
      " 3\n"
     ]
    },
    {
     "name": "stdout",
     "output_type": "stream",
     "text": [
      "User Enter 3\n"
     ]
    }
   ],
   "source": [
    "num=input(\"Enter Your Number \\n\")\n",
    "print(\"User Enter\",num)"
   ]
  },
  {
   "cell_type": "code",
   "execution_count": 13,
   "id": "deec46eb-1439-4ae4-8c27-fdbc08ad312a",
   "metadata": {},
   "outputs": [
    {
     "name": "stdin",
     "output_type": "stream",
     "text": [
      "Enter Your Marks 56\n",
      "Enter Your Marks 68\n"
     ]
    },
    {
     "name": "stdout",
     "output_type": "stream",
     "text": [
      "124  Out of 200\n"
     ]
    }
   ],
   "source": [
    "maths=int(input(\"Enter Your Marks\"))  #(int) use for integer\n",
    "science=int(input(\"Enter Your Marks\"))\n",
    "total_marks=maths + science\n",
    "print(total_marks,\" Out of 200\")"
   ]
  },
  {
   "cell_type": "code",
   "execution_count": 14,
   "id": "3b552d05-97f2-4a10-8cee-85580238120a",
   "metadata": {},
   "outputs": [],
   "source": [
    "#How to check only letters"
   ]
  },
  {
   "cell_type": "code",
   "execution_count": 15,
   "id": "9b762265-988e-480c-b10a-fa9b79c4ebd9",
   "metadata": {},
   "outputs": [
    {
     "name": "stdin",
     "output_type": "stream",
     "text": [
      "Enter Your name  Ashu\n"
     ]
    },
    {
     "name": "stdout",
     "output_type": "stream",
     "text": [
      "You Entered  Ashu\n"
     ]
    }
   ],
   "source": [
    "name=input(\"Enter Your name \")\n",
    "if name.isalpha():\n",
    "    print(\"You Entered \",name)\n",
    "else:\n",
    "    print(\"Look like You Did not enter alpha charater\")"
   ]
  },
  {
   "cell_type": "code",
   "execution_count": 16,
   "id": "c91a9424-00dc-40fc-91b4-03d8e3390f76",
   "metadata": {},
   "outputs": [],
   "source": [
    "def phone_price(phone_make,phone_age,phone_model_gb):\n",
    "    if phone_make==\"iphone13\":\n",
    "        if 0<phone_age<=6:\n",
    "            if phone_model_gb==128:\n",
    "                print(\"Rs 65000 - Rs 75000\")\n",
    "            elif phone_model_gb==256:\n",
    "                print(\"Rs 80000\")\n",
    "        if 6<phone_age<=12:\n",
    "            if phone_model_gb==128:\n",
    "                print(\"Rs 60000 - Rs 65000\")\n",
    "            elif phone_model_gb==256:\n",
    "                print(\"Rs70000\")\n",
    "    elif phone_make==\"iphone11\":\n",
    "        if 0<phone_age<=6:\n",
    "            if phone_model_gb==64:\n",
    "                print(\"Rs 44000 - Rs 48000\")\n",
    "            elif phone_model_gb==128:\n",
    "                print(\"RS 50000 - Rs 550000\")\n",
    "        if 6<phone_age<=12:\n",
    "            if phone_model_gb==64:\n",
    "                print(\"Rs 39000 - Rs 42000\")\n",
    "            elif phone_model_gb:\n",
    "                print(\"Rs 45000 - 48000\")\n",
    "    else:\n",
    "        print(\"No Stock Right Now, Please check after few days\")"
   ]
  },
  {
   "cell_type": "code",
   "execution_count": 17,
   "id": "e1670bfd-e3b1-4bdf-aee9-d1792e59019b",
   "metadata": {},
   "outputs": [
    {
     "name": "stdin",
     "output_type": "stream",
     "text": [
      " Enter Your Required Phone   iphone\n",
      " Enter how old phone you need   7\n",
      " Enter how much space do you want in you phone   64\n"
     ]
    },
    {
     "name": "stdout",
     "output_type": "stream",
     "text": [
      "No Stock Right Now, Please check after few days\n"
     ]
    }
   ],
   "source": [
    "phone=input(\" Enter Your Required Phone  \")\n",
    "months_old=int(input(\" Enter how old phone you need  \"))\n",
    "capacity=int(input(\" Enter how much space do you want in you phone  \"))\n",
    "phone_price(phone,months_old,capacity)"
   ]
  },
  {
   "cell_type": "code",
   "execution_count": 18,
   "id": "a410dff0-a602-44a0-ab81-71e04e14a0db",
   "metadata": {},
   "outputs": [],
   "source": [
    "#Using just except ,we can check for any exception to understand better. lets check out the smaple code."
   ]
  },
  {
   "cell_type": "code",
   "execution_count": 20,
   "id": "2ab36cb8-25f1-40f2-a136-86e47d21d79a",
   "metadata": {},
   "outputs": [],
   "source": [
    "marks_1=66\n",
    "subject=\"datascience\"\n",
    "marks_2=22"
   ]
  },
  {
   "cell_type": "code",
   "execution_count": 21,
   "id": "f7e69633-8486-4185-9df5-865f758b903c",
   "metadata": {},
   "outputs": [
    {
     "name": "stdout",
     "output_type": "stream",
     "text": [
      "You are only add integer + integer ,not with integer + string\n"
     ]
    }
   ],
   "source": [
    "try:\n",
    "    total= marks_1 + subject\n",
    "except:\n",
    "    print(\"You are only add integer + integer ,not with integer + string\")\n",
    "else:\n",
    "    (total)\n",
    "    \n",
    "    "
   ]
  },
  {
   "cell_type": "code",
   "execution_count": 22,
   "id": "bdd1fdb7-3dde-4cfa-b73e-2726be88a196",
   "metadata": {},
   "outputs": [
    {
     "name": "stdout",
     "output_type": "stream",
     "text": [
      "Your Total marks is \n",
      "\t\t 88\n"
     ]
    }
   ],
   "source": [
    "try:\n",
    "    total=marks_1 + marks_2\n",
    "except:\n",
    "    print(\"plese dont add integer with string\")\n",
    "else:\n",
    "    print(\"Your Total marks is \\n\\t\\t\",total)"
   ]
  },
  {
   "cell_type": "code",
   "execution_count": 23,
   "id": "e1760249-a388-4d28-9656-0bc710eea3d1",
   "metadata": {},
   "outputs": [],
   "source": [
    "# write a program to insure car number  or new car insurence ,program to accept car numbers,customer name\n",
    "# and mobile number, if user dont provide the detail , the system needs to raise exception saying \n",
    "# its mandatory field?required field."
   ]
  },
  {
   "cell_type": "code",
   "execution_count": 24,
   "id": "40fedee5-6569-48ac-b1c1-e70d48ecd980",
   "metadata": {},
   "outputs": [
    {
     "name": "stdin",
     "output_type": "stream",
     "text": [
      "Enter Your Car number  1234\n",
      "Enter Your Name Baby  sima\n",
      "Enter Your Number Baby  98777\n"
     ]
    }
   ],
   "source": [
    "try:\n",
    "    car_number=input(\"Enter Your Car number \")\n",
    "    name=input(\"Enter Your Name Baby \")\n",
    "    mobile_number=input(\"Enter Your Number Baby \")\n",
    "    if car_number ==\" \":\n",
    "        raise Exception()\n",
    "    elif name ==\" \":\n",
    "        raise Exception()\n",
    "    elif mobie_number ==\" \":\n",
    "        raise Exception()\n",
    "    else:\n",
    "        pass\n",
    "except:\n",
    "    if car_number ==\" \":\n",
    "        print(\"\\n The Registration Field Required\")\n",
    "    if name ==\" \":\n",
    "        print(\"\\n The Name Field is required\")\n",
    "    if mobile_number ==\" \":\n",
    "        print(\"\\n The Mobile Number Field is required\")\n",
    "    \n",
    "else:\n",
    "    print(\"Thanks for registration\")"
   ]
  },
  {
   "cell_type": "code",
   "execution_count": 25,
   "id": "ac66dd4f-652e-4a7a-9a26-5cc132c6f020",
   "metadata": {},
   "outputs": [
    {
     "name": "stdin",
     "output_type": "stream",
     "text": [
      "Enter Your Car number  3444\n",
      "Enter Your Name Baby  siam\n",
      "Enter Your Number Baby  nina\n"
     ]
    },
    {
     "name": "stdout",
     "output_type": "stream",
     "text": [
      "Thanks for registration\n"
     ]
    }
   ],
   "source": [
    "try:\n",
    "    car_number=input(\"Enter Your Car number \")\n",
    "    name=input(\"Enter Your Name Baby \")\n",
    "    mobile_number=input(\"Enter Your Number Baby \")\n",
    "    if car_number ==\" \":\n",
    "        raise Exception()\n",
    "    elif name ==\" \":\n",
    "        raise Exception()\n",
    "    elif mobie_number ==\" \":\n",
    "        raise Exception()\n",
    "    else:\n",
    "        pass\n",
    "except:\n",
    "    if car_number ==\" \":\n",
    "        print(\"\\n The Registration Field Required\")\n",
    "    if name ==\" \":\n",
    "        print(\"\\n The Name Field is required\")\n",
    "    if mobile_number ==\" \":\n",
    "        print(\"\\n The Mobile Number Field is required\")\n",
    "    \n",
    "finally:\n",
    "    print(\"Thanks for registration\")"
   ]
  },
  {
   "cell_type": "code",
   "execution_count": 26,
   "id": "939bfebc-45ee-430f-b280-00ea81f97e4a",
   "metadata": {},
   "outputs": [],
   "source": [
    "# We can use this in conjuction will execute , lets see a new example that will take into account\n",
    "# a user putting in the wrong input:-"
   ]
  },
  {
   "cell_type": "code",
   "execution_count": 29,
   "id": "02eb283d-925b-4831-b52e-de4dc16ea455",
   "metadata": {},
   "outputs": [],
   "source": [
    "def mobile_num():\n",
    "    try:\n",
    "        val=int(input(\"Enter Your Number \"))\n",
    "    except:\n",
    "        print(\"Look Like You did not enter an integer\")\n",
    "    print(val)   "
   ]
  },
  {
   "cell_type": "code",
   "execution_count": 30,
   "id": "4903e03f-cf59-4587-aac1-4fa9b2390276",
   "metadata": {},
   "outputs": [
    {
     "name": "stdin",
     "output_type": "stream",
     "text": [
      "Enter Your Number  877888\n"
     ]
    },
    {
     "name": "stdout",
     "output_type": "stream",
     "text": [
      "877888\n"
     ]
    }
   ],
   "source": [
    "mobile_num()"
   ]
  },
  {
   "cell_type": "code",
   "execution_count": null,
   "id": "79e58fda-e0fa-46f7-b4fd-83229feb7939",
   "metadata": {},
   "outputs": [],
   "source": [
    "#Lets see if we enter a wrong number it will takes as a right number. \n",
    "# what if we do one thing . we set the code  like only enter 10 digit mobile number."
   ]
  },
  {
   "cell_type": "code",
   "execution_count": 31,
   "id": "fdcd1d78-e5b4-4bec-ac55-8c146f4840d7",
   "metadata": {},
   "outputs": [],
   "source": [
    "def mobile_numer():\n",
    "    while True:\n",
    "        try:\n",
    "            val=int(input(\"Enter Your Mobile Number\"))\n",
    "            if len(str(val))!=10:\n",
    "                print(\"You did not enter a Right Mobile Number\")\n",
    "            else:\n",
    "                print(\"Thankyou\")\n",
    "                break\n",
    "        except:\n",
    "            print(\"Look Like You Did Not Enter An Integer\")\n",
    "            continue\n",
    "        \n",
    "        "
   ]
  },
  {
   "cell_type": "code",
   "execution_count": 32,
   "id": "2c67a0e5-cc5a-427c-a847-c16b65baa617",
   "metadata": {},
   "outputs": [
    {
     "name": "stdin",
     "output_type": "stream",
     "text": [
      "Enter Your Mobile Number 77888\n"
     ]
    },
    {
     "name": "stdout",
     "output_type": "stream",
     "text": [
      "You did not enter a Right Mobile Number\n"
     ]
    },
    {
     "name": "stdin",
     "output_type": "stream",
     "text": [
      "Enter Your Mobile Number 9887788888\n"
     ]
    },
    {
     "name": "stdout",
     "output_type": "stream",
     "text": [
      "Thankyou\n"
     ]
    }
   ],
   "source": [
    "mobile_numer()"
   ]
  },
  {
   "cell_type": "code",
   "execution_count": null,
   "id": "49d1a979-a183-4d08-bf67-bf00117f9d2f",
   "metadata": {},
   "outputs": [],
   "source": []
  }
 ],
 "metadata": {
  "kernelspec": {
   "display_name": "Python 3 (ipykernel)",
   "language": "python",
   "name": "python3"
  },
  "language_info": {
   "codemirror_mode": {
    "name": "ipython",
    "version": 3
   },
   "file_extension": ".py",
   "mimetype": "text/x-python",
   "name": "python",
   "nbconvert_exporter": "python",
   "pygments_lexer": "ipython3",
   "version": "3.11.2"
  }
 },
 "nbformat": 4,
 "nbformat_minor": 5
}
