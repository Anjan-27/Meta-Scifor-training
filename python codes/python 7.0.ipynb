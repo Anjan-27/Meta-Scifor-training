{
 "cells": [
  {
   "cell_type": "markdown",
   "id": "5044a1aa-8083-4a90-ab87-80ca4dfb7a4c",
   "metadata": {},
   "source": [
    "## OOPS"
   ]
  },
  {
   "cell_type": "markdown",
   "id": "77d4f1ad-9259-4406-bcc0-34851d593cad",
   "metadata": {},
   "source": [
    "### self:\n",
    "In Python classes, self is a special parameter that refers to the current object instance itself. When you define methods within a class, self is implicitly passed as the first argument to those methods. Inside a method, you use self to access and modify the attributes (variables) of the specific object instance. init (constructor):\n",
    "\n",
    "### init is a special method in Python classes that acts as the constructor.\n",
    "It's automatically called whenever you create a new instance (object) of the class. Its purpose is to initialize the object's attributes with starting values. By convention, it's named init with two underscores at the beginning and end.\n",
    "\n",
    "## Simple Terms\n",
    "Imagine you're building a house (the class). A house has different rooms and features (the attributes). But when you build a new house, it's empty, right? You need to put furniture (values) in those rooms.\n",
    "\n",
    "self: This is like the blueprint for each house you build. It tells you which rooms there are (attributes) but doesn't say what's inside yet. When you actually build a house (create an object), self becomes like the house itself, allowing you to access its specific rooms.\n",
    "\n",
    "init: This is like the moving truck. When you build a new house, the moving truck (the init method) delivers furniture (values) and puts them in the corresponding rooms (attributes) of that specific house (object)."
   ]
  },
  {
   "cell_type": "code",
   "execution_count": 2,
   "id": "d5933653-5e7a-4a37-843b-617a1bc70b16",
   "metadata": {},
   "outputs": [],
   "source": [
    "# What is __init__(self)? is a constructor initialize your details with google.\n",
    "\n",
    "#Lets see with example."
   ]
  },
  {
   "cell_type": "code",
   "execution_count": 3,
   "id": "b3ad3dff-72c1-4c8f-80ed-275b48ab1061",
   "metadata": {},
   "outputs": [],
   "source": [
    "class Account:\n",
    "    def __init__(self,name,last_name,city,user_id,password,phone): #attribute/arguments\n",
    "        self.name=name\n",
    "        self.last_name=last_name\n",
    "        self.city=city\n",
    "        self.user_id=user_id\n",
    "        self.password=password\n",
    "        self.phone=phone"
   ]
  },
  {
   "cell_type": "code",
   "execution_count": 4,
   "id": "559c5e5a-c1c2-4192-b3ab-c300b73b3d08",
   "metadata": {},
   "outputs": [],
   "source": [
    "#Lets see with real time example:"
   ]
  },
  {
   "cell_type": "code",
   "execution_count": 5,
   "id": "2a644e19-83ad-4e96-93ac-8b48b68370f5",
   "metadata": {},
   "outputs": [
    {
     "name": "stdin",
     "output_type": "stream",
     "text": [
      "Enter Your Name  rahul\n",
      "Enter Your Last Name  sharma\n",
      "Enter Your City Name  delhi\n",
      "Enter Your User Id  45677\n",
      "Enter Your Password  98777676543\n",
      "Enter Your Number  987766543433\n"
     ]
    }
   ],
   "source": [
    "class Account:    #This is a class\n",
    "    def __init__(self,name=input(\"Enter Your Name \"),\n",
    "                last_name=input(\"Enter Your Last Name \"),\n",
    "                city=input(\"Enter Your City Name \"),\n",
    "                user_id=input(\"Enter Your User Id \"),\n",
    "                password=input(\"Enter Your Password \"),\n",
    "                phone=input(\"Enter Your Number \")):\n",
    "        self.name=name    #Data Initialization\n",
    "        self.last_name=last_name\n",
    "        self.city=city\n",
    "        self.user_id=user_id\n",
    "        self.password=password\n",
    "        self.phone=phone\n",
    "    def login(self):    #Method\n",
    "        while True:\n",
    "            signin=input(\"Enter Your User Id \")\n",
    "            password=input(\"Enter Your Pswword \")\n",
    "            if signin ==self.user_id and password==self.password:\n",
    "                print(\"Logged in Sucessfully\")\n",
    "                break\n",
    "            else:\n",
    "                print(\"You Entered Invalid id and password , Please Enter Correct  one\")\n",
    "                continue\n"
   ]
  },
  {
   "cell_type": "code",
   "execution_count": 6,
   "id": "44c45f66-9fb6-4013-8c73-f8538e870f79",
   "metadata": {},
   "outputs": [],
   "source": [
    "c=Account()\n"
   ]
  },
  {
   "cell_type": "code",
   "execution_count": 7,
   "id": "659791ce-4345-4c04-9c66-0e9bc41583b6",
   "metadata": {},
   "outputs": [
    {
     "name": "stdin",
     "output_type": "stream",
     "text": [
      "Enter Your User Id  45677\n",
      "Enter Your Pswword  98777676543\n"
     ]
    },
    {
     "name": "stdout",
     "output_type": "stream",
     "text": [
      "Logged in Sucessfully\n"
     ]
    }
   ],
   "source": [
    "c.login()"
   ]
  },
  {
   "cell_type": "code",
   "execution_count": 8,
   "id": "7ca54e8d-b00a-427a-9468-043b536945b0",
   "metadata": {},
   "outputs": [],
   "source": [
    "#Inheritance -Inheritance is a way of creating a new class from an existing class.\n",
    "#There are Three Types Of Inheritance - 1 -Single Inheritance , 2 -Multi Inheritance ,3-Multilevel Inheritance\n",
    "\n",
    "#Lets see with example how to inherits a class from existing class."
   ]
  },
  {
   "cell_type": "code",
   "execution_count": 9,
   "id": "78eb409a-780a-47e8-8a73-eaa50fc03b20",
   "metadata": {},
   "outputs": [],
   "source": [
    "class User_Account(Account):\n",
    "    def __init__(self,account_number,balance,*args):\n",
    "        super(User_Account,self).__init__(*args)\n",
    "        self.account_number=account_number\n",
    "        self.balance=balance\n",
    "            \n",
    "    def user_details(self):\n",
    "        while True:\n",
    "            account=int(input(\"Enter Your Account Number\"))\n",
    "            if account==self.account_number:\n",
    "                print(\"Name =\", self.name)\n",
    "                print(\"Account Number =\",self.account_number)\n",
    "                print(\"Balance =\",self.balance )\n",
    "                break\n",
    "            else:\n",
    "                print(\"Account Number is not valid\")\n",
    "                continue\n",
    "    def deposit(self):\n",
    "        print(\"Your Previous Balance is\",self.balance)\n",
    "        add_cash=int(input(\"Enter Ammount\"))\n",
    "        self.balance= self.balance+add_cash\n",
    "        print(\"Your account credit with\",add_cash, \"and now your balace is\" ,self.balance)\n",
    "    def transfer(self):\n",
    "        print(\"Your Previous Balance is\",self.balance)\n",
    "        withdrawl=int(input(\"Enter How much you want to withdraw\"))\n",
    "        if withdrawl<=self.balance:\n",
    "            self.balance-=withdrawl\n",
    "            print(\"The Withdraws ammount is\",self.account_number,\"and you left balance is \" ,self.balance)\n",
    "            \n",
    "        else:\n",
    "            print(\"Alert:Hello You Dont have sufficient Balance to withdra\")\n",
    "                "
   ]
  },
  {
   "cell_type": "code",
   "execution_count": 10,
   "id": "1b464fe3-6f87-498b-8eb8-48fe91fdbda9",
   "metadata": {},
   "outputs": [],
   "source": [
    "bank=User_Account(5555,0)"
   ]
  },
  {
   "cell_type": "code",
   "execution_count": 11,
   "id": "bc5a4c81-573e-439b-8c61-6592c1b62677",
   "metadata": {},
   "outputs": [
    {
     "name": "stdin",
     "output_type": "stream",
     "text": [
      "Enter Your User Id  45677\n",
      "Enter Your Pswword  98777676543\n"
     ]
    },
    {
     "name": "stdout",
     "output_type": "stream",
     "text": [
      "Logged in Sucessfully\n"
     ]
    }
   ],
   "source": [
    "#### bank.login()"
   ]
  },
  {
   "cell_type": "code",
   "execution_count": 13,
   "id": "7ba58e73-38bd-466b-8b65-73b3cfd5397c",
   "metadata": {},
   "outputs": [
    {
     "name": "stdin",
     "output_type": "stream",
     "text": [
      "Enter Your Account Number 5555\n"
     ]
    },
    {
     "name": "stdout",
     "output_type": "stream",
     "text": [
      "Name = rahul\n",
      "Account Number = 5555\n",
      "Balance = 0\n"
     ]
    }
   ],
   "source": [
    "bank.user_details()\n"
   ]
  },
  {
   "cell_type": "code",
   "execution_count": 14,
   "id": "004d6bce-8479-4fe0-aeda-8a1468d3b848",
   "metadata": {},
   "outputs": [
    {
     "name": "stdout",
     "output_type": "stream",
     "text": [
      "Your Previous Balance is 0\n"
     ]
    },
    {
     "name": "stdin",
     "output_type": "stream",
     "text": [
      "Enter Ammount 2000\n"
     ]
    },
    {
     "name": "stdout",
     "output_type": "stream",
     "text": [
      "Your account credit with 2000 and now your balace is 2000\n"
     ]
    }
   ],
   "source": [
    "bank.deposit()"
   ]
  },
  {
   "cell_type": "code",
   "execution_count": 15,
   "id": "5e00a80b-0fa6-44b4-a34d-f04321c23c42",
   "metadata": {},
   "outputs": [],
   "source": [
    "# Encapsulation - Encapsulation is an another powerful way to extend a class which consists\n",
    "# on wrapping object with second one.\n",
    "\n",
    "#Just like gmail,google photos,g drive and wrapped into one\n",
    "\n",
    "# The abstraction process relies on creating a simplified model that removes useless details from\n",
    "# a concept. In order to be simplified a model should be described in trems of other concepts, \n",
    "# for eaxmple - we can say that a car is composed be :-\n",
    "# Tyre\n",
    "# Engine\n",
    "# Body\n",
    "\n",
    "\n",
    "#And breakdown each one of these element in simpler parts untill we reach primitive data."
   ]
  },
  {
   "cell_type": "code",
   "execution_count": 16,
   "id": "52e4bdda-937f-47a9-b8a6-1dbd87ef4e87",
   "metadata": {},
   "outputs": [
    {
     "name": "stdout",
     "output_type": "stream",
     "text": [
      "Tyre \n",
      "\t Branch MRF\n",
      "\tBelted_bias True\n",
      "\topt_pressure 34\n",
      "  \n",
      "\t fuel type is  petrol\n",
      "\t noise leve is  2.3\n",
      "\n",
      "\t Body Size of car is sedan\n"
     ]
    }
   ],
   "source": [
    "class Tyres:\n",
    "    def __init__(self,branch,belted_bias,opt_pressure):\n",
    "        self.branch=branch\n",
    "        self.belted_bias=belted_bias\n",
    "        self.opt_pressure=opt_pressure\n",
    "    def __str__(self) :#__str__ can be used if you dont want to define a method name,but you want this to execute\n",
    "        return(\"Tyre \\n\\t Branch \"+self.branch+\n",
    "               \"\\n\\tBelted_bias \"+str(self.belted_bias)+\n",
    "               \"\\n\\topt_pressure \"+str(self.opt_pressure))\n",
    "class Engine:\n",
    "    def __init__(self,fuel_type,noise_level):\n",
    "        self.fuel_type=fuel_type\n",
    "        self.noise_level=noise_level\n",
    "    def __str__(self):\n",
    "        return(\"\\n\\t fuel type is  \"+self.fuel_type+\n",
    "              \"\\n\\t noise leve is  \"+str(self.noise_level))#__str__ method only returns only text so we are converting into string.\n",
    "class Body():\n",
    "    def __init__(self,size):\n",
    "        self.size=size\n",
    "    def __str__(self):\n",
    "        return(\"\\n\\t Body Size of car is \"+self.size)\n",
    "    \n",
    "class Car():\n",
    "    def __init__(self,Tyres,Engine,Body):\n",
    "        self.Tyres=Tyres\n",
    "        self.Engine=Engine\n",
    "        self.Body=Body\n",
    "    def __str__(self):\n",
    "        return   str(self.Tyres) +\"\\n  \"  + str(self.Engine) +\"\\n\" +  str(self.Body)\n",
    "t=Tyres(\"MRF\",True,34)\n",
    "e=Engine(\"petrol\",2.3)\n",
    "b=Body(\"sedan\")\n",
    "c=Car(t,e,b)\n",
    "print(c)"
   ]
  },
  {
   "cell_type": "code",
   "execution_count": null,
   "id": "0a12b9f7-f9c3-4828-a8aa-c98443fb2195",
   "metadata": {},
   "outputs": [],
   "source": []
  }
 ],
 "metadata": {
  "kernelspec": {
   "display_name": "Python 3 (ipykernel)",
   "language": "python",
   "name": "python3"
  },
  "language_info": {
   "codemirror_mode": {
    "name": "ipython",
    "version": 3
   },
   "file_extension": ".py",
   "mimetype": "text/x-python",
   "name": "python",
   "nbconvert_exporter": "python",
   "pygments_lexer": "ipython3",
   "version": "3.11.2"
  }
 },
 "nbformat": 4,
 "nbformat_minor": 5
}
