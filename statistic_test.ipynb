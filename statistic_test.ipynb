{
 "cells": [
  {
   "cell_type": "markdown",
   "id": "a2d03c1b-3b7f-4e29-aed5-fe7c3c93a61c",
   "metadata": {
    "id": "a2d03c1b-3b7f-4e29-aed5-fe7c3c93a61c"
   },
   "source": [
    "# Statistics Test 2.0"
   ]
  },
  {
   "cell_type": "markdown",
   "id": "eacdfe41-4c50-4a8d-8af9-25d78ccbab02",
   "metadata": {
    "id": "eacdfe41-4c50-4a8d-8af9-25d78ccbab02"
   },
   "source": [
    "Time - 1.30 Hr\n",
    "\n",
    "\n",
    "Total Marks = 60\n",
    "\n"
   ]
  },
  {
   "cell_type": "markdown",
   "id": "-h45Y-7UcYVW",
   "metadata": {
    "id": "-h45Y-7UcYVW"
   },
   "source": [
    "**MCQ**"
   ]
  },
  {
   "cell_type": "markdown",
   "id": "-0TTQIaXcLJF",
   "metadata": {
    "id": "-0TTQIaXcLJF"
   },
   "source": [
    "**Which of the following is a measure of central tendency?**\n",
    "\n",
    "    A) Variance\n",
    "    B) Standard Deviation\n",
    "    C) Mean\n",
    "    D) Range"
   ]
  },
  {
   "cell_type": "code",
   "execution_count": null,
   "id": "ed77c518-c761-4bf7-8aee-4f05fef36901",
   "metadata": {},
   "outputs": [],
   "source": [
    "Ans - C) Mean"
   ]
  },
  {
   "cell_type": "markdown",
   "id": "YEex8H5ocLLr",
   "metadata": {
    "id": "YEex8H5ocLLr"
   },
   "source": [
    "**In a dataset with values [2, 4, 4, 6, 8], what is the median?**\n",
    "\n",
    "    A) 4\n",
    "    B) 4.5\n",
    "    C) 6\n",
    "    D) 8"
   ]
  },
  {
   "cell_type": "code",
   "execution_count": null,
   "id": "5df62940-bf1b-44e3-b760-10e9cffad993",
   "metadata": {},
   "outputs": [],
   "source": [
    "Ans - A) 4"
   ]
  },
  {
   "cell_type": "markdown",
   "id": "NLR39gAncLNz",
   "metadata": {
    "id": "NLR39gAncLNz"
   },
   "source": [
    "**Inferential statistics are used to:**\n",
    "\n",
    "    A) Describe the data's central tendency\n",
    "    B) Summarize the data\n",
    "    C) Make predictions or inferences about a population based on a sample\n",
    "    D) Visualize the data"
   ]
  },
  {
   "cell_type": "code",
   "execution_count": null,
   "id": "3b11f5b5-6013-4200-977e-6bb903deabce",
   "metadata": {},
   "outputs": [],
   "source": [
    "Ans C)"
   ]
  },
  {
   "cell_type": "markdown",
   "id": "gxSeoRancLP9",
   "metadata": {
    "id": "gxSeoRancLP9"
   },
   "source": [
    "**What does a confidence interval represent?**\n",
    "\n",
    "    A) The range within which the population mean is expected to fall with a certain probability\n",
    "    B) The exact value of the population mean\n",
    "    C) The variability within the sample\n",
    "    D) The number of samples required"
   ]
  },
  {
   "cell_type": "code",
   "execution_count": null,
   "id": "705fdb50-34fe-4c59-bf31-a643e289c9b3",
   "metadata": {},
   "outputs": [],
   "source": [
    "Ans A)"
   ]
  },
  {
   "cell_type": "markdown",
   "id": "8VcnEmX9cLSM",
   "metadata": {
    "id": "8VcnEmX9cLSM"
   },
   "source": [
    "**According to the Central Limit Theorem, as the sample size increases, the distribution of the sample mean:**\n",
    "\n",
    "    A) Becomes skewed\n",
    "    B) Approaches a normal distribution\n",
    "    C) Remains uniform\n",
    "    D) Becomes bimodal"
   ]
  },
  {
   "cell_type": "code",
   "execution_count": null,
   "id": "670b23a0-4122-4d6b-9412-a78ed44271fc",
   "metadata": {},
   "outputs": [],
   "source": [
    "Ans B)"
   ]
  },
  {
   "cell_type": "markdown",
   "id": "mQAz26m_cLUq",
   "metadata": {
    "id": "mQAz26m_cLUq"
   },
   "source": [
    "**The Central Limit Theorem is important because:**\n",
    "\n",
    "    A) It helps in defining the exact population distribution\n",
    "    B) It allows for the use of normal distribution to make inferences about sample means\n",
    "    C) It eliminates the need for sampling\n",
    "    D) It ensures sample sizes are always large"
   ]
  },
  {
   "cell_type": "code",
   "execution_count": null,
   "id": "08531a21-8931-4e3c-8964-4a422ffc0291",
   "metadata": {},
   "outputs": [],
   "source": [
    "Ans B)"
   ]
  },
  {
   "cell_type": "markdown",
   "id": "F1T_g8pgcLWv",
   "metadata": {
    "id": "F1T_g8pgcLWv"
   },
   "source": [
    "**ANOVA is used to test:**\n",
    "\n",
    "    A) The association between two categorical variables\n",
    "    B) The differences between means of three or more groups\n",
    "    C) The proportion of a sample\n",
    "    D) The correlation between two continuous variables"
   ]
  },
  {
   "cell_type": "code",
   "execution_count": null,
   "id": "f90b44e1-252b-41e8-bb68-1701a18bc461",
   "metadata": {},
   "outputs": [],
   "source": [
    "Ans B)"
   ]
  },
  {
   "cell_type": "markdown",
   "id": "MXX8Exw3dBzd",
   "metadata": {
    "id": "MXX8Exw3dBzd"
   },
   "source": [
    "**A p-value less than 0.05 in an ANOVA test indicates:**\n",
    "\n",
    "    A) There is no significant difference between group means\n",
    "    B) The means of at least one group are significantly different from others\n",
    "    C) The variances within groups are equal\n",
    "    D) The sample size is too small"
   ]
  },
  {
   "cell_type": "code",
   "execution_count": null,
   "id": "722fec02-71e9-48bb-a7e9-a9994065bf81",
   "metadata": {},
   "outputs": [],
   "source": [
    "Ans B)"
   ]
  },
  {
   "cell_type": "markdown",
   "id": "T5dE7-GIdB14",
   "metadata": {
    "id": "T5dE7-GIdB14"
   },
   "source": [
    "**The chi-square test of independence assesses:**\n",
    "\n",
    "    A) If two continuous variables are related\n",
    "    B) The goodness-of-fit of a model\n",
    "    C) The association between two categorical variables\n",
    "    D) The variance of a single variable"
   ]
  },
  {
   "cell_type": "code",
   "execution_count": null,
   "id": "86353406-bb0d-4d11-86f8-08d4bda66060",
   "metadata": {},
   "outputs": [],
   "source": [
    "Ans C)"
   ]
  },
  {
   "cell_type": "markdown",
   "id": "TbkJYhyNdIa0",
   "metadata": {
    "id": "TbkJYhyNdIa0"
   },
   "source": [
    "**The two-sample t-test assumes:**\n",
    "\n",
    "    A) Equal variances between the two groups\n",
    "    B) Unequal variances between the two groups\n",
    "    C) No assumption about variances\n",
    "    D) The samples are paired"
   ]
  },
  {
   "cell_type": "code",
   "execution_count": null,
   "id": "0d550241-7913-4f7f-95a6-c95931349a66",
   "metadata": {},
   "outputs": [],
   "source": [
    "Ans B)"
   ]
  },
  {
   "cell_type": "markdown",
   "id": "6b85eac4-9fa5-4a6e-8944-31cfdb85b1f7",
   "metadata": {
    "id": "6b85eac4-9fa5-4a6e-8944-31cfdb85b1f7"
   },
   "source": [
    "# Python Basic Exercise\n",
    "\n",
    "### Solve any three"
   ]
  },
  {
   "cell_type": "markdown",
   "id": "daf26a58-0326-40aa-bdb6-8d765abaa5e8",
   "metadata": {
    "id": "daf26a58-0326-40aa-bdb6-8d765abaa5e8"
   },
   "source": [
    "Que 1 -> You have a list a=[1,2,3,6,9,7,4,5,8], and you have to find the kth element from the list. This means I want to find the 2nd largest number from the list. Similarly, you have to create a function where I pass a number, say 4, and the function will return the 4th largest number from the list."
   ]
  },
  {
   "cell_type": "code",
   "execution_count": 20,
   "id": "6f85b635-779f-4c1f-be25-fed8ad6ca5b0",
   "metadata": {
    "id": "6f85b635-779f-4c1f-be25-fed8ad6ca5b0"
   },
   "outputs": [
    {
     "name": "stdout",
     "output_type": "stream",
     "text": [
      "8\n",
      "6\n"
     ]
    }
   ],
   "source": [
    "def find_kth_largest(lst, k):\n",
    "    sorted_lst = sorted(lst, reverse=True)\n",
    "    if k <= len(sorted_lst) and k > 0:\n",
    "        return sorted_lst[k - 1]\n",
    "    else:\n",
    "        return \"Invalid value for k\"\n",
    "\n",
    "a = [1, 2, 3, 6, 9, 7, 4, 5, 8]\n",
    "k = 2\n",
    "print(find_kth_largest(a, k))\n",
    "k = 4\n",
    "print(find_kth_largest(a, k))"
   ]
  },
  {
   "cell_type": "markdown",
   "id": "bb4ffbe7-2bd2-47fe-be13-41ce39dde5a7",
   "metadata": {
    "id": "bb4ffbe7-2bd2-47fe-be13-41ce39dde5a7"
   },
   "source": [
    "Que 2-> you have a list [1,8,0,6,4,0,6,0,0,2,0], You need to shift all the zeros to the right , without using any inbuilt function."
   ]
  },
  {
   "cell_type": "code",
   "execution_count": null,
   "id": "39017c11-1084-4c96-b229-83ba71c15b98",
   "metadata": {
    "id": "39017c11-1084-4c96-b229-83ba71c15b98"
   },
   "outputs": [],
   "source": [
    "Sol->"
   ]
  },
  {
   "cell_type": "markdown",
   "id": "8f6bb4bc-9d9f-4f99-ad34-489934da6fb8",
   "metadata": {
    "id": "8f6bb4bc-9d9f-4f99-ad34-489934da6fb8"
   },
   "source": [
    "Que 3->Reverse a string without using any inbuilt function like slicing."
   ]
  },
  {
   "cell_type": "code",
   "execution_count": 19,
   "id": "3cfc4b48-15e0-4fcf-8cb7-1c6171d407e6",
   "metadata": {
    "id": "3cfc4b48-15e0-4fcf-8cb7-1c6171d407e6"
   },
   "outputs": [
    {
     "name": "stdout",
     "output_type": "stream",
     "text": [
      "The reversed string(using loops) is : roficS ateM\n"
     ]
    }
   ],
   "source": [
    "def reverse(s):\n",
    "    str = \"\"\n",
    "    for i in s:\n",
    "        str = i + str\n",
    "    return str\n",
    "\n",
    "s = \"Meta Scifor\"\n",
    "print(\"The reversed string(using loops) is : \", end=\"\")\n",
    "print(reverse(s))"
   ]
  },
  {
   "cell_type": "markdown",
   "id": "58b475ca-89a9-4074-adfa-1b31e6609aaf",
   "metadata": {
    "id": "58b475ca-89a9-4074-adfa-1b31e6609aaf"
   },
   "source": [
    "Que 4-> To find common prefix in array of strings\n",
    "\n",
    "array= ['Abce','Abcjhgj','Abcf']\n",
    "\n",
    "\n",
    "The common prefix among the strings 'Abce', 'Abcjhgj', and 'Abcf' is 'Abc'. So, the common prefix is 'Abc'."
   ]
  },
  {
   "cell_type": "code",
   "execution_count": 21,
   "id": "80d7e6ea-574b-4135-aa87-a042e9956390",
   "metadata": {
    "id": "80d7e6ea-574b-4135-aa87-a042e9956390"
   },
   "outputs": [
    {
     "name": "stdout",
     "output_type": "stream",
     "text": [
      "Abc\n"
     ]
    }
   ],
   "source": [
    "array = ['Abce', 'Abcjhgj', 'Abcf']\n",
    "\n",
    "if not array:\n",
    "    print('')\n",
    "else:\n",
    "    prefix = array[0]\n",
    "    \n",
    "    for string in array[1:]:\n",
    "        while not string.startswith(prefix):\n",
    "            prefix = prefix[:-1]\n",
    "            if not prefix:\n",
    "                break\n",
    "    \n",
    "    print(prefix)"
   ]
  },
  {
   "cell_type": "markdown",
   "id": "91637a40-f4ed-414d-9c71-c82374cb13a3",
   "metadata": {
    "id": "91637a40-f4ed-414d-9c71-c82374cb13a3"
   },
   "source": [
    "Que 5- Given the list l = [1,2,0,1,2,0,0], I want the output to be ans = [0,0,0,2,2,1,1] without using any inbuilt function"
   ]
  },
  {
   "cell_type": "code",
   "execution_count": null,
   "id": "ea7b0b77-9ff4-4f73-9a99-129c665fb961",
   "metadata": {
    "id": "ea7b0b77-9ff4-4f73-9a99-129c665fb961"
   },
   "outputs": [],
   "source": [
    "Sol->\n"
   ]
  },
  {
   "cell_type": "code",
   "execution_count": null,
   "id": "f36bc3d6-7bd0-4f8e-aad7-ac40484e911f",
   "metadata": {
    "id": "f36bc3d6-7bd0-4f8e-aad7-ac40484e911f"
   },
   "outputs": [],
   "source": []
  },
  {
   "cell_type": "markdown",
   "id": "e17c874f-ffe2-416f-af6c-2ba6e57a0bfd",
   "metadata": {
    "id": "e17c874f-ffe2-416f-af6c-2ba6e57a0bfd"
   },
   "source": [
    "# Statistics Theory Question\n"
   ]
  },
  {
   "cell_type": "markdown",
   "id": "0b748385-fe05-40f2-adc8-5b643f95b906",
   "metadata": {
    "id": "0b748385-fe05-40f2-adc8-5b643f95b906"
   },
   "source": [
    "Que 1- What is Central Limit Theoram ? Explain."
   ]
  },
  {
   "cell_type": "markdown",
   "id": "55e048a8-5ec3-4a21-9488-b0041047c81b",
   "metadata": {
    "id": "6e9ac27e-7076-4a13-89a6-d0ebe39d10f1"
   },
   "source": [
    "Ans= The central limit theorem says that the sampling distribution of the mean will always be normally distributed, as long as the sample size is large enough. Regardless of whether the population has any  distribution, the sampling distribution of the mean will be normal."
   ]
  },
  {
   "cell_type": "markdown",
   "id": "8466b61e-24b9-4567-bd63-04d8fb5360ad",
   "metadata": {
    "id": "8466b61e-24b9-4567-bd63-04d8fb5360ad"
   },
   "source": [
    "Que 2- What is CDF(Comulative density function). Explain with mathematics."
   ]
  },
  {
   "cell_type": "markdown",
   "id": "0d0c7781-8a4c-4510-bd07-35b8de2633ce",
   "metadata": {
    "id": "02b38da6-fd6a-4ecc-8275-aa85a320f78a"
   },
   "source": [
    "Ans= In cdf we find for between two consecutive hours or we can find within from starting to where we want. The cumulative distribution function (CDF) of a random variable is another method to describe the distribution of random variables.\n",
    "The cumulative distribution function (CDF) of random variable X\n",
    " is defined as\n",
    "FX(x)=P(X≤x), for all x∈R.\n"
   ]
  },
  {
   "cell_type": "markdown",
   "id": "6ada9cfc-cb42-4e64-b74e-7befd45cbe4a",
   "metadata": {
    "id": "6ada9cfc-cb42-4e64-b74e-7befd45cbe4a"
   },
   "source": [
    "Que 3- What is Anova test. how we can calculate behind the scene ?"
   ]
  },
  {
   "cell_type": "markdown",
   "id": "9157c403-e7eb-45f9-b032-b31448fa36e2",
   "metadata": {
    "id": "b2173ae3-80fc-4ba6-bbb9-3013db30a02f"
   },
   "source": [
    "Ans=  Anova is used to compare the amount of variation between the groups with the amount of variation within groups.\n",
    "-> In Anova Null hypothesis , all mean are equal\n",
    "-> Independent variable are categorical\n",
    "-> Dependent Variables are continous\n",
    "Based on F score we find p value\n",
    "F = Sample mean betwwen groups/ sample mean of within groups.\n"
   ]
  },
  {
   "cell_type": "code",
   "execution_count": null,
   "id": "aca83dca-ddf5-462f-8454-cc2ac7bc4e59",
   "metadata": {},
   "outputs": [],
   "source": [
    "## Behind the scene\n",
    "Step 1:  Calculate the mean of each \n",
    "step2 : Calculate the grand mean\n",
    "step3 : Variation between and within\n",
    "step4 : calculate the mean squared variance of between and within\n",
    "step5 : calculate F score and corresponding p value"
   ]
  },
  {
   "cell_type": "markdown",
   "id": "dffe2da1-3353-4865-85eb-fff2caea349a",
   "metadata": {
    "id": "dffe2da1-3353-4865-85eb-fff2caea349a"
   },
   "source": [
    "Que 4-  What is Chi-Square test. how we will calculate behind the scene."
   ]
  },
  {
   "cell_type": "markdown",
   "id": "5c5cda17-622e-4b2b-8987-ad0004bc3eda",
   "metadata": {
    "id": "00d08145-13da-4d6d-a580-fca78914b2d8"
   },
   "source": [
    "Ans=The chi-square test is a statistical tool used to check if two categorical variables are related or independent. It helps us understand if the observed data differs significantly from the expected data. By comparing the two datasets, we can draw conclusions about whether the variables have a meaningful association."
   ]
  },
  {
   "cell_type": "markdown",
   "id": "8fec219a-1fe3-41db-a2ba-8a0b5e0b4a43",
   "metadata": {
    "id": "8fec219a-1fe3-41db-a2ba-8a0b5e0b4a43"
   },
   "source": [
    "Que 5-  What is the difference between inferential and descriptive statistics."
   ]
  },
  {
   "cell_type": "markdown",
   "id": "17d92587-479d-4dfd-b8cc-c0d9a211b1e7",
   "metadata": {
    "id": "6717b5d9-704f-4f01-854a-d89d40cb8568"
   },
   "source": [
    "Ans= Descriptive Statistics- Discriptive Statistics usually apply on whole population .and then get some result like mean,median, and average .\n",
    " Inferential Statistics - Inferential Statistics usually apply on some sample population . and then we got some result and we assume the result to the whole population."
   ]
  },
  {
   "cell_type": "markdown",
   "id": "d7a2df48-9875-4b6b-ba26-feee4e03b1d5",
   "metadata": {
    "id": "d7a2df48-9875-4b6b-ba26-feee4e03b1d5"
   },
   "source": [
    "Que 6- Explain any 2 distribution."
   ]
  },
  {
   "cell_type": "markdown",
   "id": "af2bce57-0e32-4b24-b9d1-7c7dc3a7c882",
   "metadata": {
    "id": "938bde99-9a25-4a93-b594-182b09b7db61"
   },
   "source": [
    "Ans = Uniform Distribution -\n",
    "Uniform distribution refers of porbablity distribution in which all outcomes are equally likely.\n",
    "Example- Deck of Cards- Problity of getting only perticular shape and number (1/52)\n",
    "\n",
    "Symmetric Distribution-\n",
    "Symmetric Distribution graphs is a perfect graph . and its look like well bell curved. .. and as a data scientist we have to convert all skewed left skewed rigth graph to symmetric distribution.\n",
    "suppose in our class 60 students have give exam and like all school and college some student has topper some has below average and maximum are average student. and when we want to create graphs of class student it will give a bell shaped curve . in our graphs."
   ]
  },
  {
   "cell_type": "markdown",
   "id": "5c2a1d3b-bea9-4de6-8018-a120e2d36528",
   "metadata": {
    "id": "5c2a1d3b-bea9-4de6-8018-a120e2d36528"
   },
   "source": [
    "# Statistics Mathematics  Question\n",
    "\n"
   ]
  },
  {
   "cell_type": "markdown",
   "id": "40749fa8-a06d-4d9c-8864-4bb8b24599a3",
   "metadata": {
    "id": "40749fa8-a06d-4d9c-8864-4bb8b24599a3"
   },
   "source": [
    "Que 1 - if I generate heights for 1000 people from a normal distribution, what would be the probability for a new person to have a height of 70 inches using (CDF) then z-score table? take height in inches.\n",
    "\n",
    "#### Mean height (in inches) of the population\n",
    "mean_height = 66\n",
    "\n",
    "#### Standard deviation of heights (in inches) of the population\n",
    "std_dev_height = 3\n",
    "\n",
    "\n",
    "##### Generate data using this code\n",
    "###### Generate heights for 1000 people from a normal distribution\n",
    "heights = np.random.normal(mean_height, std_dev_height, 1000)))"
   ]
  },
  {
   "cell_type": "code",
   "execution_count": 5,
   "id": "e0b6c3a7-4b11-403f-860d-0beab1408712",
   "metadata": {
    "id": "e0b6c3a7-4b11-403f-860d-0beab1408712"
   },
   "outputs": [],
   "source": [
    "import pandas as pd\n",
    "import numpy as np"
   ]
  },
  {
   "cell_type": "code",
   "execution_count": 6,
   "id": "637c2956-9287-4623-88df-0be30b0927bb",
   "metadata": {},
   "outputs": [],
   "source": [
    "mean_height = 66"
   ]
  },
  {
   "cell_type": "code",
   "execution_count": 7,
   "id": "c5a93e5b-7f09-471e-b432-67ce98ae11fe",
   "metadata": {},
   "outputs": [],
   "source": [
    "std_dev_height = 3"
   ]
  },
  {
   "cell_type": "code",
   "execution_count": 8,
   "id": "02c423a1-cadd-4780-b2b1-606b36cbb1a9",
   "metadata": {
    "id": "02c423a1-cadd-4780-b2b1-606b36cbb1a9"
   },
   "outputs": [],
   "source": [
    "heights = np.random.normal(mean_height, std_dev_height, 1000)"
   ]
  },
  {
   "cell_type": "code",
   "execution_count": 10,
   "id": "fc8691b1-9217-45fa-9c79-c7ad3b60b150",
   "metadata": {
    "id": "fc8691b1-9217-45fa-9c79-c7ad3b60b150"
   },
   "outputs": [
    {
     "data": {
      "text/plain": [
       "array([65.52240832, 64.5467491 , 63.5489851 , 65.4921262 , 70.9041534 ,\n",
       "       66.04409507, 68.73139777, 60.32224636, 63.50101714, 69.20317699,\n",
       "       60.2341227 , 68.08402484, 63.3351769 , 63.75300935, 63.46570221,\n",
       "       65.81879553, 67.71573195, 67.42513521, 65.67949486, 67.988943  ,\n",
       "       62.79726247, 66.90357474, 65.36101304, 63.38961874, 62.61130391,\n",
       "       68.29991828, 64.44554154, 64.63873652, 64.21323201, 62.94156653,\n",
       "       69.75736274, 66.10913832, 61.20781569, 67.64115597, 65.99786621,\n",
       "       67.32278937, 59.97797544, 68.47094347, 61.32317541, 70.27675071,\n",
       "       64.90418689, 69.34832463, 66.52227328, 59.63235177, 72.45720324,\n",
       "       63.37441454, 70.43059421, 64.41491465, 59.70607728, 65.73911863,\n",
       "       62.88948596, 62.61681716, 63.01294521, 64.49662994, 63.11887546,\n",
       "       70.20688806, 69.39808044, 65.14397166, 64.46000334, 65.99544154,\n",
       "       64.26602522, 60.70524871, 61.37969043, 65.17621936, 73.42010769,\n",
       "       62.58261175, 68.92859477, 62.87084403, 67.29150182, 67.78622687,\n",
       "       60.93843955, 59.64048989, 68.31450758, 59.14433981, 69.835902  ,\n",
       "       70.56167403, 62.7987989 , 66.88428823, 63.99525134, 67.77533355,\n",
       "       65.39965949, 67.95036558, 70.88995856, 69.40392215, 64.38530132,\n",
       "       70.62857639, 68.984375  , 68.99305465, 67.64716631, 66.77764435,\n",
       "       69.76361286, 62.68432313, 72.89752682, 66.06695544, 64.38559686,\n",
       "       69.50486159, 66.55367643, 64.56867712, 66.1675296 , 65.14990365,\n",
       "       68.2804241 , 66.66472308, 62.69535218, 68.57347813, 67.05571194,\n",
       "       64.6951473 , 67.27285397, 66.18644713, 62.96034322, 65.31444189,\n",
       "       69.82772157, 68.64715953, 57.70936578, 64.54028613, 66.87052784,\n",
       "       65.73617034, 74.13505715, 68.86967138, 70.7976023 , 66.77088666,\n",
       "       70.16952015, 68.92854512, 64.74940862, 62.52595976, 66.0984582 ,\n",
       "       64.90175234, 64.59100826, 67.53607099, 68.94883032, 64.14667953,\n",
       "       65.60004033, 65.34903647, 64.19924176, 68.17010321, 66.19811823,\n",
       "       65.64700269, 64.29671506, 68.17085789, 68.67149136, 71.96879056,\n",
       "       65.07150054, 65.55959241, 65.96646549, 64.13294684, 67.17829987,\n",
       "       64.18369076, 74.44700768, 64.88410786, 65.71044247, 71.10677537,\n",
       "       67.02864883, 65.06969459, 63.8217072 , 66.38802453, 61.29456668,\n",
       "       68.90779353, 68.28262916, 67.86913687, 66.2591992 , 70.94432633,\n",
       "       68.58768416, 68.48731647, 67.64933727, 68.11775759, 71.57169071,\n",
       "       62.59413777, 62.63001146, 67.45264193, 65.8687195 , 71.17962499,\n",
       "       64.47275448, 66.15323236, 58.79014909, 66.42391185, 61.85548475,\n",
       "       65.9488666 , 68.76472088, 62.76627625, 64.32607783, 65.98119576,\n",
       "       69.39009685, 66.13220123, 73.01726936, 67.04562618, 61.88132409,\n",
       "       67.08271315, 65.41401178, 62.32764206, 69.25035792, 71.9265847 ,\n",
       "       62.41894118, 71.40112738, 65.86299408, 63.13838343, 66.08762496,\n",
       "       65.31052295, 70.26728672, 67.51130133, 64.65178519, 61.46718925,\n",
       "       63.85189894, 66.95627576, 61.03391154, 60.91339086, 69.8932339 ,\n",
       "       62.85511534, 70.35392265, 65.77336109, 65.16326739, 65.01176309,\n",
       "       63.44046502, 64.9901254 , 63.51654907, 66.84812448, 66.27716998,\n",
       "       65.65097244, 70.28734733, 71.14780126, 71.52900735, 61.66232746,\n",
       "       62.81203209, 66.00567675, 66.62161307, 66.84948884, 61.0652444 ,\n",
       "       65.69514313, 66.38772172, 64.01935513, 66.76698065, 68.99520439,\n",
       "       68.95948998, 65.10183241, 63.55551242, 65.77080815, 64.32473102,\n",
       "       69.31081861, 66.79236509, 65.57559498, 70.1461061 , 62.71252016,\n",
       "       63.67896452, 63.29518892, 69.887309  , 64.50604005, 64.88675323,\n",
       "       64.80546103, 70.3685012 , 67.94041705, 65.68148003, 63.53158554,\n",
       "       63.13347461, 69.24853286, 67.81540743, 64.9471601 , 66.20631099,\n",
       "       67.46804811, 68.06722378, 69.2277173 , 60.28593551, 59.73575263,\n",
       "       63.05120479, 70.46982305, 70.70622879, 65.69136936, 69.13823272,\n",
       "       66.78245069, 61.75718554, 63.69620452, 64.45813303, 67.60975087,\n",
       "       66.94167032, 66.21051188, 63.76342083, 70.3285736 , 65.68614773,\n",
       "       59.70059812, 64.25886177, 70.75453168, 66.54171127, 69.69361305,\n",
       "       66.89699157, 65.54550189, 68.82595446, 64.60801581, 66.04665202,\n",
       "       66.46954395, 65.63273584, 71.65316215, 65.4283835 , 68.37173825,\n",
       "       65.43436699, 64.24368236, 66.38857951, 69.09677553, 65.10257224,\n",
       "       72.41947641, 61.07699688, 67.85476111, 68.98602948, 65.67486094,\n",
       "       62.49613133, 66.94666965, 66.37404775, 65.5063379 , 64.47019583,\n",
       "       68.12636864, 65.26401102, 62.93560188, 62.81119542, 63.41323847,\n",
       "       65.63531242, 65.06673011, 57.83461684, 68.45465788, 68.91015456,\n",
       "       65.52138837, 66.41245603, 61.95372209, 65.32064346, 64.3098445 ,\n",
       "       64.8833028 , 64.04551589, 66.45288341, 63.03775302, 55.49997528,\n",
       "       65.72618946, 65.75125463, 63.03940909, 65.77672209, 63.31214584,\n",
       "       65.94641035, 64.93357257, 63.55354579, 66.5526015 , 66.95816679,\n",
       "       67.69900182, 65.23235041, 66.06675987, 64.65646619, 65.78747159,\n",
       "       64.77738211, 68.57209901, 63.30735632, 63.46172254, 63.01231158,\n",
       "       68.14035124, 65.76625872, 61.50528911, 68.25700428, 64.95736775,\n",
       "       65.05791684, 58.63535615, 67.76789965, 61.5608847 , 65.55339805,\n",
       "       66.31227131, 68.8140304 , 66.30959006, 67.89213804, 66.81330594,\n",
       "       70.47740761, 69.22842776, 68.47346988, 63.03953756, 70.67807817,\n",
       "       69.31042007, 67.54539229, 62.67161323, 71.79891072, 68.54090633,\n",
       "       65.59994552, 62.78763906, 60.78273488, 66.76724943, 65.08996329,\n",
       "       61.35544304, 67.66545489, 66.59821525, 68.18299417, 72.50809403,\n",
       "       66.50598923, 65.72248075, 67.7725474 , 71.87985661, 62.51314966,\n",
       "       62.87949391, 66.27975027, 62.96555983, 63.60835618, 65.72920812,\n",
       "       68.72580834, 64.74693974, 63.72994815, 68.73915646, 66.00554905,\n",
       "       71.91548317, 65.07799225, 62.48785223, 66.62925407, 70.39031898,\n",
       "       65.31150246, 70.10451502, 67.05919529, 70.61595168, 62.393483  ,\n",
       "       72.55507012, 65.47903631, 67.02424878, 69.22262135, 71.17080115,\n",
       "       68.23503271, 61.55340202, 68.48938145, 65.89880643, 70.00723971,\n",
       "       71.76421312, 73.06460557, 66.32581442, 71.07913643, 69.43534968,\n",
       "       72.28105592, 68.01969508, 58.74525315, 66.94546371, 70.89612264,\n",
       "       64.52634545, 64.64447462, 65.69442649, 70.62920394, 66.14015397,\n",
       "       65.15303189, 61.61936378, 64.70603637, 67.06616224, 64.75768519,\n",
       "       65.14081873, 61.37141563, 63.5162151 , 69.16607802, 70.11513887,\n",
       "       69.93749255, 60.92429243, 68.44300425, 65.32555632, 68.13076127,\n",
       "       66.04237599, 68.8732887 , 62.29935609, 65.0757508 , 68.77866505,\n",
       "       64.40037913, 69.466205  , 61.76531696, 69.4667228 , 59.37078434,\n",
       "       68.83722085, 67.50374252, 62.95175847, 67.32245558, 65.79564772,\n",
       "       61.72763668, 65.78573296, 65.46815418, 65.04074095, 69.41972755,\n",
       "       65.44273343, 74.21719387, 60.08032635, 67.20876833, 69.51953001,\n",
       "       69.56269332, 69.96964818, 69.12763342, 69.15141613, 63.86228196,\n",
       "       64.36178757, 66.23899905, 66.20300192, 71.17911536, 67.55819205,\n",
       "       66.11782615, 67.18261109, 67.12654624, 69.49734065, 66.0145661 ,\n",
       "       65.36009497, 68.49926301, 67.95344083, 65.72645228, 70.53800685,\n",
       "       64.38939937, 65.6660061 , 69.13260866, 60.95070722, 67.17505275,\n",
       "       60.3326432 , 67.16271013, 65.08496965, 63.24601292, 65.27302226,\n",
       "       61.02615308, 70.50239805, 70.10637256, 68.34421018, 67.40207869,\n",
       "       71.60092678, 62.86441261, 66.22783303, 70.5983913 , 63.04987436,\n",
       "       67.79585586, 64.87113819, 68.71825068, 66.07153577, 60.97441347,\n",
       "       69.31886319, 69.55594947, 60.50950557, 66.97327462, 68.04072723,\n",
       "       58.52415397, 64.33054442, 67.04683735, 57.4090926 , 65.84659205,\n",
       "       61.42813393, 64.40194675, 69.02559529, 61.75384309, 66.65511544,\n",
       "       64.60257578, 65.05066463, 68.60498535, 71.89938955, 71.85988573,\n",
       "       68.2831578 , 66.1419257 , 65.15573205, 65.28637691, 65.6528743 ,\n",
       "       65.79191725, 72.61431479, 65.46039663, 64.18871094, 67.94238672,\n",
       "       65.74747774, 65.95826472, 64.45702203, 60.54187353, 62.16733105,\n",
       "       62.7893769 , 67.13078004, 62.56048615, 66.50454181, 65.77103953,\n",
       "       67.6028677 , 66.24690916, 69.08785098, 65.66786989, 71.55963085,\n",
       "       64.55364353, 63.77368951, 62.82930306, 63.95117591, 64.61526527,\n",
       "       64.6435927 , 65.56224767, 64.78931754, 69.88574493, 69.66353156,\n",
       "       67.08069314, 65.71448141, 60.11070474, 65.55213905, 60.81767029,\n",
       "       69.04344827, 69.19246115, 64.84476912, 67.3584024 , 65.13854467,\n",
       "       68.0084322 , 70.37367608, 68.49486062, 69.46787317, 67.59373118,\n",
       "       67.50652926, 65.85072347, 65.42616148, 65.62804669, 64.6478888 ,\n",
       "       60.60439996, 65.90357084, 65.8317515 , 66.44548365, 64.60047335,\n",
       "       72.15698822, 65.98090489, 75.32501722, 67.7842828 , 67.67698451,\n",
       "       71.02910255, 68.19528966, 56.47400075, 69.41997938, 61.01170482,\n",
       "       64.30049884, 62.82117812, 67.62133846, 64.80111903, 68.79985878,\n",
       "       69.10958961, 69.76131537, 67.13065774, 70.01241048, 63.5628343 ,\n",
       "       64.84233287, 60.17955462, 63.64266389, 67.4282787 , 68.94040815,\n",
       "       64.82272621, 60.58471011, 63.44123442, 66.32926662, 67.72116186,\n",
       "       64.00954373, 64.67039811, 66.07034826, 64.30636235, 66.49832061,\n",
       "       65.51544604, 69.2411728 , 67.63359604, 68.13994131, 66.91463586,\n",
       "       65.49062008, 64.1780409 , 60.58887382, 67.39214529, 67.7278215 ,\n",
       "       68.25051483, 64.8126128 , 67.35106375, 65.90385575, 68.16611044,\n",
       "       65.09406948, 63.0407562 , 71.56202694, 64.56458114, 66.34971976,\n",
       "       61.64029647, 64.14697767, 71.06463516, 64.47864114, 66.29367628,\n",
       "       62.64138748, 67.10100769, 64.617669  , 67.35115143, 64.5427558 ,\n",
       "       68.82217082, 64.61364354, 71.6335469 , 68.88196664, 63.20710813,\n",
       "       71.36861239, 69.57274148, 61.51448224, 71.21970931, 56.32983964,\n",
       "       64.41105998, 71.8396957 , 67.72052978, 65.66581258, 65.21882695,\n",
       "       66.50605864, 69.21873192, 63.66369147, 62.47553267, 64.31528624,\n",
       "       59.76349311, 66.27158126, 68.74350696, 63.91506503, 66.33034652,\n",
       "       61.69516755, 62.21576585, 65.54715344, 66.16944938, 68.71190602,\n",
       "       67.64934469, 70.88928551, 62.38473737, 70.8580499 , 64.32969262,\n",
       "       65.61277578, 66.60801731, 64.47023936, 63.85232131, 64.57992815,\n",
       "       61.82654779, 66.81595129, 68.77394459, 64.97922756, 62.58790173,\n",
       "       69.50650385, 69.35667555, 64.72607496, 65.74430965, 69.48818723,\n",
       "       63.88849789, 67.32679415, 62.54878772, 66.58894245, 64.19559073,\n",
       "       62.25065913, 68.31935744, 64.13433912, 65.63311531, 63.35747465,\n",
       "       69.98975286, 64.80896902, 69.77979627, 66.60171632, 65.30095524,\n",
       "       64.84517115, 71.65343909, 62.6235288 , 59.56417583, 70.93343613,\n",
       "       68.13842851, 68.82143002, 60.28109075, 70.0687767 , 65.53652354,\n",
       "       73.28969998, 68.67613697, 67.04963926, 63.04328511, 64.90740557,\n",
       "       64.64266737, 67.74622621, 64.6144247 , 64.35614874, 64.36209171,\n",
       "       62.00529237, 66.38919566, 68.81102076, 66.32273495, 70.52556043,\n",
       "       64.22114786, 63.75865264, 70.79202024, 65.40495786, 57.24646769,\n",
       "       62.76496079, 59.63921466, 69.26907441, 63.7442641 , 69.32688142,\n",
       "       64.15459168, 62.62170693, 63.71184646, 71.24302619, 61.63062091,\n",
       "       63.2921157 , 68.93181053, 66.18534252, 67.10848861, 68.82443252,\n",
       "       62.1932473 , 62.85652165, 65.15062461, 64.66275141, 64.8576416 ,\n",
       "       68.71644781, 67.68664903, 69.40339503, 69.85792329, 67.32319454,\n",
       "       73.16646095, 57.71165773, 62.29945781, 71.59373502, 64.8388338 ,\n",
       "       64.16105554, 62.88417758, 66.45082473, 68.10137143, 62.87151033,\n",
       "       69.4797398 , 64.18999878, 65.15166772, 66.48206964, 63.74900951,\n",
       "       68.71428472, 67.09051641, 65.51267844, 67.10494068, 62.30598236,\n",
       "       66.0836098 , 64.0118733 , 70.58587678, 64.7898837 , 63.69041954,\n",
       "       64.62262175, 65.34830663, 65.85826591, 67.15486689, 63.22600389,\n",
       "       67.11365228, 68.9505757 , 66.16395833, 65.2287329 , 61.89545714,\n",
       "       64.83570395, 67.43601098, 61.27692067, 67.06096402, 64.93482737,\n",
       "       69.77950869, 66.26637523, 70.23458682, 61.98044618, 60.49502332,\n",
       "       68.90616985, 70.27321942, 65.34423416, 67.37713129, 63.74673164,\n",
       "       64.082487  , 63.78840819, 74.20421948, 63.70202475, 68.18758725,\n",
       "       61.4248301 , 62.18770052, 66.78822502, 66.00144754, 64.29585476,\n",
       "       68.67305723, 67.11180721, 69.48776855, 62.93106975, 68.73866419,\n",
       "       63.89301461, 66.36681701, 69.61492319, 61.68090477, 60.29945448,\n",
       "       64.58280388, 64.8991775 , 64.54389847, 72.17559369, 62.12858265,\n",
       "       69.83120592, 61.99819782, 69.92729002, 61.39525338, 65.43381632,\n",
       "       65.66539423, 64.05117537, 68.3279522 , 66.33869219, 60.56431414,\n",
       "       68.81410561, 58.65469901, 66.87886432, 67.20417147, 65.54250547,\n",
       "       66.37302405, 66.96564746, 69.30090502, 66.99404274, 63.40041521,\n",
       "       63.84851665, 62.41298682, 63.28287804, 69.30722117, 66.03056626,\n",
       "       70.99992073, 62.36260515, 65.43697679, 60.3474034 , 65.42121294,\n",
       "       64.1214944 , 65.01939158, 70.10912512, 67.65403987, 65.25615181,\n",
       "       69.17470308, 66.61463391, 68.0646059 , 65.91848138, 66.20722927,\n",
       "       63.7961339 , 66.30706923, 61.81365675, 65.66138415, 66.5839268 ,\n",
       "       63.64499048, 64.31186744, 68.75551272, 64.00144214, 58.44843124,\n",
       "       64.74576337, 66.90319629, 61.82384339, 67.29656357, 61.85068829,\n",
       "       68.41685692, 65.13860003, 70.64797096, 65.67126192, 66.05726509,\n",
       "       65.8076182 , 67.33009683, 66.12346944, 68.75526011, 68.03958321,\n",
       "       68.25220909, 63.37736298, 64.65893676, 66.48460261, 71.41509812,\n",
       "       64.97077015, 67.42318918, 65.92959364, 67.69096523, 64.43804603,\n",
       "       67.44142749, 66.78156206, 62.99532577, 69.70658196, 65.72967428,\n",
       "       66.32236275, 70.65937799, 59.5064819 , 70.04228721, 65.65841289,\n",
       "       65.57094747, 65.14093565, 64.84461206, 63.0448224 , 66.23419106,\n",
       "       64.91985484, 62.10747097, 69.61829167, 64.22502911, 67.20601816,\n",
       "       65.50978776, 61.23504622, 67.49473392, 61.97255545, 59.97876098,\n",
       "       63.19561673, 61.90509414, 60.58594409, 62.77222775, 64.40451315,\n",
       "       65.20906708, 65.39910718, 63.77116193, 59.23304475, 64.62864297,\n",
       "       65.63759669, 62.95390218, 70.55044816, 65.02539701, 65.29519786,\n",
       "       63.22183676, 62.87224411, 71.5761196 , 65.97639828, 68.33043863,\n",
       "       69.36965705, 63.55234044, 66.21829961, 71.6190698 , 64.2430006 ,\n",
       "       66.10776882, 63.14732812, 64.0516123 , 68.44053888, 68.30637804,\n",
       "       63.57865827, 70.85891479, 63.78315178, 72.66313479, 63.04680733,\n",
       "       67.26112643, 64.67531948, 61.3889481 , 65.16669463, 69.79105736,\n",
       "       67.813599  , 65.80437263, 63.91239499, 61.59835298, 67.30959958])"
      ]
     },
     "execution_count": 10,
     "metadata": {},
     "output_type": "execute_result"
    }
   ],
   "source": [
    "heights"
   ]
  },
  {
   "cell_type": "code",
   "execution_count": 11,
   "id": "5dabad10-7ae0-4827-9d09-6b95ea27deea",
   "metadata": {
    "id": "5dabad10-7ae0-4827-9d09-6b95ea27deea"
   },
   "outputs": [],
   "source": [
    "x = 70"
   ]
  },
  {
   "cell_type": "code",
   "execution_count": 12,
   "id": "2ab7b5e6-e40f-450c-becf-eadedda71980",
   "metadata": {
    "id": "2ab7b5e6-e40f-450c-becf-eadedda71980"
   },
   "outputs": [],
   "source": [
    "import scipy.stats as st"
   ]
  },
  {
   "cell_type": "code",
   "execution_count": 15,
   "id": "4ac9b996-c8f5-4b22-b4bc-334c55e4b5ae",
   "metadata": {},
   "outputs": [
    {
     "name": "stdout",
     "output_type": "stream",
     "text": [
      "0.9087887802741321\n"
     ]
    }
   ],
   "source": [
    "prob=st.norm.cdf(x,loc=mean_height,scale=std_dev_height)\n",
    "print(prob)"
   ]
  },
  {
   "cell_type": "code",
   "execution_count": null,
   "id": "2262c840-7264-49d1-81fa-ca7e538c729f",
   "metadata": {},
   "outputs": [],
   "source": [
    "# Using Z score table"
   ]
  },
  {
   "cell_type": "code",
   "execution_count": 16,
   "id": "e35ec649-3da4-48b4-970d-4adb8aefc09c",
   "metadata": {},
   "outputs": [
    {
     "data": {
      "text/plain": [
       "1.3333333333333333"
      ]
     },
     "execution_count": 16,
     "metadata": {},
     "output_type": "execute_result"
    }
   ],
   "source": [
    "score=(x-mean_height)/std_dev_height\n",
    "score"
   ]
  },
  {
   "cell_type": "code",
   "execution_count": null,
   "id": "bc831e5e-1f2c-4297-864d-b1afbaa08f53",
   "metadata": {},
   "outputs": [],
   "source": []
  },
  {
   "cell_type": "markdown",
   "id": "99a22f4f-7737-4ef9-9ad0-fb7bd8e0ba46",
   "metadata": {
    "id": "99a22f4f-7737-4ef9-9ad0-fb7bd8e0ba46"
   },
   "source": [
    "Que 2-  Suppose a fitness center manager anticipates the attendance for a particular yoga class throughout the week. Based on historical data and other factors, they estimate the expected attendance in numbers:\n",
    "\n",
    "### Expected Attendance:\n",
    "\n",
    "Monday: 40\n",
    "\n",
    "Tuesday: 45\n",
    "\n",
    "Wednesday: 38\n",
    "\n",
    "Thursday: 50\n",
    "\n",
    "Friday: 55\n",
    "\n",
    "Saturday: 60\n",
    "\n",
    "Sunday: 65\n",
    "\n",
    "However, after the week concludes, the actual attendance is recorded:\n",
    "\n",
    "\n",
    "\n",
    "### Observed (Actual) Attendance:\n",
    "\n",
    "\n",
    "\n",
    "Monday: 38\n",
    "\n",
    "Tuesday: 43\n",
    "\n",
    "Wednesday: 40\n",
    "\n",
    "Thursday: 48\n",
    "\n",
    "Friday: 52\n",
    "\n",
    "Saturday: 58\n",
    "\n",
    "Sunday: 62\n",
    "\n",
    "Ho: There is no significant difference between the expected and observed attendance for the yoga class throughout the week.\n",
    "\n",
    "Ha: There is a significant difference between the expected and observed attendance for the yoga class throughout the week.\n",
    "\n",
    "#### Use chi-square test *Statistical Tools*"
   ]
  },
  {
   "cell_type": "code",
   "execution_count": 26,
   "id": "06f2df44-24f4-4314-900d-d03f02823ceb",
   "metadata": {
    "id": "06f2df44-24f4-4314-900d-d03f02823ceb"
   },
   "outputs": [
    {
     "name": "stdout",
     "output_type": "stream",
     "text": [
      "Chi-square Statistic: 0.7429166155481945\n",
      "P-value: 0.9935176263990592\n",
      "Fail to reject the null hypothesis: There is no significant difference between expected and observed attendance.\n"
     ]
    }
   ],
   "source": [
    "import numpy as np\n",
    "from scipy.stats import chi2\n",
    "\n",
    "expected= np.array([40, 45, 38, 50, 55, 60, 65])\n",
    "observed = np.array([38, 43, 40, 48, 52, 58, 62])\n",
    "\n",
    "chi_square_statistic = np.sum((observed - expected) ** 2 / expected)\n",
    "\n",
    "degrees_of_freedom = len(expected) - 1\n",
    "\n",
    "p_value = 1 - chi2.cdf(chi_square_statistic, df=degrees_of_freedom)\n",
    "\n",
    "print(f\"Chi-square Statistic: {chi_square_statistic:}\")\n",
    "print(f\"P-value: {p_value:}\")\n",
    "\n",
    "alpha = 0.05\n",
    "if p_value < alpha:\n",
    "    print(\"Reject the null hypothesis: There is a significant difference between expected and observed attendance.\")\n",
    "else:\n",
    "    print(\"Fail to reject the null hypothesis: There is no significant difference between expected and observed attendance.\")\n"
   ]
  },
  {
   "cell_type": "code",
   "execution_count": null,
   "id": "3db52de2-8492-49fa-a11f-9289d5318284",
   "metadata": {
    "id": "3db52de2-8492-49fa-a11f-9289d5318284"
   },
   "outputs": [],
   "source": []
  },
  {
   "cell_type": "markdown",
   "id": "a651ae03-9b6a-4af4-a3e9-97b90bb8913e",
   "metadata": {
    "id": "a651ae03-9b6a-4af4-a3e9-97b90bb8913e"
   },
   "source": [
    "Que3 -> Calculate anova test\n",
    "\n",
    "\n",
    "\n",
    "\n",
    "\n",
    "    | Student_ID | Semester | Total_Marks |\n",
    "    |------------|----------|-------------|\n",
    "    | 1          | Fall     | 85          |\n",
    "    | 2          | Fall     | 78          |\n",
    "    | 3          | Fall     | 92          |\n",
    "    | 4          | Spring   | 88          |\n",
    "    | 5          | Spring   | 75          |\n",
    "    | 6          | Spring   | 82          |\n",
    "    | 7          | Summer   | 90          |\n",
    "    | 8          | Summer   | 86          |\n",
    "    | 9          | Summer   | 79          |    \n",
    "\n",
    "\n",
    "Null Hypothesis (Ho): The average marks of students in each semester are approximately equal.\n",
    "\n",
    "Alternative Hypothesis (Ha): The average marks of students in at least one semester are different."
   ]
  },
  {
   "cell_type": "code",
   "execution_count": 27,
   "id": "f4680b16-587c-4bec-809e-bfe473b7538a",
   "metadata": {
    "id": "f4680b16-587c-4bec-809e-bfe473b7538a"
   },
   "outputs": [
    {
     "name": "stdout",
     "output_type": "stream",
     "text": [
      "F-Statistic: 0.27\n",
      "P-Value: 0.7704\n",
      "Fail to reject the null hypothesis: The average marks of students in each semester are approximately equal.\n"
     ]
    }
   ],
   "source": [
    "import pandas as pd\n",
    "import scipy.stats as stats\n",
    "data = {\n",
    "    'Student_ID': [1, 2, 3, 4, 5, 6, 7, 8, 9],\n",
    "    'Semester': ['Fall', 'Fall', 'Fall', 'Spring', 'Spring', 'Spring', 'Summer', 'Summer', 'Summer'],\n",
    "    'Total_Marks': [85, 78, 92, 88, 75, 82, 90, 86, 79]\n",
    "}\n",
    "\n",
    "df = pd.DataFrame(data)\n",
    "anova_result = stats.f_oneway(\n",
    "    df[df['Semester'] == 'Fall']['Total_Marks'],\n",
    "    df[df['Semester'] == 'Spring']['Total_Marks'],\n",
    "    df[df['Semester'] == 'Summer']['Total_Marks']\n",
    ")\n",
    "print(f\"F-Statistic: {anova_result.statistic:.2f}\")\n",
    "print(f\"P-Value: {anova_result.pvalue:.4f}\")\n",
    "alpha = 0.05\n",
    "if anova_result.pvalue < alpha:\n",
    "    print(\"Reject the null hypothesis: The average marks of students in at least one semester are significantly different.\")\n",
    "else:\n",
    "    print(\"Fail to reject the null hypothesis: The average marks of students in each semester are approximately equal.\")"
   ]
  },
  {
   "cell_type": "code",
   "execution_count": null,
   "id": "18d90b6a-a4e8-4b2c-97a2-9829efb6703b",
   "metadata": {
    "id": "18d90b6a-a4e8-4b2c-97a2-9829efb6703b"
   },
   "outputs": [],
   "source": []
  },
  {
   "cell_type": "code",
   "execution_count": null,
   "id": "575e378d-97df-466d-bebb-c0fe35db0935",
   "metadata": {
    "id": "575e378d-97df-466d-bebb-c0fe35db0935"
   },
   "outputs": [],
   "source": []
  },
  {
   "cell_type": "code",
   "execution_count": null,
   "id": "cab935e4-8712-49b3-8201-e9f7b446c5a0",
   "metadata": {
    "id": "cab935e4-8712-49b3-8201-e9f7b446c5a0"
   },
   "outputs": [],
   "source": []
  },
  {
   "cell_type": "code",
   "execution_count": null,
   "id": "d53135d4-8642-469e-adc7-cc8665a07a7e",
   "metadata": {
    "id": "d53135d4-8642-469e-adc7-cc8665a07a7e"
   },
   "outputs": [],
   "source": [
    "#Solution only submit in Github"
   ]
  },
  {
   "cell_type": "code",
   "execution_count": null,
   "id": "81d8187f-1a71-40ea-a3ed-6c30f21ad72b",
   "metadata": {
    "id": "81d8187f-1a71-40ea-a3ed-6c30f21ad72b"
   },
   "outputs": [],
   "source": []
  }
 ],
 "metadata": {
  "colab": {
   "provenance": []
  },
  "kernelspec": {
   "display_name": "Python 3 (ipykernel)",
   "language": "python",
   "name": "python3"
  },
  "language_info": {
   "codemirror_mode": {
    "name": "ipython",
    "version": 3
   },
   "file_extension": ".py",
   "mimetype": "text/x-python",
   "name": "python",
   "nbconvert_exporter": "python",
   "pygments_lexer": "ipython3",
   "version": "3.11.2"
  }
 },
 "nbformat": 4,
 "nbformat_minor": 5
}
