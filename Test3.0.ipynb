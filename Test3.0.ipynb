{
 "cells": [
  {
   "cell_type": "markdown",
   "id": "73e467f6-ad0f-4715-bcfb-5f864b198d21",
   "metadata": {},
   "source": [
    "##  Part1 : Pandas "
   ]
  },
  {
   "cell_type": "code",
   "execution_count": null,
   "id": "3130ff8c-77f2-420f-b69d-3c7406145eb7",
   "metadata": {},
   "outputs": [],
   "source": [
    "# Creating dataframe "
   ]
  },
  {
   "cell_type": "code",
   "execution_count": 25,
   "id": "4a9611c8-66dd-46a3-a81f-50afaed086d4",
   "metadata": {},
   "outputs": [],
   "source": [
    "import pandas as pd\n",
    "import numpy as np"
   ]
  },
  {
   "cell_type": "code",
   "execution_count": null,
   "id": "47dda146-025c-489d-9eb5-c35d001a180b",
   "metadata": {},
   "outputs": [],
   "source": []
  },
  {
   "cell_type": "code",
   "execution_count": 27,
   "id": "3251b307-86fd-45f7-9ed4-7cbe7fbce510",
   "metadata": {},
   "outputs": [],
   "source": [
    "df= pd.DataFrame({'Name': ['Alice', 'Bob', 'Charlie', 'David', 'Eve'], 'Age': [24, 27, 22, 32, 29],\n",
    "'Score': [85.5, 90.3, 88.0, 92.1, 78.8]}\n",
    ")"
   ]
  },
  {
   "cell_type": "code",
   "execution_count": 28,
   "id": "e9d49d76-d9b8-4b4d-b901-db8e8f2a311c",
   "metadata": {},
   "outputs": [
    {
     "data": {
      "text/html": [
       "<div>\n",
       "<style scoped>\n",
       "    .dataframe tbody tr th:only-of-type {\n",
       "        vertical-align: middle;\n",
       "    }\n",
       "\n",
       "    .dataframe tbody tr th {\n",
       "        vertical-align: top;\n",
       "    }\n",
       "\n",
       "    .dataframe thead th {\n",
       "        text-align: right;\n",
       "    }\n",
       "</style>\n",
       "<table border=\"1\" class=\"dataframe\">\n",
       "  <thead>\n",
       "    <tr style=\"text-align: right;\">\n",
       "      <th></th>\n",
       "      <th>Name</th>\n",
       "      <th>Age</th>\n",
       "      <th>Score</th>\n",
       "    </tr>\n",
       "  </thead>\n",
       "  <tbody>\n",
       "    <tr>\n",
       "      <th>0</th>\n",
       "      <td>Alice</td>\n",
       "      <td>24</td>\n",
       "      <td>85.5</td>\n",
       "    </tr>\n",
       "    <tr>\n",
       "      <th>1</th>\n",
       "      <td>Bob</td>\n",
       "      <td>27</td>\n",
       "      <td>90.3</td>\n",
       "    </tr>\n",
       "    <tr>\n",
       "      <th>2</th>\n",
       "      <td>Charlie</td>\n",
       "      <td>22</td>\n",
       "      <td>88.0</td>\n",
       "    </tr>\n",
       "    <tr>\n",
       "      <th>3</th>\n",
       "      <td>David</td>\n",
       "      <td>32</td>\n",
       "      <td>92.1</td>\n",
       "    </tr>\n",
       "    <tr>\n",
       "      <th>4</th>\n",
       "      <td>Eve</td>\n",
       "      <td>29</td>\n",
       "      <td>78.8</td>\n",
       "    </tr>\n",
       "  </tbody>\n",
       "</table>\n",
       "</div>"
      ],
      "text/plain": [
       "      Name  Age  Score\n",
       "0    Alice   24   85.5\n",
       "1      Bob   27   90.3\n",
       "2  Charlie   22   88.0\n",
       "3    David   32   92.1\n",
       "4      Eve   29   78.8"
      ]
     },
     "execution_count": 28,
     "metadata": {},
     "output_type": "execute_result"
    }
   ],
   "source": [
    "df"
   ]
  },
  {
   "cell_type": "code",
   "execution_count": 29,
   "id": "adce238e-75ab-4895-9635-4846f64e53b7",
   "metadata": {},
   "outputs": [],
   "source": [
    "# first three rows"
   ]
  },
  {
   "cell_type": "code",
   "execution_count": 30,
   "id": "e1fc7592-f80f-4756-bdab-2776b7a3294b",
   "metadata": {},
   "outputs": [
    {
     "data": {
      "text/html": [
       "<div>\n",
       "<style scoped>\n",
       "    .dataframe tbody tr th:only-of-type {\n",
       "        vertical-align: middle;\n",
       "    }\n",
       "\n",
       "    .dataframe tbody tr th {\n",
       "        vertical-align: top;\n",
       "    }\n",
       "\n",
       "    .dataframe thead th {\n",
       "        text-align: right;\n",
       "    }\n",
       "</style>\n",
       "<table border=\"1\" class=\"dataframe\">\n",
       "  <thead>\n",
       "    <tr style=\"text-align: right;\">\n",
       "      <th></th>\n",
       "      <th>Name</th>\n",
       "      <th>Age</th>\n",
       "      <th>Score</th>\n",
       "    </tr>\n",
       "  </thead>\n",
       "  <tbody>\n",
       "    <tr>\n",
       "      <th>0</th>\n",
       "      <td>Alice</td>\n",
       "      <td>24</td>\n",
       "      <td>85.5</td>\n",
       "    </tr>\n",
       "    <tr>\n",
       "      <th>1</th>\n",
       "      <td>Bob</td>\n",
       "      <td>27</td>\n",
       "      <td>90.3</td>\n",
       "    </tr>\n",
       "    <tr>\n",
       "      <th>2</th>\n",
       "      <td>Charlie</td>\n",
       "      <td>22</td>\n",
       "      <td>88.0</td>\n",
       "    </tr>\n",
       "  </tbody>\n",
       "</table>\n",
       "</div>"
      ],
      "text/plain": [
       "      Name  Age  Score\n",
       "0    Alice   24   85.5\n",
       "1      Bob   27   90.3\n",
       "2  Charlie   22   88.0"
      ]
     },
     "execution_count": 30,
     "metadata": {},
     "output_type": "execute_result"
    }
   ],
   "source": [
    "df.iloc[:3]"
   ]
  },
  {
   "cell_type": "code",
   "execution_count": 31,
   "id": "6f64d312-37c4-4f20-86e9-2b700dabad31",
   "metadata": {},
   "outputs": [],
   "source": [
    "# column selection"
   ]
  },
  {
   "cell_type": "code",
   "execution_count": 32,
   "id": "0190c6a1-5051-4a12-b986-a3023012bf98",
   "metadata": {},
   "outputs": [
    {
     "data": {
      "text/html": [
       "<div>\n",
       "<style scoped>\n",
       "    .dataframe tbody tr th:only-of-type {\n",
       "        vertical-align: middle;\n",
       "    }\n",
       "\n",
       "    .dataframe tbody tr th {\n",
       "        vertical-align: top;\n",
       "    }\n",
       "\n",
       "    .dataframe thead th {\n",
       "        text-align: right;\n",
       "    }\n",
       "</style>\n",
       "<table border=\"1\" class=\"dataframe\">\n",
       "  <thead>\n",
       "    <tr style=\"text-align: right;\">\n",
       "      <th></th>\n",
       "      <th>Name</th>\n",
       "      <th>Score</th>\n",
       "    </tr>\n",
       "  </thead>\n",
       "  <tbody>\n",
       "    <tr>\n",
       "      <th>0</th>\n",
       "      <td>Alice</td>\n",
       "      <td>85.5</td>\n",
       "    </tr>\n",
       "    <tr>\n",
       "      <th>1</th>\n",
       "      <td>Bob</td>\n",
       "      <td>90.3</td>\n",
       "    </tr>\n",
       "    <tr>\n",
       "      <th>2</th>\n",
       "      <td>Charlie</td>\n",
       "      <td>88.0</td>\n",
       "    </tr>\n",
       "    <tr>\n",
       "      <th>3</th>\n",
       "      <td>David</td>\n",
       "      <td>92.1</td>\n",
       "    </tr>\n",
       "    <tr>\n",
       "      <th>4</th>\n",
       "      <td>Eve</td>\n",
       "      <td>78.8</td>\n",
       "    </tr>\n",
       "  </tbody>\n",
       "</table>\n",
       "</div>"
      ],
      "text/plain": [
       "      Name  Score\n",
       "0    Alice   85.5\n",
       "1      Bob   90.3\n",
       "2  Charlie   88.0\n",
       "3    David   92.1\n",
       "4      Eve   78.8"
      ]
     },
     "execution_count": 32,
     "metadata": {},
     "output_type": "execute_result"
    }
   ],
   "source": [
    "df[['Name','Score']]"
   ]
  },
  {
   "cell_type": "code",
   "execution_count": 33,
   "id": "89fdc992-428f-46c8-8ddc-d0e9df0fea97",
   "metadata": {},
   "outputs": [],
   "source": [
    "#Filtering Data "
   ]
  },
  {
   "cell_type": "code",
   "execution_count": 34,
   "id": "15bbe02a-be54-4bc3-b0c6-6dc7e196a47a",
   "metadata": {},
   "outputs": [
    {
     "name": "stdout",
     "output_type": "stream",
     "text": [
      "\n",
      " Rows with Age >25 inch \n",
      "\n",
      "    Name  Age  Score\n",
      "1    Bob   27   90.3\n",
      "3  David   32   92.1\n",
      "4    Eve   29   78.8\n"
     ]
    }
   ],
   "source": [
    "print(\"\\n Rows with Age >25 inch \\n\",)\n",
    "print(df[df['Age']>25])"
   ]
  },
  {
   "cell_type": "code",
   "execution_count": 35,
   "id": "6bc68125-f404-4469-a9c9-60716a13a365",
   "metadata": {},
   "outputs": [],
   "source": [
    "#Adding a new column"
   ]
  },
  {
   "cell_type": "code",
   "execution_count": 47,
   "id": "fd6b783f-134e-4625-9c40-60595e6fd70e",
   "metadata": {},
   "outputs": [
    {
     "name": "stdout",
     "output_type": "stream",
     "text": [
      "      Name  Age  Score  Passed\n",
      "3    David   32   92.1    True\n",
      "1      Bob   27   90.3    True\n",
      "2  Charlie   22   88.0    True\n",
      "0    Alice   24   85.5    True\n",
      "4      Eve   29   78.8   False\n"
     ]
    }
   ],
   "source": [
    "df['Passed'] = df['Score'] > 80\n",
    "print(df)"
   ]
  },
  {
   "cell_type": "code",
   "execution_count": null,
   "id": "690b64c9-227e-431c-927a-49970da234d2",
   "metadata": {},
   "outputs": [],
   "source": []
  },
  {
   "cell_type": "code",
   "execution_count": 36,
   "id": "eecb227e-b2e9-449b-8a36-21ba48eb713f",
   "metadata": {},
   "outputs": [],
   "source": [
    "# Sort the data"
   ]
  },
  {
   "cell_type": "code",
   "execution_count": 37,
   "id": "1c44cc4c-588e-47f1-88d4-530502344670",
   "metadata": {},
   "outputs": [],
   "source": [
    "df = df.sort_values('Score', ascending=False)"
   ]
  },
  {
   "cell_type": "code",
   "execution_count": 38,
   "id": "8c4dd488-21c1-474e-bc13-07fd32bd7229",
   "metadata": {},
   "outputs": [
    {
     "data": {
      "text/html": [
       "<div>\n",
       "<style scoped>\n",
       "    .dataframe tbody tr th:only-of-type {\n",
       "        vertical-align: middle;\n",
       "    }\n",
       "\n",
       "    .dataframe tbody tr th {\n",
       "        vertical-align: top;\n",
       "    }\n",
       "\n",
       "    .dataframe thead th {\n",
       "        text-align: right;\n",
       "    }\n",
       "</style>\n",
       "<table border=\"1\" class=\"dataframe\">\n",
       "  <thead>\n",
       "    <tr style=\"text-align: right;\">\n",
       "      <th></th>\n",
       "      <th>Name</th>\n",
       "      <th>Age</th>\n",
       "      <th>Score</th>\n",
       "    </tr>\n",
       "  </thead>\n",
       "  <tbody>\n",
       "    <tr>\n",
       "      <th>3</th>\n",
       "      <td>David</td>\n",
       "      <td>32</td>\n",
       "      <td>92.1</td>\n",
       "    </tr>\n",
       "    <tr>\n",
       "      <th>1</th>\n",
       "      <td>Bob</td>\n",
       "      <td>27</td>\n",
       "      <td>90.3</td>\n",
       "    </tr>\n",
       "    <tr>\n",
       "      <th>2</th>\n",
       "      <td>Charlie</td>\n",
       "      <td>22</td>\n",
       "      <td>88.0</td>\n",
       "    </tr>\n",
       "    <tr>\n",
       "      <th>0</th>\n",
       "      <td>Alice</td>\n",
       "      <td>24</td>\n",
       "      <td>85.5</td>\n",
       "    </tr>\n",
       "    <tr>\n",
       "      <th>4</th>\n",
       "      <td>Eve</td>\n",
       "      <td>29</td>\n",
       "      <td>78.8</td>\n",
       "    </tr>\n",
       "  </tbody>\n",
       "</table>\n",
       "</div>"
      ],
      "text/plain": [
       "      Name  Age  Score\n",
       "3    David   32   92.1\n",
       "1      Bob   27   90.3\n",
       "2  Charlie   22   88.0\n",
       "0    Alice   24   85.5\n",
       "4      Eve   29   78.8"
      ]
     },
     "execution_count": 38,
     "metadata": {},
     "output_type": "execute_result"
    }
   ],
   "source": [
    "df"
   ]
  },
  {
   "cell_type": "code",
   "execution_count": 39,
   "id": "b72402a4-dea4-4e83-bfc4-4b11d7801d49",
   "metadata": {},
   "outputs": [],
   "source": [
    "# Group By"
   ]
  },
  {
   "cell_type": "code",
   "execution_count": 49,
   "id": "e6bab59c-6b30-4de2-bfa6-08f021f9e88d",
   "metadata": {},
   "outputs": [
    {
     "name": "stdout",
     "output_type": "stream",
     "text": [
      "Passed\n",
      "False    78.800\n",
      "True     88.975\n",
      "Name: Score, dtype: float64\n"
     ]
    }
   ],
   "source": [
    "mean_scores = df.groupby('Passed')['Score'].mean()\n",
    "print(mean_scores)"
   ]
  },
  {
   "cell_type": "code",
   "execution_count": 40,
   "id": "52efb2e1-31ae-421c-81cb-44a230cfd66a",
   "metadata": {},
   "outputs": [],
   "source": [
    "# Handling Missing Data"
   ]
  },
  {
   "cell_type": "code",
   "execution_count": 50,
   "id": "d510fe7d-fa33-4d7e-b8e2-f2440173d496",
   "metadata": {},
   "outputs": [
    {
     "name": "stdout",
     "output_type": "stream",
     "text": [
      "      Name  Age  Score  Passed  Attendance\n",
      "3    David   32   92.1    True   90.000000\n",
      "1      Bob   27   90.3    True   87.333333\n",
      "2  Charlie   22   88.0    True   85.000000\n",
      "0    Alice   24   85.5    True   87.000000\n",
      "4      Eve   29   78.8   False   87.333333\n"
     ]
    }
   ],
   "source": [
    "df['Attendance'] = [90, np.nan, 85, 87, np.nan]\n",
    "\n",
    "df['Attendance'].fillna(df['Attendance'].mean(), inplace=True)\n",
    "\n",
    "print(df)"
   ]
  },
  {
   "cell_type": "code",
   "execution_count": null,
   "id": "80bc6aca-1535-46b9-89a4-b1a3f3ca3ce0",
   "metadata": {},
   "outputs": [],
   "source": []
  },
  {
   "cell_type": "markdown",
   "id": "529e97e7-afc2-4e50-86a3-57f4eb3d763e",
   "metadata": {},
   "source": [
    "## Part -2 Numpy"
   ]
  },
  {
   "cell_type": "code",
   "execution_count": null,
   "id": "9e1a703d-b4dc-4d88-8dfb-eadfbc7a579d",
   "metadata": {},
   "outputs": [],
   "source": [
    "# array creation"
   ]
  },
  {
   "cell_type": "code",
   "execution_count": 76,
   "id": "9927553b-9edf-4811-bc0c-049991821627",
   "metadata": {},
   "outputs": [],
   "source": [
    "import numpy as np"
   ]
  },
  {
   "cell_type": "code",
   "execution_count": 77,
   "id": "9d5d47aa-81ee-48aa-8888-4fc006870843",
   "metadata": {},
   "outputs": [],
   "source": [
    "x = np.arange(10,20)"
   ]
  },
  {
   "cell_type": "code",
   "execution_count": 78,
   "id": "5291d1f7-2711-4c9a-85be-f129abf75943",
   "metadata": {},
   "outputs": [
    {
     "data": {
      "text/plain": [
       "array([10, 11, 12, 13, 14, 15, 16, 17, 18, 19])"
      ]
     },
     "execution_count": 78,
     "metadata": {},
     "output_type": "execute_result"
    }
   ],
   "source": [
    "x"
   ]
  },
  {
   "cell_type": "code",
   "execution_count": 79,
   "id": "2d62ad5b-a071-4d5b-90cd-3c845f5f82f9",
   "metadata": {},
   "outputs": [],
   "source": [
    "#reshape array\n"
   ]
  },
  {
   "cell_type": "code",
   "execution_count": 80,
   "id": "d10c2815-315b-4418-98ef-a0d48f452b07",
   "metadata": {},
   "outputs": [
    {
     "data": {
      "text/plain": [
       "array([[10, 11, 12, 13, 14],\n",
       "       [15, 16, 17, 18, 19]])"
      ]
     },
     "execution_count": 80,
     "metadata": {},
     "output_type": "execute_result"
    }
   ],
   "source": [
    "matrix = x.reshape(2, 5)\n",
    "matrix"
   ]
  },
  {
   "cell_type": "code",
   "execution_count": 56,
   "id": "d1ecc6a3-3e6b-44d3-8856-803f5923a4e9",
   "metadata": {},
   "outputs": [],
   "source": [
    "#array operation"
   ]
  },
  {
   "cell_type": "code",
   "execution_count": 58,
   "id": "eb2c482c-677f-460b-af76-27800437d210",
   "metadata": {},
   "outputs": [
    {
     "data": {
      "text/plain": [
       "(array([5, 7, 9]), array([ 4, 10, 18]))"
      ]
     },
     "execution_count": 58,
     "metadata": {},
     "output_type": "execute_result"
    }
   ],
   "source": [
    "array1 = np.array([1, 2, 3])\n",
    "array2 = np.array([4, 5, 6])\n",
    "add_result = array1 + array2\n",
    "multiply_result = array1 * array2\n",
    "\n",
    "add_result, multiply_result"
   ]
  },
  {
   "cell_type": "code",
   "execution_count": 59,
   "id": "57c60916-a970-414e-ac82-d61f84824c29",
   "metadata": {},
   "outputs": [],
   "source": [
    "#array indexing"
   ]
  },
  {
   "cell_type": "code",
   "execution_count": 60,
   "id": "e183452d-d096-4cd8-a8f7-6d512a8b4f3f",
   "metadata": {},
   "outputs": [
    {
     "name": "stdout",
     "output_type": "stream",
     "text": [
      "[20 40]\n"
     ]
    }
   ],
   "source": [
    "arr = np.array([10, 20, 30, 40, 50])\n",
    "sel_elements = arr[[1, 3]]\n",
    "print(sel_elements)"
   ]
  },
  {
   "cell_type": "code",
   "execution_count": 61,
   "id": "ec3cae19-4ac6-4a5d-94b7-c8fbc3d06031",
   "metadata": {},
   "outputs": [
    {
     "name": "stdout",
     "output_type": "stream",
     "text": [
      "Mean: 30.0\n",
      "Standard Deviation: 14.142135623730951\n"
     ]
    }
   ],
   "source": [
    "#mean and standard deviation\n",
    "arr = np.array([10, 20, 30, 40, 50])\n",
    "mean_value = np.mean(arr)\n",
    "std_dev = np.std(arr)\n",
    "print(f\"Mean: {mean_value}\")\n",
    "print(f\"Standard Deviation: {std_dev}\")"
   ]
  },
  {
   "cell_type": "code",
   "execution_count": 62,
   "id": "b21d1af2-2921-4050-b94a-3f13d99e6142",
   "metadata": {},
   "outputs": [
    {
     "name": "stdout",
     "output_type": "stream",
     "text": [
      "[2 3 4]\n"
     ]
    }
   ],
   "source": [
    "#sliced array\n",
    "array = np.array([1, 2, 3, 4, 5, 6])\n",
    "slice_array = array[1:4]\n",
    "print(slice_array)\n",
    "     "
   ]
  },
  {
   "cell_type": "code",
   "execution_count": 63,
   "id": "8614fe9b-2cde-4771-8643-1cc2b61fb78f",
   "metadata": {},
   "outputs": [
    {
     "name": "stdout",
     "output_type": "stream",
     "text": [
      "[[1. 0. 0.]\n",
      " [0. 1. 0.]\n",
      " [0. 0. 1.]]\n"
     ]
    }
   ],
   "source": [
    "#matrix operation\n",
    "matrix = np.eye(3)\n",
    "print(matrix)"
   ]
  },
  {
   "cell_type": "code",
   "execution_count": 82,
   "id": "6ae0ad61-5c9f-4e0b-b0ab-cbe5e3853ea7",
   "metadata": {},
   "outputs": [
    {
     "name": "stdout",
     "output_type": "stream",
     "text": [
      "2D Array:\n",
      "[[ 1  2  3]\n",
      " [ 5  6  7]\n",
      " [ 9 10 11]]\n",
      "\n",
      "1D Array:\n",
      "[10 20 30]\n",
      "\n",
      "Result of Broadcasting Addition:\n",
      "[[11 22 33]\n",
      " [15 26 37]\n",
      " [19 30 41]]\n"
     ]
    }
   ],
   "source": [
    "matrix_2d = np.array([\n",
    "    [1, 2, 3, ],\n",
    "    [5, 6, 7, ],\n",
    "    [9, 10, 11, ]\n",
    "])\n",
    "array_1d = np.array([10, 20, 30])\n",
    "\n",
    "# Add the 1D array to the 2D array\n",
    "result = matrix_2d + array_1d\n",
    "\n",
    "print(\"2D Array:\")\n",
    "print(matrix_2d)\n",
    "\n",
    "print(\"\\n1D Array:\")\n",
    "print(array_1d)\n",
    "\n",
    "print(\"\\nResult of Broadcasting Addition:\")\n",
    "print(result)"
   ]
  },
  {
   "cell_type": "markdown",
   "id": "c24dccac-85df-4445-a38d-647e41ffc7ac",
   "metadata": {},
   "source": [
    "## Data Visualisation"
   ]
  },
  {
   "cell_type": "code",
   "execution_count": 64,
   "id": "fd0acd3f-4dc8-4c1c-8caa-ef6518e7b344",
   "metadata": {},
   "outputs": [],
   "source": [
    "import numpy as np\n",
    "import pandas as pd\n",
    "import seaborn as sns\n",
    "import matplotlib.pyplot as plt\n",
    "%matplotlib inline\n",
    "from numpy.random import randn"
   ]
  },
  {
   "cell_type": "code",
   "execution_count": 65,
   "id": "1aa1e2a6-4ee3-46de-b773-0ccb16e02386",
   "metadata": {},
   "outputs": [
    {
     "data": {
      "image/png": "[encoded data removed]",
      "text/plain": [
       "<Figure size 640x480 with 1 Axes>"
      ]
     },
     "metadata": {},
     "output_type": "display_data"
    }
   ],
   "source": [
    "data = [12, 15, 14, 10, 8, 11, 14, 18, 22, 24, 30, 28, 26, 30, 32, 35, 38]\n",
    "\n",
    "sns.boxplot(data=data)\n",
    "\n",
    "plt.title(\"Box Plot\")\n",
    "plt.show()"
   ]
  },
  {
   "cell_type": "code",
   "execution_count": 68,
   "id": "bc0bf277-be46-433a-9871-6b29e0ad231d",
   "metadata": {},
   "outputs": [
    {
     "data": {
      "image/png": "[encoded data removed]",
      "text/plain": [
       "<Figure size 640x480 with 1 Axes>"
      ]
     },
     "metadata": {},
     "output_type": "display_data"
    }
   ],
   "source": [
    "plt.hist(data, bins=15)\n",
    "\n",
    "plt.title(\"Histogram\")\n",
    "\n",
    "plt.show()"
   ]
  },
  {
   "cell_type": "code",
   "execution_count": 69,
   "id": "cb1f0302-fc8c-4606-ba13-40979c5c71df",
   "metadata": {},
   "outputs": [
    {
     "data": {
      "image/png": "[encoded data removed]",
      "text/plain": [
       "<Figure size 640x480 with 1 Axes>"
      ]
     },
     "metadata": {},
     "output_type": "display_data"
    }
   ],
   "source": [
    "sns.barplot(x='Name', y='Score', data=df)\n",
    "\n",
    "plt.show()"
   ]
  },
  {
   "cell_type": "code",
   "execution_count": 70,
   "id": "0d02048c-69f2-497a-ac85-718347769f27",
   "metadata": {},
   "outputs": [
    {
     "data": {
      "image/png": "[encoded data removed]",
      "text/plain": [
       "<Figure size 640x480 with 1 Axes>"
      ]
     },
     "metadata": {},
     "output_type": "display_data"
    }
   ],
   "source": [
    "fruits = ['Apples', 'Bananas', 'Cherries', 'Dates']\n",
    "sizes = [10, 15, 7, 3]\n",
    "\n",
    "plt.pie(sizes, labels=fruits, autopct='%1.1f%%', startangle=140)\n",
    "\n",
    "plt.show()"
   ]
  },
  {
   "cell_type": "code",
   "execution_count": null,
   "id": "5696def4-bc05-4bba-9623-a66661aa7e2e",
   "metadata": {},
   "outputs": [],
   "source": []
  }
 ],
 "metadata": {
  "kernelspec": {
   "display_name": "Python 3 (ipykernel)",
   "language": "python",
   "name": "python3"
  },
  "language_info": {
   "codemirror_mode": {
    "name": "ipython",
    "version": 3
   },
   "file_extension": ".py",
   "mimetype": "text/x-python",
   "name": "python",
   "nbconvert_exporter": "python",
   "pygments_lexer": "ipython3",
   "version": "3.11.2"
  }
 },
 "nbformat": 4,
 "nbformat_minor": 5
}
