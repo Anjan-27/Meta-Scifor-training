{
 "cells": [
  {
   "cell_type": "markdown",
   "id": "15d31c6b-f128-44c4-b17a-201ca5f33726",
   "metadata": {},
   "source": [
    "## Numpy and its functions"
   ]
  },
  {
   "cell_type": "code",
   "execution_count": null,
   "id": "c3de88d6-7267-44ee-b4b4-616dbed3e27e",
   "metadata": {},
   "outputs": [],
   "source": []
  },
  {
   "cell_type": "code",
   "execution_count": 2,
   "id": "3c10716d-51ab-499a-8141-980269a15922",
   "metadata": {},
   "outputs": [],
   "source": [
    "import numpy as np"
   ]
  },
  {
   "cell_type": "code",
   "execution_count": 3,
   "id": "55158e52-e932-4ec2-b906-b7ae07e39963",
   "metadata": {},
   "outputs": [],
   "source": [
    "emp_salary=np.random.randint(8,70,10)"
   ]
  },
  {
   "cell_type": "code",
   "execution_count": 4,
   "id": "82210c9d-7b9c-4707-ab6d-d8f76ad327a2",
   "metadata": {},
   "outputs": [
    {
     "data": {
      "text/plain": [
       "array([28, 16, 27, 55, 48,  9, 24, 58, 64, 62])"
      ]
     },
     "execution_count": 4,
     "metadata": {},
     "output_type": "execute_result"
    }
   ],
   "source": [
    "emp_salary"
   ]
  },
  {
   "cell_type": "code",
   "execution_count": null,
   "id": "db5ec2a6-8a30-4384-befc-a6f75212fb26",
   "metadata": {},
   "outputs": [],
   "source": [
    "#set minimum and maximum salary using a_min and a_max "
   ]
  },
  {
   "cell_type": "code",
   "execution_count": 5,
   "id": "ce18b697-f71d-4a62-8685-ee29febac322",
   "metadata": {},
   "outputs": [
    {
     "data": {
      "text/plain": [
       "array([28, 20, 27, 50, 48, 20, 24, 50, 50, 50])"
      ]
     },
     "execution_count": 5,
     "metadata": {},
     "output_type": "execute_result"
    }
   ],
   "source": [
    "np.clip(emp_salary,a_min=20,a_max=50)# if we use clip method then all maximum and minimum value we can set as per our use"
   ]
  },
  {
   "cell_type": "code",
   "execution_count": null,
   "id": "a6da565d-ddd6-4885-a253-d3e04400158b",
   "metadata": {},
   "outputs": [],
   "source": [
    "#If you want to find actual salary which are less then or greater than some salary use np.where\n",
    "#np.where gives index detail"
   ]
  },
  {
   "cell_type": "code",
   "execution_count": 6,
   "id": "5f8a4cf2-f6ac-42cc-b2d8-f8dad1292c28",
   "metadata": {},
   "outputs": [
    {
     "name": "stdout",
     "output_type": "stream",
     "text": [
      "(array([1, 5, 6], dtype=int64),)\n"
     ]
    }
   ],
   "source": [
    "print(np.where(emp_salary <25))"
   ]
  },
  {
   "cell_type": "code",
   "execution_count": null,
   "id": "ae0f2634-9088-45d9-af4c-7f0b1d276e0b",
   "metadata": {},
   "outputs": [],
   "source": [
    "#If you want to see actual data, use index "
   ]
  },
  {
   "cell_type": "code",
   "execution_count": 7,
   "id": "d4908ed8-b957-4599-9e91-f72a08bde45b",
   "metadata": {},
   "outputs": [
    {
     "data": {
      "text/plain": [
       "array([16, 48])"
      ]
     },
     "execution_count": 7,
     "metadata": {},
     "output_type": "execute_result"
    }
   ],
   "source": [
    "emp_salary[[1,4]]"
   ]
  },
  {
   "cell_type": "code",
   "execution_count": 9,
   "id": "9da87baa-09e1-4d92-8d63-96d6a934cb2b",
   "metadata": {},
   "outputs": [
    {
     "name": "stdout",
     "output_type": "stream",
     "text": [
      "(array([0, 2, 3, 4, 7, 8, 9], dtype=int64),)\n"
     ]
    }
   ],
   "source": [
    "print(np.where(emp_salary >25))"
   ]
  },
  {
   "cell_type": "code",
   "execution_count": 10,
   "id": "1702b5f0-9777-43a7-b038-c6f9d31a9ebb",
   "metadata": {},
   "outputs": [
    {
     "name": "stdout",
     "output_type": "stream",
     "text": [
      "(array([0, 2, 3, 4, 7, 8, 9], dtype=int64),)\n"
     ]
    }
   ],
   "source": [
    "print(np.where(emp_salary >=25))"
   ]
  },
  {
   "cell_type": "code",
   "execution_count": 11,
   "id": "137833f5-81ca-49a7-85b0-e0c0ecc23888",
   "metadata": {},
   "outputs": [
    {
     "name": "stdout",
     "output_type": "stream",
     "text": [
      "(array([1, 5, 6], dtype=int64),)\n"
     ]
    }
   ],
   "source": [
    "print(np.where(emp_salary <=25))"
   ]
  },
  {
   "cell_type": "code",
   "execution_count": 12,
   "id": "10f262e7-0b06-4550-a28b-af39ffa59088",
   "metadata": {},
   "outputs": [
    {
     "name": "stdout",
     "output_type": "stream",
     "text": [
      "(array([], dtype=int64),)\n"
     ]
    }
   ],
   "source": [
    "print(np.where(emp_salary ==25))\n"
   ]
  },
  {
   "cell_type": "code",
   "execution_count": null,
   "id": "cd9078ad-d723-4920-bb7f-508e11794570",
   "metadata": {},
   "outputs": [],
   "source": []
  },
  {
   "cell_type": "markdown",
   "id": "b00fb169-fe1a-4167-a628-4c053ecdf323",
   "metadata": {},
   "source": [
    " ### Reshaping Objects"
   ]
  },
  {
   "cell_type": "code",
   "execution_count": 14,
   "id": "a624ab94-6eee-44d5-a496-6f8da6eb8336",
   "metadata": {},
   "outputs": [],
   "source": [
    "import numpy as np\n",
    "from numpy.random import randint as ri"
   ]
  },
  {
   "cell_type": "code",
   "execution_count": 15,
   "id": "8bddd6b8-01f6-47e8-ba1f-93637df305c6",
   "metadata": {},
   "outputs": [
    {
     "name": "stdout",
     "output_type": "stream",
     "text": [
      "[71 34 83 70 73  1 33 20 17  3 62 51  1 22  6 41 83 77 71 15 56 55  3 63\n",
      " 71 84 39 26 11 23]\n"
     ]
    }
   ],
   "source": [
    "a=ri(1,99,30)\n",
    "print(a)"
   ]
  },
  {
   "cell_type": "code",
   "execution_count": 16,
   "id": "d8f6249f-13a1-4a61-9ce5-22077beb87c4",
   "metadata": {},
   "outputs": [
    {
     "name": "stdout",
     "output_type": "stream",
     "text": [
      "[[[71 34 83 70 73]\n",
      "  [ 1 33 20 17  3]\n",
      "  [62 51  1 22  6]]\n",
      "\n",
      " [[41 83 77 71 15]\n",
      "  [56 55  3 63 71]\n",
      "  [84 39 26 11 23]]]\n"
     ]
    }
   ],
   "source": [
    "b=a.reshape(2,3,5)\n",
    "print(b)"
   ]
  },
  {
   "cell_type": "code",
   "execution_count": 17,
   "id": "99bcecaf-cb7c-4347-8a81-3fc13e27f991",
   "metadata": {},
   "outputs": [
    {
     "name": "stdout",
     "output_type": "stream",
     "text": [
      "[[71 34 83 70 73]\n",
      " [ 1 33 20 17  3]\n",
      " [62 51  1 22  6]\n",
      " [41 83 77 71 15]\n",
      " [56 55  3 63 71]\n",
      " [84 39 26 11 23]]\n"
     ]
    }
   ],
   "source": [
    "c=a.reshape(6,5)\n",
    "print(c)"
   ]
  },
  {
   "cell_type": "code",
   "execution_count": 18,
   "id": "32eb95f1-ddd0-4869-acee-0519f40e86c4",
   "metadata": {},
   "outputs": [
    {
     "name": "stdout",
     "output_type": "stream",
     "text": [
      "Minimum of a is  1\n",
      "Maximum of a is  84\n"
     ]
    }
   ],
   "source": [
    "print(\"Minimum of a is \",c.min())\n",
    "print(\"Maximum of a is \",c.max())"
   ]
  },
  {
   "cell_type": "code",
   "execution_count": null,
   "id": "505413bf-cf58-4d56-b205-9fd364fe998b",
   "metadata": {},
   "outputs": [],
   "source": []
  },
  {
   "cell_type": "markdown",
   "id": "e8480df0-b855-4361-8d47-ecb757d1ad10",
   "metadata": {},
   "source": [
    "## Sorting "
   ]
  },
  {
   "cell_type": "code",
   "execution_count": 19,
   "id": "c369cb42-03c1-47fa-a906-55d759f26f1a",
   "metadata": {},
   "outputs": [
    {
     "name": "stdout",
     "output_type": "stream",
     "text": [
      "\n",
      " 5 X 5 matrix of random integer \n",
      " -------------------------------------------------- \n",
      " [[55 25 13  6 54]\n",
      " [27 13 25 29 13]\n",
      " [ 8  3  2 46 90]\n",
      " [96  9 14 34 64]\n",
      " [90 36 19 46 61]]\n",
      "\n",
      " Here is the sorted matrix along each row \n",
      " -------------------------------------------------- \n",
      " [[ 6 13 25 54 55]\n",
      " [13 13 25 27 29]\n",
      " [ 2  3  8 46 90]\n",
      " [ 9 14 34 64 96]\n",
      " [19 36 46 61 90]]\n",
      "\n",
      " Here is the sorted matrix along each column \n",
      " -------------------------------------------------- \n",
      " [[ 8  3  2  6 13]\n",
      " [27  9 13 29 54]\n",
      " [55 13 14 34 61]\n",
      " [90 25 19 46 64]\n",
      " [96 36 25 46 90]]\n"
     ]
    }
   ],
   "source": [
    "m=ri(1,100,25).reshape(5,5) #matrix of random integer\n",
    "print(\"\\n 5 X 5 matrix of random integer \\n\",'-'*50,'\\n',m)\n",
    "print(\"\\n Here is the sorted matrix along each row \\n\",'-'*50,'\\n',np.sort(m))#default axis=1\n",
    "print(\"\\n Here is the sorted matrix along each column \\n\",'-'*50,'\\n',np.sort(m,axis=0))"
   ]
  },
  {
   "cell_type": "code",
   "execution_count": null,
   "id": "26515be4-cf49-4225-9abf-329cb03588c3",
   "metadata": {},
   "outputs": [],
   "source": []
  },
  {
   "cell_type": "markdown",
   "id": "5bb8f451-c4e0-4940-b224-6fa09ae9ce3f",
   "metadata": {},
   "source": [
    " ## Index and slicing"
   ]
  },
  {
   "cell_type": "code",
   "execution_count": 20,
   "id": "7d4ec390-0471-493c-8b4f-eeb923d41605",
   "metadata": {},
   "outputs": [
    {
     "name": "stdout",
     "output_type": "stream",
     "text": [
      "Array [13 14 15 16 17 18 19 20 21 22 23 24 25 26 27 28 29]\n"
     ]
    }
   ],
   "source": [
    "arr=np.arange(13,30)\n",
    "print(\"Array\",arr)\n"
   ]
  },
  {
   "cell_type": "code",
   "execution_count": 21,
   "id": "3c48e81c-df93-4d14-b78c-b13095c77dde",
   "metadata": {},
   "outputs": [
    {
     "name": "stdout",
     "output_type": "stream",
     "text": [
      "Element of 7th index is = 20\n"
     ]
    }
   ],
   "source": [
    "print(\"Element of 7th index is =\",arr[7])"
   ]
  },
  {
   "cell_type": "code",
   "execution_count": 22,
   "id": "bd656a37-583a-46ec-bd36-4d620db4d994",
   "metadata": {},
   "outputs": [
    {
     "name": "stdout",
     "output_type": "stream",
     "text": [
      "Element of 3rd and 5th index is =  [16 17]\n"
     ]
    }
   ],
   "source": [
    "print(\"Element of 3rd and 5th index is = \",arr[3:5])"
   ]
  },
  {
   "cell_type": "code",
   "execution_count": 23,
   "id": "b4b13876-b91c-4b6e-b17f-07dfa089baa4",
   "metadata": {},
   "outputs": [
    {
     "name": "stdout",
     "output_type": "stream",
     "text": [
      "Element up to 4th index are : [17 18 19 20 21 22 23 24 25 26 27 28 29]\n"
     ]
    }
   ],
   "source": [
    "print(\"Element up to 4th index are :\",arr[4:])"
   ]
  },
  {
   "cell_type": "code",
   "execution_count": null,
   "id": "113c0383-5271-4cae-9f37-fefa3826c074",
   "metadata": {},
   "outputs": [],
   "source": [
    "#Store arr in abc and check upto 4th index of abc"
   ]
  },
  {
   "cell_type": "code",
   "execution_count": 24,
   "id": "84b5757e-e813-4ab2-8716-ed89b359477c",
   "metadata": {},
   "outputs": [
    {
     "name": "stdout",
     "output_type": "stream",
     "text": [
      "[17 18 19 20 21 22 23 24 25 26 27 28 29]\n"
     ]
    }
   ],
   "source": [
    "abc=arr[4:]\n",
    "print(abc)"
   ]
  },
  {
   "cell_type": "code",
   "execution_count": 25,
   "id": "6443d035-f979-4741-83cb-2129e9dac451",
   "metadata": {},
   "outputs": [
    {
     "name": "stdout",
     "output_type": "stream",
     "text": [
      "Element from last backwords :  [29 27 25 23 21 19 17]\n"
     ]
    }
   ],
   "source": [
    "print(\"Element from last backwords : \",abc[-1::-2])"
   ]
  },
  {
   "cell_type": "code",
   "execution_count": 26,
   "id": "eccfdb8c-b2b4-47a1-ab5c-b2f2772acfd4",
   "metadata": {},
   "outputs": [
    {
     "name": "stdout",
     "output_type": "stream",
     "text": [
      "7th elemets from last backword are :  [29 28 27 26 25 24 23]\n"
     ]
    }
   ],
   "source": [
    "print(\"7th elemets from last backword are : \",arr[-1:-8:-1])"
   ]
  },
  {
   "cell_type": "code",
   "execution_count": 27,
   "id": "8eb06417-7a68-48c6-8518-17cb513aef9f",
   "metadata": {},
   "outputs": [
    {
     "name": "stdout",
     "output_type": "stream",
     "text": [
      "Elements at 2nd 4th and 9th index are :  [15 17 22]\n"
     ]
    }
   ],
   "source": [
    "print(\"Elements at 2nd 4th and 9th index are : \",arr[[2,4,9]])#Pass a list as a index to subset"
   ]
  },
  {
   "cell_type": "code",
   "execution_count": 28,
   "id": "8afb44b8-7ca3-44f2-9050-3c03a391bd51",
   "metadata": {},
   "outputs": [
    {
     "name": "stdout",
     "output_type": "stream",
     "text": [
      "[[1 2 3]\n",
      " [4 5 6]\n",
      " [7 8 9]]\n"
     ]
    }
   ],
   "source": [
    "my_mat=[[1,2,3],[4,5,6],[7,8,9]]\n",
    "mat=np.array(my_mat)\n",
    "print(mat)"
   ]
  },
  {
   "cell_type": "code",
   "execution_count": 29,
   "id": "49d2ec33-e964-4ddd-8aaf-23286f42711d",
   "metadata": {},
   "outputs": [
    {
     "name": "stdout",
     "output_type": "stream",
     "text": [
      "Entire row at index 2:  [7 8 9]\n"
     ]
    }
   ],
   "source": [
    "print(\"Entire row at index 2: \",mat[2])"
   ]
  },
  {
   "cell_type": "code",
   "execution_count": 30,
   "id": "2865ced0-938d-47fd-bdc6-bcc5c220b14f",
   "metadata": {},
   "outputs": [
    {
     "name": "stdout",
     "output_type": "stream",
     "text": [
      "Entire column at index  3:\n",
      " [[2 3]\n",
      " [5 6]\n",
      " [8 9]]\n"
     ]
    }
   ],
   "source": [
    "print(\"Entire column at index  3:\\n\",mat[:,1:])"
   ]
  },
  {
   "cell_type": "code",
   "execution_count": 31,
   "id": "fe389541-50e9-4eed-8788-e858cf499d22",
   "metadata": {},
   "outputs": [
    {
     "name": "stdout",
     "output_type": "stream",
     "text": [
      "\n",
      "Subsetting Sub-Matricss\n",
      "---------\n",
      "Matrics with row indices 1 and 2 and column indices 3 and 4\n",
      " [[5]]\n"
     ]
    }
   ],
   "source": [
    "print(\"\\nSubsetting Sub-Matricss\\n---------\")\n",
    "print(\"Matrics with row indices 1 and 2 and column indices 3 and 4\\n\",mat[1:2,1:2])"
   ]
  },
  {
   "cell_type": "code",
   "execution_count": 32,
   "id": "3601514a-2670-4735-81db-4080b28179ad",
   "metadata": {},
   "outputs": [
    {
     "name": "stdout",
     "output_type": "stream",
     "text": [
      "[[1 2 3]\n",
      " [4 5 6]\n",
      " [7 8 9]]\n"
     ]
    }
   ],
   "source": [
    "print(mat)"
   ]
  },
  {
   "cell_type": "code",
   "execution_count": 33,
   "id": "7d7f79da-61dd-467f-8298-d50aa412addd",
   "metadata": {},
   "outputs": [
    {
     "name": "stdout",
     "output_type": "stream",
     "text": [
      "[[2 3]\n",
      " [5 6]]\n"
     ]
    }
   ],
   "source": [
    "print(mat[0:2,[1,2]])\n"
   ]
  },
  {
   "cell_type": "code",
   "execution_count": 34,
   "id": "da1b1240-66b4-4287-9793-4b942f9aa9f6",
   "metadata": {},
   "outputs": [],
   "source": [
    "#Update Matrix"
   ]
  },
  {
   "cell_type": "code",
   "execution_count": 35,
   "id": "b95365e9-941d-47c3-a6a6-e8a53c584839",
   "metadata": {},
   "outputs": [
    {
     "name": "stdout",
     "output_type": "stream",
     "text": [
      "Original Matrix \n",
      "\n",
      " [[1 2 3]\n",
      " [4 5 6]\n",
      " [7 8 9]]\n"
     ]
    }
   ],
   "source": [
    "print(\"Original Matrix \\n\\n\",mat)"
   ]
  },
  {
   "cell_type": "code",
   "execution_count": 37,
   "id": "176d0984-a1d9-42b0-b47c-3ef050b742ac",
   "metadata": {},
   "outputs": [],
   "source": [
    "mat[0,2]=200"
   ]
  },
  {
   "cell_type": "code",
   "execution_count": 38,
   "id": "c7e2fec1-2521-475c-b330-f592e3026052",
   "metadata": {},
   "outputs": [
    {
     "data": {
      "text/plain": [
       "array([[  1,   2, 200],\n",
       "       [  4,   5,   6],\n",
       "       [  7,   8,   9]])"
      ]
     },
     "execution_count": 38,
     "metadata": {},
     "output_type": "execute_result"
    }
   ],
   "source": [
    "mat"
   ]
  },
  {
   "cell_type": "code",
   "execution_count": 39,
   "id": "8f433e99-2a3d-424f-8044-266901cb0092",
   "metadata": {},
   "outputs": [],
   "source": [
    "mat[1,0]=100"
   ]
  },
  {
   "cell_type": "code",
   "execution_count": 40,
   "id": "7b8dfd7e-e11c-4669-81d5-ad30e5f26522",
   "metadata": {},
   "outputs": [
    {
     "data": {
      "text/plain": [
       "array([[  1,   2, 200],\n",
       "       [100,   5,   6],\n",
       "       [  7,   8,   9]])"
      ]
     },
     "execution_count": 40,
     "metadata": {},
     "output_type": "execute_result"
    }
   ],
   "source": [
    "mat"
   ]
  },
  {
   "cell_type": "code",
   "execution_count": null,
   "id": "10661e66-d059-42d0-a58c-5eb3b29aa19e",
   "metadata": {},
   "outputs": [],
   "source": []
  },
  {
   "cell_type": "markdown",
   "id": "a81ab65e-2ba3-4a79-8b4e-25f81d5dd4b7",
   "metadata": {},
   "source": [
    "## Subsetting\n",
    "#subsetting means when we wann to fetch only few data from matrix then we use subsetting method."
   ]
  },
  {
   "cell_type": "code",
   "execution_count": 85,
   "id": "0b5a7c58-d88d-427a-97bf-8ec17673ce22",
   "metadata": {},
   "outputs": [
    {
     "name": "stdout",
     "output_type": "stream",
     "text": [
      "Matrix of random 2 digit number \n",
      "------\n",
      " [[34 38 29 95 17]\n",
      " [92 96 95 90 17]\n",
      " [55 37 32 17 44]]\n"
     ]
    }
   ],
   "source": [
    "mat=np.array(ri(15,100,15)).reshape(3,5)\n",
    "print('Matrix of random 2 digit number \\n------\\n',mat)"
   ]
  },
  {
   "cell_type": "code",
   "execution_count": 86,
   "id": "db04f1f7-d04c-4ffd-ac10-0bc70fd9f1a8",
   "metadata": {},
   "outputs": [
    {
     "name": "stdout",
     "output_type": "stream",
     "text": [
      "Elements greater than 50\n",
      "  [95 92 96 95 90 55]\n"
     ]
    }
   ],
   "source": [
    "print(\"Elements greater than 50\\n \",mat[mat>50])"
   ]
  },
  {
   "cell_type": "code",
   "execution_count": 87,
   "id": "fd71657a-8601-4e7d-b20c-36e1920e4275",
   "metadata": {},
   "outputs": [
    {
     "name": "stdout",
     "output_type": "stream",
     "text": [
      "(array([], dtype=int64), array([], dtype=int64))\n"
     ]
    }
   ],
   "source": [
    "print(np.where(mat==98))"
   ]
  },
  {
   "cell_type": "code",
   "execution_count": 88,
   "id": "6d3ff2ee-8d09-4232-a5f0-e44c503a5220",
   "metadata": {},
   "outputs": [
    {
     "data": {
      "text/plain": [
       "array('Still Working', dtype='<U13')"
      ]
     },
     "execution_count": 88,
     "metadata": {},
     "output_type": "execute_result"
    }
   ],
   "source": [
    "age=50\n",
    "np.where(age>68,'Retired','Still Working')"
   ]
  },
  {
   "cell_type": "code",
   "execution_count": null,
   "id": "320cb87a-693c-4961-9fc8-906ee082a2c0",
   "metadata": {},
   "outputs": [],
   "source": []
  },
  {
   "cell_type": "markdown",
   "id": "27938241-480e-45db-8c9d-dac5ab144904",
   "metadata": {},
   "source": [
    "## Universal Functions"
   ]
  },
  {
   "cell_type": "code",
   "execution_count": 45,
   "id": "c5772195-265c-432d-95cf-b4338a8d7c98",
   "metadata": {},
   "outputs": [
    {
     "name": "stdout",
     "output_type": "stream",
     "text": [
      "\n",
      " 1st Matrics of Single digit number \n",
      "---------------\n",
      " [[4 1 3]\n",
      " [3 2 7]\n",
      " [1 3 9]]\n",
      "\n",
      " 2st Matrics of Single digit number \n",
      "---------------\n",
      " [[6 6 1]\n",
      " [2 4 2]\n",
      " [6 2 6]]\n"
     ]
    }
   ],
   "source": [
    "mat1=np.array(ri(1,10,9)).reshape(3,3)\n",
    "mat2=np.array(ri(1,10,9)).reshape(3,3)\n",
    "\n",
    "print(\"\\n 1st Matrics of Single digit number \\n---------------\\n\",mat1)\n",
    "print(\"\\n 2st Matrics of Single digit number \\n---------------\\n\",mat2)"
   ]
  },
  {
   "cell_type": "code",
   "execution_count": 46,
   "id": "5869d9bb-3535-4a5d-a342-5665b979ff74",
   "metadata": {},
   "outputs": [
    {
     "name": "stdout",
     "output_type": "stream",
     "text": [
      "mat1=\n",
      " [[4 1 3]\n",
      " [3 2 7]\n",
      " [1 3 9]]\n",
      "mat2=\n",
      " [[6 6 1]\n",
      " [2 4 2]\n",
      " [6 2 6]]\n"
     ]
    }
   ],
   "source": [
    "print('mat1=\\n',mat1)\n",
    "print('mat2=\\n',mat2)"
   ]
  },
  {
   "cell_type": "code",
   "execution_count": 47,
   "id": "9799a915-2c6e-4aba-80e6-463e4be00743",
   "metadata": {},
   "outputs": [
    {
     "name": "stdout",
     "output_type": "stream",
     "text": [
      "\n",
      " Division \n",
      "---------------------\n",
      " [[0.66666667 0.16666667 3.        ]\n",
      " [1.5        0.5        3.5       ]\n",
      " [0.16666667 1.5        1.5       ]]\n"
     ]
    }
   ],
   "source": [
    "print(\"\\n Division \\n---------------------\\n\",mat1/mat2)"
   ]
  },
  {
   "cell_type": "code",
   "execution_count": 48,
   "id": "6c5a8cd9-c973-4c9b-995d-9375cc6b0a17",
   "metadata": {},
   "outputs": [
    {
     "name": "stdout",
     "output_type": "stream",
     "text": [
      "\n",
      " Linear combination : 3*A - 2*B \n",
      " [[ 0 -9  7]\n",
      " [ 5 -2 17]\n",
      " [-9  5 15]]\n"
     ]
    }
   ],
   "source": [
    "print(\"\\n Linear combination : 3*A - 2*B \\n\",3*mat1-2*mat2)"
   ]
  },
  {
   "cell_type": "code",
   "execution_count": null,
   "id": "aef9f1d7-3a4b-4b24-83ae-fc386b3ffca9",
   "metadata": {},
   "outputs": [],
   "source": []
  },
  {
   "cell_type": "markdown",
   "id": "ecc7b1d1-0611-419b-9900-f1b7a6619bda",
   "metadata": {},
   "source": [
    "## Broadcasting-\n",
    "\n",
    "#Numpy operations are usually dont on pairs of arrays on an element by element basis. in the simplest case, the two arays must have exactly the same shape\n",
    "#Numpy broadcasting rules relaxex this constraints when the array shape meet certain constraints when operatings on two array,\n",
    "#Numpy compares their shape element wise it starts with the trailing dimensions ,and word its way forword ,two dimension are compatible\n",
    "#when they are eqaul,or one of them is 1"
   ]
  },
  {
   "cell_type": "code",
   "execution_count": 61,
   "id": "52cafe4e-74e5-431f-b850-209a25825af2",
   "metadata": {},
   "outputs": [
    {
     "name": "stdout",
     "output_type": "stream",
     "text": [
      "[[0. 0. 0. 0.]\n",
      " [0. 0. 0. 0.]\n",
      " [0. 0. 0. 0.]\n",
      " [0. 0. 0. 0.]]\n"
     ]
    }
   ],
   "source": [
    "start=np.zeros((4,4))\n",
    "print(start)"
   ]
  },
  {
   "cell_type": "code",
   "execution_count": null,
   "id": "027053af-7f6a-4efd-ae7a-e80364925418",
   "metadata": {},
   "outputs": [],
   "source": [
    "#create a rank1 ndarray with 3 values"
   ]
  },
  {
   "cell_type": "code",
   "execution_count": 71,
   "id": "979c4d16-d7ff-4704-a74d-a3a50c07ad4e",
   "metadata": {},
   "outputs": [
    {
     "name": "stdout",
     "output_type": "stream",
     "text": [
      "[[1 0 2 3]]\n"
     ]
    }
   ],
   "source": [
    "add_rows=np.array([[1,0,2,3]])\n",
    "print(add_rows)"
   ]
  },
  {
   "cell_type": "code",
   "execution_count": 72,
   "id": "056d6f85-14e6-44fd-8ca2-f2cbb8da61a3",
   "metadata": {},
   "outputs": [],
   "source": [
    "y=start+add_rows "
   ]
  },
  {
   "cell_type": "code",
   "execution_count": 73,
   "id": "865ba449-2bb0-4a33-83bf-bfc92a7e4229",
   "metadata": {},
   "outputs": [
    {
     "data": {
      "text/plain": [
       "array([[1., 0., 2., 3.],\n",
       "       [1., 0., 2., 3.],\n",
       "       [1., 0., 2., 3.],\n",
       "       [1., 0., 2., 3.]])"
      ]
     },
     "execution_count": 73,
     "metadata": {},
     "output_type": "execute_result"
    }
   ],
   "source": [
    "y"
   ]
  },
  {
   "cell_type": "code",
   "execution_count": 67,
   "id": "eec678d1-1f4f-407e-a096-bc0d6fd27935",
   "metadata": {},
   "outputs": [],
   "source": [
    "new_row=add_rows.T "
   ]
  },
  {
   "cell_type": "code",
   "execution_count": 68,
   "id": "fe7bab3b-10cb-4d48-9584-259b27cb8211",
   "metadata": {},
   "outputs": [
    {
     "data": {
      "text/plain": [
       "array([[1],\n",
       "       [0],\n",
       "       [2]])"
      ]
     },
     "execution_count": 68,
     "metadata": {},
     "output_type": "execute_result"
    }
   ],
   "source": [
    "new_row"
   ]
  },
  {
   "cell_type": "code",
   "execution_count": null,
   "id": "10106107-be74-4abd-acdb-fcc03b4a69a4",
   "metadata": {},
   "outputs": [],
   "source": [
    "test=new_row+start\n",
    "print(test)"
   ]
  },
  {
   "cell_type": "code",
   "execution_count": 70,
   "id": "f4b1daf0-2bdf-4c99-afea-7ce4e91c11c1",
   "metadata": {},
   "outputs": [],
   "source": [
    "#craete table ndarray which is 4 X 1 to broadcast across coloumn"
   ]
  },
  {
   "cell_type": "code",
   "execution_count": 56,
   "id": "cef3288c-e711-4989-9295-e85288708dbc",
   "metadata": {},
   "outputs": [],
   "source": [
    "ad_cols=np.array([[0,2,2,3]])"
   ]
  },
  {
   "cell_type": "code",
   "execution_count": 57,
   "id": "fd7ad28b-41dd-44af-88c6-505d9b2a21ed",
   "metadata": {},
   "outputs": [],
   "source": [
    "ad_cols=ad_cols.T"
   ]
  },
  {
   "cell_type": "code",
   "execution_count": 58,
   "id": "207aee5e-5229-4328-aa1d-91e30d9c3707",
   "metadata": {},
   "outputs": [
    {
     "data": {
      "text/plain": [
       "array([[0],\n",
       "       [2],\n",
       "       [2],\n",
       "       [3]])"
      ]
     },
     "execution_count": 58,
     "metadata": {},
     "output_type": "execute_result"
    }
   ],
   "source": [
    "ad_cols"
   ]
  },
  {
   "cell_type": "code",
   "execution_count": null,
   "id": "77d415ad-beb5-4896-8dd2-0ee419fcc6d6",
   "metadata": {},
   "outputs": [],
   "source": []
  },
  {
   "cell_type": "markdown",
   "id": "46565957-edc6-499a-996e-f680e4fd73b1",
   "metadata": {},
   "source": [
    "## Array Math"
   ]
  },
  {
   "cell_type": "code",
   "execution_count": 60,
   "id": "37e9a5bc-148e-4f06-8f30-7b96e49f9f58",
   "metadata": {},
   "outputs": [
    {
     "name": "stdout",
     "output_type": "stream",
     "text": [
      "\n",
      " 1st Matrix of random single digit number\n",
      "---------------------------\n",
      " [[5 3 1]\n",
      " [3 3 1]\n",
      " [5 2 5]]\n",
      "\n",
      " 2nd Matrix of random single digit number\n",
      "---------------------------\n",
      " [[4 7 5]\n",
      " [7 1 1]\n",
      " [7 6 2]]\n",
      "\n",
      " sq-root of 1st Matrix using np\n",
      " -------------------------------------------------- \n",
      " [[2.23606798 1.73205081 1.        ]\n",
      " [1.73205081 1.73205081 1.        ]\n",
      " [2.23606798 1.41421356 2.23606798]]\n",
      "\n",
      " square of 2nd Matrix using np\n",
      " -------------------------------------------------- \n",
      " [[16 49 25]\n",
      " [49  1  1]\n",
      " [49 36  4]]\n"
     ]
    }
   ],
   "source": [
    "mat1=np.array(ri(1,8,9)).reshape(3,3)\n",
    "mat2=np.array(ri(1,8,9)).reshape(3,3)\n",
    "\n",
    "print(\"\\n 1st Matrix of random single digit number\\n---------------------------\\n\",mat1)\n",
    "print(\"\\n 2nd Matrix of random single digit number\\n---------------------------\\n\",mat2)\n",
    "\n",
    "print(\"\\n sq-root of 1st Matrix using np\\n\",'-'*50,\"\\n\",np.sqrt(mat1))\n",
    "print(\"\\n square of 2nd Matrix using np\\n\",'-'*50,\"\\n\",np.square(mat2))"
   ]
  },
  {
   "cell_type": "code",
   "execution_count": null,
   "id": "7976dddb-224e-4f0e-8d47-79cd2d37a654",
   "metadata": {},
   "outputs": [],
   "source": []
  }
 ],
 "metadata": {
  "kernelspec": {
   "display_name": "Python 3 (ipykernel)",
   "language": "python",
   "name": "python3"
  },
  "language_info": {
   "codemirror_mode": {
    "name": "ipython",
    "version": 3
   },
   "file_extension": ".py",
   "mimetype": "text/x-python",
   "name": "python",
   "nbconvert_exporter": "python",
   "pygments_lexer": "ipython3",
   "version": "3.11.2"
  }
 },
 "nbformat": 4,
 "nbformat_minor": 5
}
