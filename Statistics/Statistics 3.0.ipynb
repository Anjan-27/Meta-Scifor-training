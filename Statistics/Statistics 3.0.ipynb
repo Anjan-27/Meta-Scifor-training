{
 "cells": [
  {
   "cell_type": "markdown",
   "id": "642dedbd-a88e-439f-add3-fdf65705e3f3",
   "metadata": {},
   "source": [
    "## Statistical Tools\n",
    "This Tools helps us to again on the same line in order make dicision / in order to conclude something .I want to do some type of test.Like Hypothesis Testing.\n",
    "## 1 - Ttest or Student Ttest.\n",
    "## 2 - Anova -Analysis of Variance\n",
    "## 3 -Chi-Square"
   ]
  },
  {
   "cell_type": "markdown",
   "id": "f7541e04-8e8d-425f-aad9-cbf628304e85",
   "metadata": {},
   "source": [
    "## 1 Ttest or Student Test\n",
    "There are Two types of Ttest\n",
    "A- One Sample Test\n",
    "B- Two Sample Test"
   ]
  },
  {
   "cell_type": "code",
   "execution_count": 2,
   "id": "4bacf40b-3b48-434e-a6fa-02bc637d6f44",
   "metadata": {},
   "outputs": [
    {
     "data": {
      "text/html": [
       "<div>\n",
       "<style scoped>\n",
       "    .dataframe tbody tr th:only-of-type {\n",
       "        vertical-align: middle;\n",
       "    }\n",
       "\n",
       "    .dataframe tbody tr th {\n",
       "        vertical-align: top;\n",
       "    }\n",
       "\n",
       "    .dataframe thead th {\n",
       "        text-align: right;\n",
       "    }\n",
       "</style>\n",
       "<table border=\"1\" class=\"dataframe\">\n",
       "  <thead>\n",
       "    <tr style=\"text-align: right;\">\n",
       "      <th></th>\n",
       "      <th>ID</th>\n",
       "      <th>Gender</th>\n",
       "      <th>Race</th>\n",
       "      <th>SEB</th>\n",
       "      <th>School</th>\n",
       "      <th>Prog</th>\n",
       "      <th>Read</th>\n",
       "      <th>Write</th>\n",
       "      <th>Math1</th>\n",
       "      <th>Math2</th>\n",
       "      <th>SST</th>\n",
       "    </tr>\n",
       "  </thead>\n",
       "  <tbody>\n",
       "    <tr>\n",
       "      <th>0</th>\n",
       "      <td>70</td>\n",
       "      <td>0</td>\n",
       "      <td>4</td>\n",
       "      <td>1</td>\n",
       "      <td>1</td>\n",
       "      <td>1</td>\n",
       "      <td>57</td>\n",
       "      <td>52</td>\n",
       "      <td>41</td>\n",
       "      <td>47</td>\n",
       "      <td>57</td>\n",
       "    </tr>\n",
       "    <tr>\n",
       "      <th>1</th>\n",
       "      <td>121</td>\n",
       "      <td>1</td>\n",
       "      <td>4</td>\n",
       "      <td>2</td>\n",
       "      <td>1</td>\n",
       "      <td>3</td>\n",
       "      <td>68</td>\n",
       "      <td>59</td>\n",
       "      <td>53</td>\n",
       "      <td>63</td>\n",
       "      <td>61</td>\n",
       "    </tr>\n",
       "    <tr>\n",
       "      <th>2</th>\n",
       "      <td>86</td>\n",
       "      <td>0</td>\n",
       "      <td>4</td>\n",
       "      <td>3</td>\n",
       "      <td>1</td>\n",
       "      <td>1</td>\n",
       "      <td>44</td>\n",
       "      <td>33</td>\n",
       "      <td>54</td>\n",
       "      <td>58</td>\n",
       "      <td>31</td>\n",
       "    </tr>\n",
       "    <tr>\n",
       "      <th>3</th>\n",
       "      <td>141</td>\n",
       "      <td>0</td>\n",
       "      <td>4</td>\n",
       "      <td>3</td>\n",
       "      <td>1</td>\n",
       "      <td>3</td>\n",
       "      <td>63</td>\n",
       "      <td>44</td>\n",
       "      <td>47</td>\n",
       "      <td>53</td>\n",
       "      <td>56</td>\n",
       "    </tr>\n",
       "    <tr>\n",
       "      <th>4</th>\n",
       "      <td>172</td>\n",
       "      <td>0</td>\n",
       "      <td>4</td>\n",
       "      <td>2</td>\n",
       "      <td>1</td>\n",
       "      <td>2</td>\n",
       "      <td>47</td>\n",
       "      <td>52</td>\n",
       "      <td>57</td>\n",
       "      <td>53</td>\n",
       "      <td>61</td>\n",
       "    </tr>\n",
       "  </tbody>\n",
       "</table>\n",
       "</div>"
      ],
      "text/plain": [
       "    ID  Gender  Race  SEB  School  Prog  Read  Write  Math1  Math2  SST\n",
       "0   70       0     4    1       1     1    57     52     41     47   57\n",
       "1  121       1     4    2       1     3    68     59     53     63   61\n",
       "2   86       0     4    3       1     1    44     33     54     58   31\n",
       "3  141       0     4    3       1     3    63     44     47     53   56\n",
       "4  172       0     4    2       1     2    47     52     57     53   61"
      ]
     },
     "execution_count": 2,
     "metadata": {},
     "output_type": "execute_result"
    }
   ],
   "source": [
    "import pandas as pd\n",
    "hyp=pd.read_csv(\"https://raw.githubusercontent.com/training-ml/Files/main/Hypothesis%20ttest.csv\")\n",
    "hyp.head()"
   ]
  },
  {
   "cell_type": "markdown",
   "id": "e2867e14-90b1-4c4f-b542-05ca0d1f4919",
   "metadata": {},
   "source": [
    "--> A teacher want to teach student for a competative exam , she collected sample of the student marks from different school and based on her past experiance she believe that , these type of student will score more then 60 marks in the exam. Now she wants to conduct hypothesis test on the marks.\n",
    "\n",
    "Ho=mu>=60\n",
    "\n",
    "Ha=mu<=60\n",
    "\n"
   ]
  },
  {
   "cell_type": "markdown",
   "id": "a8ae17df-f4aa-41ab-8f84-13fccb813980",
   "metadata": {},
   "source": [
    "#### One Sample Test"
   ]
  },
  {
   "cell_type": "code",
   "execution_count": 3,
   "id": "8bdfa2ed-a335-4ed5-aaa1-381ffe503048",
   "metadata": {},
   "outputs": [],
   "source": [
    "xbar=hyp['Math1'].mean()\n",
    "alpha=0.05\n",
    "mu=60"
   ]
  },
  {
   "cell_type": "code",
   "execution_count": 4,
   "id": "00d7649f-d61b-4b16-a1e8-3bca23573d00",
   "metadata": {},
   "outputs": [],
   "source": [
    "import scipy.stats as st"
   ]
  },
  {
   "cell_type": "code",
   "execution_count": 5,
   "id": "0b0695fa-56f7-4cdb-a82e-2b80833211ac",
   "metadata": {},
   "outputs": [
    {
     "data": {
      "text/plain": [
       "TtestResult(statistic=-11.102736525713398, pvalue=1.3339158110547646e-22, df=199)"
      ]
     },
     "execution_count": 5,
     "metadata": {},
     "output_type": "execute_result"
    }
   ],
   "source": [
    "st.ttest_1samp(hyp.Math1,mu)"
   ]
  },
  {
   "cell_type": "code",
   "execution_count": 6,
   "id": "9026d398-8a51-4b39-aa8c-1dd85ab4d1ea",
   "metadata": {},
   "outputs": [],
   "source": [
    "t,p=st.ttest_1samp(hyp.Math1,mu)"
   ]
  },
  {
   "cell_type": "code",
   "execution_count": 7,
   "id": "efde4beb-5f7e-4683-accf-a53d3846c664",
   "metadata": {},
   "outputs": [
    {
     "data": {
      "text/plain": [
       "-11.102736525713398"
      ]
     },
     "execution_count": 7,
     "metadata": {},
     "output_type": "execute_result"
    }
   ],
   "source": [
    "t\n"
   ]
  },
  {
   "cell_type": "code",
   "execution_count": 8,
   "id": "6c760dd3-91b5-4490-ac3c-af93a9c272a2",
   "metadata": {},
   "outputs": [
    {
     "data": {
      "text/plain": [
       "1.3339158110547646e-22"
      ]
     },
     "execution_count": 8,
     "metadata": {},
     "output_type": "execute_result"
    }
   ],
   "source": [
    "p"
   ]
  },
  {
   "cell_type": "markdown",
   "id": "c6d81c99-721f-4493-8358-27dca6dfea5d",
   "metadata": {},
   "source": [
    "## 2 Sample Test\n",
    "A- Independent Sample\n",
    "B- Paired Sample"
   ]
  },
  {
   "cell_type": "code",
   "execution_count": 9,
   "id": "015f99ed-3f1d-4db1-99ac-03457307c3f6",
   "metadata": {},
   "outputs": [
    {
     "data": {
      "text/html": [
       "<div>\n",
       "<style scoped>\n",
       "    .dataframe tbody tr th:only-of-type {\n",
       "        vertical-align: middle;\n",
       "    }\n",
       "\n",
       "    .dataframe tbody tr th {\n",
       "        vertical-align: top;\n",
       "    }\n",
       "\n",
       "    .dataframe thead th {\n",
       "        text-align: right;\n",
       "    }\n",
       "</style>\n",
       "<table border=\"1\" class=\"dataframe\">\n",
       "  <thead>\n",
       "    <tr style=\"text-align: right;\">\n",
       "      <th></th>\n",
       "      <th>ID</th>\n",
       "      <th>Gender</th>\n",
       "      <th>Race</th>\n",
       "      <th>SEB</th>\n",
       "      <th>School</th>\n",
       "      <th>Prog</th>\n",
       "      <th>Read</th>\n",
       "      <th>Write</th>\n",
       "      <th>Math1</th>\n",
       "      <th>Math2</th>\n",
       "      <th>SST</th>\n",
       "    </tr>\n",
       "  </thead>\n",
       "  <tbody>\n",
       "    <tr>\n",
       "      <th>0</th>\n",
       "      <td>70</td>\n",
       "      <td>0</td>\n",
       "      <td>4</td>\n",
       "      <td>1</td>\n",
       "      <td>1</td>\n",
       "      <td>1</td>\n",
       "      <td>57</td>\n",
       "      <td>52</td>\n",
       "      <td>41</td>\n",
       "      <td>47</td>\n",
       "      <td>57</td>\n",
       "    </tr>\n",
       "    <tr>\n",
       "      <th>1</th>\n",
       "      <td>121</td>\n",
       "      <td>1</td>\n",
       "      <td>4</td>\n",
       "      <td>2</td>\n",
       "      <td>1</td>\n",
       "      <td>3</td>\n",
       "      <td>68</td>\n",
       "      <td>59</td>\n",
       "      <td>53</td>\n",
       "      <td>63</td>\n",
       "      <td>61</td>\n",
       "    </tr>\n",
       "    <tr>\n",
       "      <th>2</th>\n",
       "      <td>86</td>\n",
       "      <td>0</td>\n",
       "      <td>4</td>\n",
       "      <td>3</td>\n",
       "      <td>1</td>\n",
       "      <td>1</td>\n",
       "      <td>44</td>\n",
       "      <td>33</td>\n",
       "      <td>54</td>\n",
       "      <td>58</td>\n",
       "      <td>31</td>\n",
       "    </tr>\n",
       "    <tr>\n",
       "      <th>3</th>\n",
       "      <td>141</td>\n",
       "      <td>0</td>\n",
       "      <td>4</td>\n",
       "      <td>3</td>\n",
       "      <td>1</td>\n",
       "      <td>3</td>\n",
       "      <td>63</td>\n",
       "      <td>44</td>\n",
       "      <td>47</td>\n",
       "      <td>53</td>\n",
       "      <td>56</td>\n",
       "    </tr>\n",
       "    <tr>\n",
       "      <th>4</th>\n",
       "      <td>172</td>\n",
       "      <td>0</td>\n",
       "      <td>4</td>\n",
       "      <td>2</td>\n",
       "      <td>1</td>\n",
       "      <td>2</td>\n",
       "      <td>47</td>\n",
       "      <td>52</td>\n",
       "      <td>57</td>\n",
       "      <td>53</td>\n",
       "      <td>61</td>\n",
       "    </tr>\n",
       "  </tbody>\n",
       "</table>\n",
       "</div>"
      ],
      "text/plain": [
       "    ID  Gender  Race  SEB  School  Prog  Read  Write  Math1  Math2  SST\n",
       "0   70       0     4    1       1     1    57     52     41     47   57\n",
       "1  121       1     4    2       1     3    68     59     53     63   61\n",
       "2   86       0     4    3       1     1    44     33     54     58   31\n",
       "3  141       0     4    3       1     3    63     44     47     53   56\n",
       "4  172       0     4    2       1     2    47     52     57     53   61"
      ]
     },
     "execution_count": 9,
     "metadata": {},
     "output_type": "execute_result"
    }
   ],
   "source": [
    "hyp.head()"
   ]
  },
  {
   "cell_type": "markdown",
   "id": "560a3f3e-a54a-48ea-96ab-28f61a5856fd",
   "metadata": {},
   "source": [
    "## A- Independent Sample"
   ]
  },
  {
   "cell_type": "code",
   "execution_count": 10,
   "id": "50ea040d-be5c-43f4-997e-9d738c5d934a",
   "metadata": {},
   "outputs": [
    {
     "data": {
      "text/plain": [
       "1    109\n",
       "0     91\n",
       "Name: Gender, dtype: int64"
      ]
     },
     "execution_count": 10,
     "metadata": {},
     "output_type": "execute_result"
    }
   ],
   "source": [
    "hyp['Gender'].value_counts()"
   ]
  },
  {
   "cell_type": "code",
   "execution_count": 11,
   "id": "c136c2ff-400a-41ab-92ca-fd1d520b61b2",
   "metadata": {},
   "outputs": [],
   "source": [
    "#How to Subset the Data on Gender"
   ]
  },
  {
   "cell_type": "code",
   "execution_count": 12,
   "id": "5ccf8f11-2e72-4bb8-9cce-8f39c89e9ad1",
   "metadata": {},
   "outputs": [
    {
     "data": {
      "text/plain": [
       "1     53\n",
       "92    65\n",
       "93    52\n",
       "94    46\n",
       "95    61\n",
       "Name: Math1, dtype: int64"
      ]
     },
     "execution_count": 12,
     "metadata": {},
     "output_type": "execute_result"
    }
   ],
   "source": [
    "hyp[hyp['Gender']==1].Math1.head()"
   ]
  },
  {
   "cell_type": "markdown",
   "id": "a1c8797f-779a-4bc3-b4ec-965f9494d9e3",
   "metadata": {},
   "source": [
    "## Independent Sample"
   ]
  },
  {
   "cell_type": "code",
   "execution_count": 13,
   "id": "f41e6196-a278-49aa-af1b-6981fad176df",
   "metadata": {},
   "outputs": [],
   "source": [
    "t,p=st.ttest_ind(hyp[hyp['Gender']==1].Math1,hyp[hyp['Gender']==0].Math1)"
   ]
  },
  {
   "cell_type": "code",
   "execution_count": 14,
   "id": "f02e70ed-e0ad-461a-8931-288108e9e6f4",
   "metadata": {},
   "outputs": [
    {
     "data": {
      "text/plain": [
       "-0.41299864929688507"
      ]
     },
     "execution_count": 14,
     "metadata": {},
     "output_type": "execute_result"
    }
   ],
   "source": [
    "t"
   ]
  },
  {
   "cell_type": "code",
   "execution_count": 15,
   "id": "dce6600a-be02-49a8-ad05-7207a84ede4e",
   "metadata": {},
   "outputs": [
    {
     "data": {
      "text/plain": [
       "0.6800544974232143"
      ]
     },
     "execution_count": 15,
     "metadata": {},
     "output_type": "execute_result"
    }
   ],
   "source": [
    "p"
   ]
  },
  {
   "cell_type": "markdown",
   "id": "09961278-8118-4bed-baa3-7e8cdbb697d2",
   "metadata": {},
   "source": [
    "## Paired Sample/Relational Sample"
   ]
  },
  {
   "cell_type": "code",
   "execution_count": 16,
   "id": "0a6bb1aa-3f61-49cb-afde-cfd0691c5a45",
   "metadata": {},
   "outputs": [],
   "source": [
    "t,p=st.ttest_rel(hyp.Math1,hyp.Math2)"
   ]
  },
  {
   "cell_type": "code",
   "execution_count": 17,
   "id": "3eff31d9-b10a-42de-9218-994613c1b431",
   "metadata": {},
   "outputs": [
    {
     "data": {
      "text/plain": [
       "1.3555927189268238"
      ]
     },
     "execution_count": 17,
     "metadata": {},
     "output_type": "execute_result"
    }
   ],
   "source": [
    "t"
   ]
  },
  {
   "cell_type": "code",
   "execution_count": 18,
   "id": "9ce6e458-438d-461e-885f-5e53d5b970dd",
   "metadata": {},
   "outputs": [
    {
     "data": {
      "text/plain": [
       "0.1767652560550735"
      ]
     },
     "execution_count": 18,
     "metadata": {},
     "output_type": "execute_result"
    }
   ],
   "source": [
    "p"
   ]
  },
  {
   "cell_type": "markdown",
   "id": "8254f73f-bdac-43df-8c76-cbc1d0b84d6b",
   "metadata": {},
   "source": [
    "## 2 Annova (Analysis of Variance)\n",
    "ANOVA is used to compare the differences in means among more than two groups. It accomplishes this by examining the variation in the data and identifying where this variation is located (hence its name). Specifically, ANOVA compares the amount of variation between groups with the amount of variation within groups.\n",
    "\n",
    "--> Null Hypothesis , typically is that , all means are equal\n",
    "\n",
    "--> The independent variables are categorical\n",
    "\n",
    "--> Dependent Variable are continous\n",
    "\n",
    "F value\n",
    "\n",
    "Based of F score we will find p value\n",
    "\n",
    "F=Sample means of betweeen groups /sample means of within groups.\n",
    "\n",
    "\"F\" in F-score stands for Fisher. The F-score is named after its developer, Sir Ronald Fisher, a prominent statistician.\n",
    "\n",
    "Example\n",
    "If different types of drinks (coffee, water, milk, soda, etc.) have the same effects on the human body (e.g., reaction time in the morning).\n",
    "\n",
    "Mean Reaction time\n",
    "\n",
    "Null Hypothesis: The average reaction time on the human body is the same for all types of drinks.\n",
    "\n",
    "Alternate Hypothesis: The average reaction time on the human body varies among different types of drinks.\n",
    "\n",
    "Hypothesis Construction\n",
    "Null Hypothesis for ANOVA states that the averages of dependent variables are the same across all the given groups.\n",
    "\n",
    "The alternative hypothesis states that the means of the dependent variables are not the same for the given groups.\n",
    "\n",
    "Ho:muA=muB=muC\n",
    "\n",
    "Ha:not all are equal\n"
   ]
  },
  {
   "cell_type": "markdown",
   "id": "76e933c6-2582-4101-aa10-4c5ef5d92411",
   "metadata": {},
   "source": [
    "## How its work behind the Scene"
   ]
  },
  {
   "cell_type": "code",
   "execution_count": null,
   "id": "76b7da6d-5d09-4c79-a783-461aeb053ef7",
   "metadata": {},
   "outputs": [],
   "source": []
  },
  {
   "cell_type": "code",
   "execution_count": 19,
   "id": "65a4865c-abc9-4836-bc4f-6df5e6403ece",
   "metadata": {},
   "outputs": [],
   "source": [
    "#step1 : Calculate the mean of each semester\n",
    "#step2 : Calculate the grand mean\n",
    "#step3 : Variation between,within\n",
    "#step4 : calculate the mean squared variance of between and within\n",
    "#step5 : calculate F statistics and corresponding p value"
   ]
  },
  {
   "cell_type": "code",
   "execution_count": 8,
   "id": "485fe3b3-8d78-42d5-b410-9ae3fd4928a2",
   "metadata": {},
   "outputs": [],
   "source": [
    "import pandas as pd\n",
    "hyp=pd.read_csv('https://raw.githubusercontent.com/s4sauravv/Datasets/main/Semester%20marks.csv')"
   ]
  },
  {
   "cell_type": "code",
   "execution_count": 9,
   "id": "633665df-1b67-4c60-93dd-16446263b8e2",
   "metadata": {},
   "outputs": [
    {
     "data": {
      "text/html": [
       "<div>\n",
       "<style scoped>\n",
       "    .dataframe tbody tr th:only-of-type {\n",
       "        vertical-align: middle;\n",
       "    }\n",
       "\n",
       "    .dataframe tbody tr th {\n",
       "        vertical-align: top;\n",
       "    }\n",
       "\n",
       "    .dataframe thead th {\n",
       "        text-align: right;\n",
       "    }\n",
       "</style>\n",
       "<table border=\"1\" class=\"dataframe\">\n",
       "  <thead>\n",
       "    <tr style=\"text-align: right;\">\n",
       "      <th></th>\n",
       "      <th>Student_ID</th>\n",
       "      <th>Semester</th>\n",
       "      <th>Total_Marks</th>\n",
       "    </tr>\n",
       "  </thead>\n",
       "  <tbody>\n",
       "    <tr>\n",
       "      <th>0</th>\n",
       "      <td>1</td>\n",
       "      <td>1</td>\n",
       "      <td>365</td>\n",
       "    </tr>\n",
       "    <tr>\n",
       "      <th>1</th>\n",
       "      <td>2</td>\n",
       "      <td>3</td>\n",
       "      <td>376</td>\n",
       "    </tr>\n",
       "    <tr>\n",
       "      <th>2</th>\n",
       "      <td>3</td>\n",
       "      <td>1</td>\n",
       "      <td>411</td>\n",
       "    </tr>\n",
       "    <tr>\n",
       "      <th>3</th>\n",
       "      <td>4</td>\n",
       "      <td>3</td>\n",
       "      <td>436</td>\n",
       "    </tr>\n",
       "    <tr>\n",
       "      <th>4</th>\n",
       "      <td>5</td>\n",
       "      <td>2</td>\n",
       "      <td>366</td>\n",
       "    </tr>\n",
       "  </tbody>\n",
       "</table>\n",
       "</div>"
      ],
      "text/plain": [
       "   Student_ID  Semester  Total_Marks\n",
       "0           1         1          365\n",
       "1           2         3          376\n",
       "2           3         1          411\n",
       "3           4         3          436\n",
       "4           5         2          366"
      ]
     },
     "execution_count": 9,
     "metadata": {},
     "output_type": "execute_result"
    }
   ],
   "source": [
    "hyp.head()"
   ]
  },
  {
   "cell_type": "markdown",
   "id": "c3eedb8c-e324-4846-be14-d74dc7f5e989",
   "metadata": {},
   "source": [
    "--> As per Annova we need to find continous data based on the categorical variable\n",
    "\n",
    "Total_Marks is continue variable and\n",
    "\n",
    "and Semester are categorical variable\n",
    "\n",
    "Ho - Average Marks of each semester are almost equal\n",
    "\n",
    "Ha - is all are not equal"
   ]
  },
  {
   "cell_type": "code",
   "execution_count": 3,
   "id": "da447ec2-50a1-4e3a-9d86-a0dc88954416",
   "metadata": {},
   "outputs": [],
   "source": [
    "import numpy as np\n",
    "import statsmodels.formula.api as sm"
   ]
  },
  {
   "cell_type": "code",
   "execution_count": null,
   "id": "43f50e8b-af0b-422e-8322-05864c5f77da",
   "metadata": {},
   "outputs": [],
   "source": [
    "pip install statsmodels\n"
   ]
  },
  {
   "cell_type": "code",
   "execution_count": 10,
   "id": "8bf07195-8a93-4929-a550-4d178262fa0b",
   "metadata": {},
   "outputs": [],
   "source": [
    "mod=sm.ols('Total_Marks ~ Semester',data=hyp).fit()"
   ]
  },
  {
   "cell_type": "markdown",
   "id": "80cb0170-adec-487a-821f-5c71d21954a5",
   "metadata": {},
   "source": [
    "fit() -When we use fit. The fit() is started finding the relationship between semester 1,semester2 ,semester 3. it will start learning ,How is Variance. and Trying to find pattern, model is learning, and learn as much as possible.\n",
    "\n",
    "ols= Ordinary least square method\n",
    "\n",
    "tilde \"~\"\n",
    "\n",
    "lm -Linear Model"
   ]
  },
  {
   "cell_type": "code",
   "execution_count": 11,
   "id": "0788f67b-a35e-4314-8d98-e7bba4d393ee",
   "metadata": {},
   "outputs": [],
   "source": [
    "import statsmodels.api as k"
   ]
  },
  {
   "cell_type": "code",
   "execution_count": 12,
   "id": "90484224-63e5-4b7b-b89e-2e78d9913be5",
   "metadata": {},
   "outputs": [
    {
     "data": {
      "text/html": [
       "<div>\n",
       "<style scoped>\n",
       "    .dataframe tbody tr th:only-of-type {\n",
       "        vertical-align: middle;\n",
       "    }\n",
       "\n",
       "    .dataframe tbody tr th {\n",
       "        vertical-align: top;\n",
       "    }\n",
       "\n",
       "    .dataframe thead th {\n",
       "        text-align: right;\n",
       "    }\n",
       "</style>\n",
       "<table border=\"1\" class=\"dataframe\">\n",
       "  <thead>\n",
       "    <tr style=\"text-align: right;\">\n",
       "      <th></th>\n",
       "      <th>df</th>\n",
       "      <th>sum_sq</th>\n",
       "      <th>mean_sq</th>\n",
       "      <th>F</th>\n",
       "      <th>PR(&gt;F)</th>\n",
       "    </tr>\n",
       "  </thead>\n",
       "  <tbody>\n",
       "    <tr>\n",
       "      <th>Semester</th>\n",
       "      <td>1.0</td>\n",
       "      <td>291.846746</td>\n",
       "      <td>291.846746</td>\n",
       "      <td>0.102572</td>\n",
       "      <td>0.749102</td>\n",
       "    </tr>\n",
       "    <tr>\n",
       "      <th>Residual</th>\n",
       "      <td>198.0</td>\n",
       "      <td>563366.873254</td>\n",
       "      <td>2845.287239</td>\n",
       "      <td>NaN</td>\n",
       "      <td>NaN</td>\n",
       "    </tr>\n",
       "  </tbody>\n",
       "</table>\n",
       "</div>"
      ],
      "text/plain": [
       "             df         sum_sq      mean_sq         F    PR(>F)\n",
       "Semester    1.0     291.846746   291.846746  0.102572  0.749102\n",
       "Residual  198.0  563366.873254  2845.287239       NaN       NaN"
      ]
     },
     "execution_count": 12,
     "metadata": {},
     "output_type": "execute_result"
    }
   ],
   "source": [
    "avo_table=k.stats.anova_lm(mod,typ=1)\n",
    "avo_table"
   ]
  },
  {
   "cell_type": "code",
   "execution_count": 13,
   "id": "3371c6f1-a6c3-4542-84a0-eb98ec653a9c",
   "metadata": {},
   "outputs": [
    {
     "name": "stdout",
     "output_type": "stream",
     "text": [
      "1st Sem Avg Marks =   403.0\n",
      "2nd Sem Avg Mraks =   393.0\n",
      "3rd Sem Avg Marks =   406.0\n"
     ]
    }
   ],
   "source": [
    "#Semester 1 Average Marks\n",
    "print(\"1st Sem Avg Marks =  \",np.ceil(hyp['Total_Marks'][hyp['Semester']==1].mean()))\n",
    "print(\"2nd Sem Avg Mraks =  \",np.ceil(hyp['Total_Marks'][hyp['Semester']==2].mean()))\n",
    "print(\"3rd Sem Avg Marks =  \",np.ceil(hyp['Total_Marks'][hyp['Semester']==3].mean()))"
   ]
  },
  {
   "cell_type": "markdown",
   "id": "c02479ea-fadd-493e-8e67-6ef5d030a600",
   "metadata": {},
   "source": [
    "## 3 Chi- Sample Test\n",
    "The test most of the used for\n",
    "\n",
    "Goodness of Fit to a distribution : - The chi squared test can be used to determine wheather your data obeys a known theoretical porbablity distribution such as normal or poisson distribution.\n",
    "\n",
    "Example - How Much sales we can expect expect this week (lets say pizza business).According to a salesman below are the details\n",
    "\n",
    "Expected Sales in Thousand ..........[25,28,21,30,45,58,57]\n",
    "Observed(Actual) Sales in thousand ..............[23,26,25,31,48,63,58]\n",
    "How expected and observed close to each other, how good it is, this is a goodness of fit .\n",
    "\n",
    "Lets understand how to work on this situation.\n",
    "We will do this hypothesis testing with a significance of 10% (0.1) (This will be given or you can test accordindg to business intrect)\n",
    "\n",
    "(chi-sqaure statistics)"
   ]
  },
  {
   "cell_type": "code",
   "execution_count": 14,
   "id": "6408e984-8fad-4892-94df-24aa99b49d26",
   "metadata": {},
   "outputs": [
    {
     "name": "stdout",
     "output_type": "stream",
     "text": [
      "Our Chi - Square test statistics score ==>  1.763816437645839\n"
     ]
    }
   ],
   "source": [
    "import numpy as np\n",
    "\n",
    "#Expected [25,28,21,30,45,58,57]\n",
    "#Observer [23,26,25,31,48,63,58]\n",
    "\n",
    "chi_ind=[np.square(23-25)/25,\n",
    "        np.square(26-28)/25,\n",
    "        np.square(25-21)/21,\n",
    "        np.square(31-30)/30,\n",
    "        np.square(48-45)/45,\n",
    "        np.square(63-58)/58,\n",
    "        np.square(58-57)/57]\n",
    "\n",
    "print(\"Our Chi - Square test statistics score ==> \",np.sum(chi_ind))"
   ]
  },
  {
   "cell_type": "markdown",
   "id": "05b3385c-adb0-4368-bd3e-b4c75eb77af2",
   "metadata": {},
   "source": [
    "## Lets Check -Square Distribution table ,\n",
    "What is the chi -Square Distribution table ?\n",
    "The Chi-Sqaure dsitribution Table is a table that shows the critical values of the chi-square distribution .To use the Chi-Square Distribution table ,You only need to know two values.\n",
    "\n",
    "--> The Degrees of Freedom for the chi-square test\n",
    "\n",
    "--> The alpha level for the test (common choices are 0.01,0.05,0.10)\n",
    "\n",
    "Degree of Freedom - Which means you are allowed to choose/vary the data at the certain extent ,means .freedom is given to vary the data example -(N-1).Here N is Total events i.e(7-1)=6\n",
    "\n",
    "DF = 6 and Significance level =0.10\n",
    "\n",
    "and our test score is = 2.58\n",
    "\n",
    "--> lets check the critical score where DF and Significance level converge\n"
   ]
  },
  {
   "cell_type": "markdown",
   "id": "bc0631e3-2aef-45ee-a0f2-b0461fba4384",
   "metadata": {},
   "source": [
    "## Conclusion --\n",
    "As the Critical Score (in the table )is greater than our test score (2.58) , we cannot reject the null hypothesis which also means that sales man prediction/expectation was correct."
   ]
  },
  {
   "cell_type": "markdown",
   "id": "b0a3653f-200b-482f-ba85-9e981a63bdf0",
   "metadata": {},
   "source": [
    "## Covariance\n",
    "\n",
    "\n",
    "--> A Systematic relationship between a pair of random variables where in a change in one variable reciprocated by an equivalent cahnge in another variable .\n",
    "\n",
    "--> Covariance can take any value between -infinity to +infinity , where in the negative value is an indicator relationship wheareas a positive values represents the positive . relationship and when the value is zero, it indicates no relationship.\n",
    "\n",
    "--> In addition to this ,when all the observation of the either variable are same ,the covariance will be zero.\n",
    "\n",
    "--> When we change the unit of observation or any or both the two variables ,then there is no change in the strength of the relationship between two varibles but the value of covariance in changed."
   ]
  },
  {
   "cell_type": "markdown",
   "id": "35c9d205-4265-45c8-b1f2-c3133206382f",
   "metadata": {},
   "source": [
    "## Corelation\n",
    "--> A Measure which determines the change in one variable dure to change in other variable .\n",
    "\n",
    "-->Corelation is of two types .i.e positive corelation or negative\n",
    "\n",
    "--> corelation can take any value between -1 to +1 represent strong positive corellation and values close to -1 is an indicator and values close to -1 is an indicator of strong negative corelation\n",
    "\n",
    "--> There are four measure of corelation\n",
    "\n",
    "Scatter Diagram\n",
    "\n",
    "Product moment corellation coefficient\n",
    "\n",
    "Rank corellation coefficient\n",
    "\n",
    "coefficient of concurrent deviation"
   ]
  },
  {
   "cell_type": "code",
   "execution_count": null,
   "id": "4cd66327-41d7-48b4-9e0e-d681f8d1c5a9",
   "metadata": {},
   "outputs": [],
   "source": []
  }
 ],
 "metadata": {
  "kernelspec": {
   "display_name": "Python 3 (ipykernel)",
   "language": "python",
   "name": "python3"
  },
  "language_info": {
   "codemirror_mode": {
    "name": "ipython",
    "version": 3
   },
   "file_extension": ".py",
   "mimetype": "text/x-python",
   "name": "python",
   "nbconvert_exporter": "python",
   "pygments_lexer": "ipython3",
   "version": "3.11.2"
  }
 },
 "nbformat": 4,
 "nbformat_minor": 5
}
