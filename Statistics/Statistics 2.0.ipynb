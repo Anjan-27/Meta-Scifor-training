{
 "cells": [
  {
   "cell_type": "markdown",
   "id": "71c989e3-028f-4628-90ef-058c6ddc4f4b",
   "metadata": {},
   "source": [
    "## Statistics Continue\n",
    "\n"
   ]
  },
  {
   "cell_type": "markdown",
   "id": "fe603ad1-5024-4296-a73a-26680f4f0225",
   "metadata": {},
   "source": [
    "In PDF - Probability Density Function we talking about any particular event. but here we are talking two consicutive hour . it is also check between and within.\n",
    "\n",
    "CDF - Comulative Density Function , in pdf we are checking for only one person and we only check how much probablity in one data . but in cdf we find for between two consecutive hours or we can find within from starting to where we want.\n",
    "\n",
    "## Prbablity Problem\n",
    "Problem 1 - There are 1000 Students whose marks are captured based on their ability in the test if the same test given to a new student . what is the probablity of getting 50 marks.\n",
    "                                                                                                                                                                                                             \n"
   ]
  },
  {
   "cell_type": "code",
   "execution_count": 1,
   "id": "86a5a6cb-e580-4cb2-bd5b-8d0dce14461b",
   "metadata": {},
   "outputs": [],
   "source": [
    "from numpy.random import randint as ri\n",
    "import pandas as pd"
   ]
  },
  {
   "cell_type": "code",
   "execution_count": 2,
   "id": "63953b66-f571-4790-87d9-cad829ba5e55",
   "metadata": {},
   "outputs": [],
   "source": [
    "marks=ri(20,101,1000)"
   ]
  },
  {
   "cell_type": "code",
   "execution_count": 3,
   "id": "4695062e-1241-4979-8271-9bf25a648291",
   "metadata": {},
   "outputs": [
    {
     "data": {
      "text/plain": [
       "0    40\n",
       "1    65\n",
       "2    59\n",
       "3    91\n",
       "4    72\n",
       "dtype: int32"
      ]
     },
     "execution_count": 3,
     "metadata": {},
     "output_type": "execute_result"
    }
   ],
   "source": [
    "marks=pd.Series(marks)\n",
    "marks.head()"
   ]
  },
  {
   "cell_type": "code",
   "execution_count": 4,
   "id": "ab4789c4-68b0-4e36-a35e-f3bf47f5f409",
   "metadata": {},
   "outputs": [],
   "source": [
    "#Lets take  mean and standerd devaition (std). we need these data find the probablity"
   ]
  },
  {
   "cell_type": "code",
   "execution_count": 5,
   "id": "ba2a3da5-36f5-4902-96d4-061273c16627",
   "metadata": {},
   "outputs": [
    {
     "name": "stdout",
     "output_type": "stream",
     "text": [
      "Mean of Student Marks is  61.204\n",
      "Standard Deviation 23.1227387012232\n"
     ]
    }
   ],
   "source": [
    "marks_mean=marks.mean()\n",
    "print('Mean of Student Marks is ',marks_mean)\n",
    "marks_std=marks.std()\n",
    "print(\"Standard Deviation\",marks_std)"
   ]
  },
  {
   "cell_type": "code",
   "execution_count": 6,
   "id": "9bda56dd-5989-4ed8-b9a7-958b121ec2e1",
   "metadata": {},
   "outputs": [],
   "source": [
    "x=50"
   ]
  },
  {
   "cell_type": "code",
   "execution_count": 7,
   "id": "ea359f12-8933-43d4-bc76-88ea80e6418b",
   "metadata": {},
   "outputs": [],
   "source": [
    "#Probablity always between 0-1 and starts from 0\n",
    "import scipy.stats as st\n",
    "#when x(data)is given then,use CDF fucntion to find the probablity of scoring marks upto 50(x)"
   ]
  },
  {
   "cell_type": "code",
   "execution_count": 8,
   "id": "32c1db2c-b926-4659-a2c7-bdb30b0a6a33",
   "metadata": {},
   "outputs": [
    {
     "name": "stdout",
     "output_type": "stream",
     "text": [
      "0.3139996819662647\n"
     ]
    }
   ],
   "source": [
    "prob=st.norm.cdf(x,loc=marks_mean,scale=marks_std)\n",
    "print(prob)"
   ]
  },
  {
   "cell_type": "code",
   "execution_count": 9,
   "id": "15220977-35d4-4802-9df2-f63d3014079d",
   "metadata": {},
   "outputs": [],
   "source": [
    "#If You Want to Find The Probablity Of Scoring Marks Greater then 50, you can minus prob(1-prob)"
   ]
  },
  {
   "cell_type": "markdown",
   "id": "ed00b11b-d994-46b7-a77a-a72a36ed818c",
   "metadata": {},
   "source": [
    "Problem 2 - There are 1000 Students whose marks are captured baesd on their ability in the test if the same test given to a new student . what is the probablity of getting 70>marks."
   ]
  },
  {
   "cell_type": "code",
   "execution_count": 10,
   "id": "5e382d80-dd1b-4b9a-9c72-3f0999592d42",
   "metadata": {},
   "outputs": [
    {
     "data": {
      "text/plain": [
       "0    40\n",
       "1    65\n",
       "2    59\n",
       "3    91\n",
       "4    72\n",
       "dtype: int32"
      ]
     },
     "execution_count": 10,
     "metadata": {},
     "output_type": "execute_result"
    }
   ],
   "source": [
    "marks.head()"
   ]
  },
  {
   "cell_type": "code",
   "execution_count": 11,
   "id": "db42d944-fb2b-4bd9-a539-9aa54c0ca072",
   "metadata": {},
   "outputs": [],
   "source": [
    "x=70"
   ]
  },
  {
   "cell_type": "code",
   "execution_count": 12,
   "id": "be47b3de-8d73-40ec-8133-2552033801c6",
   "metadata": {},
   "outputs": [
    {
     "data": {
      "text/plain": [
       "61.204"
      ]
     },
     "execution_count": 12,
     "metadata": {},
     "output_type": "execute_result"
    }
   ],
   "source": [
    "marks_mean"
   ]
  },
  {
   "cell_type": "code",
   "execution_count": 13,
   "id": "9ea0a6ef-dfa1-4204-9472-9aec60dc1181",
   "metadata": {},
   "outputs": [
    {
     "data": {
      "text/plain": [
       "23.1227387012232"
      ]
     },
     "execution_count": 13,
     "metadata": {},
     "output_type": "execute_result"
    }
   ],
   "source": [
    "marks_std"
   ]
  },
  {
   "cell_type": "code",
   "execution_count": 14,
   "id": "febb2604-8119-4035-b553-ab6f02ff34da",
   "metadata": {},
   "outputs": [
    {
     "data": {
      "text/plain": [
       "0.6481775112593025"
      ]
     },
     "execution_count": 14,
     "metadata": {},
     "output_type": "execute_result"
    }
   ],
   "source": [
    "prob=st.norm.cdf(x,loc=marks_mean,scale=marks_std)\n",
    "prob"
   ]
  },
  {
   "cell_type": "code",
   "execution_count": 15,
   "id": "8652885c-3e64-4c0c-bc9b-aee3ae6ce0bd",
   "metadata": {},
   "outputs": [],
   "source": [
    "chances_of_getting_more_then_70_number=1-0.66"
   ]
  },
  {
   "cell_type": "code",
   "execution_count": 16,
   "id": "ad14c210-1408-424d-a793-9c75c677a924",
   "metadata": {},
   "outputs": [
    {
     "data": {
      "text/plain": [
       "0.33999999999999997"
      ]
     },
     "execution_count": 16,
     "metadata": {},
     "output_type": "execute_result"
    }
   ],
   "source": [
    "chances_of_getting_more_then_70_number\n"
   ]
  },
  {
   "cell_type": "markdown",
   "id": "12077482-5bc0-4ed6-b3b6-796e2a20bc42",
   "metadata": {},
   "source": [
    "#### How its Work Behind The Scene\n"
   ]
  },
  {
   "cell_type": "code",
   "execution_count": 17,
   "id": "12801b9e-d27c-4811-90ae-18854fc7966b",
   "metadata": {},
   "outputs": [
    {
     "data": {
      "text/plain": [
       "61.204"
      ]
     },
     "execution_count": 17,
     "metadata": {},
     "output_type": "execute_result"
    }
   ],
   "source": [
    "marks_mean"
   ]
  },
  {
   "cell_type": "code",
   "execution_count": 18,
   "id": "861ee9f9-d1b6-4d99-935b-2d7de0340e1f",
   "metadata": {},
   "outputs": [
    {
     "data": {
      "text/plain": [
       "23.1227387012232"
      ]
     },
     "execution_count": 18,
     "metadata": {},
     "output_type": "execute_result"
    }
   ],
   "source": [
    "marks_std"
   ]
  },
  {
   "cell_type": "code",
   "execution_count": 19,
   "id": "66611d40-9545-4618-ae6c-27e3e9c84697",
   "metadata": {},
   "outputs": [],
   "source": [
    "x=50"
   ]
  },
  {
   "cell_type": "code",
   "execution_count": 20,
   "id": "147e45d3-79e6-492a-9fbd-a601eb327f49",
   "metadata": {},
   "outputs": [
    {
     "data": {
      "text/plain": [
       "-0.4845446789314497"
      ]
     },
     "execution_count": 20,
     "metadata": {},
     "output_type": "execute_result"
    }
   ],
   "source": [
    "score=(x-marks_mean)/marks_std\n",
    "score"
   ]
  },
  {
   "cell_type": "markdown",
   "id": "3def2e7f-1be0-4fb4-b487-e8a666f244d7",
   "metadata": {},
   "source": [
    "#### Problem 2 = Find The Probablity of Getting Marks between 50-60"
   ]
  },
  {
   "cell_type": "markdown",
   "id": "ac9bc020-7a0d-4b85-8618-d73ba45ae390",
   "metadata": {},
   "source": [
    "#Rewrite the problem below form\n",
    "p(50<z<60)\n",
    "\n",
    "p((50-mean)/std<z<(60-mean)/std)"
   ]
  },
  {
   "cell_type": "code",
   "execution_count": 22,
   "id": "ebe70040-aaa9-4fd1-adf0-9c0096b8bc59",
   "metadata": {},
   "outputs": [
    {
     "data": {
      "text/plain": [
       "-0.4845446789314497"
      ]
     },
     "execution_count": 22,
     "metadata": {},
     "output_type": "execute_result"
    }
   ],
   "source": [
    "#For 50\n",
    "(50-marks_mean)/marks_std"
   ]
  },
  {
   "cell_type": "code",
   "execution_count": 23,
   "id": "8c0fc0b6-3ec6-4541-94f3-20dbbaec8947",
   "metadata": {},
   "outputs": [
    {
     "data": {
      "text/plain": [
       "-0.05206995657206941"
      ]
     },
     "execution_count": 23,
     "metadata": {},
     "output_type": "execute_result"
    }
   ],
   "source": [
    "#for 60\n",
    "(60-marks_mean)/marks_std"
   ]
  },
  {
   "cell_type": "code",
   "execution_count": 24,
   "id": "5dee572c-8f61-4983-b3be-1d9c4e0a0520",
   "metadata": {},
   "outputs": [],
   "source": [
    "fifteen_percent_chance=.4972-.3372"
   ]
  },
  {
   "cell_type": "code",
   "execution_count": 25,
   "id": "c51e5450-fdfe-49b5-994a-71819e10ead5",
   "metadata": {},
   "outputs": [
    {
     "data": {
      "text/plain": [
       "0.15999999999999998"
      ]
     },
     "execution_count": 25,
     "metadata": {},
     "output_type": "execute_result"
    }
   ],
   "source": [
    "fifteen_percent_chance"
   ]
  },
  {
   "cell_type": "markdown",
   "id": "11bfeb3a-c2ee-441b-8b69-1d3324a5afaf",
   "metadata": {},
   "source": [
    "#### Hypothesis -\n",
    "Making a guess(not wild guess) based on assumption without scintific proof or explaining the situation based on reasonable assumption.\n",
    "\n",
    "Null Hypothesis -H0 -> Decision always leads to status quo,current status/assumption doesn't Change.\n",
    "Alternate Hypothesis -Ha-> Decision leads to opposite of H0.\n",
    "Types of Test\n",
    "One Tail and Two Tail tests"
   ]
  },
  {
   "cell_type": "markdown",
   "id": "9d72f342-00d9-49e8-97a1-9be80170cfff",
   "metadata": {},
   "source": [
    "If you consider both side , then its call two tail test.\n",
    "\n",
    "--> One Tail test\n",
    "\n",
    "A-->Left tail test\n",
    "Example - Car Mileage test\n",
    "\n",
    "H0- All our cars average mileage is greater than 25KMPL\n",
    "\n",
    "Ha- Average Mileage is less then 25 KMPL\n",
    "\n",
    "Left Tailed test- The alternate hypothesis contains the \"<\" sign.\n",
    "\n",
    "B--> Right tail test-The alternative hypothesis contains the \">\" sign\n",
    "H0 - Our home delivery methods reduces delivery time\n",
    "\n",
    "Ha - New method will increase hypothesis contains the \">\" sign.\n",
    "\n",
    "Right Tailed test-The alternate hypothesis contains the \">\" sign\n",
    "\n",
    "Two Tail Test\n",
    "Example - Difference in car mileage when drive by different person.\n",
    "\n",
    "Two-Tailed Test -> The alternative hypothesis contains the \"!=\" sign"
   ]
  },
  {
   "cell_type": "markdown",
   "id": "15bf040c-1707-4ef3-9fbf-b9ab8ba7c2f3",
   "metadata": {},
   "source": [
    "#### Problem 1 -\n",
    "A car manufacturing company claims mileage of their cars is 25KMPL . The population standard deviation is known from the past experiance to be 1.5KMPL .A car rentall company wants to test the null hypothesis that the average mileage is at least 25KMPL car rental representative drove 30 cars (Samples) of the same company and record each car mileage .The average Mileage of the sample turned out to be 24.2 KMPL.\n",
    "\n",
    "Test the null hypothesis ? (H0) Null Hypothesis >=25 (H1) Alternate Hypothesis <=25"
   ]
  },
  {
   "cell_type": "code",
   "execution_count": 26,
   "id": "93f06659-6d93-4ecd-b3d4-5a5bbd7a1632",
   "metadata": {},
   "outputs": [],
   "source": [
    "import numpy as np\n",
    "mean=25\n",
    "sample_mean=24.2\n",
    "std=1.5\n",
    "n=30"
   ]
  },
  {
   "cell_type": "code",
   "execution_count": 27,
   "id": "682ff344-2602-4b11-9956-28619e00193c",
   "metadata": {},
   "outputs": [
    {
     "data": {
      "text/plain": [
       "-2.921186973360889"
      ]
     },
     "execution_count": 27,
     "metadata": {},
     "output_type": "execute_result"
    }
   ],
   "source": [
    "z=(sample_mean-mean)/(std/np.sqrt(30))\n",
    "z"
   ]
  },
  {
   "cell_type": "code",
   "execution_count": 28,
   "id": "32bfbe8d-92a2-4de6-8294-33d83c4c4d7d",
   "metadata": {},
   "outputs": [],
   "source": [
    "#Below z score need to check in the z table to get the p value"
   ]
  },
  {
   "cell_type": "code",
   "execution_count": 29,
   "id": "100d6b8b-00a6-4058-a54d-8db2154aefcb",
   "metadata": {},
   "outputs": [],
   "source": [
    "#Using statistics tools"
   ]
  },
  {
   "cell_type": "code",
   "execution_count": 30,
   "id": "af290f07-dbae-4b32-bf0e-b392225fe159",
   "metadata": {},
   "outputs": [],
   "source": [
    "import scipy.stats as st\n",
    "import numpy as np"
   ]
  },
  {
   "cell_type": "code",
   "execution_count": 31,
   "id": "4e5d9894-30ce-4739-8dc7-93ed77f92a40",
   "metadata": {},
   "outputs": [],
   "source": [
    "p_values=st.norm.cdf(sample_mean,loc=mean,scale=1.5/np.sqrt(30))"
   ]
  },
  {
   "cell_type": "code",
   "execution_count": 32,
   "id": "6f9f1de7-a820-4699-9426-e46276e2fe5b",
   "metadata": {},
   "outputs": [
    {
     "data": {
      "text/plain": [
       "0.001743502446070677"
      ]
     },
     "execution_count": 32,
     "metadata": {},
     "output_type": "execute_result"
    }
   ],
   "source": [
    "p_values"
   ]
  },
  {
   "cell_type": "markdown",
   "id": "9a7cbbdc-83c7-463c-a8b7-dad5f97d2d7c",
   "metadata": {},
   "source": [
    "### Important points\n",
    "-> Standard alpha level =0.05\n",
    "\n",
    "-> if p-Value is <0.05 then we reject null hypothesis(Ho)\n",
    "\n",
    "-> if p values is >0.05 then we failed to reject the ho\n",
    "\n",
    "-> p value is also called alpha value\n",
    "\n",
    "Conclusion- As the p value is less than alpha (0.05), we reject the null hypothesis (mileage>=25KMPL) not given 25 mileage so rental company will not buy the cars.\n",
    "\n",
    "Type 1 Error -> If Ho is True and You reject Ho\n",
    "In our exapmple , if average car mileage is really 25 or >25 KMPL and rental agency rejects itr . Its a type 1 Error.\n",
    "\n",
    "Type 2 Error -> If Ho is False and you failed to reject Ho\n",
    "If average car mileage is really <25 but rental agency buying cars (failed to reject Ho)Its type2 Error."
   ]
  },
  {
   "cell_type": "code",
   "execution_count": null,
   "id": "bc7e07f9-53a7-487b-89b1-aaa1c2874a1d",
   "metadata": {},
   "outputs": [],
   "source": []
  }
 ],
 "metadata": {
  "kernelspec": {
   "display_name": "Python 3 (ipykernel)",
   "language": "python",
   "name": "python3"
  },
  "language_info": {
   "codemirror_mode": {
    "name": "ipython",
    "version": 3
   },
   "file_extension": ".py",
   "mimetype": "text/x-python",
   "name": "python",
   "nbconvert_exporter": "python",
   "pygments_lexer": "ipython3",
   "version": "3.11.2"
  }
 },
 "nbformat": 4,
 "nbformat_minor": 5
}
