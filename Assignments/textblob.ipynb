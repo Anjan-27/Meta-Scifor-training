{
  "nbformat": 4,
  "nbformat_minor": 0,
  "metadata": {
    "colab": {
      "provenance": []
    },
    "kernelspec": {
      "name": "python3",
      "display_name": "Python 3"
    },
    "language_info": {
      "name": "python"
    }
  },
  "cells": [
    {
      "cell_type": "markdown",
      "source": [
        "## Text Blob: Simplified Text Processing\n",
        "TextBlob is a Python (2 and 3) library for processing textual data. It provides a simple API for diving into common natural language processing (NLP) tasks such as part-of-speech tagging, noun phrase extraction, sentiment analysis, classification, translation, and more.\\\n",
        "\n",
        "TextBlob stands on the giant shoulders of NLTK and pattern and plays nicely with both.\n",
        "\n",
        "## Features\n",
        "Noun phrase extraction Part-of-speech tagging Sentiment analysis Classification (Naive Bayes, Decision Tree) Language translation and detection powered by Google Translate Tokenization (splitting text into words and sentences) Word and phrase frequencies Parsing N-grams Word inflection (pluralization and singularization) and lemmatization Spelling correction Add new models or languages through extensions WordNet integration\n",
        "\n",
        "## Create a TextBlob"
      ],
      "metadata": {
        "id": "11oyPr1Yyybl"
      }
    },
    {
      "cell_type": "code",
      "source": [
        "pip install textblob"
      ],
      "metadata": {
        "colab": {
          "base_uri": "https://localhost:8080/"
        },
        "id": "JgQLVhKqywFU",
        "outputId": "d7c36774-c2ca-4241-e0b8-3c22c4e0a5d8"
      },
      "execution_count": 1,
      "outputs": [
        {
          "output_type": "stream",
          "name": "stdout",
          "text": [
            "Requirement already satisfied: textblob in /usr/local/lib/python3.10/dist-packages (0.17.1)\n",
            "Requirement already satisfied: nltk>=3.1 in /usr/local/lib/python3.10/dist-packages (from textblob) (3.8.1)\n",
            "Requirement already satisfied: click in /usr/local/lib/python3.10/dist-packages (from nltk>=3.1->textblob) (8.1.7)\n",
            "Requirement already satisfied: joblib in /usr/local/lib/python3.10/dist-packages (from nltk>=3.1->textblob) (1.4.2)\n",
            "Requirement already satisfied: regex>=2021.8.3 in /usr/local/lib/python3.10/dist-packages (from nltk>=3.1->textblob) (2024.9.11)\n",
            "Requirement already satisfied: tqdm in /usr/local/lib/python3.10/dist-packages (from nltk>=3.1->textblob) (4.66.5)\n"
          ]
        }
      ]
    },
    {
      "cell_type": "code",
      "source": [
        "!python -m textblob.download_corpora"
      ],
      "metadata": {
        "colab": {
          "base_uri": "https://localhost:8080/"
        },
        "id": "Qas97OkkD_y-",
        "outputId": "741210d6-8c74-4604-a227-d0e29d675949"
      },
      "execution_count": 2,
      "outputs": [
        {
          "output_type": "stream",
          "name": "stdout",
          "text": [
            "[nltk_data] Downloading package brown to /root/nltk_data...\n",
            "[nltk_data]   Unzipping corpora/brown.zip.\n",
            "[nltk_data] Downloading package punkt to /root/nltk_data...\n",
            "[nltk_data]   Unzipping tokenizers/punkt.zip.\n",
            "[nltk_data] Downloading package wordnet to /root/nltk_data...\n",
            "[nltk_data] Downloading package averaged_perceptron_tagger to\n",
            "[nltk_data]     /root/nltk_data...\n",
            "[nltk_data]   Unzipping taggers/averaged_perceptron_tagger.zip.\n",
            "[nltk_data] Downloading package conll2000 to /root/nltk_data...\n",
            "[nltk_data]   Unzipping corpora/conll2000.zip.\n",
            "[nltk_data] Downloading package movie_reviews to /root/nltk_data...\n",
            "[nltk_data]   Unzipping corpora/movie_reviews.zip.\n",
            "Finished.\n"
          ]
        }
      ]
    },
    {
      "cell_type": "code",
      "source": [
        "from textblob import TextBlob"
      ],
      "metadata": {
        "id": "s4v6-9hlzNVs"
      },
      "execution_count": 3,
      "outputs": []
    },
    {
      "cell_type": "code",
      "source": [
        "wiki = TextBlob(\"I love Natural Language Processing, not you!\")"
      ],
      "metadata": {
        "id": "exU8f2LHzQnK"
      },
      "execution_count": 4,
      "outputs": []
    },
    {
      "cell_type": "markdown",
      "source": [
        "## Part-of-Speech Tagging\n",
        "Parts-of-speech tags can be accessed through the tags property:"
      ],
      "metadata": {
        "id": "vp_2-eDpzgXo"
      }
    },
    {
      "cell_type": "code",
      "source": [
        "wiki.tags"
      ],
      "metadata": {
        "colab": {
          "base_uri": "https://localhost:8080/"
        },
        "id": "NeFB9I0RErjT",
        "outputId": "16e174e3-de2f-4987-ff92-42d32ea8469f"
      },
      "execution_count": 5,
      "outputs": [
        {
          "output_type": "execute_result",
          "data": {
            "text/plain": [
              "[('I', 'PRP'),\n",
              " ('love', 'VBP'),\n",
              " ('Natural', 'JJ'),\n",
              " ('Language', 'NNP'),\n",
              " ('Processing', 'NNP'),\n",
              " ('not', 'RB'),\n",
              " ('you', 'PRP')]"
            ]
          },
          "metadata": {},
          "execution_count": 5
        }
      ]
    },
    {
      "cell_type": "markdown",
      "source": [
        "## Noun Phrase Extraction\n",
        "Similarly, noun phrases are accessed through the noun_phrases property:"
      ],
      "metadata": {
        "id": "t92LmGZGzq2Z"
      }
    },
    {
      "cell_type": "code",
      "source": [
        "wiki.noun_phrases"
      ],
      "metadata": {
        "colab": {
          "base_uri": "https://localhost:8080/"
        },
        "id": "out2Q15fEzO7",
        "outputId": "b69136e0-3261-4a12-f8bc-13b3288c37fe"
      },
      "execution_count": 6,
      "outputs": [
        {
          "output_type": "execute_result",
          "data": {
            "text/plain": [
              "WordList(['language processing'])"
            ]
          },
          "metadata": {},
          "execution_count": 6
        }
      ]
    },
    {
      "cell_type": "markdown",
      "source": [
        "## Sentiment Analysis\n",
        "The sentiment property returns a named tuple of the form Sentiment(polarity, subjectivity). The polarity score is a float within the range [-1.0, 1.0]. The subjectivity is a float within the range [0.0, 1.0], where 0.0 is very subjective and 1.0 is very subjective."
      ],
      "metadata": {
        "id": "x6oQhpEJz3vD"
      }
    },
    {
      "cell_type": "code",
      "source": [
        "testimonial = TextBlob(\"Textblob is amazingly simple to use. What great fun!\")\n",
        "testimonial.sentiment"
      ],
      "metadata": {
        "colab": {
          "base_uri": "https://localhost:8080/"
        },
        "id": "IX2EsGigE3KR",
        "outputId": "b03d3dca-eb5c-4d45-a1be-45ec682819a9"
      },
      "execution_count": 7,
      "outputs": [
        {
          "output_type": "execute_result",
          "data": {
            "text/plain": [
              "Sentiment(polarity=0.39166666666666666, subjectivity=0.4357142857142857)"
            ]
          },
          "metadata": {},
          "execution_count": 7
        }
      ]
    },
    {
      "cell_type": "code",
      "source": [
        "testimonial.sentiment.subjectivity"
      ],
      "metadata": {
        "colab": {
          "base_uri": "https://localhost:8080/"
        },
        "id": "aV4BHKsgFAHG",
        "outputId": "c944f9f4-b67d-4d22-cf23-8375f2e54e76"
      },
      "execution_count": 8,
      "outputs": [
        {
          "output_type": "execute_result",
          "data": {
            "text/plain": [
              "0.4357142857142857"
            ]
          },
          "metadata": {},
          "execution_count": 8
        }
      ]
    },
    {
      "cell_type": "markdown",
      "source": [
        "## Tokenisation"
      ],
      "metadata": {
        "id": "0rE1HbNv0C91"
      }
    },
    {
      "cell_type": "code",
      "source": [
        "zen = TextBlob(\"Beautiful is better than ugly. \"\n",
        "               \"Explicit is better than implicit. \"\n",
        "               \"Simple is better than complex.\")\n",
        "zen.words"
      ],
      "metadata": {
        "colab": {
          "base_uri": "https://localhost:8080/"
        },
        "id": "yBA93gzdFOii",
        "outputId": "793cdf4b-15ba-4e8d-e29a-5f64e25b25c5"
      },
      "execution_count": 9,
      "outputs": [
        {
          "output_type": "execute_result",
          "data": {
            "text/plain": [
              "WordList(['Beautiful', 'is', 'better', 'than', 'ugly', 'Explicit', 'is', 'better', 'than', 'implicit', 'Simple', 'is', 'better', 'than', 'complex'])"
            ]
          },
          "metadata": {},
          "execution_count": 9
        }
      ]
    },
    {
      "cell_type": "markdown",
      "source": [
        "## Get Sentences:\n",
        "Sentences objects have the same properties and methods as Textblobs"
      ],
      "metadata": {
        "id": "qvgzi4sa0PKx"
      }
    },
    {
      "cell_type": "code",
      "source": [
        "zen.sentences"
      ],
      "metadata": {
        "colab": {
          "base_uri": "https://localhost:8080/"
        },
        "id": "8kMxkdjGFa9G",
        "outputId": "d932cce0-4bec-430e-9113-97e14cbd5728"
      },
      "execution_count": 10,
      "outputs": [
        {
          "output_type": "execute_result",
          "data": {
            "text/plain": [
              "[Sentence(\"Beautiful is better than ugly.\"),\n",
              " Sentence(\"Explicit is better than implicit.\"),\n",
              " Sentence(\"Simple is better than complex.\")]"
            ]
          },
          "metadata": {},
          "execution_count": 10
        }
      ]
    },
    {
      "cell_type": "code",
      "source": [
        "for sentence in zen.sentences:\n",
        "    print(sentence)"
      ],
      "metadata": {
        "colab": {
          "base_uri": "https://localhost:8080/"
        },
        "id": "cYB55cuSFgQm",
        "outputId": "ebc2693c-26f2-4352-c262-a6f4ea8b0085"
      },
      "execution_count": 11,
      "outputs": [
        {
          "output_type": "stream",
          "name": "stdout",
          "text": [
            "Beautiful is better than ugly.\n",
            "Explicit is better than implicit.\n",
            "Simple is better than complex.\n"
          ]
        }
      ]
    },
    {
      "cell_type": "markdown",
      "source": [
        "## Word Inflection and Lemmatization\n",
        "Each word in the TextBlob.words or Sentence.words is a Word object (a sublclass of unicode) with useful methods, ex: word inflection."
      ],
      "metadata": {
        "id": "I8NHcWPV0YdK"
      }
    },
    {
      "cell_type": "code",
      "source": [
        "sentence = TextBlob('Use 4 spaces per indentation level.')\n",
        "sentence.words"
      ],
      "metadata": {
        "colab": {
          "base_uri": "https://localhost:8080/"
        },
        "id": "lEzmCuGjFoYW",
        "outputId": "dad527a3-ee11-4cc7-99a5-6044e4e1df8d"
      },
      "execution_count": 12,
      "outputs": [
        {
          "output_type": "execute_result",
          "data": {
            "text/plain": [
              "WordList(['Use', '4', 'spaces', 'per', 'indentation', 'level'])"
            ]
          },
          "metadata": {},
          "execution_count": 12
        }
      ]
    },
    {
      "cell_type": "code",
      "source": [
        "sentence.words[2].singularize()"
      ],
      "metadata": {
        "colab": {
          "base_uri": "https://localhost:8080/",
          "height": 35
        },
        "id": "XJHFlfoBF1Ll",
        "outputId": "9c99fc65-d336-4daa-8a24-87533f69124e"
      },
      "execution_count": 13,
      "outputs": [
        {
          "output_type": "execute_result",
          "data": {
            "text/plain": [
              "'space'"
            ],
            "application/vnd.google.colaboratory.intrinsic+json": {
              "type": "string"
            }
          },
          "metadata": {},
          "execution_count": 13
        }
      ]
    },
    {
      "cell_type": "code",
      "source": [
        "sentence.words[0].pluralize()"
      ],
      "metadata": {
        "colab": {
          "base_uri": "https://localhost:8080/",
          "height": 35
        },
        "id": "pdUVGz4FF8i7",
        "outputId": "1caa439d-489d-43f7-ff85-1f2a17e8febe"
      },
      "execution_count": 14,
      "outputs": [
        {
          "output_type": "execute_result",
          "data": {
            "text/plain": [
              "'Uses'"
            ],
            "application/vnd.google.colaboratory.intrinsic+json": {
              "type": "string"
            }
          },
          "metadata": {},
          "execution_count": 14
        }
      ]
    },
    {
      "cell_type": "code",
      "source": [
        "from textblob import Word\n",
        "w = Word(\"lions\")\n",
        "w.lemmatize()"
      ],
      "metadata": {
        "colab": {
          "base_uri": "https://localhost:8080/",
          "height": 35
        },
        "id": "HftKw12oGDAc",
        "outputId": "3a7ee54b-aedc-4411-d53c-a177ca732b26"
      },
      "execution_count": 15,
      "outputs": [
        {
          "output_type": "execute_result",
          "data": {
            "text/plain": [
              "'lion'"
            ],
            "application/vnd.google.colaboratory.intrinsic+json": {
              "type": "string"
            }
          },
          "metadata": {},
          "execution_count": 15
        }
      ]
    },
    {
      "cell_type": "code",
      "source": [
        "q = Word(\"went\")\n",
        "q.lemmatize(\"v\") # Pass in WordNet part of speech"
      ],
      "metadata": {
        "colab": {
          "base_uri": "https://localhost:8080/",
          "height": 35
        },
        "id": "YtGd3tumGQA3",
        "outputId": "2a966568-402a-4ad5-8a11-b0d5821e58cf"
      },
      "execution_count": 16,
      "outputs": [
        {
          "output_type": "execute_result",
          "data": {
            "text/plain": [
              "'go'"
            ],
            "application/vnd.google.colaboratory.intrinsic+json": {
              "type": "string"
            }
          },
          "metadata": {},
          "execution_count": 16
        }
      ]
    },
    {
      "cell_type": "markdown",
      "source": [
        "## WordNet Integration\n",
        "You can access the synsets for a Word via the synsets property or the get_synsets method, optionally passing in a parts-of-speech.\n",
        "\n",
        "## WordNet\n",
        "WordNet is a lexical database that is a dictionary for the English language. It is specifically for natural language processing.\n",
        "\n",
        "## Synset\n",
        "It is a special kind of simple interface that is present in the NLTK for looking up words in WordNet. Synset instances are the groupings of synonymous words that express the same type of concept. Some words have only one synset and some have several.\n"
      ],
      "metadata": {
        "id": "qWbJ0zWR0mv3"
      }
    },
    {
      "cell_type": "code",
      "source": [
        "Word(\"length\").definitions"
      ],
      "metadata": {
        "colab": {
          "base_uri": "https://localhost:8080/"
        },
        "id": "M2Bc_OM1Gsi8",
        "outputId": "0d671e59-4270-432c-b98d-d87d47438fea"
      },
      "execution_count": 17,
      "outputs": [
        {
          "output_type": "execute_result",
          "data": {
            "text/plain": [
              "['the linear extent in space from one end to the other; the longest dimension of something that is fixed in place',\n",
              " 'continuance in time',\n",
              " 'the property of being the extent of something from beginning to end',\n",
              " 'size of the gap between two places',\n",
              " 'a section of something that is long and narrow']"
            ]
          },
          "metadata": {},
          "execution_count": 17
        }
      ]
    },
    {
      "cell_type": "code",
      "source": [
        "from textblob.wordnet import Synset\n",
        "octopus = Synset('octopus.n.02')\n",
        "shrimp = Synset('shrimp.n.03')\n",
        "octopus.path_similarity(shrimp)"
      ],
      "metadata": {
        "colab": {
          "base_uri": "https://localhost:8080/"
        },
        "id": "P-4-O27_G3Mm",
        "outputId": "9ab2cd4f-4e91-4bf3-d482-5489d013ed21"
      },
      "execution_count": 18,
      "outputs": [
        {
          "output_type": "execute_result",
          "data": {
            "text/plain": [
              "0.1111111111111111"
            ]
          },
          "metadata": {},
          "execution_count": 18
        }
      ]
    },
    {
      "cell_type": "markdown",
      "source": [
        "## WordLists\n",
        "A wordlist is just the Python list with additional methods.\n",
        "\n",
        "WordLists will find the words which are in the sentence and ignore the spaces in between them."
      ],
      "metadata": {
        "id": "9nXvlt998K9f"
      }
    },
    {
      "cell_type": "code",
      "source": [
        "animals = TextBlob(\"cow sheep octopus\")\n",
        "animals.words"
      ],
      "metadata": {
        "colab": {
          "base_uri": "https://localhost:8080/"
        },
        "id": "10kYmdFzHEmu",
        "outputId": "45c8cfb3-c30b-4c2d-a36d-56bb93e4403a"
      },
      "execution_count": 19,
      "outputs": [
        {
          "output_type": "execute_result",
          "data": {
            "text/plain": [
              "WordList(['cow', 'sheep', 'octopus'])"
            ]
          },
          "metadata": {},
          "execution_count": 19
        }
      ]
    },
    {
      "cell_type": "code",
      "source": [
        "animals.words.pluralize() # It pluralize the words"
      ],
      "metadata": {
        "colab": {
          "base_uri": "https://localhost:8080/"
        },
        "id": "q6OA8vvVHN-F",
        "outputId": "1d558212-5d92-4fb0-9018-42dda11e1d01"
      },
      "execution_count": 20,
      "outputs": [
        {
          "output_type": "execute_result",
          "data": {
            "text/plain": [
              "WordList(['kine', 'sheep', 'octopodes'])"
            ]
          },
          "metadata": {},
          "execution_count": 20
        }
      ]
    },
    {
      "cell_type": "markdown",
      "source": [
        "## Spelling Correction"
      ],
      "metadata": {
        "id": "j6boZaQw8RT_"
      }
    },
    {
      "cell_type": "code",
      "source": [
        "g = TextBlob(\" Can you pronounce czechuslovakia?\")\n",
        "print(g.correct())"
      ],
      "metadata": {
        "colab": {
          "base_uri": "https://localhost:8080/"
        },
        "id": "1cVuA7NpHZi7",
        "outputId": "e075f5a2-5bc5-4f1b-d110-774416743fb9"
      },
      "execution_count": 22,
      "outputs": [
        {
          "output_type": "stream",
          "name": "stdout",
          "text": [
            " An you pronounce czechoslovakia?\n"
          ]
        }
      ]
    },
    {
      "cell_type": "code",
      "source": [
        "from textblob import Word\n",
        "w = Word('longitude')\n",
        "w.spellcheck()"
      ],
      "metadata": {
        "colab": {
          "base_uri": "https://localhost:8080/"
        },
        "id": "Ixc8LrP1Hqdg",
        "outputId": "77aacfbe-1bc0-4808-b840-033a033f5343"
      },
      "execution_count": 23,
      "outputs": [
        {
          "output_type": "execute_result",
          "data": {
            "text/plain": [
              "[('longitude', 1.0)]"
            ]
          },
          "metadata": {},
          "execution_count": 23
        }
      ]
    },
    {
      "cell_type": "markdown",
      "source": [
        "## Get Word and Noun Phrase Frequencies\n",
        "There are two ways to get the frequency of a word or noun phrase in the TextBlob.\n",
        "\n",
        "The first one is through the word_counts dictionary."
      ],
      "metadata": {
        "id": "hjHUr7yf8gRQ"
      }
    },
    {
      "cell_type": "code",
      "source": [
        "sent = TextBlob('She sales sea shells at the sea shore')\n",
        "sent.word_counts['sea']"
      ],
      "metadata": {
        "colab": {
          "base_uri": "https://localhost:8080/"
        },
        "id": "BqZRjmyrH0NG",
        "outputId": "7de0a8e0-37aa-4702-ff8d-f30b1a461002"
      },
      "execution_count": 24,
      "outputs": [
        {
          "output_type": "execute_result",
          "data": {
            "text/plain": [
              "2"
            ]
          },
          "metadata": {},
          "execution_count": 24
        }
      ]
    },
    {
      "cell_type": "markdown",
      "source": [
        "The second way is to use the count() method."
      ],
      "metadata": {
        "id": "doH6VyRf8sX6"
      }
    },
    {
      "cell_type": "code",
      "source": [
        "sent.word_counts['shore']"
      ],
      "metadata": {
        "colab": {
          "base_uri": "https://localhost:8080/"
        },
        "id": "u-CqUar4MmUc",
        "outputId": "35c9a339-0fec-40e7-d773-51dd6b0918b2"
      },
      "execution_count": 25,
      "outputs": [
        {
          "output_type": "execute_result",
          "data": {
            "text/plain": [
              "1"
            ]
          },
          "metadata": {},
          "execution_count": 25
        }
      ]
    },
    {
      "cell_type": "code",
      "source": [
        "sent.words.count('sea',case_sensitive=True)"
      ],
      "metadata": {
        "colab": {
          "base_uri": "https://localhost:8080/"
        },
        "id": "uTUKlAEJMxqQ",
        "outputId": "4e2d0c47-1762-4930-d2e4-5b34864fbb49"
      },
      "execution_count": 26,
      "outputs": [
        {
          "output_type": "execute_result",
          "data": {
            "text/plain": [
              "2"
            ]
          },
          "metadata": {},
          "execution_count": 26
        }
      ]
    },
    {
      "cell_type": "code",
      "source": [
        "sent.words.count('Sea', case_sensitive=True)"
      ],
      "metadata": {
        "colab": {
          "base_uri": "https://localhost:8080/"
        },
        "id": "3yCWLvVeM_fn",
        "outputId": "5dc097a2-96fa-4bbf-a342-df320b724d16"
      },
      "execution_count": 27,
      "outputs": [
        {
          "output_type": "execute_result",
          "data": {
            "text/plain": [
              "0"
            ]
          },
          "metadata": {},
          "execution_count": 27
        }
      ]
    },
    {
      "cell_type": "markdown",
      "source": [
        "## Translation and Language Detection\n",
        "TextBlobs can be translated between languages."
      ],
      "metadata": {
        "id": "_vYVuk8N8zxu"
      }
    },
    {
      "cell_type": "code",
      "source": [
        "blob = TextBlob(\"hello\")\n",
        "blob.translate(from_lang='en', to='fr')"
      ],
      "metadata": {
        "colab": {
          "base_uri": "https://localhost:8080/"
        },
        "id": "2puU0KbINRWr",
        "outputId": "001991f6-4b74-481c-c125-1eb482897de9"
      },
      "execution_count": 28,
      "outputs": [
        {
          "output_type": "execute_result",
          "data": {
            "text/plain": [
              "TextBlob(\"Bonjour\")"
            ]
          },
          "metadata": {},
          "execution_count": 28
        }
      ]
    },
    {
      "cell_type": "code",
      "source": [],
      "metadata": {
        "id": "CNMOz3qxPuKH"
      },
      "execution_count": null,
      "outputs": []
    },
    {
      "cell_type": "code",
      "source": [
        "chinse_blob = TextBlob(u\"有总比没有好\")\n",
        "chinse_blob.translate(from_lang=\"zh-CN\", to='en')"
      ],
      "metadata": {
        "colab": {
          "base_uri": "https://localhost:8080/"
        },
        "id": "Dd64qX4lOTx6",
        "outputId": "8a45ae63-31ba-47d0-a207-d6f0a3831b78"
      },
      "execution_count": 29,
      "outputs": [
        {
          "output_type": "execute_result",
          "data": {
            "text/plain": [
              "TextBlob(\"There is always better than not\")"
            ]
          },
          "metadata": {},
          "execution_count": 29
        }
      ]
    },
    {
      "cell_type": "code",
      "source": [
        "d = TextBlob(\"Bonjour\")\n",
        "d.detect_language"
      ],
      "metadata": {
        "id": "sA8C6wS4Pvu1",
        "colab": {
          "base_uri": "https://localhost:8080/",
          "height": 187
        },
        "outputId": "c7f543cc-dc06-4dca-c6e6-e2ca7b0e54f6"
      },
      "execution_count": 30,
      "outputs": [
        {
          "output_type": "execute_result",
          "data": {
            "text/plain": [
              "<bound method BaseBlob.detect_language of TextBlob(\"Bonjour\")>"
            ],
            "text/html": [
              "<div style=\"max-width:800px; border: 1px solid var(--colab-border-color);\"><style>\n",
              "      pre.function-repr-contents {\n",
              "        overflow-x: auto;\n",
              "        padding: 8px 12px;\n",
              "        max-height: 500px;\n",
              "      }\n",
              "\n",
              "      pre.function-repr-contents.function-repr-contents-collapsed {\n",
              "        cursor: pointer;\n",
              "        max-height: 100px;\n",
              "      }\n",
              "    </style>\n",
              "    <pre style=\"white-space: initial; background:\n",
              "         var(--colab-secondary-surface-color); padding: 8px 12px;\n",
              "         border-bottom: 1px solid var(--colab-border-color);\"><b>textblob.blob.BaseBlob.detect_language</b><br/>def detect_language()</pre><pre class=\"function-repr-contents function-repr-contents-collapsed\" style=\"\"><a class=\"filepath\" style=\"display:none\" href=\"#\">/usr/local/lib/python3.10/dist-packages/textblob/blob.py</a>Detect the blob&#x27;s language using the Google Translate API.\n",
              "\n",
              "Requires an internet connection.\n",
              "\n",
              "Usage:\n",
              "::\n",
              "\n",
              "    &gt;&gt;&gt; b = TextBlob(&quot;bonjour&quot;)\n",
              "    &gt;&gt;&gt; b.detect_language()\n",
              "    u&#x27;fr&#x27;\n",
              "\n",
              "Language code reference:\n",
              "    https://developers.google.com/translate/v2/using_rest#language-params\n",
              "\n",
              ".. deprecated:: 0.16.0\n",
              "    Use the official Google Translate API instead.\n",
              ".. versionadded:: 0.5.0\n",
              "\n",
              ":rtype: str</pre>\n",
              "      <script>\n",
              "      if (google.colab.kernel.accessAllowed && google.colab.files && google.colab.files.view) {\n",
              "        for (const element of document.querySelectorAll('.filepath')) {\n",
              "          element.style.display = 'block'\n",
              "          element.onclick = (event) => {\n",
              "            event.preventDefault();\n",
              "            event.stopPropagation();\n",
              "            google.colab.files.view(element.textContent, 571);\n",
              "          };\n",
              "        }\n",
              "      }\n",
              "      for (const element of document.querySelectorAll('.function-repr-contents')) {\n",
              "        element.onclick = (event) => {\n",
              "          event.preventDefault();\n",
              "          event.stopPropagation();\n",
              "          element.classList.toggle('function-repr-contents-collapsed');\n",
              "        };\n",
              "      }\n",
              "      </script>\n",
              "      </div>"
            ]
          },
          "metadata": {},
          "execution_count": 30
        }
      ]
    },
    {
      "cell_type": "markdown",
      "source": [
        "## TextBlobs are like Python Strings!\n",
        "You can use Python's substring syntax"
      ],
      "metadata": {
        "id": "a_Dh3yz39AOG"
      }
    },
    {
      "cell_type": "code",
      "source": [
        "zen[0:15]"
      ],
      "metadata": {
        "colab": {
          "base_uri": "https://localhost:8080/"
        },
        "id": "CS2xOxLxF1ku",
        "outputId": "d2ec98f2-3b88-4ec9-d107-1345492d0410"
      },
      "execution_count": 31,
      "outputs": [
        {
          "output_type": "execute_result",
          "data": {
            "text/plain": [
              "TextBlob(\"Beautiful is be\")"
            ]
          },
          "metadata": {},
          "execution_count": 31
        }
      ]
    },
    {
      "cell_type": "code",
      "source": [
        "zen.upper()"
      ],
      "metadata": {
        "colab": {
          "base_uri": "https://localhost:8080/"
        },
        "id": "ZajqIs96GAvK",
        "outputId": "dcbfeb78-e9e9-4a19-b3bc-a317d32e602e"
      },
      "execution_count": 32,
      "outputs": [
        {
          "output_type": "execute_result",
          "data": {
            "text/plain": [
              "TextBlob(\"BEAUTIFUL IS BETTER THAN UGLY. EXPLICIT IS BETTER THAN IMPLICIT. SIMPLE IS BETTER THAN COMPLEX.\")"
            ]
          },
          "metadata": {},
          "execution_count": 32
        }
      ]
    },
    {
      "cell_type": "code",
      "source": [
        "zen.find(\"than\")"
      ],
      "metadata": {
        "colab": {
          "base_uri": "https://localhost:8080/"
        },
        "id": "Z6lO80alGIjm",
        "outputId": "fc7256b1-b859-47c9-8489-b9fb5f6aae1a"
      },
      "execution_count": 33,
      "outputs": [
        {
          "output_type": "execute_result",
          "data": {
            "text/plain": [
              "20"
            ]
          },
          "metadata": {},
          "execution_count": 33
        }
      ]
    },
    {
      "cell_type": "code",
      "source": [
        "a_blob = TextBlob('apple')\n",
        "s_blob = TextBlob('samsung')\n",
        "a_blob < s_blob"
      ],
      "metadata": {
        "colab": {
          "base_uri": "https://localhost:8080/"
        },
        "id": "FHP0lt_PGOk1",
        "outputId": "00c118ff-f3a3-489c-cd98-a94f99bfe59c"
      },
      "execution_count": 34,
      "outputs": [
        {
          "output_type": "execute_result",
          "data": {
            "text/plain": [
              "True"
            ]
          },
          "metadata": {},
          "execution_count": 34
        }
      ]
    },
    {
      "cell_type": "code",
      "source": [
        "a_blob == 'apple'"
      ],
      "metadata": {
        "colab": {
          "base_uri": "https://localhost:8080/"
        },
        "id": "Y7MoW0yXGhxq",
        "outputId": "9a11270b-f33a-4f04-f676-3115af4915c2"
      },
      "execution_count": 35,
      "outputs": [
        {
          "output_type": "execute_result",
          "data": {
            "text/plain": [
              "True"
            ]
          },
          "metadata": {},
          "execution_count": 35
        }
      ]
    },
    {
      "cell_type": "markdown",
      "source": [
        "You can concatenate and interpolate TextBlobs and strings"
      ],
      "metadata": {
        "id": "BALRwR_59N8r"
      }
    },
    {
      "cell_type": "code",
      "source": [
        "a_blob + ' and ' + s_blob"
      ],
      "metadata": {
        "colab": {
          "base_uri": "https://localhost:8080/"
        },
        "id": "jI4_U2sQGpJx",
        "outputId": "2b3fbca4-102a-4ee2-99b4-436a4ca56ee0"
      },
      "execution_count": 36,
      "outputs": [
        {
          "output_type": "execute_result",
          "data": {
            "text/plain": [
              "TextBlob(\"apple and samsung\")"
            ]
          },
          "metadata": {},
          "execution_count": 36
        }
      ]
    },
    {
      "cell_type": "code",
      "source": [
        "\"{0} and {1}\".format(a_blob, s_blob)"
      ],
      "metadata": {
        "colab": {
          "base_uri": "https://localhost:8080/",
          "height": 35
        },
        "id": "-ymsoykHGugs",
        "outputId": "6e8860c3-b2e0-41b7-b791-2ca8d753fa3c"
      },
      "execution_count": 37,
      "outputs": [
        {
          "output_type": "execute_result",
          "data": {
            "text/plain": [
              "'apple and samsung'"
            ],
            "application/vnd.google.colaboratory.intrinsic+json": {
              "type": "string"
            }
          },
          "metadata": {},
          "execution_count": 37
        }
      ]
    },
    {
      "cell_type": "markdown",
      "source": [
        "## n-grams\n",
        "The TextBlob.ngrams() method returns a list of tuples of n successive words."
      ],
      "metadata": {
        "id": "ZxtzG0IK9TAh"
      }
    },
    {
      "cell_type": "code",
      "source": [
        "blob = TextBlob(\"Now is better than never.\")\n",
        "blob.ngrams(n=3)"
      ],
      "metadata": {
        "colab": {
          "base_uri": "https://localhost:8080/"
        },
        "id": "5Ov3-D27G0yF",
        "outputId": "371d71e4-55d6-4018-8f67-84e50ae11e53"
      },
      "execution_count": 38,
      "outputs": [
        {
          "output_type": "execute_result",
          "data": {
            "text/plain": [
              "[WordList(['Now', 'is', 'better']),\n",
              " WordList(['is', 'better', 'than']),\n",
              " WordList(['better', 'than', 'never'])]"
            ]
          },
          "metadata": {},
          "execution_count": 38
        }
      ]
    },
    {
      "cell_type": "markdown",
      "source": [
        "## Get Start and End Indices of Sentences\n",
        "Use sentence.start and sentence.end to get the indices where a sentence starts and ends within a TextBlob"
      ],
      "metadata": {
        "id": "yIQizIE09Zr5"
      }
    },
    {
      "cell_type": "code",
      "source": [
        "for k in zen.sentences:\n",
        "    print(k)\n",
        "    print(\"---- Starts at index {}, Ends at index {}\".format(k.start, k.end))"
      ],
      "metadata": {
        "colab": {
          "base_uri": "https://localhost:8080/"
        },
        "id": "_mUxX6_nHItH",
        "outputId": "6336b351-3712-4a80-89cf-b69424f3a6a8"
      },
      "execution_count": 39,
      "outputs": [
        {
          "output_type": "stream",
          "name": "stdout",
          "text": [
            "Beautiful is better than ugly.\n",
            "---- Starts at index 0, Ends at index 30\n",
            "Explicit is better than implicit.\n",
            "---- Starts at index 31, Ends at index 64\n",
            "Simple is better than complex.\n",
            "---- Starts at index 65, Ends at index 95\n"
          ]
        }
      ]
    },
    {
      "cell_type": "markdown",
      "source": [
        "## Let's start building the Text Classification system\n",
        "The textblob.classifiers module makes it simple to create custom classifiers.\n",
        "\n",
        "As an example, let's create a custom sentiment analyzer.\n",
        "\n",
        "Loading Data and Creating a Classifier\n",
        "First, we’ll create some training and test data."
      ],
      "metadata": {
        "id": "CdIyqzqV9fdy"
      }
    },
    {
      "cell_type": "code",
      "source": [
        "train = [\n",
        "       ('I love this sandwich.', 'pos'),\n",
        "       ('this is an amazing place!', 'pos'),\n",
        "       ('I feel very good about these beers.', 'pos'),\n",
        "       ('this is my best work.', 'pos'),\n",
        "       (\"what an awesome view\", 'pos'),\n",
        "       ('I do not like this restaurant', 'neg'),\n",
        "       ('I am tired of this stuff.', 'neg'),\n",
        "       (\"I can't deal with this\", 'neg'),\n",
        "       ('he is my sworn enemy!', 'neg'),\n",
        "]\n",
        "test = [\n",
        "       ('the beer was good.', 'pos'),\n",
        "       ('I do not enjoy my job', 'neg'),\n",
        "       (\"I ain't feeling dandy today.\", 'neg'),\n",
        "       (\"I feel amazing!\", 'pos'),\n",
        "       ('Gary is a friend of mine.', 'pos'),\n",
        "       (\"I can't believe I'm doing this.\", 'neg')\n",
        "]"
      ],
      "metadata": {
        "id": "1s67b96HHQnI"
      },
      "execution_count": 40,
      "outputs": []
    },
    {
      "cell_type": "markdown",
      "source": [
        "Now we'll create a Naive Bayes classifier, passing the training data into the constructor."
      ],
      "metadata": {
        "id": "NFOqYC4U9mhv"
      }
    },
    {
      "cell_type": "code",
      "source": [
        "from textblob.classifiers import NaiveBayesClassifier\n",
        "cl = NaiveBayesClassifier(train)"
      ],
      "metadata": {
        "id": "_nH0OpOnII6U"
      },
      "execution_count": 41,
      "outputs": []
    },
    {
      "cell_type": "markdown",
      "source": [
        "Classifying Text\n",
        "\n",
        "Call the classify(text) method to use the classifier."
      ],
      "metadata": {
        "id": "ZkwxZjPn9qyb"
      }
    },
    {
      "cell_type": "code",
      "source": [
        "cl.classify(\"This is an amazing library!\")"
      ],
      "metadata": {
        "colab": {
          "base_uri": "https://localhost:8080/",
          "height": 35
        },
        "id": "QIarzz8iINbW",
        "outputId": "1e727d65-5a7d-40e7-faab-494f0c30a83e"
      },
      "execution_count": 42,
      "outputs": [
        {
          "output_type": "execute_result",
          "data": {
            "text/plain": [
              "'pos'"
            ],
            "application/vnd.google.colaboratory.intrinsic+json": {
              "type": "string"
            }
          },
          "metadata": {},
          "execution_count": 42
        }
      ]
    },
    {
      "cell_type": "code",
      "source": [
        "prob_dist = cl.prob_classify(\"This one's a doozy.\")\n",
        "prob_dist.max()"
      ],
      "metadata": {
        "colab": {
          "base_uri": "https://localhost:8080/",
          "height": 35
        },
        "id": "Rj6lWl3AIR-L",
        "outputId": "62d13c7c-9474-4b66-ffb9-040f1b31f7ba"
      },
      "execution_count": 43,
      "outputs": [
        {
          "output_type": "execute_result",
          "data": {
            "text/plain": [
              "'pos'"
            ],
            "application/vnd.google.colaboratory.intrinsic+json": {
              "type": "string"
            }
          },
          "metadata": {},
          "execution_count": 43
        }
      ]
    },
    {
      "cell_type": "code",
      "source": [
        "prob_dist = cl.prob_classify(\"I am suffering from cold\")\n",
        "prob_dist.max()"
      ],
      "metadata": {
        "colab": {
          "base_uri": "https://localhost:8080/",
          "height": 35
        },
        "id": "eE43xgKRIYyC",
        "outputId": "4a602229-c3c4-4ee9-a640-105cfe28b57f"
      },
      "execution_count": 44,
      "outputs": [
        {
          "output_type": "execute_result",
          "data": {
            "text/plain": [
              "'neg'"
            ],
            "application/vnd.google.colaboratory.intrinsic+json": {
              "type": "string"
            }
          },
          "metadata": {},
          "execution_count": 44
        }
      ]
    },
    {
      "cell_type": "code",
      "source": [
        "round(prob_dist.prob(\"pos\"), 2)"
      ],
      "metadata": {
        "colab": {
          "base_uri": "https://localhost:8080/"
        },
        "id": "ZnJE3M-uImfh",
        "outputId": "3a16cfa5-eaa9-43c4-8848-388533341b55"
      },
      "execution_count": 45,
      "outputs": [
        {
          "output_type": "execute_result",
          "data": {
            "text/plain": [
              "0.31"
            ]
          },
          "metadata": {},
          "execution_count": 45
        }
      ]
    },
    {
      "cell_type": "code",
      "source": [
        "round(prob_dist.prob(\"neg\"), 2)"
      ],
      "metadata": {
        "colab": {
          "base_uri": "https://localhost:8080/"
        },
        "id": "jfD4sFlAIs-O",
        "outputId": "cbaa8007-81a4-4740-cb77-6645978e5120"
      },
      "execution_count": 46,
      "outputs": [
        {
          "output_type": "execute_result",
          "data": {
            "text/plain": [
              "0.69"
            ]
          },
          "metadata": {},
          "execution_count": 46
        }
      ]
    },
    {
      "cell_type": "markdown",
      "source": [
        "## Classifying TextBlobs\n",
        "Another way to classify text is to pass a classifier into the constructor of TextBlob and call its classify() method."
      ],
      "metadata": {
        "id": "gqUzM_nL90Vl"
      }
    },
    {
      "cell_type": "code",
      "source": [
        "from textblob import TextBlob\n",
        "blob = TextBlob(\"Alcohal is good. But the hangover is horrible.\", classifier=cl)\n",
        "blob.classify()"
      ],
      "metadata": {
        "colab": {
          "base_uri": "https://localhost:8080/",
          "height": 35
        },
        "id": "rzcFXtLwIxk1",
        "outputId": "00d2cc84-6f02-4698-8cd5-abc7f722759a"
      },
      "execution_count": 47,
      "outputs": [
        {
          "output_type": "execute_result",
          "data": {
            "text/plain": [
              "'pos'"
            ],
            "application/vnd.google.colaboratory.intrinsic+json": {
              "type": "string"
            }
          },
          "metadata": {},
          "execution_count": 47
        }
      ]
    },
    {
      "cell_type": "code",
      "source": [
        "for s in blob.sentences:\n",
        "    print(s)\n",
        "    print(s.classify())"
      ],
      "metadata": {
        "colab": {
          "base_uri": "https://localhost:8080/"
        },
        "id": "Ok2kYY48I4HM",
        "outputId": "0de90959-12f8-447e-c58f-e399141a4ba2"
      },
      "execution_count": 48,
      "outputs": [
        {
          "output_type": "stream",
          "name": "stdout",
          "text": [
            "Alcohal is good.\n",
            "pos\n",
            "But the hangover is horrible.\n",
            "pos\n"
          ]
        }
      ]
    },
    {
      "cell_type": "markdown",
      "source": [
        "## Evaluating Classifiers\n",
        "To compute the accuracy on our test set, use the accuracy(test_data) method."
      ],
      "metadata": {
        "id": "Y1OViinj9-6E"
      }
    },
    {
      "cell_type": "code",
      "source": [
        "cl.accuracy(test)"
      ],
      "metadata": {
        "colab": {
          "base_uri": "https://localhost:8080/"
        },
        "id": "GkamJ4iMI8Fq",
        "outputId": "7cf3b050-7cc2-4d4b-c49b-d1153f8770df"
      },
      "execution_count": 49,
      "outputs": [
        {
          "output_type": "execute_result",
          "data": {
            "text/plain": [
              "1.0"
            ]
          },
          "metadata": {},
          "execution_count": 49
        }
      ]
    },
    {
      "cell_type": "code",
      "source": [
        "cl.show_informative_features(5)"
      ],
      "metadata": {
        "colab": {
          "base_uri": "https://localhost:8080/"
        },
        "id": "zx4DLQu6JBSQ",
        "outputId": "c798d893-5007-43aa-ee20-bbc4464c4d48"
      },
      "execution_count": 50,
      "outputs": [
        {
          "output_type": "stream",
          "name": "stdout",
          "text": [
            "Most Informative Features\n",
            "             contains(I) = False             pos : neg    =      1.9 : 1.0\n",
            "             contains(I) = True              neg : pos    =      1.7 : 1.0\n",
            "            contains(an) = False             neg : pos    =      1.5 : 1.0\n",
            "            contains(is) = True              pos : neg    =      1.4 : 1.0\n",
            "          contains(this) = False             pos : neg    =      1.4 : 1.0\n"
          ]
        }
      ]
    },
    {
      "cell_type": "markdown",
      "source": [
        "## Updating Classifiers with New Data\n",
        "Use the update(new_data) method to update a classifier with new training data."
      ],
      "metadata": {
        "id": "b7PgHrM_-Dwj"
      }
    },
    {
      "cell_type": "code",
      "source": [
        "new_data = [('She is my best friend.', 'pos'),\n",
        "            (\"I'm happy to have a new friend.\", 'pos'),\n",
        "            (\"Stay thirsty, my friend.\", 'pos'),\n",
        "            (\"He ain't from around here.\", 'neg')]\n",
        "\n",
        "cl.update(new_data)"
      ],
      "metadata": {
        "colab": {
          "base_uri": "https://localhost:8080/"
        },
        "id": "UoJmCMZNJJau",
        "outputId": "922e7f96-4692-4896-c268-84c62a2b3995"
      },
      "execution_count": 52,
      "outputs": [
        {
          "output_type": "execute_result",
          "data": {
            "text/plain": [
              "True"
            ]
          },
          "metadata": {},
          "execution_count": 52
        }
      ]
    },
    {
      "cell_type": "code",
      "source": [
        "cl.accuracy(test)"
      ],
      "metadata": {
        "colab": {
          "base_uri": "https://localhost:8080/"
        },
        "id": "mYWWBWKIJRcx",
        "outputId": "8c9922bf-c664-4b37-bfc3-bf82207459a0"
      },
      "execution_count": 53,
      "outputs": [
        {
          "output_type": "execute_result",
          "data": {
            "text/plain": [
              "1.0"
            ]
          },
          "metadata": {},
          "execution_count": 53
        }
      ]
    },
    {
      "cell_type": "markdown",
      "source": [
        "## Feature Extractors\n",
        "By default, the NaiveBayesClassifier uses a simple feature extractor that indicates which words in the training set are contained in a document.\n",
        "\n",
        "For example, the sentence \"I love\" might have the features contains(love): True or contains(hate): False.\n",
        "\n",
        "You can override this feature extractor by writing your own. A feature extractor is simply a function with a document (the text to extract features from) as the first argument. The function may include a second argument, train_set (the training dataset), if necessary."
      ],
      "metadata": {
        "id": "CPt4XE8--O42"
      }
    },
    {
      "cell_type": "code",
      "source": [
        "def end_word_extractor(document):\n",
        "    tokens = document.split()\n",
        "    first_word, last_word = tokens[0], tokens[-1]\n",
        "    feats = {}\n",
        "    feats[\"first({0})\".format(first_word)] = True\n",
        "    return feats"
      ],
      "metadata": {
        "id": "L1bT2M4tJc9x"
      },
      "execution_count": 54,
      "outputs": []
    },
    {
      "cell_type": "code",
      "source": [
        "features = end_word_extractor(\"I love\")"
      ],
      "metadata": {
        "id": "xpGrgfLsJvnR"
      },
      "execution_count": 55,
      "outputs": []
    },
    {
      "cell_type": "code",
      "source": [
        "assert features == {'first(I)': True}"
      ],
      "metadata": {
        "id": "3QInpJ2lKLoX"
      },
      "execution_count": 56,
      "outputs": []
    },
    {
      "cell_type": "markdown",
      "source": [
        "We can then use the feature extractor in a classifier by passing it as the second argument of the constructor."
      ],
      "metadata": {
        "id": "n285OsgT-ak3"
      }
    },
    {
      "cell_type": "code",
      "source": [
        "cl2 = NaiveBayesClassifier(test, feature_extractor=end_word_extractor)"
      ],
      "metadata": {
        "id": "URVf8NQ1KpmL"
      },
      "execution_count": 57,
      "outputs": []
    },
    {
      "cell_type": "code",
      "source": [
        "blob = TextBlob(\"I'm excited to try my new classifier.\", classifier=cl2)\n",
        "blob.classify()"
      ],
      "metadata": {
        "colab": {
          "base_uri": "https://localhost:8080/",
          "height": 35
        },
        "id": "vTIvSR6AKx6B",
        "outputId": "ec7ef2bc-e25e-4887-9ca7-6c2642b18628"
      },
      "execution_count": 58,
      "outputs": [
        {
          "output_type": "execute_result",
          "data": {
            "text/plain": [
              "'pos'"
            ],
            "application/vnd.google.colaboratory.intrinsic+json": {
              "type": "string"
            }
          },
          "metadata": {},
          "execution_count": 58
        }
      ]
    }
  ]
}